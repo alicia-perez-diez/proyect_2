{
 "cells": [
  {
   "cell_type": "code",
   "execution_count": 1,
   "metadata": {},
   "outputs": [],
   "source": [
    "import pandas as pd\n",
    "from funcions import *"
   ]
  },
  {
   "cell_type": "code",
   "execution_count": 2,
   "metadata": {},
   "outputs": [],
   "source": [
    "archivo1 = \"credits_df.csv\"\n",
    "archivo2 = \"titles_df.csv\"\n",
    "\n",
    "df = leer_base_de_datos(archivo1, archivo2)"
   ]
  },
  {
   "cell_type": "code",
   "execution_count": 3,
   "metadata": {},
   "outputs": [
    {
     "data": {
      "application/vnd.plotly.v1+json": {
       "config": {
        "plotlyServerURL": "https://plot.ly"
       },
       "data": [
        {
         "labels": [
          "US",
          "IN",
          "GB",
          "FR",
          "CA",
          "ES",
          "JP",
          "DE",
          "PH",
          "MX",
          "NG",
          "BR",
          "TR",
          "ID",
          "IT"
         ],
         "type": "pie",
         "values": [
          1487,
          576,
          256,
          183,
          155,
          136,
          117,
          105,
          82,
          81,
          67,
          62,
          62,
          61,
          60
         ]
        }
       ],
       "layout": {
        "template": {
         "data": {
          "bar": [
           {
            "error_x": {
             "color": "#2a3f5f"
            },
            "error_y": {
             "color": "#2a3f5f"
            },
            "marker": {
             "line": {
              "color": "#E5ECF6",
              "width": 0.5
             },
             "pattern": {
              "fillmode": "overlay",
              "size": 10,
              "solidity": 0.2
             }
            },
            "type": "bar"
           }
          ],
          "barpolar": [
           {
            "marker": {
             "line": {
              "color": "#E5ECF6",
              "width": 0.5
             },
             "pattern": {
              "fillmode": "overlay",
              "size": 10,
              "solidity": 0.2
             }
            },
            "type": "barpolar"
           }
          ],
          "carpet": [
           {
            "aaxis": {
             "endlinecolor": "#2a3f5f",
             "gridcolor": "white",
             "linecolor": "white",
             "minorgridcolor": "white",
             "startlinecolor": "#2a3f5f"
            },
            "baxis": {
             "endlinecolor": "#2a3f5f",
             "gridcolor": "white",
             "linecolor": "white",
             "minorgridcolor": "white",
             "startlinecolor": "#2a3f5f"
            },
            "type": "carpet"
           }
          ],
          "choropleth": [
           {
            "colorbar": {
             "outlinewidth": 0,
             "ticks": ""
            },
            "type": "choropleth"
           }
          ],
          "contour": [
           {
            "colorbar": {
             "outlinewidth": 0,
             "ticks": ""
            },
            "colorscale": [
             [
              0,
              "#0d0887"
             ],
             [
              0.1111111111111111,
              "#46039f"
             ],
             [
              0.2222222222222222,
              "#7201a8"
             ],
             [
              0.3333333333333333,
              "#9c179e"
             ],
             [
              0.4444444444444444,
              "#bd3786"
             ],
             [
              0.5555555555555556,
              "#d8576b"
             ],
             [
              0.6666666666666666,
              "#ed7953"
             ],
             [
              0.7777777777777778,
              "#fb9f3a"
             ],
             [
              0.8888888888888888,
              "#fdca26"
             ],
             [
              1,
              "#f0f921"
             ]
            ],
            "type": "contour"
           }
          ],
          "contourcarpet": [
           {
            "colorbar": {
             "outlinewidth": 0,
             "ticks": ""
            },
            "type": "contourcarpet"
           }
          ],
          "heatmap": [
           {
            "colorbar": {
             "outlinewidth": 0,
             "ticks": ""
            },
            "colorscale": [
             [
              0,
              "#0d0887"
             ],
             [
              0.1111111111111111,
              "#46039f"
             ],
             [
              0.2222222222222222,
              "#7201a8"
             ],
             [
              0.3333333333333333,
              "#9c179e"
             ],
             [
              0.4444444444444444,
              "#bd3786"
             ],
             [
              0.5555555555555556,
              "#d8576b"
             ],
             [
              0.6666666666666666,
              "#ed7953"
             ],
             [
              0.7777777777777778,
              "#fb9f3a"
             ],
             [
              0.8888888888888888,
              "#fdca26"
             ],
             [
              1,
              "#f0f921"
             ]
            ],
            "type": "heatmap"
           }
          ],
          "heatmapgl": [
           {
            "colorbar": {
             "outlinewidth": 0,
             "ticks": ""
            },
            "colorscale": [
             [
              0,
              "#0d0887"
             ],
             [
              0.1111111111111111,
              "#46039f"
             ],
             [
              0.2222222222222222,
              "#7201a8"
             ],
             [
              0.3333333333333333,
              "#9c179e"
             ],
             [
              0.4444444444444444,
              "#bd3786"
             ],
             [
              0.5555555555555556,
              "#d8576b"
             ],
             [
              0.6666666666666666,
              "#ed7953"
             ],
             [
              0.7777777777777778,
              "#fb9f3a"
             ],
             [
              0.8888888888888888,
              "#fdca26"
             ],
             [
              1,
              "#f0f921"
             ]
            ],
            "type": "heatmapgl"
           }
          ],
          "histogram": [
           {
            "marker": {
             "pattern": {
              "fillmode": "overlay",
              "size": 10,
              "solidity": 0.2
             }
            },
            "type": "histogram"
           }
          ],
          "histogram2d": [
           {
            "colorbar": {
             "outlinewidth": 0,
             "ticks": ""
            },
            "colorscale": [
             [
              0,
              "#0d0887"
             ],
             [
              0.1111111111111111,
              "#46039f"
             ],
             [
              0.2222222222222222,
              "#7201a8"
             ],
             [
              0.3333333333333333,
              "#9c179e"
             ],
             [
              0.4444444444444444,
              "#bd3786"
             ],
             [
              0.5555555555555556,
              "#d8576b"
             ],
             [
              0.6666666666666666,
              "#ed7953"
             ],
             [
              0.7777777777777778,
              "#fb9f3a"
             ],
             [
              0.8888888888888888,
              "#fdca26"
             ],
             [
              1,
              "#f0f921"
             ]
            ],
            "type": "histogram2d"
           }
          ],
          "histogram2dcontour": [
           {
            "colorbar": {
             "outlinewidth": 0,
             "ticks": ""
            },
            "colorscale": [
             [
              0,
              "#0d0887"
             ],
             [
              0.1111111111111111,
              "#46039f"
             ],
             [
              0.2222222222222222,
              "#7201a8"
             ],
             [
              0.3333333333333333,
              "#9c179e"
             ],
             [
              0.4444444444444444,
              "#bd3786"
             ],
             [
              0.5555555555555556,
              "#d8576b"
             ],
             [
              0.6666666666666666,
              "#ed7953"
             ],
             [
              0.7777777777777778,
              "#fb9f3a"
             ],
             [
              0.8888888888888888,
              "#fdca26"
             ],
             [
              1,
              "#f0f921"
             ]
            ],
            "type": "histogram2dcontour"
           }
          ],
          "mesh3d": [
           {
            "colorbar": {
             "outlinewidth": 0,
             "ticks": ""
            },
            "type": "mesh3d"
           }
          ],
          "parcoords": [
           {
            "line": {
             "colorbar": {
              "outlinewidth": 0,
              "ticks": ""
             }
            },
            "type": "parcoords"
           }
          ],
          "pie": [
           {
            "automargin": true,
            "type": "pie"
           }
          ],
          "scatter": [
           {
            "fillpattern": {
             "fillmode": "overlay",
             "size": 10,
             "solidity": 0.2
            },
            "type": "scatter"
           }
          ],
          "scatter3d": [
           {
            "line": {
             "colorbar": {
              "outlinewidth": 0,
              "ticks": ""
             }
            },
            "marker": {
             "colorbar": {
              "outlinewidth": 0,
              "ticks": ""
             }
            },
            "type": "scatter3d"
           }
          ],
          "scattercarpet": [
           {
            "marker": {
             "colorbar": {
              "outlinewidth": 0,
              "ticks": ""
             }
            },
            "type": "scattercarpet"
           }
          ],
          "scattergeo": [
           {
            "marker": {
             "colorbar": {
              "outlinewidth": 0,
              "ticks": ""
             }
            },
            "type": "scattergeo"
           }
          ],
          "scattergl": [
           {
            "marker": {
             "colorbar": {
              "outlinewidth": 0,
              "ticks": ""
             }
            },
            "type": "scattergl"
           }
          ],
          "scattermapbox": [
           {
            "marker": {
             "colorbar": {
              "outlinewidth": 0,
              "ticks": ""
             }
            },
            "type": "scattermapbox"
           }
          ],
          "scatterpolar": [
           {
            "marker": {
             "colorbar": {
              "outlinewidth": 0,
              "ticks": ""
             }
            },
            "type": "scatterpolar"
           }
          ],
          "scatterpolargl": [
           {
            "marker": {
             "colorbar": {
              "outlinewidth": 0,
              "ticks": ""
             }
            },
            "type": "scatterpolargl"
           }
          ],
          "scatterternary": [
           {
            "marker": {
             "colorbar": {
              "outlinewidth": 0,
              "ticks": ""
             }
            },
            "type": "scatterternary"
           }
          ],
          "surface": [
           {
            "colorbar": {
             "outlinewidth": 0,
             "ticks": ""
            },
            "colorscale": [
             [
              0,
              "#0d0887"
             ],
             [
              0.1111111111111111,
              "#46039f"
             ],
             [
              0.2222222222222222,
              "#7201a8"
             ],
             [
              0.3333333333333333,
              "#9c179e"
             ],
             [
              0.4444444444444444,
              "#bd3786"
             ],
             [
              0.5555555555555556,
              "#d8576b"
             ],
             [
              0.6666666666666666,
              "#ed7953"
             ],
             [
              0.7777777777777778,
              "#fb9f3a"
             ],
             [
              0.8888888888888888,
              "#fdca26"
             ],
             [
              1,
              "#f0f921"
             ]
            ],
            "type": "surface"
           }
          ],
          "table": [
           {
            "cells": {
             "fill": {
              "color": "#EBF0F8"
             },
             "line": {
              "color": "white"
             }
            },
            "header": {
             "fill": {
              "color": "#C8D4E3"
             },
             "line": {
              "color": "white"
             }
            },
            "type": "table"
           }
          ]
         },
         "layout": {
          "annotationdefaults": {
           "arrowcolor": "#2a3f5f",
           "arrowhead": 0,
           "arrowwidth": 1
          },
          "autotypenumbers": "strict",
          "coloraxis": {
           "colorbar": {
            "outlinewidth": 0,
            "ticks": ""
           }
          },
          "colorscale": {
           "diverging": [
            [
             0,
             "#8e0152"
            ],
            [
             0.1,
             "#c51b7d"
            ],
            [
             0.2,
             "#de77ae"
            ],
            [
             0.3,
             "#f1b6da"
            ],
            [
             0.4,
             "#fde0ef"
            ],
            [
             0.5,
             "#f7f7f7"
            ],
            [
             0.6,
             "#e6f5d0"
            ],
            [
             0.7,
             "#b8e186"
            ],
            [
             0.8,
             "#7fbc41"
            ],
            [
             0.9,
             "#4d9221"
            ],
            [
             1,
             "#276419"
            ]
           ],
           "sequential": [
            [
             0,
             "#0d0887"
            ],
            [
             0.1111111111111111,
             "#46039f"
            ],
            [
             0.2222222222222222,
             "#7201a8"
            ],
            [
             0.3333333333333333,
             "#9c179e"
            ],
            [
             0.4444444444444444,
             "#bd3786"
            ],
            [
             0.5555555555555556,
             "#d8576b"
            ],
            [
             0.6666666666666666,
             "#ed7953"
            ],
            [
             0.7777777777777778,
             "#fb9f3a"
            ],
            [
             0.8888888888888888,
             "#fdca26"
            ],
            [
             1,
             "#f0f921"
            ]
           ],
           "sequentialminus": [
            [
             0,
             "#0d0887"
            ],
            [
             0.1111111111111111,
             "#46039f"
            ],
            [
             0.2222222222222222,
             "#7201a8"
            ],
            [
             0.3333333333333333,
             "#9c179e"
            ],
            [
             0.4444444444444444,
             "#bd3786"
            ],
            [
             0.5555555555555556,
             "#d8576b"
            ],
            [
             0.6666666666666666,
             "#ed7953"
            ],
            [
             0.7777777777777778,
             "#fb9f3a"
            ],
            [
             0.8888888888888888,
             "#fdca26"
            ],
            [
             1,
             "#f0f921"
            ]
           ]
          },
          "colorway": [
           "#636efa",
           "#EF553B",
           "#00cc96",
           "#ab63fa",
           "#FFA15A",
           "#19d3f3",
           "#FF6692",
           "#B6E880",
           "#FF97FF",
           "#FECB52"
          ],
          "font": {
           "color": "#2a3f5f"
          },
          "geo": {
           "bgcolor": "white",
           "lakecolor": "white",
           "landcolor": "#E5ECF6",
           "showlakes": true,
           "showland": true,
           "subunitcolor": "white"
          },
          "hoverlabel": {
           "align": "left"
          },
          "hovermode": "closest",
          "mapbox": {
           "style": "light"
          },
          "paper_bgcolor": "white",
          "plot_bgcolor": "#E5ECF6",
          "polar": {
           "angularaxis": {
            "gridcolor": "white",
            "linecolor": "white",
            "ticks": ""
           },
           "bgcolor": "#E5ECF6",
           "radialaxis": {
            "gridcolor": "white",
            "linecolor": "white",
            "ticks": ""
           }
          },
          "scene": {
           "xaxis": {
            "backgroundcolor": "#E5ECF6",
            "gridcolor": "white",
            "gridwidth": 2,
            "linecolor": "white",
            "showbackground": true,
            "ticks": "",
            "zerolinecolor": "white"
           },
           "yaxis": {
            "backgroundcolor": "#E5ECF6",
            "gridcolor": "white",
            "gridwidth": 2,
            "linecolor": "white",
            "showbackground": true,
            "ticks": "",
            "zerolinecolor": "white"
           },
           "zaxis": {
            "backgroundcolor": "#E5ECF6",
            "gridcolor": "white",
            "gridwidth": 2,
            "linecolor": "white",
            "showbackground": true,
            "ticks": "",
            "zerolinecolor": "white"
           }
          },
          "shapedefaults": {
           "line": {
            "color": "#2a3f5f"
           }
          },
          "ternary": {
           "aaxis": {
            "gridcolor": "white",
            "linecolor": "white",
            "ticks": ""
           },
           "baxis": {
            "gridcolor": "white",
            "linecolor": "white",
            "ticks": ""
           },
           "bgcolor": "#E5ECF6",
           "caxis": {
            "gridcolor": "white",
            "linecolor": "white",
            "ticks": ""
           }
          },
          "title": {
           "x": 0.05
          },
          "xaxis": {
           "automargin": true,
           "gridcolor": "white",
           "linecolor": "white",
           "ticks": "",
           "title": {
            "standoff": 15
           },
           "zerolinecolor": "white",
           "zerolinewidth": 2
          },
          "yaxis": {
           "automargin": true,
           "gridcolor": "white",
           "linecolor": "white",
           "ticks": "",
           "title": {
            "standoff": 15
           },
           "zerolinecolor": "white",
           "zerolinewidth": 2
          }
         }
        }
       }
      }
     },
     "metadata": {},
     "output_type": "display_data"
    }
   ],
   "source": [
    "graf_paises(df)\n"
   ]
  },
  {
   "cell_type": "code",
   "execution_count": 4,
   "metadata": {},
   "outputs": [
    {
     "data": {
      "application/vnd.plotly.v1+json": {
       "config": {
        "plotlyServerURL": "https://plot.ly"
       },
       "data": [
        {
         "labels": [
          "action",
          "animation",
          "comedy",
          "crime",
          "documentation",
          "drama",
          "european",
          "family",
          "fantasy",
          "history",
          "horror",
          "music",
          "reality",
          "romance",
          "scifi",
          "sport",
          "thriller",
          "war",
          "western"
         ],
         "type": "pie",
         "values": [
          718,
          282,
          1571,
          545,
          611,
          1876,
          344,
          351,
          315,
          145,
          261,
          191,
          9,
          698,
          204,
          113,
          825,
          103,
          28
         ]
        }
       ],
       "layout": {
        "template": {
         "data": {
          "bar": [
           {
            "error_x": {
             "color": "#2a3f5f"
            },
            "error_y": {
             "color": "#2a3f5f"
            },
            "marker": {
             "line": {
              "color": "#E5ECF6",
              "width": 0.5
             },
             "pattern": {
              "fillmode": "overlay",
              "size": 10,
              "solidity": 0.2
             }
            },
            "type": "bar"
           }
          ],
          "barpolar": [
           {
            "marker": {
             "line": {
              "color": "#E5ECF6",
              "width": 0.5
             },
             "pattern": {
              "fillmode": "overlay",
              "size": 10,
              "solidity": 0.2
             }
            },
            "type": "barpolar"
           }
          ],
          "carpet": [
           {
            "aaxis": {
             "endlinecolor": "#2a3f5f",
             "gridcolor": "white",
             "linecolor": "white",
             "minorgridcolor": "white",
             "startlinecolor": "#2a3f5f"
            },
            "baxis": {
             "endlinecolor": "#2a3f5f",
             "gridcolor": "white",
             "linecolor": "white",
             "minorgridcolor": "white",
             "startlinecolor": "#2a3f5f"
            },
            "type": "carpet"
           }
          ],
          "choropleth": [
           {
            "colorbar": {
             "outlinewidth": 0,
             "ticks": ""
            },
            "type": "choropleth"
           }
          ],
          "contour": [
           {
            "colorbar": {
             "outlinewidth": 0,
             "ticks": ""
            },
            "colorscale": [
             [
              0,
              "#0d0887"
             ],
             [
              0.1111111111111111,
              "#46039f"
             ],
             [
              0.2222222222222222,
              "#7201a8"
             ],
             [
              0.3333333333333333,
              "#9c179e"
             ],
             [
              0.4444444444444444,
              "#bd3786"
             ],
             [
              0.5555555555555556,
              "#d8576b"
             ],
             [
              0.6666666666666666,
              "#ed7953"
             ],
             [
              0.7777777777777778,
              "#fb9f3a"
             ],
             [
              0.8888888888888888,
              "#fdca26"
             ],
             [
              1,
              "#f0f921"
             ]
            ],
            "type": "contour"
           }
          ],
          "contourcarpet": [
           {
            "colorbar": {
             "outlinewidth": 0,
             "ticks": ""
            },
            "type": "contourcarpet"
           }
          ],
          "heatmap": [
           {
            "colorbar": {
             "outlinewidth": 0,
             "ticks": ""
            },
            "colorscale": [
             [
              0,
              "#0d0887"
             ],
             [
              0.1111111111111111,
              "#46039f"
             ],
             [
              0.2222222222222222,
              "#7201a8"
             ],
             [
              0.3333333333333333,
              "#9c179e"
             ],
             [
              0.4444444444444444,
              "#bd3786"
             ],
             [
              0.5555555555555556,
              "#d8576b"
             ],
             [
              0.6666666666666666,
              "#ed7953"
             ],
             [
              0.7777777777777778,
              "#fb9f3a"
             ],
             [
              0.8888888888888888,
              "#fdca26"
             ],
             [
              1,
              "#f0f921"
             ]
            ],
            "type": "heatmap"
           }
          ],
          "heatmapgl": [
           {
            "colorbar": {
             "outlinewidth": 0,
             "ticks": ""
            },
            "colorscale": [
             [
              0,
              "#0d0887"
             ],
             [
              0.1111111111111111,
              "#46039f"
             ],
             [
              0.2222222222222222,
              "#7201a8"
             ],
             [
              0.3333333333333333,
              "#9c179e"
             ],
             [
              0.4444444444444444,
              "#bd3786"
             ],
             [
              0.5555555555555556,
              "#d8576b"
             ],
             [
              0.6666666666666666,
              "#ed7953"
             ],
             [
              0.7777777777777778,
              "#fb9f3a"
             ],
             [
              0.8888888888888888,
              "#fdca26"
             ],
             [
              1,
              "#f0f921"
             ]
            ],
            "type": "heatmapgl"
           }
          ],
          "histogram": [
           {
            "marker": {
             "pattern": {
              "fillmode": "overlay",
              "size": 10,
              "solidity": 0.2
             }
            },
            "type": "histogram"
           }
          ],
          "histogram2d": [
           {
            "colorbar": {
             "outlinewidth": 0,
             "ticks": ""
            },
            "colorscale": [
             [
              0,
              "#0d0887"
             ],
             [
              0.1111111111111111,
              "#46039f"
             ],
             [
              0.2222222222222222,
              "#7201a8"
             ],
             [
              0.3333333333333333,
              "#9c179e"
             ],
             [
              0.4444444444444444,
              "#bd3786"
             ],
             [
              0.5555555555555556,
              "#d8576b"
             ],
             [
              0.6666666666666666,
              "#ed7953"
             ],
             [
              0.7777777777777778,
              "#fb9f3a"
             ],
             [
              0.8888888888888888,
              "#fdca26"
             ],
             [
              1,
              "#f0f921"
             ]
            ],
            "type": "histogram2d"
           }
          ],
          "histogram2dcontour": [
           {
            "colorbar": {
             "outlinewidth": 0,
             "ticks": ""
            },
            "colorscale": [
             [
              0,
              "#0d0887"
             ],
             [
              0.1111111111111111,
              "#46039f"
             ],
             [
              0.2222222222222222,
              "#7201a8"
             ],
             [
              0.3333333333333333,
              "#9c179e"
             ],
             [
              0.4444444444444444,
              "#bd3786"
             ],
             [
              0.5555555555555556,
              "#d8576b"
             ],
             [
              0.6666666666666666,
              "#ed7953"
             ],
             [
              0.7777777777777778,
              "#fb9f3a"
             ],
             [
              0.8888888888888888,
              "#fdca26"
             ],
             [
              1,
              "#f0f921"
             ]
            ],
            "type": "histogram2dcontour"
           }
          ],
          "mesh3d": [
           {
            "colorbar": {
             "outlinewidth": 0,
             "ticks": ""
            },
            "type": "mesh3d"
           }
          ],
          "parcoords": [
           {
            "line": {
             "colorbar": {
              "outlinewidth": 0,
              "ticks": ""
             }
            },
            "type": "parcoords"
           }
          ],
          "pie": [
           {
            "automargin": true,
            "type": "pie"
           }
          ],
          "scatter": [
           {
            "fillpattern": {
             "fillmode": "overlay",
             "size": 10,
             "solidity": 0.2
            },
            "type": "scatter"
           }
          ],
          "scatter3d": [
           {
            "line": {
             "colorbar": {
              "outlinewidth": 0,
              "ticks": ""
             }
            },
            "marker": {
             "colorbar": {
              "outlinewidth": 0,
              "ticks": ""
             }
            },
            "type": "scatter3d"
           }
          ],
          "scattercarpet": [
           {
            "marker": {
             "colorbar": {
              "outlinewidth": 0,
              "ticks": ""
             }
            },
            "type": "scattercarpet"
           }
          ],
          "scattergeo": [
           {
            "marker": {
             "colorbar": {
              "outlinewidth": 0,
              "ticks": ""
             }
            },
            "type": "scattergeo"
           }
          ],
          "scattergl": [
           {
            "marker": {
             "colorbar": {
              "outlinewidth": 0,
              "ticks": ""
             }
            },
            "type": "scattergl"
           }
          ],
          "scattermapbox": [
           {
            "marker": {
             "colorbar": {
              "outlinewidth": 0,
              "ticks": ""
             }
            },
            "type": "scattermapbox"
           }
          ],
          "scatterpolar": [
           {
            "marker": {
             "colorbar": {
              "outlinewidth": 0,
              "ticks": ""
             }
            },
            "type": "scatterpolar"
           }
          ],
          "scatterpolargl": [
           {
            "marker": {
             "colorbar": {
              "outlinewidth": 0,
              "ticks": ""
             }
            },
            "type": "scatterpolargl"
           }
          ],
          "scatterternary": [
           {
            "marker": {
             "colorbar": {
              "outlinewidth": 0,
              "ticks": ""
             }
            },
            "type": "scatterternary"
           }
          ],
          "surface": [
           {
            "colorbar": {
             "outlinewidth": 0,
             "ticks": ""
            },
            "colorscale": [
             [
              0,
              "#0d0887"
             ],
             [
              0.1111111111111111,
              "#46039f"
             ],
             [
              0.2222222222222222,
              "#7201a8"
             ],
             [
              0.3333333333333333,
              "#9c179e"
             ],
             [
              0.4444444444444444,
              "#bd3786"
             ],
             [
              0.5555555555555556,
              "#d8576b"
             ],
             [
              0.6666666666666666,
              "#ed7953"
             ],
             [
              0.7777777777777778,
              "#fb9f3a"
             ],
             [
              0.8888888888888888,
              "#fdca26"
             ],
             [
              1,
              "#f0f921"
             ]
            ],
            "type": "surface"
           }
          ],
          "table": [
           {
            "cells": {
             "fill": {
              "color": "#EBF0F8"
             },
             "line": {
              "color": "white"
             }
            },
            "header": {
             "fill": {
              "color": "#C8D4E3"
             },
             "line": {
              "color": "white"
             }
            },
            "type": "table"
           }
          ]
         },
         "layout": {
          "annotationdefaults": {
           "arrowcolor": "#2a3f5f",
           "arrowhead": 0,
           "arrowwidth": 1
          },
          "autotypenumbers": "strict",
          "coloraxis": {
           "colorbar": {
            "outlinewidth": 0,
            "ticks": ""
           }
          },
          "colorscale": {
           "diverging": [
            [
             0,
             "#8e0152"
            ],
            [
             0.1,
             "#c51b7d"
            ],
            [
             0.2,
             "#de77ae"
            ],
            [
             0.3,
             "#f1b6da"
            ],
            [
             0.4,
             "#fde0ef"
            ],
            [
             0.5,
             "#f7f7f7"
            ],
            [
             0.6,
             "#e6f5d0"
            ],
            [
             0.7,
             "#b8e186"
            ],
            [
             0.8,
             "#7fbc41"
            ],
            [
             0.9,
             "#4d9221"
            ],
            [
             1,
             "#276419"
            ]
           ],
           "sequential": [
            [
             0,
             "#0d0887"
            ],
            [
             0.1111111111111111,
             "#46039f"
            ],
            [
             0.2222222222222222,
             "#7201a8"
            ],
            [
             0.3333333333333333,
             "#9c179e"
            ],
            [
             0.4444444444444444,
             "#bd3786"
            ],
            [
             0.5555555555555556,
             "#d8576b"
            ],
            [
             0.6666666666666666,
             "#ed7953"
            ],
            [
             0.7777777777777778,
             "#fb9f3a"
            ],
            [
             0.8888888888888888,
             "#fdca26"
            ],
            [
             1,
             "#f0f921"
            ]
           ],
           "sequentialminus": [
            [
             0,
             "#0d0887"
            ],
            [
             0.1111111111111111,
             "#46039f"
            ],
            [
             0.2222222222222222,
             "#7201a8"
            ],
            [
             0.3333333333333333,
             "#9c179e"
            ],
            [
             0.4444444444444444,
             "#bd3786"
            ],
            [
             0.5555555555555556,
             "#d8576b"
            ],
            [
             0.6666666666666666,
             "#ed7953"
            ],
            [
             0.7777777777777778,
             "#fb9f3a"
            ],
            [
             0.8888888888888888,
             "#fdca26"
            ],
            [
             1,
             "#f0f921"
            ]
           ]
          },
          "colorway": [
           "#636efa",
           "#EF553B",
           "#00cc96",
           "#ab63fa",
           "#FFA15A",
           "#19d3f3",
           "#FF6692",
           "#B6E880",
           "#FF97FF",
           "#FECB52"
          ],
          "font": {
           "color": "#2a3f5f"
          },
          "geo": {
           "bgcolor": "white",
           "lakecolor": "white",
           "landcolor": "#E5ECF6",
           "showlakes": true,
           "showland": true,
           "subunitcolor": "white"
          },
          "hoverlabel": {
           "align": "left"
          },
          "hovermode": "closest",
          "mapbox": {
           "style": "light"
          },
          "paper_bgcolor": "white",
          "plot_bgcolor": "#E5ECF6",
          "polar": {
           "angularaxis": {
            "gridcolor": "white",
            "linecolor": "white",
            "ticks": ""
           },
           "bgcolor": "#E5ECF6",
           "radialaxis": {
            "gridcolor": "white",
            "linecolor": "white",
            "ticks": ""
           }
          },
          "scene": {
           "xaxis": {
            "backgroundcolor": "#E5ECF6",
            "gridcolor": "white",
            "gridwidth": 2,
            "linecolor": "white",
            "showbackground": true,
            "ticks": "",
            "zerolinecolor": "white"
           },
           "yaxis": {
            "backgroundcolor": "#E5ECF6",
            "gridcolor": "white",
            "gridwidth": 2,
            "linecolor": "white",
            "showbackground": true,
            "ticks": "",
            "zerolinecolor": "white"
           },
           "zaxis": {
            "backgroundcolor": "#E5ECF6",
            "gridcolor": "white",
            "gridwidth": 2,
            "linecolor": "white",
            "showbackground": true,
            "ticks": "",
            "zerolinecolor": "white"
           }
          },
          "shapedefaults": {
           "line": {
            "color": "#2a3f5f"
           }
          },
          "ternary": {
           "aaxis": {
            "gridcolor": "white",
            "linecolor": "white",
            "ticks": ""
           },
           "baxis": {
            "gridcolor": "white",
            "linecolor": "white",
            "ticks": ""
           },
           "bgcolor": "#E5ECF6",
           "caxis": {
            "gridcolor": "white",
            "linecolor": "white",
            "ticks": ""
           }
          },
          "title": {
           "x": 0.05
          },
          "xaxis": {
           "automargin": true,
           "gridcolor": "white",
           "linecolor": "white",
           "ticks": "",
           "title": {
            "standoff": 15
           },
           "zerolinecolor": "white",
           "zerolinewidth": 2
          },
          "yaxis": {
           "automargin": true,
           "gridcolor": "white",
           "linecolor": "white",
           "ticks": "",
           "title": {
            "standoff": 15
           },
           "zerolinecolor": "white",
           "zerolinewidth": 2
          }
         }
        }
       }
      }
     },
     "metadata": {},
     "output_type": "display_data"
    }
   ],
   "source": [
    "graf_cir_generos(df)"
   ]
  },
  {
   "cell_type": "code",
   "execution_count": 6,
   "metadata": {},
   "outputs": [
    {
     "data": {
      "application/vnd.plotly.v1+json": {
       "config": {
        "plotlyServerURL": "https://plot.ly"
       },
       "data": [
        {
         "labels": [
          "kareena kapoor khan",
          "boman irani",
          "shah rukh khan",
          "amitabh bachchan",
          "paresh rawal",
          "priyanka chopra jonas",
          "nassar",
          "ajay devgn",
          "om puri",
          "nawazuddin siddiqui",
          "aamir khan",
          "anupam kher",
          "murali sharma",
          "johnny lever",
          "naseeruddin shah",
          "fred armisen",
          "fred tatasciore",
          "rani mukerji",
          "akshay kumar",
          "snoop dogg",
          "john abraham",
          "rajkummar rao",
          "sharat saxena",
          "bayoumi fouad",
          "sanjay dutt",
          "abhishek bachchan",
          "anil kapoor",
          "rishi kapoor",
          "shahid kapoor",
          "sanjay mishra"
         ],
         "type": "pie",
         "values": [
          25,
          25,
          22,
          20,
          20,
          19,
          18,
          18,
          18,
          18,
          18,
          18,
          17,
          16,
          16,
          16,
          16,
          16,
          15,
          15,
          15,
          14,
          14,
          14,
          14,
          14,
          13,
          13,
          13,
          13
         ]
        }
       ],
       "layout": {
        "template": {
         "data": {
          "bar": [
           {
            "error_x": {
             "color": "#2a3f5f"
            },
            "error_y": {
             "color": "#2a3f5f"
            },
            "marker": {
             "line": {
              "color": "#E5ECF6",
              "width": 0.5
             },
             "pattern": {
              "fillmode": "overlay",
              "size": 10,
              "solidity": 0.2
             }
            },
            "type": "bar"
           }
          ],
          "barpolar": [
           {
            "marker": {
             "line": {
              "color": "#E5ECF6",
              "width": 0.5
             },
             "pattern": {
              "fillmode": "overlay",
              "size": 10,
              "solidity": 0.2
             }
            },
            "type": "barpolar"
           }
          ],
          "carpet": [
           {
            "aaxis": {
             "endlinecolor": "#2a3f5f",
             "gridcolor": "white",
             "linecolor": "white",
             "minorgridcolor": "white",
             "startlinecolor": "#2a3f5f"
            },
            "baxis": {
             "endlinecolor": "#2a3f5f",
             "gridcolor": "white",
             "linecolor": "white",
             "minorgridcolor": "white",
             "startlinecolor": "#2a3f5f"
            },
            "type": "carpet"
           }
          ],
          "choropleth": [
           {
            "colorbar": {
             "outlinewidth": 0,
             "ticks": ""
            },
            "type": "choropleth"
           }
          ],
          "contour": [
           {
            "colorbar": {
             "outlinewidth": 0,
             "ticks": ""
            },
            "colorscale": [
             [
              0,
              "#0d0887"
             ],
             [
              0.1111111111111111,
              "#46039f"
             ],
             [
              0.2222222222222222,
              "#7201a8"
             ],
             [
              0.3333333333333333,
              "#9c179e"
             ],
             [
              0.4444444444444444,
              "#bd3786"
             ],
             [
              0.5555555555555556,
              "#d8576b"
             ],
             [
              0.6666666666666666,
              "#ed7953"
             ],
             [
              0.7777777777777778,
              "#fb9f3a"
             ],
             [
              0.8888888888888888,
              "#fdca26"
             ],
             [
              1,
              "#f0f921"
             ]
            ],
            "type": "contour"
           }
          ],
          "contourcarpet": [
           {
            "colorbar": {
             "outlinewidth": 0,
             "ticks": ""
            },
            "type": "contourcarpet"
           }
          ],
          "heatmap": [
           {
            "colorbar": {
             "outlinewidth": 0,
             "ticks": ""
            },
            "colorscale": [
             [
              0,
              "#0d0887"
             ],
             [
              0.1111111111111111,
              "#46039f"
             ],
             [
              0.2222222222222222,
              "#7201a8"
             ],
             [
              0.3333333333333333,
              "#9c179e"
             ],
             [
              0.4444444444444444,
              "#bd3786"
             ],
             [
              0.5555555555555556,
              "#d8576b"
             ],
             [
              0.6666666666666666,
              "#ed7953"
             ],
             [
              0.7777777777777778,
              "#fb9f3a"
             ],
             [
              0.8888888888888888,
              "#fdca26"
             ],
             [
              1,
              "#f0f921"
             ]
            ],
            "type": "heatmap"
           }
          ],
          "heatmapgl": [
           {
            "colorbar": {
             "outlinewidth": 0,
             "ticks": ""
            },
            "colorscale": [
             [
              0,
              "#0d0887"
             ],
             [
              0.1111111111111111,
              "#46039f"
             ],
             [
              0.2222222222222222,
              "#7201a8"
             ],
             [
              0.3333333333333333,
              "#9c179e"
             ],
             [
              0.4444444444444444,
              "#bd3786"
             ],
             [
              0.5555555555555556,
              "#d8576b"
             ],
             [
              0.6666666666666666,
              "#ed7953"
             ],
             [
              0.7777777777777778,
              "#fb9f3a"
             ],
             [
              0.8888888888888888,
              "#fdca26"
             ],
             [
              1,
              "#f0f921"
             ]
            ],
            "type": "heatmapgl"
           }
          ],
          "histogram": [
           {
            "marker": {
             "pattern": {
              "fillmode": "overlay",
              "size": 10,
              "solidity": 0.2
             }
            },
            "type": "histogram"
           }
          ],
          "histogram2d": [
           {
            "colorbar": {
             "outlinewidth": 0,
             "ticks": ""
            },
            "colorscale": [
             [
              0,
              "#0d0887"
             ],
             [
              0.1111111111111111,
              "#46039f"
             ],
             [
              0.2222222222222222,
              "#7201a8"
             ],
             [
              0.3333333333333333,
              "#9c179e"
             ],
             [
              0.4444444444444444,
              "#bd3786"
             ],
             [
              0.5555555555555556,
              "#d8576b"
             ],
             [
              0.6666666666666666,
              "#ed7953"
             ],
             [
              0.7777777777777778,
              "#fb9f3a"
             ],
             [
              0.8888888888888888,
              "#fdca26"
             ],
             [
              1,
              "#f0f921"
             ]
            ],
            "type": "histogram2d"
           }
          ],
          "histogram2dcontour": [
           {
            "colorbar": {
             "outlinewidth": 0,
             "ticks": ""
            },
            "colorscale": [
             [
              0,
              "#0d0887"
             ],
             [
              0.1111111111111111,
              "#46039f"
             ],
             [
              0.2222222222222222,
              "#7201a8"
             ],
             [
              0.3333333333333333,
              "#9c179e"
             ],
             [
              0.4444444444444444,
              "#bd3786"
             ],
             [
              0.5555555555555556,
              "#d8576b"
             ],
             [
              0.6666666666666666,
              "#ed7953"
             ],
             [
              0.7777777777777778,
              "#fb9f3a"
             ],
             [
              0.8888888888888888,
              "#fdca26"
             ],
             [
              1,
              "#f0f921"
             ]
            ],
            "type": "histogram2dcontour"
           }
          ],
          "mesh3d": [
           {
            "colorbar": {
             "outlinewidth": 0,
             "ticks": ""
            },
            "type": "mesh3d"
           }
          ],
          "parcoords": [
           {
            "line": {
             "colorbar": {
              "outlinewidth": 0,
              "ticks": ""
             }
            },
            "type": "parcoords"
           }
          ],
          "pie": [
           {
            "automargin": true,
            "type": "pie"
           }
          ],
          "scatter": [
           {
            "fillpattern": {
             "fillmode": "overlay",
             "size": 10,
             "solidity": 0.2
            },
            "type": "scatter"
           }
          ],
          "scatter3d": [
           {
            "line": {
             "colorbar": {
              "outlinewidth": 0,
              "ticks": ""
             }
            },
            "marker": {
             "colorbar": {
              "outlinewidth": 0,
              "ticks": ""
             }
            },
            "type": "scatter3d"
           }
          ],
          "scattercarpet": [
           {
            "marker": {
             "colorbar": {
              "outlinewidth": 0,
              "ticks": ""
             }
            },
            "type": "scattercarpet"
           }
          ],
          "scattergeo": [
           {
            "marker": {
             "colorbar": {
              "outlinewidth": 0,
              "ticks": ""
             }
            },
            "type": "scattergeo"
           }
          ],
          "scattergl": [
           {
            "marker": {
             "colorbar": {
              "outlinewidth": 0,
              "ticks": ""
             }
            },
            "type": "scattergl"
           }
          ],
          "scattermapbox": [
           {
            "marker": {
             "colorbar": {
              "outlinewidth": 0,
              "ticks": ""
             }
            },
            "type": "scattermapbox"
           }
          ],
          "scatterpolar": [
           {
            "marker": {
             "colorbar": {
              "outlinewidth": 0,
              "ticks": ""
             }
            },
            "type": "scatterpolar"
           }
          ],
          "scatterpolargl": [
           {
            "marker": {
             "colorbar": {
              "outlinewidth": 0,
              "ticks": ""
             }
            },
            "type": "scatterpolargl"
           }
          ],
          "scatterternary": [
           {
            "marker": {
             "colorbar": {
              "outlinewidth": 0,
              "ticks": ""
             }
            },
            "type": "scatterternary"
           }
          ],
          "surface": [
           {
            "colorbar": {
             "outlinewidth": 0,
             "ticks": ""
            },
            "colorscale": [
             [
              0,
              "#0d0887"
             ],
             [
              0.1111111111111111,
              "#46039f"
             ],
             [
              0.2222222222222222,
              "#7201a8"
             ],
             [
              0.3333333333333333,
              "#9c179e"
             ],
             [
              0.4444444444444444,
              "#bd3786"
             ],
             [
              0.5555555555555556,
              "#d8576b"
             ],
             [
              0.6666666666666666,
              "#ed7953"
             ],
             [
              0.7777777777777778,
              "#fb9f3a"
             ],
             [
              0.8888888888888888,
              "#fdca26"
             ],
             [
              1,
              "#f0f921"
             ]
            ],
            "type": "surface"
           }
          ],
          "table": [
           {
            "cells": {
             "fill": {
              "color": "#EBF0F8"
             },
             "line": {
              "color": "white"
             }
            },
            "header": {
             "fill": {
              "color": "#C8D4E3"
             },
             "line": {
              "color": "white"
             }
            },
            "type": "table"
           }
          ]
         },
         "layout": {
          "annotationdefaults": {
           "arrowcolor": "#2a3f5f",
           "arrowhead": 0,
           "arrowwidth": 1
          },
          "autotypenumbers": "strict",
          "coloraxis": {
           "colorbar": {
            "outlinewidth": 0,
            "ticks": ""
           }
          },
          "colorscale": {
           "diverging": [
            [
             0,
             "#8e0152"
            ],
            [
             0.1,
             "#c51b7d"
            ],
            [
             0.2,
             "#de77ae"
            ],
            [
             0.3,
             "#f1b6da"
            ],
            [
             0.4,
             "#fde0ef"
            ],
            [
             0.5,
             "#f7f7f7"
            ],
            [
             0.6,
             "#e6f5d0"
            ],
            [
             0.7,
             "#b8e186"
            ],
            [
             0.8,
             "#7fbc41"
            ],
            [
             0.9,
             "#4d9221"
            ],
            [
             1,
             "#276419"
            ]
           ],
           "sequential": [
            [
             0,
             "#0d0887"
            ],
            [
             0.1111111111111111,
             "#46039f"
            ],
            [
             0.2222222222222222,
             "#7201a8"
            ],
            [
             0.3333333333333333,
             "#9c179e"
            ],
            [
             0.4444444444444444,
             "#bd3786"
            ],
            [
             0.5555555555555556,
             "#d8576b"
            ],
            [
             0.6666666666666666,
             "#ed7953"
            ],
            [
             0.7777777777777778,
             "#fb9f3a"
            ],
            [
             0.8888888888888888,
             "#fdca26"
            ],
            [
             1,
             "#f0f921"
            ]
           ],
           "sequentialminus": [
            [
             0,
             "#0d0887"
            ],
            [
             0.1111111111111111,
             "#46039f"
            ],
            [
             0.2222222222222222,
             "#7201a8"
            ],
            [
             0.3333333333333333,
             "#9c179e"
            ],
            [
             0.4444444444444444,
             "#bd3786"
            ],
            [
             0.5555555555555556,
             "#d8576b"
            ],
            [
             0.6666666666666666,
             "#ed7953"
            ],
            [
             0.7777777777777778,
             "#fb9f3a"
            ],
            [
             0.8888888888888888,
             "#fdca26"
            ],
            [
             1,
             "#f0f921"
            ]
           ]
          },
          "colorway": [
           "#636efa",
           "#EF553B",
           "#00cc96",
           "#ab63fa",
           "#FFA15A",
           "#19d3f3",
           "#FF6692",
           "#B6E880",
           "#FF97FF",
           "#FECB52"
          ],
          "font": {
           "color": "#2a3f5f"
          },
          "geo": {
           "bgcolor": "white",
           "lakecolor": "white",
           "landcolor": "#E5ECF6",
           "showlakes": true,
           "showland": true,
           "subunitcolor": "white"
          },
          "hoverlabel": {
           "align": "left"
          },
          "hovermode": "closest",
          "mapbox": {
           "style": "light"
          },
          "paper_bgcolor": "white",
          "plot_bgcolor": "#E5ECF6",
          "polar": {
           "angularaxis": {
            "gridcolor": "white",
            "linecolor": "white",
            "ticks": ""
           },
           "bgcolor": "#E5ECF6",
           "radialaxis": {
            "gridcolor": "white",
            "linecolor": "white",
            "ticks": ""
           }
          },
          "scene": {
           "xaxis": {
            "backgroundcolor": "#E5ECF6",
            "gridcolor": "white",
            "gridwidth": 2,
            "linecolor": "white",
            "showbackground": true,
            "ticks": "",
            "zerolinecolor": "white"
           },
           "yaxis": {
            "backgroundcolor": "#E5ECF6",
            "gridcolor": "white",
            "gridwidth": 2,
            "linecolor": "white",
            "showbackground": true,
            "ticks": "",
            "zerolinecolor": "white"
           },
           "zaxis": {
            "backgroundcolor": "#E5ECF6",
            "gridcolor": "white",
            "gridwidth": 2,
            "linecolor": "white",
            "showbackground": true,
            "ticks": "",
            "zerolinecolor": "white"
           }
          },
          "shapedefaults": {
           "line": {
            "color": "#2a3f5f"
           }
          },
          "ternary": {
           "aaxis": {
            "gridcolor": "white",
            "linecolor": "white",
            "ticks": ""
           },
           "baxis": {
            "gridcolor": "white",
            "linecolor": "white",
            "ticks": ""
           },
           "bgcolor": "#E5ECF6",
           "caxis": {
            "gridcolor": "white",
            "linecolor": "white",
            "ticks": ""
           }
          },
          "title": {
           "x": 0.05
          },
          "xaxis": {
           "automargin": true,
           "gridcolor": "white",
           "linecolor": "white",
           "ticks": "",
           "title": {
            "standoff": 15
           },
           "zerolinecolor": "white",
           "zerolinewidth": 2
          },
          "yaxis": {
           "automargin": true,
           "gridcolor": "white",
           "linecolor": "white",
           "ticks": "",
           "title": {
            "standoff": 15
           },
           "zerolinecolor": "white",
           "zerolinewidth": 2
          }
         }
        }
       }
      }
     },
     "metadata": {},
     "output_type": "display_data"
    }
   ],
   "source": [
    "graf_cir_actores(df)"
   ]
  },
  {
   "cell_type": "code",
   "execution_count": 5,
   "metadata": {},
   "outputs": [
    {
     "data": {
      "application/vnd.plotly.v1+json": {
       "config": {
        "plotlyServerURL": "https://plot.ly"
       },
       "data": [
        {
         "labels": [
          "raúl campos",
          "jan suter",
          "ryan polito",
          "jay karas",
          "marcus raboy",
          "jay chapman",
          "cathy garcia-molina",
          "youssef chahine",
          "justin g. dyck",
          "kunle afolayan",
          "troy miller",
          "anurag kashyap",
          "lance bangs",
          "shannon hartman",
          "jeff tremaine",
          "mani ratnam",
          "ashutosh gowariker",
          "martin scorsese",
          "milan luthria",
          "leslie small",
          "fernando ayllón",
          "zoya akhtar",
          "karan johar",
          "mae cruz-alviar",
          "michael simon",
          "maroun bagdadi",
          "yılmaz erdoğan",
          "shigeaki kubo",
          "kayode kasum",
          "antoinette jadaone"
         ],
         "type": "pie",
         "values": [
          20,
          19,
          15,
          14,
          14,
          12,
          12,
          11,
          8,
          8,
          7,
          7,
          7,
          7,
          6,
          6,
          6,
          6,
          6,
          6,
          6,
          6,
          6,
          6,
          5,
          5,
          5,
          5,
          5,
          5
         ]
        }
       ],
       "layout": {
        "template": {
         "data": {
          "bar": [
           {
            "error_x": {
             "color": "#2a3f5f"
            },
            "error_y": {
             "color": "#2a3f5f"
            },
            "marker": {
             "line": {
              "color": "#E5ECF6",
              "width": 0.5
             },
             "pattern": {
              "fillmode": "overlay",
              "size": 10,
              "solidity": 0.2
             }
            },
            "type": "bar"
           }
          ],
          "barpolar": [
           {
            "marker": {
             "line": {
              "color": "#E5ECF6",
              "width": 0.5
             },
             "pattern": {
              "fillmode": "overlay",
              "size": 10,
              "solidity": 0.2
             }
            },
            "type": "barpolar"
           }
          ],
          "carpet": [
           {
            "aaxis": {
             "endlinecolor": "#2a3f5f",
             "gridcolor": "white",
             "linecolor": "white",
             "minorgridcolor": "white",
             "startlinecolor": "#2a3f5f"
            },
            "baxis": {
             "endlinecolor": "#2a3f5f",
             "gridcolor": "white",
             "linecolor": "white",
             "minorgridcolor": "white",
             "startlinecolor": "#2a3f5f"
            },
            "type": "carpet"
           }
          ],
          "choropleth": [
           {
            "colorbar": {
             "outlinewidth": 0,
             "ticks": ""
            },
            "type": "choropleth"
           }
          ],
          "contour": [
           {
            "colorbar": {
             "outlinewidth": 0,
             "ticks": ""
            },
            "colorscale": [
             [
              0,
              "#0d0887"
             ],
             [
              0.1111111111111111,
              "#46039f"
             ],
             [
              0.2222222222222222,
              "#7201a8"
             ],
             [
              0.3333333333333333,
              "#9c179e"
             ],
             [
              0.4444444444444444,
              "#bd3786"
             ],
             [
              0.5555555555555556,
              "#d8576b"
             ],
             [
              0.6666666666666666,
              "#ed7953"
             ],
             [
              0.7777777777777778,
              "#fb9f3a"
             ],
             [
              0.8888888888888888,
              "#fdca26"
             ],
             [
              1,
              "#f0f921"
             ]
            ],
            "type": "contour"
           }
          ],
          "contourcarpet": [
           {
            "colorbar": {
             "outlinewidth": 0,
             "ticks": ""
            },
            "type": "contourcarpet"
           }
          ],
          "heatmap": [
           {
            "colorbar": {
             "outlinewidth": 0,
             "ticks": ""
            },
            "colorscale": [
             [
              0,
              "#0d0887"
             ],
             [
              0.1111111111111111,
              "#46039f"
             ],
             [
              0.2222222222222222,
              "#7201a8"
             ],
             [
              0.3333333333333333,
              "#9c179e"
             ],
             [
              0.4444444444444444,
              "#bd3786"
             ],
             [
              0.5555555555555556,
              "#d8576b"
             ],
             [
              0.6666666666666666,
              "#ed7953"
             ],
             [
              0.7777777777777778,
              "#fb9f3a"
             ],
             [
              0.8888888888888888,
              "#fdca26"
             ],
             [
              1,
              "#f0f921"
             ]
            ],
            "type": "heatmap"
           }
          ],
          "heatmapgl": [
           {
            "colorbar": {
             "outlinewidth": 0,
             "ticks": ""
            },
            "colorscale": [
             [
              0,
              "#0d0887"
             ],
             [
              0.1111111111111111,
              "#46039f"
             ],
             [
              0.2222222222222222,
              "#7201a8"
             ],
             [
              0.3333333333333333,
              "#9c179e"
             ],
             [
              0.4444444444444444,
              "#bd3786"
             ],
             [
              0.5555555555555556,
              "#d8576b"
             ],
             [
              0.6666666666666666,
              "#ed7953"
             ],
             [
              0.7777777777777778,
              "#fb9f3a"
             ],
             [
              0.8888888888888888,
              "#fdca26"
             ],
             [
              1,
              "#f0f921"
             ]
            ],
            "type": "heatmapgl"
           }
          ],
          "histogram": [
           {
            "marker": {
             "pattern": {
              "fillmode": "overlay",
              "size": 10,
              "solidity": 0.2
             }
            },
            "type": "histogram"
           }
          ],
          "histogram2d": [
           {
            "colorbar": {
             "outlinewidth": 0,
             "ticks": ""
            },
            "colorscale": [
             [
              0,
              "#0d0887"
             ],
             [
              0.1111111111111111,
              "#46039f"
             ],
             [
              0.2222222222222222,
              "#7201a8"
             ],
             [
              0.3333333333333333,
              "#9c179e"
             ],
             [
              0.4444444444444444,
              "#bd3786"
             ],
             [
              0.5555555555555556,
              "#d8576b"
             ],
             [
              0.6666666666666666,
              "#ed7953"
             ],
             [
              0.7777777777777778,
              "#fb9f3a"
             ],
             [
              0.8888888888888888,
              "#fdca26"
             ],
             [
              1,
              "#f0f921"
             ]
            ],
            "type": "histogram2d"
           }
          ],
          "histogram2dcontour": [
           {
            "colorbar": {
             "outlinewidth": 0,
             "ticks": ""
            },
            "colorscale": [
             [
              0,
              "#0d0887"
             ],
             [
              0.1111111111111111,
              "#46039f"
             ],
             [
              0.2222222222222222,
              "#7201a8"
             ],
             [
              0.3333333333333333,
              "#9c179e"
             ],
             [
              0.4444444444444444,
              "#bd3786"
             ],
             [
              0.5555555555555556,
              "#d8576b"
             ],
             [
              0.6666666666666666,
              "#ed7953"
             ],
             [
              0.7777777777777778,
              "#fb9f3a"
             ],
             [
              0.8888888888888888,
              "#fdca26"
             ],
             [
              1,
              "#f0f921"
             ]
            ],
            "type": "histogram2dcontour"
           }
          ],
          "mesh3d": [
           {
            "colorbar": {
             "outlinewidth": 0,
             "ticks": ""
            },
            "type": "mesh3d"
           }
          ],
          "parcoords": [
           {
            "line": {
             "colorbar": {
              "outlinewidth": 0,
              "ticks": ""
             }
            },
            "type": "parcoords"
           }
          ],
          "pie": [
           {
            "automargin": true,
            "type": "pie"
           }
          ],
          "scatter": [
           {
            "fillpattern": {
             "fillmode": "overlay",
             "size": 10,
             "solidity": 0.2
            },
            "type": "scatter"
           }
          ],
          "scatter3d": [
           {
            "line": {
             "colorbar": {
              "outlinewidth": 0,
              "ticks": ""
             }
            },
            "marker": {
             "colorbar": {
              "outlinewidth": 0,
              "ticks": ""
             }
            },
            "type": "scatter3d"
           }
          ],
          "scattercarpet": [
           {
            "marker": {
             "colorbar": {
              "outlinewidth": 0,
              "ticks": ""
             }
            },
            "type": "scattercarpet"
           }
          ],
          "scattergeo": [
           {
            "marker": {
             "colorbar": {
              "outlinewidth": 0,
              "ticks": ""
             }
            },
            "type": "scattergeo"
           }
          ],
          "scattergl": [
           {
            "marker": {
             "colorbar": {
              "outlinewidth": 0,
              "ticks": ""
             }
            },
            "type": "scattergl"
           }
          ],
          "scattermapbox": [
           {
            "marker": {
             "colorbar": {
              "outlinewidth": 0,
              "ticks": ""
             }
            },
            "type": "scattermapbox"
           }
          ],
          "scatterpolar": [
           {
            "marker": {
             "colorbar": {
              "outlinewidth": 0,
              "ticks": ""
             }
            },
            "type": "scatterpolar"
           }
          ],
          "scatterpolargl": [
           {
            "marker": {
             "colorbar": {
              "outlinewidth": 0,
              "ticks": ""
             }
            },
            "type": "scatterpolargl"
           }
          ],
          "scatterternary": [
           {
            "marker": {
             "colorbar": {
              "outlinewidth": 0,
              "ticks": ""
             }
            },
            "type": "scatterternary"
           }
          ],
          "surface": [
           {
            "colorbar": {
             "outlinewidth": 0,
             "ticks": ""
            },
            "colorscale": [
             [
              0,
              "#0d0887"
             ],
             [
              0.1111111111111111,
              "#46039f"
             ],
             [
              0.2222222222222222,
              "#7201a8"
             ],
             [
              0.3333333333333333,
              "#9c179e"
             ],
             [
              0.4444444444444444,
              "#bd3786"
             ],
             [
              0.5555555555555556,
              "#d8576b"
             ],
             [
              0.6666666666666666,
              "#ed7953"
             ],
             [
              0.7777777777777778,
              "#fb9f3a"
             ],
             [
              0.8888888888888888,
              "#fdca26"
             ],
             [
              1,
              "#f0f921"
             ]
            ],
            "type": "surface"
           }
          ],
          "table": [
           {
            "cells": {
             "fill": {
              "color": "#EBF0F8"
             },
             "line": {
              "color": "white"
             }
            },
            "header": {
             "fill": {
              "color": "#C8D4E3"
             },
             "line": {
              "color": "white"
             }
            },
            "type": "table"
           }
          ]
         },
         "layout": {
          "annotationdefaults": {
           "arrowcolor": "#2a3f5f",
           "arrowhead": 0,
           "arrowwidth": 1
          },
          "autotypenumbers": "strict",
          "coloraxis": {
           "colorbar": {
            "outlinewidth": 0,
            "ticks": ""
           }
          },
          "colorscale": {
           "diverging": [
            [
             0,
             "#8e0152"
            ],
            [
             0.1,
             "#c51b7d"
            ],
            [
             0.2,
             "#de77ae"
            ],
            [
             0.3,
             "#f1b6da"
            ],
            [
             0.4,
             "#fde0ef"
            ],
            [
             0.5,
             "#f7f7f7"
            ],
            [
             0.6,
             "#e6f5d0"
            ],
            [
             0.7,
             "#b8e186"
            ],
            [
             0.8,
             "#7fbc41"
            ],
            [
             0.9,
             "#4d9221"
            ],
            [
             1,
             "#276419"
            ]
           ],
           "sequential": [
            [
             0,
             "#0d0887"
            ],
            [
             0.1111111111111111,
             "#46039f"
            ],
            [
             0.2222222222222222,
             "#7201a8"
            ],
            [
             0.3333333333333333,
             "#9c179e"
            ],
            [
             0.4444444444444444,
             "#bd3786"
            ],
            [
             0.5555555555555556,
             "#d8576b"
            ],
            [
             0.6666666666666666,
             "#ed7953"
            ],
            [
             0.7777777777777778,
             "#fb9f3a"
            ],
            [
             0.8888888888888888,
             "#fdca26"
            ],
            [
             1,
             "#f0f921"
            ]
           ],
           "sequentialminus": [
            [
             0,
             "#0d0887"
            ],
            [
             0.1111111111111111,
             "#46039f"
            ],
            [
             0.2222222222222222,
             "#7201a8"
            ],
            [
             0.3333333333333333,
             "#9c179e"
            ],
            [
             0.4444444444444444,
             "#bd3786"
            ],
            [
             0.5555555555555556,
             "#d8576b"
            ],
            [
             0.6666666666666666,
             "#ed7953"
            ],
            [
             0.7777777777777778,
             "#fb9f3a"
            ],
            [
             0.8888888888888888,
             "#fdca26"
            ],
            [
             1,
             "#f0f921"
            ]
           ]
          },
          "colorway": [
           "#636efa",
           "#EF553B",
           "#00cc96",
           "#ab63fa",
           "#FFA15A",
           "#19d3f3",
           "#FF6692",
           "#B6E880",
           "#FF97FF",
           "#FECB52"
          ],
          "font": {
           "color": "#2a3f5f"
          },
          "geo": {
           "bgcolor": "white",
           "lakecolor": "white",
           "landcolor": "#E5ECF6",
           "showlakes": true,
           "showland": true,
           "subunitcolor": "white"
          },
          "hoverlabel": {
           "align": "left"
          },
          "hovermode": "closest",
          "mapbox": {
           "style": "light"
          },
          "paper_bgcolor": "white",
          "plot_bgcolor": "#E5ECF6",
          "polar": {
           "angularaxis": {
            "gridcolor": "white",
            "linecolor": "white",
            "ticks": ""
           },
           "bgcolor": "#E5ECF6",
           "radialaxis": {
            "gridcolor": "white",
            "linecolor": "white",
            "ticks": ""
           }
          },
          "scene": {
           "xaxis": {
            "backgroundcolor": "#E5ECF6",
            "gridcolor": "white",
            "gridwidth": 2,
            "linecolor": "white",
            "showbackground": true,
            "ticks": "",
            "zerolinecolor": "white"
           },
           "yaxis": {
            "backgroundcolor": "#E5ECF6",
            "gridcolor": "white",
            "gridwidth": 2,
            "linecolor": "white",
            "showbackground": true,
            "ticks": "",
            "zerolinecolor": "white"
           },
           "zaxis": {
            "backgroundcolor": "#E5ECF6",
            "gridcolor": "white",
            "gridwidth": 2,
            "linecolor": "white",
            "showbackground": true,
            "ticks": "",
            "zerolinecolor": "white"
           }
          },
          "shapedefaults": {
           "line": {
            "color": "#2a3f5f"
           }
          },
          "ternary": {
           "aaxis": {
            "gridcolor": "white",
            "linecolor": "white",
            "ticks": ""
           },
           "baxis": {
            "gridcolor": "white",
            "linecolor": "white",
            "ticks": ""
           },
           "bgcolor": "#E5ECF6",
           "caxis": {
            "gridcolor": "white",
            "linecolor": "white",
            "ticks": ""
           }
          },
          "title": {
           "x": 0.05
          },
          "xaxis": {
           "automargin": true,
           "gridcolor": "white",
           "linecolor": "white",
           "ticks": "",
           "title": {
            "standoff": 15
           },
           "zerolinecolor": "white",
           "zerolinewidth": 2
          },
          "yaxis": {
           "automargin": true,
           "gridcolor": "white",
           "linecolor": "white",
           "ticks": "",
           "title": {
            "standoff": 15
           },
           "zerolinecolor": "white",
           "zerolinewidth": 2
          }
         }
        }
       }
      }
     },
     "metadata": {},
     "output_type": "display_data"
    }
   ],
   "source": [
    "graf_cir_directores(df)"
   ]
  },
  {
   "cell_type": "code",
   "execution_count": 7,
   "metadata": {},
   "outputs": [
    {
     "data": {
      "application/vnd.plotly.v1+json": {
       "config": {
        "plotlyServerURL": "https://plot.ly"
       },
       "data": [
        {
         "hovertemplate": "<b>%{hovertext}</b><br><br>index=action<br>score=%{x}<br>votes=%{y}<br>prom_relative=%{marker.size}<extra></extra>",
         "hovertext": [
          "action"
         ],
         "legendgroup": "action",
         "marker": {
          "color": "#636efa",
          "size": [
           0.7561279274344072
          ],
          "sizemode": "area",
          "sizeref": 0.00037663509210832395,
          "symbol": "circle"
         },
         "mode": "markers",
         "name": "action",
         "orientation": "v",
         "showlegend": true,
         "type": "scatter",
         "x": [
          6.227196652719665
         ],
         "xaxis": "x",
         "y": [
          34934577
         ],
         "yaxis": "y"
        },
        {
         "hovertemplate": "<b>%{hovertext}</b><br><br>index=animation<br>score=%{x}<br>votes=%{y}<br>prom_relative=%{marker.size}<extra></extra>",
         "hovertext": [
          "animation"
         ],
         "legendgroup": "animation",
         "marker": {
          "color": "#EF553B",
          "size": [
           0.08040895063634275
          ],
          "sizemode": "area",
          "sizeref": 0.00037663509210832395,
          "symbol": "circle"
         },
         "mode": "markers",
         "name": "animation",
         "orientation": "v",
         "showlegend": true,
         "type": "scatter",
         "x": [
          6.626568265682657
         ],
         "xaxis": "x",
         "y": [
          3491150
         ],
         "yaxis": "y"
        },
        {
         "hovertemplate": "<b>%{hovertext}</b><br><br>index=comedy<br>score=%{x}<br>votes=%{y}<br>prom_relative=%{marker.size}<extra></extra>",
         "hovertext": [
          "comedy"
         ],
         "legendgroup": "comedy",
         "marker": {
          "color": "#00cc96",
          "size": [
           0.5634440608395662
          ],
          "sizemode": "area",
          "sizeref": 0.00037663509210832395,
          "symbol": "circle"
         },
         "mode": "markers",
         "name": "comedy",
         "orientation": "v",
         "showlegend": true,
         "type": "scatter",
         "x": [
          6.233547145606158
         ],
         "xaxis": "x",
         "y": [
          26005688
         ],
         "yaxis": "y"
        },
        {
         "hovertemplate": "<b>%{hovertext}</b><br><br>index=crime<br>score=%{x}<br>votes=%{y}<br>prom_relative=%{marker.size}<extra></extra>",
         "hovertext": [
          "crime"
         ],
         "legendgroup": "crime",
         "marker": {
          "color": "#ab63fa",
          "size": [
           0.6089194317576268
          ],
          "sizemode": "area",
          "sizeref": 0.00037663509210832395,
          "symbol": "circle"
         },
         "mode": "markers",
         "name": "crime",
         "orientation": "v",
         "showlegend": true,
         "type": "scatter",
         "x": [
          6.3219152854511975
         ],
         "xaxis": "x",
         "y": [
          27711750
         ],
         "yaxis": "y"
        },
        {
         "hovertemplate": "<b>%{hovertext}</b><br><br>index=documentation<br>score=%{x}<br>votes=%{y}<br>prom_relative=%{marker.size}<extra></extra>",
         "hovertext": [
          "documentation"
         ],
         "legendgroup": "documentation",
         "marker": {
          "color": "#FFA15A",
          "size": [
           0.07089933573792036
          ],
          "sizemode": "area",
          "sizeref": 0.00037663509210832395,
          "symbol": "circle"
         },
         "mode": "markers",
         "name": "documentation",
         "orientation": "v",
         "showlegend": true,
         "type": "scatter",
         "x": [
          6.887893864013266
         ],
         "xaxis": "x",
         "y": [
          2961478
         ],
         "yaxis": "y"
        },
        {
         "hovertemplate": "<b>%{hovertext}</b><br><br>index=drama<br>score=%{x}<br>votes=%{y}<br>prom_relative=%{marker.size}<extra></extra>",
         "hovertext": [
          "drama"
         ],
         "legendgroup": "drama",
         "marker": {
          "color": "#19d3f3",
          "size": [
           1.3558863315899663
          ],
          "sizemode": "area",
          "sizeref": 0.00037663509210832395,
          "symbol": "circle"
         },
         "mode": "markers",
         "name": "drama",
         "orientation": "v",
         "showlegend": true,
         "type": "scatter",
         "x": [
          6.381092662024638
         ],
         "xaxis": "x",
         "y": [
          61133748
         ],
         "yaxis": "y"
        },
        {
         "hovertemplate": "<b>%{hovertext}</b><br><br>index=european<br>score=%{x}<br>votes=%{y}<br>prom_relative=%{marker.size}<extra></extra>",
         "hovertext": [
          "european"
         ],
         "legendgroup": "european",
         "marker": {
          "color": "#FF6692",
          "size": [
           0.2658399196301703
          ],
          "sizemode": "area",
          "sizeref": 0.00037663509210832395,
          "symbol": "circle"
         },
         "mode": "markers",
         "name": "european",
         "orientation": "v",
         "showlegend": true,
         "type": "scatter",
         "x": [
          6.343023255813954
         ],
         "xaxis": "x",
         "y": [
          12058039
         ],
         "yaxis": "y"
        },
        {
         "hovertemplate": "<b>%{hovertext}</b><br><br>index=family<br>score=%{x}<br>votes=%{y}<br>prom_relative=%{marker.size}<extra></extra>",
         "hovertext": [
          "family"
         ],
         "legendgroup": "family",
         "marker": {
          "color": "#B6E880",
          "size": [
           0.11126176486463457
          ],
          "sizemode": "area",
          "sizeref": 0.00037663509210832395,
          "symbol": "circle"
         },
         "mode": "markers",
         "name": "family",
         "orientation": "v",
         "showlegend": true,
         "type": "scatter",
         "x": [
          6.356571428571429
         ],
         "xaxis": "x",
         "y": [
          5035885
         ],
         "yaxis": "y"
        },
        {
         "hovertemplate": "<b>%{hovertext}</b><br><br>index=fantasy<br>score=%{x}<br>votes=%{y}<br>prom_relative=%{marker.size}<extra></extra>",
         "hovertext": [
          "fantasy"
         ],
         "legendgroup": "fantasy",
         "marker": {
          "color": "#FF97FF",
          "size": [
           0.24994855434002677
          ],
          "sizemode": "area",
          "sizeref": 0.00037663509210832395,
          "symbol": "circle"
         },
         "mode": "markers",
         "name": "fantasy",
         "orientation": "v",
         "showlegend": true,
         "type": "scatter",
         "x": [
          6.327388535031846
         ],
         "xaxis": "x",
         "y": [
          11365248
         ],
         "yaxis": "y"
        },
        {
         "hovertemplate": "<b>%{hovertext}</b><br><br>index=history<br>score=%{x}<br>votes=%{y}<br>prom_relative=%{marker.size}<extra></extra>",
         "hovertext": [
          "history"
         ],
         "legendgroup": "history",
         "marker": {
          "color": "#FECB52",
          "size": [
           0.14161335023887445
          ],
          "sizemode": "area",
          "sizeref": 0.00037663509210832395,
          "symbol": "circle"
         },
         "mode": "markers",
         "name": "history",
         "orientation": "v",
         "showlegend": true,
         "type": "scatter",
         "x": [
          6.892413793103449
         ],
         "xaxis": "x",
         "y": [
          5911336
         ],
         "yaxis": "y"
        },
        {
         "hovertemplate": "<b>%{hovertext}</b><br><br>index=horror<br>score=%{x}<br>votes=%{y}<br>prom_relative=%{marker.size}<extra></extra>",
         "hovertext": [
          "horror"
         ],
         "legendgroup": "horror",
         "marker": {
          "color": "#636efa",
          "size": [
           0.19206305137683136
          ],
          "sizemode": "area",
          "sizeref": 0.00037663509210832395,
          "symbol": "circle"
         },
         "mode": "markers",
         "name": "horror",
         "orientation": "v",
         "showlegend": true,
         "type": "scatter",
         "x": [
          5.759386973180076
         ],
         "xaxis": "x",
         "y": [
          9594456
         ],
         "yaxis": "y"
        },
        {
         "hovertemplate": "<b>%{hovertext}</b><br><br>index=music<br>score=%{x}<br>votes=%{y}<br>prom_relative=%{marker.size}<extra></extra>",
         "hovertext": [
          "music"
         ],
         "legendgroup": "music",
         "marker": {
          "color": "#EF553B",
          "size": [
           0.0843128197656179
          ],
          "sizemode": "area",
          "sizeref": 0.00037663509210832395,
          "symbol": "circle"
         },
         "mode": "markers",
         "name": "music",
         "orientation": "v",
         "showlegend": true,
         "type": "scatter",
         "x": [
          6.646739130434782
         ],
         "xaxis": "x",
         "y": [
          3649537
         ],
         "yaxis": "y"
        },
        {
         "hovertemplate": "<b>%{hovertext}</b><br><br>index=reality<br>score=%{x}<br>votes=%{y}<br>prom_relative=%{marker.size}<extra></extra>",
         "hovertext": [
          "reality"
         ],
         "legendgroup": "reality",
         "marker": {
          "color": "#00cc96",
          "size": [
           0.0018478936991133525
          ],
          "sizemode": "area",
          "sizeref": 0.00037663509210832395,
          "symbol": "circle"
         },
         "mode": "markers",
         "name": "reality",
         "orientation": "v",
         "showlegend": true,
         "type": "scatter",
         "x": [
          6.955555555555555
         ],
         "xaxis": "x",
         "y": [
          76436
         ],
         "yaxis": "y"
        },
        {
         "hovertemplate": "<b>%{hovertext}</b><br><br>index=romance<br>score=%{x}<br>votes=%{y}<br>prom_relative=%{marker.size}<extra></extra>",
         "hovertext": [
          "romance"
         ],
         "legendgroup": "romance",
         "marker": {
          "color": "#ab63fa",
          "size": [
           0.3325755524085769
          ],
          "sizemode": "area",
          "sizeref": 0.00037663509210832395,
          "symbol": "circle"
         },
         "mode": "markers",
         "name": "romance",
         "orientation": "v",
         "showlegend": true,
         "type": "scatter",
         "x": [
          6.225035971223021
         ],
         "xaxis": "x",
         "y": [
          15370969
         ],
         "yaxis": "y"
        },
        {
         "hovertemplate": "<b>%{hovertext}</b><br><br>index=scifi<br>score=%{x}<br>votes=%{y}<br>prom_relative=%{marker.size}<extra></extra>",
         "hovertext": [
          "scifi"
         ],
         "legendgroup": "scifi",
         "marker": {
          "color": "#FFA15A",
          "size": [
           0.2805914067938853
          ],
          "sizemode": "area",
          "sizeref": 0.00037663509210832395,
          "symbol": "circle"
         },
         "mode": "markers",
         "name": "scifi",
         "orientation": "v",
         "showlegend": true,
         "type": "scatter",
         "x": [
          6.088235294117647
         ],
         "xaxis": "x",
         "y": [
          13259762
         ],
         "yaxis": "y"
        },
        {
         "hovertemplate": "<b>%{hovertext}</b><br><br>index=sport<br>score=%{x}<br>votes=%{y}<br>prom_relative=%{marker.size}<extra></extra>",
         "hovertext": [
          "sport"
         ],
         "legendgroup": "sport",
         "marker": {
          "color": "#19d3f3",
          "size": [
           0.05248893221950704
          ],
          "sizemode": "area",
          "sizeref": 0.00037663509210832395,
          "symbol": "circle"
         },
         "mode": "markers",
         "name": "sport",
         "orientation": "v",
         "showlegend": true,
         "type": "scatter",
         "x": [
          6.517699115044247
         ],
         "xaxis": "x",
         "y": [
          2317001
         ],
         "yaxis": "y"
        },
        {
         "hovertemplate": "<b>%{hovertext}</b><br><br>index=thriller<br>score=%{x}<br>votes=%{y}<br>prom_relative=%{marker.size}<extra></extra>",
         "hovertext": [
          "thriller"
         ],
         "legendgroup": "thriller",
         "marker": {
          "color": "#FF6692",
          "size": [
           0.9226859581705852
          ],
          "sizemode": "area",
          "sizeref": 0.00037663509210832395,
          "symbol": "circle"
         },
         "mode": "markers",
         "name": "thriller",
         "orientation": "v",
         "showlegend": true,
         "type": "scatter",
         "x": [
          6.1078787878787875
         ],
         "xaxis": "x",
         "y": [
          43462659
         ],
         "yaxis": "y"
        },
        {
         "hovertemplate": "<b>%{hovertext}</b><br><br>index=war<br>score=%{x}<br>votes=%{y}<br>prom_relative=%{marker.size}<extra></extra>",
         "hovertext": [
          "war"
         ],
         "legendgroup": "war",
         "marker": {
          "color": "#B6E880",
          "size": [
           0.14520399408979937
          ],
          "sizemode": "area",
          "sizeref": 0.00037663509210832395,
          "symbol": "circle"
         },
         "mode": "markers",
         "name": "war",
         "orientation": "v",
         "showlegend": true,
         "type": "scatter",
         "x": [
          6.839805825242719
         ],
         "xaxis": "x",
         "y": [
          6107839
         ],
         "yaxis": "y"
        },
        {
         "hovertemplate": "<b>%{hovertext}</b><br><br>index=western<br>score=%{x}<br>votes=%{y}<br>prom_relative=%{marker.size}<extra></extra>",
         "hovertext": [
          "western"
         ],
         "legendgroup": "western",
         "marker": {
          "color": "#FF97FF",
          "size": [
           0.07169014685051174
          ],
          "sizemode": "area",
          "sizeref": 0.00037663509210832395,
          "symbol": "circle"
         },
         "mode": "markers",
         "name": "western",
         "orientation": "v",
         "showlegend": true,
         "type": "scatter",
         "x": [
          6.325000000000001
         ],
         "xaxis": "x",
         "y": [
          3261007
         ],
         "yaxis": "y"
        }
       ],
       "layout": {
        "height": 800,
        "legend": {
         "itemsizing": "constant",
         "title": {
          "text": "index"
         },
         "tracegroupgap": 0
        },
        "margin": {
         "t": 60
        },
        "template": {
         "data": {
          "bar": [
           {
            "error_x": {
             "color": "#2a3f5f"
            },
            "error_y": {
             "color": "#2a3f5f"
            },
            "marker": {
             "line": {
              "color": "#E5ECF6",
              "width": 0.5
             },
             "pattern": {
              "fillmode": "overlay",
              "size": 10,
              "solidity": 0.2
             }
            },
            "type": "bar"
           }
          ],
          "barpolar": [
           {
            "marker": {
             "line": {
              "color": "#E5ECF6",
              "width": 0.5
             },
             "pattern": {
              "fillmode": "overlay",
              "size": 10,
              "solidity": 0.2
             }
            },
            "type": "barpolar"
           }
          ],
          "carpet": [
           {
            "aaxis": {
             "endlinecolor": "#2a3f5f",
             "gridcolor": "white",
             "linecolor": "white",
             "minorgridcolor": "white",
             "startlinecolor": "#2a3f5f"
            },
            "baxis": {
             "endlinecolor": "#2a3f5f",
             "gridcolor": "white",
             "linecolor": "white",
             "minorgridcolor": "white",
             "startlinecolor": "#2a3f5f"
            },
            "type": "carpet"
           }
          ],
          "choropleth": [
           {
            "colorbar": {
             "outlinewidth": 0,
             "ticks": ""
            },
            "type": "choropleth"
           }
          ],
          "contour": [
           {
            "colorbar": {
             "outlinewidth": 0,
             "ticks": ""
            },
            "colorscale": [
             [
              0,
              "#0d0887"
             ],
             [
              0.1111111111111111,
              "#46039f"
             ],
             [
              0.2222222222222222,
              "#7201a8"
             ],
             [
              0.3333333333333333,
              "#9c179e"
             ],
             [
              0.4444444444444444,
              "#bd3786"
             ],
             [
              0.5555555555555556,
              "#d8576b"
             ],
             [
              0.6666666666666666,
              "#ed7953"
             ],
             [
              0.7777777777777778,
              "#fb9f3a"
             ],
             [
              0.8888888888888888,
              "#fdca26"
             ],
             [
              1,
              "#f0f921"
             ]
            ],
            "type": "contour"
           }
          ],
          "contourcarpet": [
           {
            "colorbar": {
             "outlinewidth": 0,
             "ticks": ""
            },
            "type": "contourcarpet"
           }
          ],
          "heatmap": [
           {
            "colorbar": {
             "outlinewidth": 0,
             "ticks": ""
            },
            "colorscale": [
             [
              0,
              "#0d0887"
             ],
             [
              0.1111111111111111,
              "#46039f"
             ],
             [
              0.2222222222222222,
              "#7201a8"
             ],
             [
              0.3333333333333333,
              "#9c179e"
             ],
             [
              0.4444444444444444,
              "#bd3786"
             ],
             [
              0.5555555555555556,
              "#d8576b"
             ],
             [
              0.6666666666666666,
              "#ed7953"
             ],
             [
              0.7777777777777778,
              "#fb9f3a"
             ],
             [
              0.8888888888888888,
              "#fdca26"
             ],
             [
              1,
              "#f0f921"
             ]
            ],
            "type": "heatmap"
           }
          ],
          "heatmapgl": [
           {
            "colorbar": {
             "outlinewidth": 0,
             "ticks": ""
            },
            "colorscale": [
             [
              0,
              "#0d0887"
             ],
             [
              0.1111111111111111,
              "#46039f"
             ],
             [
              0.2222222222222222,
              "#7201a8"
             ],
             [
              0.3333333333333333,
              "#9c179e"
             ],
             [
              0.4444444444444444,
              "#bd3786"
             ],
             [
              0.5555555555555556,
              "#d8576b"
             ],
             [
              0.6666666666666666,
              "#ed7953"
             ],
             [
              0.7777777777777778,
              "#fb9f3a"
             ],
             [
              0.8888888888888888,
              "#fdca26"
             ],
             [
              1,
              "#f0f921"
             ]
            ],
            "type": "heatmapgl"
           }
          ],
          "histogram": [
           {
            "marker": {
             "pattern": {
              "fillmode": "overlay",
              "size": 10,
              "solidity": 0.2
             }
            },
            "type": "histogram"
           }
          ],
          "histogram2d": [
           {
            "colorbar": {
             "outlinewidth": 0,
             "ticks": ""
            },
            "colorscale": [
             [
              0,
              "#0d0887"
             ],
             [
              0.1111111111111111,
              "#46039f"
             ],
             [
              0.2222222222222222,
              "#7201a8"
             ],
             [
              0.3333333333333333,
              "#9c179e"
             ],
             [
              0.4444444444444444,
              "#bd3786"
             ],
             [
              0.5555555555555556,
              "#d8576b"
             ],
             [
              0.6666666666666666,
              "#ed7953"
             ],
             [
              0.7777777777777778,
              "#fb9f3a"
             ],
             [
              0.8888888888888888,
              "#fdca26"
             ],
             [
              1,
              "#f0f921"
             ]
            ],
            "type": "histogram2d"
           }
          ],
          "histogram2dcontour": [
           {
            "colorbar": {
             "outlinewidth": 0,
             "ticks": ""
            },
            "colorscale": [
             [
              0,
              "#0d0887"
             ],
             [
              0.1111111111111111,
              "#46039f"
             ],
             [
              0.2222222222222222,
              "#7201a8"
             ],
             [
              0.3333333333333333,
              "#9c179e"
             ],
             [
              0.4444444444444444,
              "#bd3786"
             ],
             [
              0.5555555555555556,
              "#d8576b"
             ],
             [
              0.6666666666666666,
              "#ed7953"
             ],
             [
              0.7777777777777778,
              "#fb9f3a"
             ],
             [
              0.8888888888888888,
              "#fdca26"
             ],
             [
              1,
              "#f0f921"
             ]
            ],
            "type": "histogram2dcontour"
           }
          ],
          "mesh3d": [
           {
            "colorbar": {
             "outlinewidth": 0,
             "ticks": ""
            },
            "type": "mesh3d"
           }
          ],
          "parcoords": [
           {
            "line": {
             "colorbar": {
              "outlinewidth": 0,
              "ticks": ""
             }
            },
            "type": "parcoords"
           }
          ],
          "pie": [
           {
            "automargin": true,
            "type": "pie"
           }
          ],
          "scatter": [
           {
            "fillpattern": {
             "fillmode": "overlay",
             "size": 10,
             "solidity": 0.2
            },
            "type": "scatter"
           }
          ],
          "scatter3d": [
           {
            "line": {
             "colorbar": {
              "outlinewidth": 0,
              "ticks": ""
             }
            },
            "marker": {
             "colorbar": {
              "outlinewidth": 0,
              "ticks": ""
             }
            },
            "type": "scatter3d"
           }
          ],
          "scattercarpet": [
           {
            "marker": {
             "colorbar": {
              "outlinewidth": 0,
              "ticks": ""
             }
            },
            "type": "scattercarpet"
           }
          ],
          "scattergeo": [
           {
            "marker": {
             "colorbar": {
              "outlinewidth": 0,
              "ticks": ""
             }
            },
            "type": "scattergeo"
           }
          ],
          "scattergl": [
           {
            "marker": {
             "colorbar": {
              "outlinewidth": 0,
              "ticks": ""
             }
            },
            "type": "scattergl"
           }
          ],
          "scattermapbox": [
           {
            "marker": {
             "colorbar": {
              "outlinewidth": 0,
              "ticks": ""
             }
            },
            "type": "scattermapbox"
           }
          ],
          "scatterpolar": [
           {
            "marker": {
             "colorbar": {
              "outlinewidth": 0,
              "ticks": ""
             }
            },
            "type": "scatterpolar"
           }
          ],
          "scatterpolargl": [
           {
            "marker": {
             "colorbar": {
              "outlinewidth": 0,
              "ticks": ""
             }
            },
            "type": "scatterpolargl"
           }
          ],
          "scatterternary": [
           {
            "marker": {
             "colorbar": {
              "outlinewidth": 0,
              "ticks": ""
             }
            },
            "type": "scatterternary"
           }
          ],
          "surface": [
           {
            "colorbar": {
             "outlinewidth": 0,
             "ticks": ""
            },
            "colorscale": [
             [
              0,
              "#0d0887"
             ],
             [
              0.1111111111111111,
              "#46039f"
             ],
             [
              0.2222222222222222,
              "#7201a8"
             ],
             [
              0.3333333333333333,
              "#9c179e"
             ],
             [
              0.4444444444444444,
              "#bd3786"
             ],
             [
              0.5555555555555556,
              "#d8576b"
             ],
             [
              0.6666666666666666,
              "#ed7953"
             ],
             [
              0.7777777777777778,
              "#fb9f3a"
             ],
             [
              0.8888888888888888,
              "#fdca26"
             ],
             [
              1,
              "#f0f921"
             ]
            ],
            "type": "surface"
           }
          ],
          "table": [
           {
            "cells": {
             "fill": {
              "color": "#EBF0F8"
             },
             "line": {
              "color": "white"
             }
            },
            "header": {
             "fill": {
              "color": "#C8D4E3"
             },
             "line": {
              "color": "white"
             }
            },
            "type": "table"
           }
          ]
         },
         "layout": {
          "annotationdefaults": {
           "arrowcolor": "#2a3f5f",
           "arrowhead": 0,
           "arrowwidth": 1
          },
          "autotypenumbers": "strict",
          "coloraxis": {
           "colorbar": {
            "outlinewidth": 0,
            "ticks": ""
           }
          },
          "colorscale": {
           "diverging": [
            [
             0,
             "#8e0152"
            ],
            [
             0.1,
             "#c51b7d"
            ],
            [
             0.2,
             "#de77ae"
            ],
            [
             0.3,
             "#f1b6da"
            ],
            [
             0.4,
             "#fde0ef"
            ],
            [
             0.5,
             "#f7f7f7"
            ],
            [
             0.6,
             "#e6f5d0"
            ],
            [
             0.7,
             "#b8e186"
            ],
            [
             0.8,
             "#7fbc41"
            ],
            [
             0.9,
             "#4d9221"
            ],
            [
             1,
             "#276419"
            ]
           ],
           "sequential": [
            [
             0,
             "#0d0887"
            ],
            [
             0.1111111111111111,
             "#46039f"
            ],
            [
             0.2222222222222222,
             "#7201a8"
            ],
            [
             0.3333333333333333,
             "#9c179e"
            ],
            [
             0.4444444444444444,
             "#bd3786"
            ],
            [
             0.5555555555555556,
             "#d8576b"
            ],
            [
             0.6666666666666666,
             "#ed7953"
            ],
            [
             0.7777777777777778,
             "#fb9f3a"
            ],
            [
             0.8888888888888888,
             "#fdca26"
            ],
            [
             1,
             "#f0f921"
            ]
           ],
           "sequentialminus": [
            [
             0,
             "#0d0887"
            ],
            [
             0.1111111111111111,
             "#46039f"
            ],
            [
             0.2222222222222222,
             "#7201a8"
            ],
            [
             0.3333333333333333,
             "#9c179e"
            ],
            [
             0.4444444444444444,
             "#bd3786"
            ],
            [
             0.5555555555555556,
             "#d8576b"
            ],
            [
             0.6666666666666666,
             "#ed7953"
            ],
            [
             0.7777777777777778,
             "#fb9f3a"
            ],
            [
             0.8888888888888888,
             "#fdca26"
            ],
            [
             1,
             "#f0f921"
            ]
           ]
          },
          "colorway": [
           "#636efa",
           "#EF553B",
           "#00cc96",
           "#ab63fa",
           "#FFA15A",
           "#19d3f3",
           "#FF6692",
           "#B6E880",
           "#FF97FF",
           "#FECB52"
          ],
          "font": {
           "color": "#2a3f5f"
          },
          "geo": {
           "bgcolor": "white",
           "lakecolor": "white",
           "landcolor": "#E5ECF6",
           "showlakes": true,
           "showland": true,
           "subunitcolor": "white"
          },
          "hoverlabel": {
           "align": "left"
          },
          "hovermode": "closest",
          "mapbox": {
           "style": "light"
          },
          "paper_bgcolor": "white",
          "plot_bgcolor": "#E5ECF6",
          "polar": {
           "angularaxis": {
            "gridcolor": "white",
            "linecolor": "white",
            "ticks": ""
           },
           "bgcolor": "#E5ECF6",
           "radialaxis": {
            "gridcolor": "white",
            "linecolor": "white",
            "ticks": ""
           }
          },
          "scene": {
           "xaxis": {
            "backgroundcolor": "#E5ECF6",
            "gridcolor": "white",
            "gridwidth": 2,
            "linecolor": "white",
            "showbackground": true,
            "ticks": "",
            "zerolinecolor": "white"
           },
           "yaxis": {
            "backgroundcolor": "#E5ECF6",
            "gridcolor": "white",
            "gridwidth": 2,
            "linecolor": "white",
            "showbackground": true,
            "ticks": "",
            "zerolinecolor": "white"
           },
           "zaxis": {
            "backgroundcolor": "#E5ECF6",
            "gridcolor": "white",
            "gridwidth": 2,
            "linecolor": "white",
            "showbackground": true,
            "ticks": "",
            "zerolinecolor": "white"
           }
          },
          "shapedefaults": {
           "line": {
            "color": "#2a3f5f"
           }
          },
          "ternary": {
           "aaxis": {
            "gridcolor": "white",
            "linecolor": "white",
            "ticks": ""
           },
           "baxis": {
            "gridcolor": "white",
            "linecolor": "white",
            "ticks": ""
           },
           "bgcolor": "#E5ECF6",
           "caxis": {
            "gridcolor": "white",
            "linecolor": "white",
            "ticks": ""
           }
          },
          "title": {
           "x": 0.05
          },
          "xaxis": {
           "automargin": true,
           "gridcolor": "white",
           "linecolor": "white",
           "ticks": "",
           "title": {
            "standoff": 15
           },
           "zerolinecolor": "white",
           "zerolinewidth": 2
          },
          "yaxis": {
           "automargin": true,
           "gridcolor": "white",
           "linecolor": "white",
           "ticks": "",
           "title": {
            "standoff": 15
           },
           "zerolinecolor": "white",
           "zerolinewidth": 2
          }
         }
        },
        "width": 1400,
        "xaxis": {
         "anchor": "y",
         "domain": [
          0,
          1
         ],
         "title": {
          "text": "score"
         },
         "type": "log"
        },
        "yaxis": {
         "anchor": "x",
         "domain": [
          0,
          1
         ],
         "title": {
          "text": "votes"
         }
        }
       }
      }
     },
     "metadata": {},
     "output_type": "display_data"
    }
   ],
   "source": [
    "graf_generos(df)"
   ]
  },
  {
   "cell_type": "code",
   "execution_count": 8,
   "metadata": {},
   "outputs": [
    {
     "data": {
      "application/vnd.plotly.v1+json": {
       "config": {
        "plotlyServerURL": "https://plot.ly"
       },
       "data": [
        {
         "hovertemplate": "<b>%{hovertext}</b><br><br>score=%{x}<br>runtime=%{y}<br>release_year=%{marker.color}<extra></extra>",
         "hovertext": [
          "taxi driver",
          "deliverance",
          "monty python and the holy grail",
          "the dirty dozen",
          "life of brian",
          "dirty harry",
          "bonnie and clyde",
          "the blue lagoon",
          "the guns of navarone",
          "the professionals",
          "richard pryor: live in concert",
          "white christmas",
          "cairo station",
          "hitler: a career",
          "fta",
          "alexandria… why?",
          "the land",
          "dostana",
          "saladin the victorious",
          "alibaba aur 40 chor",
          "the blazing sun",
          "dark waters",
          "we are all for the fatherland",
          "singapore",
          "beirut, oh beirut",
          "the return of the prodigal son",
          "khoon khoon",
          "manoranjan",
          "ujala",
          "whispers",
          "chadi jawani budhe nu",
          "bandie",
          "goodfellas",
          "full metal jacket",
          "once upon a time in america",
          "when harry met sally...",
          "a nightmare on elm street",
          "steel magnolias",
          "police academy",
          "christine",
          "awakenings",
          "national lampoon's christmas vacation",
          "lean on me",
          "eddie murphy raw",
          "she's gotta have it",
          "endless love",
          "vaashi",
          "mobile suit gundam: char's counterattack",
          "mobile suit gundam ii: soldiers of sorrow",
          "sam kinison: breaking the rules",
          "waiting for the hearse",
          "tim allen: men are pigs",
          "mobile suit gundam iii: encounters in space",
          "monty python live at the hollywood bowl",
          "disco dancer",
          "agneepath",
          "parrot sketch not included: twenty years of monty python",
          "too young the hero",
          "a stoning in fulham county",
          "the ryan white story",
          "dil",
          "adam: his song continues",
          "the george mckenna story",
          "in defense of a married man",
          "bill hicks: sane man",
          "mujrim",
          "aakhri adaalat",
          "alexandria, again and forever",
          "duniya",
          "strange voices",
          "jaal",
          "quiet victory: the charlie wedemeyer story",
          "muqaddar ka faisla",
          "pyar ke do pal",
          "sohni mahiwal",
          "ek jaan hain hum",
          "an egyptian story",
          "the little wars",
          "unspeakable acts",
          "mission: impossible",
          "se7en",
          "boogie nights",
          "forrest gump",
          "snatch",
          "the talented mr. ripley",
          "titanic",
          "starship troopers",
          "mission: impossible ii",
          "dumb and dumber",
          "gattaca",
          "léon: the professional",
          "natural born killers",
          "the quick and the dead",
          "you've got mail",
          "big daddy",
          "vampires",
          "donnie brasco",
          "a river runs through it",
          "girl, interrupted",
          "last action hero",
          "my girl",
          "wyatt earp",
          "eraser",
          "neon genesis evangelion: the end of evangelion",
          "vegas vacation",
          "in the line of fire",
          "little women",
          "u.s. marshals",
          "anaconda",
          "the replacements",
          "seven years in tibet",
          "the net",
          "cliffhanger",
          "menace ii society",
          "johnny mnemonic",
          "3 ninjas kick back",
          "edge of seventeen",
          "the devil's own",
          "spawn",
          "croupier",
          "the next karate kid",
          "geronimo: an american legend",
          "double team",
          "heavy",
          "the players club",
          "kuch kuch hota hai",
          "children of god",
          "knight rider 2000",
          "hum aapke hain koun..!",
          "dil se..",
          "jerry seinfeld: i'm telling you for the last time",
          "sankofa",
          "herod's law",
          "wild tango",
          "the last days",
          "sam kinison: live in vegas",
          "bill hicks: revelations",
          "bombay",
          "mann",
          "soldier",
          "sam kinison: family entertainment hour",
          "sinbad: son of a preacher man",
          "damini",
          "hum saath saath hain",
          "destiny",
          "chronicle of a disappearance",
          "muthu",
          "jeans",
          "monty python: live at aspen",
          "minsara kanavu",
          "duplicate",
          "avvai shanmugi",
          "anjaam",
          "a triumph of the heart: the ricky bell story",
          "phir bhi dil hai hindustani",
          "children of shatila",
          "bill hicks: relentless",
          "tim allen: rewires america",
          "bill hicks: one night stand",
          "west beirut",
          "govindha govindha",
          "out of life",
          "gumrah",
          "sinbad: nothin' but the funk",
          "sinbad: afros and bellbottoms",
          "fiza",
          "before the flying circus",
          "the other",
          "yodha",
          "the emigrant",
          "hello brother",
          "dushmani",
          "nightmare in columbia county",
          "have you ever seen fireflies? - theatre play",
          "shikari",
          "the mist",
          "mean girls",
          "catch me if you can",
          "old school",
          "anchorman: the legend of ron burgundy",
          "inception",
          "the departed",
          "insidious",
          "war of the worlds",
          "wanted",
          "casino royale",
          "blade runner: the final cut",
          "the terminal",
          "michael clayton",
          "road to perdition",
          "big fish",
          "the hurt locker",
          "troy",
          "sherlock holmes",
          "love actually",
          "get smart",
          "quantum of solace",
          "the blind side",
          "apocalypse now redux",
          "identity",
          "i am legend",
          "grown ups",
          "the girl next door",
          "the fighter",
          "public enemies",
          "not another teen movie",
          "blow",
          "hancock",
          "the pursuit of happyness",
          "monster",
          "rambo",
          "something's gotta give",
          "harold & kumar go to white castle",
          "thir13en ghosts",
          "cloudy with a chance of meatballs",
          "halloween",
          "jackass: the movie",
          "semi-pro",
          "the lake house",
          "the girl next door",
          "the book of eli",
          "blood diamond",
          "just like heaven",
          "ip man",
          "21",
          "friday the 13th",
          "let me in",
          "a nightmare on elm street",
          "miss congeniality 2: armed and fabulous",
          "the bucket list",
          "scary movie 4",
          "the sweetest thing",
          "how do you know",
          "mr. bean's holiday",
          "the interpreter",
          "john q",
          "3 idiots",
          "the one",
          "the texas chainsaw massacre",
          "the cat in the hat",
          "tears of the sun",
          "due date",
          "we are marshall",
          "blood and bone",
          "freddy vs. jason",
          "the golden compass",
          "the men who stare at goats",
          "cleaner",
          "monster house",
          "good luck chuck",
          "10,000 bc",
          "cop out",
          "the cave",
          "starsky & hutch",
          "new york minute",
          "rumor has it...",
          "comedian",
          "catch and release",
          "lagaan: once upon a time in india",
          "no direction home: bob dylan",
          "friends with money",
          "ip man 2",
          "life as we know it",
          "death at a funeral",
          "dreamer: inspired by a true story",
          "jackass 2.5",
          "premonition",
          "soul plane",
          "the texas chainsaw massacre: the beginning",
          "the contractor",
          "louis c.k.: hilarious",
          "deck the halls",
          "takers",
          "like stars on earth",
          "did you hear about the morgans?",
          "stuart little 2",
          "half past dead",
          "christmas with the kranks",
          "alpha and omega",
          "open season 2",
          "initial d",
          "naruto shippuden the movie",
          "gifted hands: the ben carson story",
          "the legend of the nahuala",
          "one piece: strong world",
          "chaos",
          "waist deep",
          "trailer park boys: the movie",
          "tito",
          "even the rain",
          "katt williams: the pimp chronicles pt. 1",
          "udaan",
          "om shanti om",
          "trailer park boys: countdown to liquor day",
          "kabhi khushi kabhie gham",
          "kal ho naa ho",
          "jab we met",
          "from within",
          "black friday",
          "jodhaa akbar",
          "cairo 6,7,8",
          "zach galifianakis: live at the purple onion",
          "first sunday",
          "inuyasha the movie: affections touching across time",
          "swades",
          "bon cop bad cop",
          "the boy who cried werewolf",
          "rang de basanti",
          "guru",
          "whitney cummings: money shot",
          "welcome",
          "jim gaffigan: king baby",
          "mike birbiglia: what i should have said was nothing",
          "dil chahta hai",
          "anbe sivam",
          "tony manero",
          "a lion in the house",
          "bleach the movie: fade to black",
          "delta farce",
          "my suicide",
          "phir hera pheri",
          "naruto shippuden the movie: the lost tower",
          "divine intervention",
          "da kath & kim code",
          "kevin hart: i'm a grown little man",
          "bleach the movie: hell verse",
          "naruto shippuden the movie: bonds",
          "don",
          "chup chup ke",
          "naruto shippuden the movie: the will of fire",
          "fashion",
          "arahan",
          "whisky",
          "ajab prem ki ghazab kahani",
          "te quiero",
          "doing hard time",
          "sir! no sir!",
          "race",
          "sivaji: the boss",
          "inuyasha the movie 2: the castle beyond the looking glass",
          "interview with a serial killer",
          "g.o.r.a.",
          "guzaarish",
          "raajneeti",
          "monty python conquers america",
          "jaane tu... ya jaane na",
          "accident",
          "jeff dunham: arguing with myself",
          "chalte chalte",
          "naruto: ninja clash in the land of snow",
          "taxi no. 9 2 11",
          "yuva",
          "wake up sid",
          "one piece: episode of chopper plus: bloom in the winter, miracle cherry blossom",
          "awara paagal deewana",
          "kabhi alvida naa kehna",
          "the blue umbrella",
          "naruto: guardians of the crescent moon kingdom",
          "ishqiya",
          "life in a metro",
          "i hate luv storys",
          "main hoon na",
          "billu",
          "paheli",
          "rock on!!",
          "lsd: love, sex aur dhokha",
          "one piece: the desert princess and the pirates: adventure in alabasta",
          "break ke baad",
          "kaminey",
          "fuga",
          "zozo",
          "luck by chance",
          "trailer park boys: say goodnight to the bad guys",
          "naruto: legend of the stone of gelel",
          "honeymoon travels pvt. ltd.",
          "manorama six feet under",
          "dhobi ghat",
          "inuyasha the movie 4: fire on the mystic island",
          "dev.d",
          "karthik calling karthik",
          "dostana",
          "romantik komedi",
          "kurbaan",
          "once upon a time in mumbaai",
          "delhi-6",
          "inuyasha the movie 3: swords of an honorable ruler",
          "bluffmaster!",
          "golmaal returns",
          "oye lucky! lucky oye!",
          "kaal",
          "shootout at lokhandwala",
          "kannathil muthamittal",
          "madness in the desert",
          "what's your raashee?",
          "kyaa kool hai hum",
          "my führer",
          "splatter",
          "eternal summer",
          "the figurine (araromire)",
          "jim gaffigan: beyond the pale",
          "mumbai meri jaan",
          "spookley the square pumpkin",
          "kevin james: sweat the small stuff",
          "mukhsin",
          "this is the life",
          "the unjust",
          "the trailer park boys xmas special",
          "c kkompany",
          "bosta",
          "osuofia in london",
          "linewatch",
          "tim minchin: so f**king rock live",
          "we are family",
          "love in a puff",
          "lakshya",
          "thomas & friends: thomas and the jet engine",
          "agyaat",
          "vizontele",
          "do dooni chaar",
          "welcome to sajjanpur",
          "peepli live",
          "the legend of bhagat singh",
          "banyuki",
          "main aurr mrs khanna",
          "ishq vishk",
          "kismat konnection",
          "twins mission",
          "frank & cindy",
          "salt of this sea",
          "apaharan",
          "gangaajal",
          "laugh out loud",
          "ijé: the journey",
          "harishchandrachi factory",
          "gina yashere: skinny b*tch",
          "sergio",
          "the kite",
          "beast stalker",
          "aamir",
          "chhota bheem aur krishna",
          "palermo hollywood",
          "connected",
          "emi",
          "kucch to hai",
          "fida",
          "my amnesia girl",
          "krishna cottage",
          "jeff dunham's very special christmas special",
          "mission istaanbul",
          "under the bombs",
          "kyo kii... main jhuth nahin bolta",
          "old thieves: the legend of artegio",
          "stray bullet",
          "well done abba",
          "kisaan",
          "once a gangster",
          "perazhagan",
          "do paise ki dhoop, chaar aane ki baarish",
          "pomegranates and myrrh",
          "kuselan",
          "chance pe dance",
          "dhan dhana dhan goal",
          "aagey se right",
          "falafel",
          "hattrick",
          "look for a star",
          "koi aap sa",
          "talentime",
          "dhoondte reh jaaoge",
          "a very special love",
          "chhota bheem & krishna: pataliputra- city of the dead",
          "ezra",
          "frontiers of dreams and fears",
          "a love story",
          "bheem vs aliens",
          "tango with me",
          "brother's shadow",
          "rabun",
          "project x",
          "zero dark thirty",
          "the amazing spider-man",
          "the dark knight rises",
          "mission: impossible - ghost protocol",
          "margin call",
          "django unchained",
          "les misérables",
          "argo",
          "kung fu panda 2",
          "contagion",
          "sherlock holmes: a game of shadows",
          "contraband",
          "savages",
          "dark shadows",
          "total recall",
          "the smurfs",
          "soul surfer",
          "lol",
          "unknown",
          "rise of the guardians",
          "here comes the boom",
          "berserk: the golden age arc i - the egg of the king",
          "rurouni kenshin part i: origins",
          "everything must go",
          "silenced",
          "jackass 3.5",
          "hostel: part iii",
          "the rite",
          "quartet",
          "arthur christmas",
          "john mulaney: new in town",
          "hop",
          "red riding hood",
          "the history of future folk",
          "a very harold & kumar christmas",
          "escape from planet earth",
          "one piece film: z",
          "bully",
          "chaos, disorder",
          "sebastian maniscalco: what's wrong with people?",
          "singham",
          "berserk: the golden age arc ii - the battle for doldrey",
          "zindagi na milegi dobara",
          "sleepless nights",
          "what about dick?",
          "inventing david geffen",
          "a princess for christmas",
          "middle of nowhere",
          "donald glover: weirdo",
          "delhi belly",
          "undefeated",
          "barfi!",
          "6 bullets",
          "7 khoon maaf",
          "naruto shippuden the movie: blood prison",
          "maria bamford: the special special special!",
          "the trial of adolf eichmann",
          "don't go breaking my heart",
          "jim gaffigan: mr. universe",
          "a second chance",
          "big time movie",
          "paan singh tomar",
          "sniper: reloaded",
          "shor in the city",
          "fred 3: camp fred",
          "don 2",
          "pyaar ka punchnama",
          "chillar party",
          "talaash",
          "coming forth by day",
          "the great magician",
          "arjun: the warrior prince",
          "toll booth",
          "no one killed jessica",
          "ferrari ki sawaari",
          "tiger & bunny: the beginning",
          "the dirty picture",
          "kath & kimderella",
          "rowdy rathore",
          "omg: oh my god!",
          "tim minchin and the heritage orchestra: live at the royal albert hall",
          "ek main aur ekk tu",
          "a beautiful life",
          "mugamoodi",
          "game",
          "bodyguard",
          "material",
          "kyaa super kool hain hum",
          "jeff dunham: controlled chaos",
          "players",
          "aiyyaa",
          "tere naal love ho gaya",
          "ragini mms",
          "grandmaster",
          "26 years",
          "michael",
          "all's well, ends well",
          "heroine",
          "lavell crawford: can a brother get some love?",
          "jeff dunham: minding the monsters",
          "kalakalappu",
          "chhota bheem & krishna in mayanagari",
          "chhota bheem in dholakpur to kathmandu",
          "an elf's story",
          "bbuddah hoga terra baap",
          "luv shuv tey chicken khurana",
          "bwakaw",
          "blood money",
          "shaitan",
          "department",
          "asmaa",
          "thaandavam",
          "chota bheem aur ganesh in the amazing odyssey",
          "question mark",
          "chhota bheem: journey to petra",
          "husbands in goa",
          "chhota bheem and the broken amulet",
          "blitz patrollie",
          "moshe kasher: live in oakland",
          "the mistress",
          "the rise of kirmada",
          "vettai",
          "muran",
          "a world not ours",
          "tom papa: live in new york city",
          "zokkomon",
          "my friend pinto",
          "taxi ballad",
          "here comes the rain",
          "one more try",
          "chhota bheem master of shaolin",
          "no other woman",
          "sisterakas",
          "phone swap",
          "darling, something's wrong with your head",
          "paddington",
          "it follows",
          "the imitation game",
          "rush",
          "nightcrawler",
          "st. vincent",
          "the conjuring",
          "how to train your dragon 2",
          "oldboy",
          "big eyes",
          "begin again",
          "42",
          "olympus has fallen",
          "dark skies",
          "blue jasmine",
          "insidious: chapter 2",
          "creep",
          "barefoot",
          "the giver",
          "mandela: long walk to freedom",
          "the green inferno",
          "empire state",
          "penguins of madagascar",
          "a walk among the tombstones",
          "the call",
          "scary movie 5",
          "philomena",
          "redemption",
          "seventh son",
          "the butler",
          "texas chainsaw 3d",
          "cloudy with a chance of meatballs 2",
          "metallica: through the never",
          "mr. peabody & sherman",
          "the frozen ground",
          "shrek the musical",
          "the railway man",
          "get on up",
          "who am i",
          "the battered bastards of baseball",
          "walk of shame",
          "cowspiracy: the sustainability secret",
          "the smurfs 2",
          "i, frankenstein",
          "the november man",
          "pk",
          "bonnie & clyde",
          "bill burr: i'm sorry you feel that way",
          "copenhagen",
          "thanks for sharing",
          "queen",
          "virunga",
          "jackass presents: bad grandpa .5",
          "mike birbiglia: my girlfriend's boyfriend",
          "effie gray",
          "elena",
          "the haunting in connecticut 2: ghosts of georgia",
          "the nut job",
          "haider",
          "omar",
          "tom segura: completely normal",
          "we steal secrets: the story of wikileaks",
          "search party",
          "stand by me doraemon",
          "berserk: the golden age arc iii - the advent",
          "the square",
          "2 states",
          "the short game",
          "highway",
          "jinxed",
          "dragons: dawn of the dragon racers",
          "dabbe: the possession",
          "ralphie may: imperfectly yours",
          "mary kom",
          "the other one: the long, strange trip of bob weir",
          "fukrey",
          "free birds",
          "race 2",
          "lego marvel super heroes: maximum overload",
          "birth reborn",
          "the berlin file",
          "monty python: the meaning of live",
          "imperial dreams",
          "monty python: live (mostly)",
          "lego dc comics super heroes: batman be-leaguered",
          "hasee toh phasee",
          "the boss: anatomy of a crime",
          "once upon a time in mumbai dobaara!",
          "jim jefferies: bare",
          "pizza",
          "boss",
          "madras cafe",
          "ankhon dekhi",
          "kai po che!",
          "anjaan",
          "abcd",
          "blind detective",
          "satyagraha",
          "buddies",
          "khoobsurat",
          "the perfect dictatorship",
          "bride for rent",
          "selfie",
          "chashme baddoor",
          "bombay talkies",
          "humpty sharma ki dulhania",
          "ragini mms 2",
          "mission blue",
          "chennai express",
          "silent",
          "the meaning of monty python",
          "saheb biwi aur gangster returns",
          "raja natwarlal",
          "my beautiful broken brain",
          "jim gaffigan: obsessed",
          "jeff dunham: all over the map",
          "eyes of a thief",
          "miss granny",
          "aziz ansari: buried alive",
          "print the legend",
          "the butterfly's dream",
          "tea time",
          "mitt",
          "trailer park boys - live in f**kin' dublin",
          "ungli",
          "when love happens",
          "marc maron: thinky pain",
          "from one second to the next",
          "coming soon",
          "dazzling mirage",
          "born in gaza",
          "tiger & bunny: the rising",
          "my own man",
          "sdu: sex duties unit",
          "city of god: 10 years later",
          "october 1",
          "the amazing praybeyt benjamin",
          "free to play",
          "inkaar",
          "dabbe 5: curse of the jinn",
          "diamonds in the sky",
          "chhota bheem and the shinobi secret",
          "bhaji in problem",
          "dedh ishqiya",
          "she's the one",
          "wedding association",
          "chelsea handler: uganda be kidding me live",
          "ghadi",
          "swearnet: the movie",
          "e-team",
          "samplethis",
          "el mago pop",
          "ghanchakkar",
          "seven souls in the skull castle",
          "giraffada",
          "pagpag: siyam na buhay",
          "anaamika",
          "the midas touch",
          "chhota bheem in the incan adventure",
          "mars at sunrise",
          "it takes a man and a woman",
          "gori tere pyaar mein",
          "what the fish",
          "a place in the stars",
          "heritages",
          "trailer park boys: live at the north pole",
          "one by two",
          "romantik komedi 2: bekarlığa veda",
          "chhota bheem the crown of valhalla",
          "the land of cards",
          "gollu aur pappu",
          "bobby jasoos",
          "refugiado",
          "chhota bheem aur hanuman",
          "that thing called tadhana",
          "xenos",
          "must be... love",
          "motu patlu in wonderland",
          "she's dating the gangster",
          "swearnet live",
          "himmatwala",
          "chhota bheem & krishna vs zimbara",
          "theeya velai seiyyanum kumaru",
          "a fairly odd summer",
          "deliha",
          "chhota bheem neeli pahaadi",
          "four sisters and a wedding",
          "d.l. hughley: clear",
          "cold harbour",
          "confusion na wa",
          "flower girl",
          "blind intersections",
          "doctor bello",
          "chhota bheem dus pe dus",
          "sigaram thodu",
          "starting over again",
          "naan sigappu manithan",
          "motu patlu: deep sea adventure",
          "the war against women",
          "the royal bengal tiger",
          "settai",
          "condom lead",
          "grandmother's farm",
          "na bangaaru talli",
          "wyatt cenac: brooklyn",
          "todd glass talks about stuff",
          "mumbai delhi mumbai",
          "hunt for the wilderpeople",
          "hell or high water",
          "legend",
          "blair witch",
          "war dogs",
          "blackhat",
          "the take",
          "nocturnal animals",
          "raw",
          "the hateful eight",
          "pan",
          "the gift",
          "wild card",
          "hail, caesar!",
          "crimson peak",
          "bāhubali: the beginning",
          "ouija: origin of evil",
          "sinister 2",
          "the edge of seventeen",
          "london has fallen",
          "a silent voice: the movie",
          "kung fu panda 3",
          "hush",
          "mr. right",
          "the boy",
          "steve jobs",
          "the conjuring 2",
          "home",
          "chappie",
          "gantz:o",
          "in a valley of violence",
          "a monster calls",
          "christine",
          "loving",
          "the danish girl",
          "under the shadow",
          "the duff",
          "unfriended",
          "closet monster",
          "self/less",
          "the fundamentals of caring",
          "hello, my name is doris",
          "spectral",
          "other people",
          "circle",
          "batman: the killing joke",
          "he never died",
          "american ultra",
          "13th",
          "before i wake",
          "blue jay",
          "advantageous",
          "into the inferno",
          "collateral beauty",
          "beasts of no nation",
          "arq",
          "the forest",
          "what happened, miss simone?",
          "the bye bye man",
          "ip man 3",
          "the space between us",
          "demonic",
          "winter on fire: ukraine's fight for freedom",
          "mascots",
          "the siege of jadotville",
          "visaranai",
          "by the sea",
          "boyka: undisputed iv",
          "team foxcatcher",
          "the ridiculous 6",
          "bo burnham: make happy",
          "the do-over",
          "suffragette",
          "headshot",
          "jem and the holograms",
          "sleight",
          "hot girls wanted",
          "the distinguished citizen",
          "crouching tiger, hidden dragon: sword of destiny",
          "mindhorn",
          "i am the pretty thing that lives in the house",
          "pee-wee's big holiday",
          "you're my boss",
          "white girl",
          "frank & lola",
          "the visit",
          "barry",
          "david brent: life on the road",
          "güeros",
          "front cover",
          "rocco",
          "ratchet & clank",
          "the darkness",
          "marco polo: one hundred eyes",
          "tramps",
          "lego marvel super heroes: avengers reassembled!",
          "marauders",
          "special correspondents",
          "baaghi",
          "tallulah",
          "bert kreischer: the machine",
          "amanda knox",
          "sniper: ghost shooter",
          "results",
          "sebastian maniscalco: why would you do that?",
          "the young messiah",
          "term life",
          "for the love of spock",
          "john mulaney: the comeback kid",
          "incarnate",
          "message from the king",
          "kung fu panda: secrets of the scroll",
          "anthony jeselnik: thoughts and prayers",
          "lego jurassic world: the indominus escape",
          "the warriors gate",
          "tig",
          "drishyam",
          "taxi driver",
          "the dreamseller",
          "lavender",
          "ali wong: baby cobra",
          "hyena road",
          "septembers of shiraz",
          "a very murray christmas",
          "divines",
          "audrie & daisy",
          "always be my maybe",
          "pandora",
          "keith richards: under the influence",
          "surviving compton: dre, suge and michel'le",
          "colin quinn: the new york story",
          "hawaizaada",
          "riot",
          "kevin hart: what now?",
          "legends of the hidden temple",
          "veteran",
          "opening night",
          "raman raghav 2.0",
          "the 101-year-old man who skipped out on the bill and disappeared",
          "6 years",
          "shaun the sheep: the farmer's llamas",
          "un + une",
          "ok kanmani",
          "true memoirs of an international assassin",
          "high & low the movie",
          "strange weather",
          "the lighthouse of the orcas",
          "servant of the people 2",
          "kathleen madigan: bothering jesus",
          "heneral luna",
          "ordinary world",
          "mohenjo daro",
          "dil dhadakne do",
          "toro",
          "riphagen the untouchable",
          "gabbar is back",
          "demetri martin: live (at the time)",
          "4k fireplace",
          "7 years",
          "talvar",
          "brothers",
          "gabriel iglesias: i'm sorry for what i said when i was hungry",
          "pyaar ka punchnama 2",
          "much loved",
          "ralphie may: unruly",
          "a second chance",
          "rebirth",
          "lang tong",
          "manson family vacation",
          "gridlocked",
          "jimmy carr: funny business",
          "aziz ansari: live at madison square garden",
          "the next skin",
          "chris tucker: live",
          "dana carvey: straight white male, 60",
          "justin timberlake + the tennessee kids",
          "russell peters: almost famous",
          "colin quinn: unconstitutional",
          "jim jefferies: freedumb",
          "asperger's are us",
          "tony robbins: i am not your guru",
          "hunterrr",
          "belgica",
          "kapoor & sons",
          "udta punjab",
          "tamasha",
          "breaking the bank",
          "all about asado",
          "chronically metropolitan",
          "fate/grand order: first order",
          "hannibal buress: comedy camisado",
          "anjelah johnson: not fancy",
          "force 2",
          "fitoor",
          "triumph in the skies",
          "in the shadow of iris",
          "the white helmets",
          "mucize",
          "the ivory game",
          "our lovers",
          "beauty and the bestie",
          "tom segura: mostly stories",
          "dhanak",
          "jonah",
          "chocolate city: vegas strip",
          "i'll sleep when i'm dead",
          "project marathwada",
          "abcd 2",
          "ali baba and the 7 dwarfs",
          "te3n",
          "chatô, the king of brazil",
          "the guardian brothers",
          "budhia singh: born to run",
          "mercy",
          "city of joy",
          "xoxo",
          "layla m.",
          "open season: scared silly",
          "jessica darling's it list",
          "garfunkel and oates: trying to be special",
          "slam",
          "the blind christ",
          "shaandaar",
          "rainbow time",
          "the flower of aleppo",
          "the worthy",
          "you are my sunday",
          "black",
          "the lion woman",
          "7:19",
          "cosmos laundromat",
          "schubert in love",
          "frank and cindy",
          "dharam sankat mein",
          "puerto ricans in paris",
          "love o2o",
          "fifty",
          "liar, liar, vampire",
          "patton oswalt: talking for clapping",
          "selfie 69",
          "ricardo o'farrill: abrazo genial",
          "my mother's wound",
          "iliza shlesinger: confirmed kills",
          "umrika",
          "journey to greenland",
          "michael che matters",
          "'76",
          "halal love",
          "100 meters",
          "brent morin: i'm brent morin",
          "joe rogan: triggered",
          "kyaa kool hain hum 3",
          "olmo and the seagull",
          "the beginning of life",
          "offline: are you ready for the next level?",
          "bill hicks: reflections",
          "phantom",
          "mindgamers",
          "david cross: making america great again",
          "jeff dunham: unhinged in hollywood",
          "barcelona: a love untold",
          "dinosaur world",
          "sofía niño de rivera: exposed",
          "the doll",
          "u turn",
          "i love you",
          "very big shot",
          "the heirs",
          "barakah meets barakah",
          "pettson and findus: the best christmas ever",
          "iliza shlesinger: freezing hot",
          "katti batti",
          "mike epps: don't take it personal",
          "ghost patrol",
          "bangistan",
          "ludo",
          "born in syria",
          "theo von: no offense",
          "ricardo o'farrill: abrazo navideño",
          "trailer park boys: drunk, high and unemployed: live in austin",
          "#rucker50",
          "the breakup playlist",
          "thomas & friends: full steam to the rescue!",
          "s storm",
          "high&low: the red rain",
          "the massively mixed-up middle school mystery",
          "those who fear are dead",
          "poshter girl",
          "3000 nights",
          "wazir",
          "motu patlu: king of kings",
          "the love affair",
          "everyday i love you",
          "jeff foxworthy & larry the cable guy: we've been thinking",
          "the ceo",
          "jen kirkman: i'm gonna die alone (and i feel fine)",
          "reggie watts: spatial",
          "aerials",
          "chhota bheem in african safari",
          "meet the in-laws",
          "brother jekwu",
          "hans teeuwen: echte rancune",
          "chris d'elia: incorrigible",
          "ordinary people",
          "couple of days",
          "kara bela",
          "vince & kath & james",
          "santa pac's merry berry day",
          "carlos ballarta: el amor es de putos",
          "sen benim herşeyimsin",
          "saawan",
          "a chaster marriage",
          "misunderstanding",
          "eddie: strongman",
          "extremis",
          "cedric the entertainer: live from the ville",
          "wedding association 2: circumcision",
          "one in a billion",
          "brahman naman",
          "xv beyond the tryline",
          "virunga: gorillas in peril",
          "santa banta pvt ltd",
          "jada",
          "grandmother's farm part 2",
          "dieter nuhr: nuhr in berlin",
          "ave maria",
          "niyazi gül dörtnala",
          "sila samayangalil",
          "love is a story",
          "motu patlu aur khazaane ki race",
          "husband factor",
          "husband factor: resurrection",
          "the tour",
          "the super parental guardians",
          "oloibiri",
          "sam kinison: the scream continues",
          "gang of the caribbean",
          "kiss of life",
          "souk bazaar",
          "everything about her",
          "saudi arabia uncovered",
          "a man returned",
          "road to high & low",
          "the arbitration",
          "the last egg",
          "jandino: whatever it takes",
          "gbomo gbomo express",
          "janoskians: untold and untrue",
          "crazy beautiful you",
          "snervous tyler oakley",
          "sommore: the reign continues",
          "hajwala: the missing engine",
          "just the way you are",
          "dedemin fişi",
          "the unmarried wife",
          "my stupid boss",
          "the third party",
          "ojukokoro (greed)",
          "lakeeran",
          "time out",
          "leave no trace",
          "blade runner 2049",
          "12 strong",
          "it",
          "wind river",
          "sorry to bother you",
          "dunkirk",
          "vice",
          "phantom thread",
          "molly's game",
          "den of thieves",
          "chips",
          "the ballad of buster scruggs",
          "darkest hour",
          "won't you be my neighbor?",
          "the ritual",
          "okja",
          "final score",
          "rumble: the indians who rocked the world",
          "the nightingale",
          "forgotten",
          "backtrace",
          "set it up",
          "crooked house",
          "the cloverfield paradox",
          "what happened to monday",
          "gerald's game",
          "roma",
          "adrift",
          "the beguiled",
          "ghostland",
          "the bad batch",
          "tully",
          "the guernsey literary & potato peel pie society",
          "the foreigner",
          "can't stop, won't stop: a bad boy story",
          "outlaw king",
          "destination wedding",
          "bird box",
          "the babysitter",
          "the package",
          "replicas",
          "cam",
          "level 16",
          "abducted in plain sight",
          "the meyerowitz stories (new and selected)",
          "i don't feel at home in this world anymore",
          "step sisters",
          "the shack",
          "calibre",
          "apostle",
          "beirut",
          "to all the boys i've loved before",
          "mirai",
          "bāhubali 2: the conclusion",
          "berlin syndrome",
          "icarus",
          "the kindergarten teacher",
          "1922",
          "veronica",
          "little italy",
          "hold the dark",
          "mute",
          "the perfection",
          "red joan",
          "bright",
          "kodachrome",
          "the discovery",
          "extinction",
          "the book of henry",
          "creep 2",
          "speed kills",
          "black mirror: bandersnatch",
          "the night comes for us",
          "cargo",
          "when we first met",
          "mudbound",
          "anon",
          "jim & andy: the great beyond - featuring a very special, contractually obligated mention of tony clifton",
          "a-x-l",
          "hell fest",
          "malevolent",
          "happy as lazzaro",
          "everybody knows",
          "22 july",
          "falls around her",
          "sand castle",
          "buster's mal heart",
          "on body and soul",
          "ben is back",
          "private life",
          "mirage",
          "ravenous",
          "rbg",
          "an evening with beverly luff linn",
          "mary magdalene",
          "dumplin'",
          "tau",
          "skins",
          "duck butter",
          "never stop dreaming: the life and legacy of shimon peres",
          "the zookeeper's wife",
          "game over, man!",
          "steve martin and martin short: an evening you will forget for the rest of your life",
          "victoria & abdul",
          "hampstead",
          "hannah gadsby: nanette",
          "war machine",
          "bad genius",
          "the kissing booth",
          "the forgiven",
          "king of thieves",
          "the titan",
          "security",
          "mowgli: legend of the jungle",
          "a futile and stupid gesture",
          "how it ends",
          "death note",
          "the after party",
          "perfect bid: the contestant who knew too much",
          "the other side of the wind",
          "to the bone",
          "goon: last of the enforcers",
          "we the animals",
          "reversing roe",
          "beyond skyline",
          "the bar",
          "errementari: the blacksmith and the devil",
          "illang: the wolf brigade",
          "shirkers",
          "a bad moms christmas",
          "welcome home",
          "piercing",
          "the outsider",
          "indian horse",
          "andhadhun",
          "unicorn store",
          "my happy family",
          "newness",
          "monster high: electrified",
          "no escape room",
          "if i leave here tomorrow: a film about lynyrd skynyrd",
          "the week of",
          "iboy",
          "may the devil take you",
          "the breaker upperers",
          "what the health",
          "the long dumb road",
          "long shot",
          "dude",
          "the debt collector",
          "handsome devil",
          "win it all",
          "tottaa pataaka item maal",
          "trolls holiday",
          "joan didion: the center will not hold",
          "the incredible jessica james",
          "siberia",
          "the resistance banker",
          "john mulaney: kid gorgeous at radio city",
          "the saint",
          "in darkness",
          "sierra burgess is a loser",
          "sad hill unearthed",
          "ibiza",
          "shimmer lake",
          "hey arnold! the jungle movie",
          "fullmetal alchemist",
          "animal world",
          "wheelman",
          "cristela alonzo: lower classy",
          "brain on fire",
          "bleach",
          "you get me",
          "my teacher, my obsession",
          "voyeur",
          "bathtubs over broadway",
          "psychokinesis",
          "adam sandler: 100% fresh",
          "girl",
          "the polka king",
          "blame!",
          "first they killed my father",
          "mfkz",
          "show dogs",
          "girlfriend's day",
          "the resurrection of gavin stone",
          "one of us",
          "taylor swift: reputation stadium tour",
          "godzilla: planet of the monsters",
          "like father",
          "fireworks",
          "godzilla: the planet eater",
          "amar",
          "birth of the dragon",
          "outside in",
          "lu over the wall",
          "irreplaceable you",
          "sandy wexler",
          "alex strangelove",
          "gaga: five foot two",
          "get me roger stone",
          "river's edge",
          "animal crackers",
          "mr. roosevelt",
          "clive davis: the soundtrack of our lives",
          "ricky gervais: humanity",
          "lady j",
          "the christmas chronicles",
          "the photographer of mauthausen",
          "bill nye: science guy",
          "quincy",
          "cuba and the cameraman",
          "the world is yours",
          "toc toc",
          "acts of vengeance",
          "carrie pilby",
          "the clapper",
          "fun mom dinner",
          "the land of steady habits",
          "okko's inn",
          "our souls at night",
          "buybust",
          "escape from mr. lemoncello's library",
          "i am jonas",
          "milf",
          "springsteen on broadway",
          "solo",
          "bullet head",
          "small crimes",
          "unrest",
          "take the ball, pass the ball",
          "reprisal",
          "the princess switch",
          "high society",
          "the ottoman lieutenant",
          "whose streets?",
          "the open house",
          "trevor noah: son of patricia",
          "little evil",
          "christmas with a prince",
          "norm macdonald: hitler's dog, gossip & trickery",
          "bending the arc",
          "day of the dead: bloodline",
          "retablo",
          "john leguizamo's latin history for morons",
          "orbiter 9",
          "white fang",
          "sand storm",
          "generation iron 3",
          "jo koy: live from seattle",
          "oh, hello on broadway",
          "camarón: the film",
          "the outcasts",
          "gnome alone",
          "how to be really bad",
          "the angel",
          "father of the year",
          "the b-side: elsa dorfman's portrait photography",
          "puss in book: trapped in an epic tale",
          "demetri martin: the overthinker",
          "the death and life of marsha p. johnson",
          "happy anniversary",
          "dry martina",
          "el camino christmas",
          "the legacy of a whitetail deer hunter",
          "clinical",
          "godzilla: city on the edge of battle",
          "my masterpiece",
          "ronnie coleman: the king",
          "hasan minhaj: homecoming king",
          "the climb",
          "secret superstar",
          "a twelve-year night",
          "dear ex",
          "manhunt",
          "what did jack do?",
          "flavors of youth",
          "burn out",
          "modest heroes",
          "iliza shlesinger: elder millennial",
          "the seven deadly sins: prisoners of the sky",
          "the battleship island",
          "sanju",
          "point blank",
          "ron white: if you quit listening, i'll shut up",
          "craig ferguson: tickle fight",
          "sarkar",
          "casting jonbenet",
          "they'll love me when i'm dead",
          "strong island",
          "come sunday",
          "the most hated woman in america",
          "lommbock",
          "aya",
          "wedding unplanned",
          "spyder",
          "the killer",
          "lust stories",
          "the most unknown",
          "the motive",
          "mercury 13",
          "eerie",
          "tig notaro: happy to be here",
          "benji",
          "the little vampire 3d",
          "time share",
          "rip tide",
          "holy camp!",
          "alaska is a drag",
          "parmanu: the story of pokhran",
          "zero",
          "amateur",
          "pottersville",
          "a christmas prince: the royal wedding",
          "the bleeding edge",
          "lowriders",
          "derren brown: the push",
          "the warning",
          "ny prison break: the seduction of joyce mitchell",
          "s.w.a.t.: under siege",
          "6 balloons",
          "chasing coral",
          "next gen",
          "ram dass, going home",
          "first match",
          "sunday's illness",
          "i am not an easy man",
          "justice",
          "seth rogen's hilarity for charity",
          "charming",
          "christmas wedding planner",
          "budapest",
          "all i wish",
          "angamaly diaries",
          "remastered: tricky dick & the man in black",
          "fred armisen: standup for drummers",
          "thi mai",
          "battle",
          "holy goalie",
          "saving capitalism",
          "bibi & tina: perfect pandemonium",
          "mom",
          "christmas inheritance",
          "an imperfect murder",
          "lego marvel super heroes: guardians of the galaxy - the thanos threat",
          "killing hasselhoff",
          "shepherds and butchers",
          "the skin of the wolf",
          "the holiday calendar",
          "deidra & laney rob a train",
          "sahara",
          "take your pills",
          "and breathe normally",
          "naked",
          "the invisible guardian",
          "jim jefferies: this is me now",
          "cities of last things",
          "si saben cómo me pongo ¿pa' qué me invitan?",
          "it's for your own good",
          "the laws of thermodynamics",
          "handsome: a netflix mystery movie",
          "hometown holiday",
          "jailbreak",
          "roxanne, roxanne",
          "quién te cantará",
          "something huge",
          "lucid dream",
          "carbone",
          "bhavesh joshi superhero",
          "nothing to hide",
          "the awakening of motti wolkenbruch",
          "bill burr: walk your way out",
          "the legend of cocaine island",
          "barbie: dolphin magic",
          "birdshot",
          "steel rain",
          "christmas with a view",
          "greg davies: you magnificent beast",
          "catfight",
          "paradise lost",
          "ali's wedding",
          "toilet: a love story",
          "when angels sleep",
          "the stolen",
          "perú: tesoro escondido",
          "break",
          "black is beltza",
          "edge of fear",
          "ryan hamilton: happy face",
          "end game",
          "bad seeds",
          "shéhérazade",
          "the mansion",
          "yucatán",
          "mike birbiglia: thank god for jokes",
          "us and them",
          "pad man",
          "on my skin",
          "sun dogs",
          "derren brown: miracle",
          "manto",
          "little boxes",
          "raising the bar",
          "bomb scared",
          "baazaar",
          "ittefaq",
          "giant",
          "chris rock: tamborine",
          "take me",
          "ee nagaraniki emaindi",
          "patton oswalt: annihilation",
          "lego marvel super heroes: black panther - trouble in wakanda",
          "rory scovel tries stand-up for the first time",
          "revenger",
          "the crossing",
          "coin heist",
          "joy",
          "hakkunde",
          "jagga jasoos",
          "getaway plan",
          "the drug king",
          "jab harry met sejal",
          "katt williams: great america",
          "derren brown: sacrifice",
          "struggle: the life and lost art of szukalski",
          "sky ladder: the art of cai guo-qiang",
          "the fortress",
          "qarib qarib singlle",
          "disconnect",
          "feminists: what were they thinking?",
          "duck duck goose",
          "a christmas prince",
          "azali",
          "aiyaary",
          "spf-18",
          "hari kondabolu: warn your relatives",
          "seeing allred",
          "resurface",
          "heroin(e)",
          "the tribe",
          "the plagues of breslau",
          "sudani from nigeria",
          "pope francis: a man of his word",
          "candy jar",
          "neal brennan: 3 mics",
          "to each, her own",
          "kuroko's basketball the movie: last game",
          "rock my heart",
          "mersal",
          "jerry before seinfeld",
          "the last shaman",
          "all good",
          "bareilly ki barfi",
          "expedition happiness",
          "dany boon: des hauts-de-france",
          "baadshaho",
          "c/o kancharapalem",
          "jack whitehall: at large",
          "the rachel divide",
          "trevor noah: afraid of the dark",
          "the tree of blood",
          "nothing to lose",
          "spivak",
          "love, surreal and odd",
          "jefe",
          "christmas in the heartland",
          "sir",
          "jim gaffigan: cinco",
          "half girlfriend",
          "ex-shaman",
          "the american meme",
          "the art of loving: story of michalina wislocka",
          "dovlatov",
          "el testigo",
          "weed the people",
          "maktub",
          "love per square foot",
          "perdida",
          "the girl from the song",
          "going for gold",
          "mubarakan",
          "qismat",
          "sara's notebook",
          "ali wong: hard knock wife",
          "tom segura: disgraceful",
          "limitless",
          "paskal",
          "the grown-ups",
          "been so long",
          "soorma",
          "angela's christmas",
          "the mars generation",
          "kalushi : the story of solomon mahlangu",
          "the maus",
          "family blood",
          "pihu",
          "superlopez",
          "judd apatow: the return",
          "armed to the teeth",
          "sarah silverman: a speck of dust",
          "pa paandi",
          "nobody speak: trials of the free press",
          "aapla manus",
          "dismissal",
          "christmas catch",
          "f.r.e.d.i.",
          "love beats rhymes",
          "naam shabana",
          "brian regan: nunchucks and flamethrowers",
          "#realityhigh",
          "deray davis: how to act black",
          "def comedy jam 25",
          "the gift",
          "paranormal investigation",
          "the suit",
          "amy schumer: the leather special",
          "bon cop bad cop 2",
          "a very country christmas",
          "close enemies",
          "a fortunate man",
          "pup star: better 2gether",
          "the 3rd eye",
          "barbra: the music ... the mem'ries ... the magic!",
          "unbridled",
          "sabrina",
          "maz jobrani: immigrant",
          "48 christmas wishes",
          "how to get over a breakup",
          "pachamama",
          "katherine ryan: in trouble",
          "ascharya fuck it",
          "dear son",
          "sofía niño de rivera: natural selection",
          "nappily ever after",
          "judwaa 2",
          "christina p: mother inferior",
          "forgive us our debts",
          "milada",
          "right here right now",
          "mustang island",
          "cycle",
          "paradox",
          "sparring",
          "the chase",
          "invisible",
          "tiffany haddish: she ready! from the hood to hollywood!",
          "party monster: scratching the surface",
          "goyo: the boy general",
          "5 star christmas",
          "ani... dr. kashinath ghanekar",
          "suzzanna: buried alive",
          "stree",
          "a champion heart",
          "burning sands",
          "judah friedlander: america is the greatest country in the united states",
          "take the 10",
          "aurora",
          "the bros",
          "jim norton: mouthful of shame",
          "merku thodarchi malai",
          "clair obscur",
          "blanche gardin: i talk to myself",
          "being napoleon",
          "the milk system",
          "the price of success",
          "kuntilanak",
          "dhh",
          "malena pichot: estupidez compleja",
          "the girl allergic to wi-fi",
          "mauli",
          "samouni road",
          "chief daddy",
          "cia: comrade in america",
          "bayonet",
          "in the family",
          "bert kreischer: secret time",
          "gad gone wild",
          "counterpunch",
          "el potro: lo mejor del amor",
          "rajma chawal",
          "russell howard: recalibrate",
          "deranged",
          "marlon wayans: woke-ish",
          "monster island",
          "liberated: the new sexual revolution",
          "your son",
          "kingdom of us",
          "njan prakashan",
          "target",
          "maria bamford: old baby",
          "gad elmaleh: american dream",
          "rodney king",
          "alter ego",
          "te ata",
          "the last hour",
          "loudon wainwright iii: surviving twin",
          "michael bolton's big, sexy valentine's day special",
          "a sort of family",
          "in line",
          "all the reasons to forget",
          "buddy thunderstruck: the maybe pile",
          "laerte-se",
          "awe!",
          "notes from dunblane: lessons from a school shooting",
          "remastered: who shot the sheriff",
          "period. end of sentence.",
          "good game: the beginning",
          "tattoo of revenge",
          "love jacked",
          "animas",
          "the bridge",
          "the last runaway",
          "turkish dance school",
          "bigger than africa",
          "lionheart",
          "russell brand: re:birth",
          "el club de los buenos infieles",
          "jeff dunham: relative disaster",
          "the most assassinated woman in the world",
          "semesta",
          "stars in the sky: a hunting story",
          "cook off",
          "kevin james: never don't give up",
          "heaven without people",
          "my birthday song",
          "taramani",
          "love.com",
          "born racer",
          "aggretsuko: we wish you a metal christmas",
          "manu",
          "exes baggage",
          "teefa in trouble",
          "up among the stars",
          "food on the go",
          "nigerian prince",
          "isoken",
          "god calling",
          "the lost brother",
          "weapon of choice",
          "lucas brothers: on drugs",
          "a storybots christmas",
          "the birth reborn 2",
          "the doll 2",
          "free rein: the twelve neighs of christmas",
          "fishtronaut: the movie",
          "freej al taibeen",
          "the trader",
          "for here or to go?",
          "ayotzinapa: the turtle's pace",
          "rodney carrington: here comes the truth",
          "coffee for all",
          "no one will ever know",
          "fanatyk",
          "listen",
          "can't help falling in love",
          "marc maron: too real",
          "mission kathmandu: the adventures of nelly & simon",
          "joe rogan: strange times",
          "lynne koplitz: hormonal beast",
          "vir das: abroad understanding",
          "joaquín reyes: una y no más",
          "the insomnia club",
          "pickpockets",
          "munafik 2",
          "super monsters and the wish star",
          "w. kamau bell: private school negro",
          "poster boys",
          "the lost café",
          "zion",
          "the hows of us",
          "two catalonias",
          "out of many, one",
          "marriage palace",
          "out of thin air",
          "bygones be bygones",
          "finally found someone",
          "chris d'elia: man on fire",
          "the reservoir game",
          "pacíficum",
          "aruna & her palate",
          "rafinha bastos: ultimatum",
          "meghnadbodh rohoshyo",
          "mahi nri",
          "solo el amor",
          "seeking a man",
          "el diesel",
          "franco escamilla: por la anécdota",
          "fantastica",
          "smaller and smaller circles",
          "el especial de alex fernández, el especial",
          "vir das: losing it",
          "vanjagar ulagam",
          "penalty kick",
          "pulang",
          "brad paisley's comedy rodeo",
          "garbage",
          "tracy morgan: staying alive",
          "gurgaon",
          "todo lo que sería lucas lauriente",
          "#friendbutmarried",
          "gun city",
          "todd barry: spicy honey",
          "my travel buddy",
          "mo amer: the vagabond",
          "puppy star christmas",
          "noblemen",
          "back to q82",
          "ladies first",
          "voulez-vous rire avec moi ce soir?",
          "recovery boys",
          "king of boys",
          "little miss sumo",
          "late life: the chien-ming wang story",
          "a 3 minute hug",
          "son of adam",
          "what did i mess",
          "edmilson filho: notas, comedy about relationships",
          "seven sundays",
          "pandigai",
          "brij mohan amar rahe!",
          "pahuna: the little visitors",
          "adhugo",
          "luciano mellera: infantiloide",
          "coco y raulito: carrusel de ternura",
          "jindua",
          "a witches' ball",
          "high&low the movie 3: final mission",
          "eve's apple",
          "ana e vitória",
          "frat star",
          "king of peking",
          "secrets in the hot spring",
          "jonaki",
          "into the wind",
          "agustín aristarán: soy rada",
          "joshua: teenager vs. superpower",
          "al-khawaga's dilemma",
          "aditi mittal: things they wouldn't let me say",
          "fary is the new black",
          "hadithi za kumekucha: fatuma",
          "dtc –yukemuri junjo hen– from high&low",
          "alejandro riaño: especial de stand up",
          "my ex & whys",
          "night of knots",
          "bonboné",
          "hedefim sensin",
          "catching feelings",
          "sei",
          "pup star: world tour",
          "a man for the weekend",
          "for the broken hearted",
          "remastered: who killed jam master jay?",
          "motu patlu in dragon world",
          "high&low the movie 2: end of sky",
          "thug life",
          "beat bugs: all together now",
          "doob",
          "three words to forever",
          "table manners",
          "first love",
          "super monsters save halloween",
          "love you to the stars and back",
          "na stojáka v kině",
          "motu patlu: mission moon",
          "music teacher",
          "daniel sosa: sosafado",
          "b. a. pass 2",
          "dreamworks home: for the holidays",
          "the royal hibiscus hotel",
          "pinky memsaab",
          "crossroads: one two jaga",
          "project papa",
          "alan saldaña: mi vida de pobre",
          "mama's boy",
          "natalia valdebenito: el especial",
          "dilan 1990",
          "love and shukla",
          "mau nieto: viviendo sobrio… desde el bar",
          "mrs. miracle animals: an squirrel's princess bride",
          "alexis de anda: mea culpa",
          "my travel buddy 2",
          "ghost hunting",
          "lara and the beat",
          "carlos ballarta: furia ñera",
          "marco luque - we are together",
          "felipe neto: my life makes no sense",
          "yoo byung jae: discomfort zone",
          "blessed benefit",
          "salam - the first ****** nobel laureate",
          "catch.er",
          "ricardo quevedo: hay gente así",
          "shubh aarambh",
          "a drowning man",
          "mr. chandramouli",
          "posesif",
          "until midnight",
          "i, potro",
          "fakkah fuzz: almost banned",
          "arango y sanint: ríase el show",
          "jani dueñas: grandes fracasos de ayer y hoy",
          "kartini: princess of java",
          "adel karam: live from beirut",
          "ayana",
          "nathicharami",
          "facing mecca",
          "next enti?",
          "hantu kak limah",
          "todd glass: act happy",
          "fernando sanjiao: hombre",
          "yoo byung jae: too much information",
          "mawlana",
          "elf pets: santa's st. bernards save christmas",
          "potato potahto",
          "harith iskander: i told you so",
          "zoé: panoramas",
          "la leyenda del diamante",
          "santo cachón",
          "bahasha",
          "enissa amani: ehrenwort",
          "puriyaatha puthir",
          "simplemente manu nna",
          "babamın ceketi",
          "silence is welcome",
          "grillo vs grillo",
          "neevevaro",
          "sebastián marcelo wainraich",
          "baby mamas",
          "lovefucked",
          "fan of amoory",
          "satria heroes: revenge of the darkness",
          "stretch armstrong: the breakout",
          "hajwala 2: mysterious mission",
          "rise: ini kalilah",
          "echcharikkai",
          "verses of love 2",
          "kavin jay : everybody calm down!",
          "unexpectedly yours",
          "lilli",
          "prince of peoria: a christmas moose miracle",
          "match",
          "komola rocket",
          "d.l. hughley: contrarian",
          "panoptic",
          "joe mande's award-winning comedy special",
          "deliha 2",
          "fabrizio copano: solo pienso en mí",
          "jen kirkman: just keep livin'?",
          "wedy atkalam",
          "oga bolaji",
          "si doel the movie",
          "the gentlemen",
          "a call to spy",
          "the rental",
          "i'm thinking of ending things",
          "the irishman",
          "extraction",
          "my octopus teacher",
          "synchronic",
          "yes, god, yes",
          "the platform",
          "enola holmes",
          "the old guard",
          "his house",
          "marriage story",
          "scary stories to tell in the dark",
          "the devil all the time",
          "lunana: a yak in the classroom",
          "fantastic fungi",
          "the king",
          "rambo: last blood",
          "1br",
          "trading paint",
          "sweetheart",
          "summerland",
          "official secrets",
          "pieces of a woman",
          "freaks",
          "21 bridges",
          "6 underground",
          "mank",
          "i care a lot",
          "el camino: a breaking bad movie",
          "always be my maybe",
          "the social dilemma",
          "straight up",
          "the outpost",
          "disappearance at clifton hill",
          "triple frontier",
          "eurovision song contest: the story of fire saga",
          "the wandering earth",
          "the forgotten battle",
          "after we collided",
          "in the shadow of the moon",
          "code 8",
          "fractured",
          "365 days",
          "i am mother",
          "ava",
          "the trial of the chicago 7",
          "the dirt",
          "can you keep a secret?",
          "murder mystery",
          "da 5 bloods",
          "the midnight sky",
          "wine country",
          "the wrong missy",
          "five feet apart",
          "brahms: the boy ii",
          "after",
          "someone great",
          "last breath",
          "the two popes",
          "rebecca",
          "the wind",
          "bad trip",
          "the half of it",
          "dolemite is my name",
          "the prom",
          "ophelia",
          "ma rainey's black bottom",
          "the call",
          "hillbilly elegy",
          "paradise hills",
          "the highwaymen",
          "fast color",
          "occupation: rainfall",
          "countdown",
          "extremely wicked, shockingly evil and vile",
          "we summon the darkness",
          "the paper tigers",
          "between two ferns: the movie",
          "the game changers",
          "dick johnson is dead",
          "velvet buzzsaw",
          "the old ways",
          "the art of incarceration",
          "the laundromat",
          "pokémon the movie: secrets of the jungle",
          "project power",
          "in the tall grass",
          "#alive",
          "tremors: shrieker island",
          "tread",
          "paddleton",
          "lost girls",
          "fyre",
          "the wolf's call",
          "pokemon the movie: mewtwo strikes back - evolution",
          "the red sea diving resort",
          "thackeray",
          "charlie says",
          "crip camp: a disability revolution",
          "polar",
          "the silence",
          "spenser confidential",
          "anima",
          "ip man 4: the finale",
          "david attenborough: a life on our planet",
          "doom: annihilation",
          "i lost my body",
          "american pie presents: girls' rules",
          "cut throat city",
          "high flying bird",
          "the water man",
          "the lost husband",
          "io",
          "rocks",
          "horse girl",
          "over the moon",
          "kiss the ground",
          "this changes everything",
          "eli",
          "the boy who harnessed the wind",
          "jiu jitsu",
          "american murder: the family next door",
          "atlantics",
          "rim of the world",
          "the vanished",
          "2 hearts",
          "avengement",
          "a shaun the sheep movie: farmageddon",
          "the edge of all we know",
          "rolling thunder revue: a bob dylan story by martin scorsese",
          "american factory",
          "wasp network",
          "klaus",
          "we can be heroes",
          "all the bright places",
          "the last blockbuster",
          "the great hack",
          "night in paradise",
          "the disciple",
          "the boys in the band",
          "miss americana",
          "the forty-year-old version",
          "audrey",
          "calm with horses",
          "skylines",
          "girl on the third floor",
          "vita & virginia",
          "captain underpants: epic choice-o-rama",
          "the perfect date",
          "love wedding repeat",
          "disclosure",
          "framing john delorean",
          "the decline",
          "patsy & loretta",
          "what lies below",
          "the sleepover",
          "milkwater",
          "magamuni",
          "bill burr: paper tiger",
          "sergio",
          "the lift boy",
          "made you look: a true story about fake art",
          "the swarm",
          "a whisker away",
          "fatima",
          "dave chappelle: sticks & stones",
          "tell me who i am",
          "concrete cowboy",
          "live twice, love once",
          "the boss baby: get that baby!",
          "uncorked",
          "the last summer",
          "poms",
          "barbie: princess adventure",
          "nobody sleeps in the woods tonight",
          "the reason i jump",
          "violet evergarden: the movie",
          "jo koy: comin’ in hot",
          "the operative",
          "see you yesterday",
          "the willoughbys",
          "close",
          "the silence of others",
          "cuties",
          "an easy girl",
          "nate bargatze: the tennessee kid",
          "the babysitter: killer queen",
          "tall girl",
          "cadaver",
          "let it snow",
          "holidate",
          "sightless",
          "the last thing he wanted",
          "zz top: that little ol' band from texas",
          "super deluxe",
          "system crasher",
          "unbreakable kimmy schmidt: kimmy vs. the reverend",
          "jenny slate: stage fright",
          "lying and stealing",
          "i'm no longer here",
          "children of the sea",
          "dragonheart: vengeance",
          "9to5: the story of a movement",
          "to all the boys: p.s. i still love you",
          "hubie halloween",
          "vampires vs. the bronx",
          "the coldest game",
          "anthony jeselnik: fire in the maternity ward",
          "the stand in",
          "earthquake bird",
          "falling inn love",
          "the wedding guest",
          "miles davis: birth of the cool",
          "don't listen",
          "altered carbon: resleeved",
          "have a good trip: adventures in psychedelics",
          "the lonely island presents: the unauthorized bash brothers experience",
          "invader zim: enter the florpus",
          "forensic",
          "the fable",
          "how high 2",
          "violet evergarden: eternity and the auto memories doll",
          "the stronghold",
          "coded bias",
          "the kindness of strangers",
          "i am woman",
          "bigfoot family",
          "death of me",
          "lost bullet",
          "screwball",
          "tigertail",
          "a fall from grace",
          "ghosts of war",
          "under the eiffel tower",
          "a cinderella story: christmas wish",
          "friendsgiving",
          "jerry seinfeld: 23 hours to kill",
          "michelle wolf: joke show",
          "death to 2020",
          "lingua franca",
          "surviving r. kelly: the impact",
          "article 15",
          "the life ahead",
          "the hater",
          "desperados",
          "dave chappelle: the kennedy center mark twain prize",
          "ne zha",
          "becoming",
          "sebastian maniscalco: stay hungry",
          "captain underpants: mega blissmas",
          "miracle in cell no. 7",
          "the occupant",
          "gabriel iglesias: one show fits all",
          "nikki glaser: bangin'",
          "the sky is pink",
          "money heist: the phenomenon",
          "words bubble up like soda pop",
          "freaks – you're one of us",
          "hannah gadsby: douglas",
          "time to hunt",
          "almost love",
          "we die young",
          "jo koy: in his elements",
          "the last days of american crime",
          "taylor tomlinson: quarter-life crisis",
          "the speed cubers",
          "human nature",
          "benchwarmers 2: breaking balls",
          "holiday in the wild",
          "jingle jangle: a christmas journey",
          "circus of books",
          "dangerous lies",
          "the endless trench",
          "brené brown: the call to courage",
          "your name engraved herein",
          "dance of the forty one",
          "me against you: mr. s's vendetta",
          "inside man: most wanted",
          "tom segura: ball hog",
          "secret obsession",
          "iron fists and kung fu kicks",
          "american son",
          "bikram: yogi, guru, predator",
          "bethany hamilton: unstoppable",
          "coffee & kareem",
          "walk. ride. rodeo.",
          "brother",
          "silver skates",
          "thomas & friends: marvelous machinery",
          "debt collectors",
          "the body remembers when the world broke open",
          "badla",
          "wonder boy",
          "the show must go on: the queen + adam lambert story",
          "mike birbiglia: the new one",
          "game over",
          "the forest of love",
          "elisa & marcela",
          "the hard way",
          "the edge of democracy",
          "the crimes that bind",
          "love, guaranteed",
          "the kissing booth 2",
          "undercover brother 2",
          "dear mother",
          "the f**k-it list",
          "lego marvel spider-man: vexed by venom",
          "ni de coña",
          "the letter reader",
          "homecoming: a film by beyoncé",
          "ninokuni",
          "hard kill",
          "world famous lover",
          "the 2nd",
          "nobody knows i'm here",
          "john mulaney & the sack lunch bunch",
          "pets united",
          "aziz ansari: right now",
          "seized",
          "dolly parton: here i am",
          "asphalt burning",
          "a secret love",
          "all my friends are dead",
          "rose island",
          "the grizzlies",
          "the son",
          "american woman",
          "kidnapping stella",
          "jim jefferies: intolerant",
          "work it",
          "burning cane",
          "a sun",
          "a babysitter's guide to monster hunting",
          "in family i trust",
          "roped",
          "a remarkable tale",
          "making the witcher",
          "athlete a",
          "saaho",
          "trouble",
          "rocko's modern life: static cling",
          "holiday on mars",
          "so my grandma's a lesbian!",
          "mosul",
          "jarhead: law of return",
          "go!",
          "remastered: the two killings of sam cooke",
          "grass is greener",
          "david foster: off the record",
          "double world",
          "rogue city",
          "watchman",
          "kolaiyuthir kaalam",
          "best wishes, warmest regards: a schitt's creek farewell",
          "only mine",
          "tom papa: you're doing great!",
          "how i became a super hero",
          "unknown origins",
          "dragon rider",
          "ala vaikunthapurramuloo",
          "frankenstein's monster's monster, frankenstein",
          "drive",
          "footfairy",
          "marc maron: end times fun",
          "stand by me doraemon 2",
          "otherhood",
          "blackpink: light up the sky",
          "ammar",
          "hope frozen",
          "sextuplets",
          "remastered: devil at the crossroads",
          "justine",
          "eye for an eye",
          "if anything happens i love you",
          "feel the beat",
          "oh, ramona!",
          "furie",
          "rattlesnake",
          "rich in love",
          "coven",
          "ready to mingle",
          "m8 - when death rescues life",
          "out of my league",
          "best of stand-up 2020",
          "jimmy carr: the best of ultimate gold greatest hits",
          "the paramedic",
          "let's dance",
          "a life of speed: the juan manuel fangio story",
          "kardec",
          "4 latas",
          "kevin hart: zero f**ks given",
          "inhuman kiss",
          "what we wanted",
          "the legacy of the bones",
          "serious men",
          "sky high",
          "michael mcintyre: showman",
          "the witcher bestiary season 1, part 2",
          "svaha: the sixth finger",
          "legacy of lies",
          "definition please",
          "wanda sykes: not normal",
          "love aaj kal",
          "all day and a night",
          "wish upon a unicorn",
          "the black godfather",
          "grand-daddy day care",
          "the last laugh",
          "pete davidson: alive from new york",
          "sin city",
          "katherine ryan: glitter room",
          "the present",
          "seventeen",
          "jack whitehall: i'm only joking",
          "bulletproof 2",
          "shawn mendes: in wonder",
          "alice júnior",
          "school life",
          "el pepe: a supreme life",
          "hikaru utada laughter in the dark tour 2018",
          "raat akeli hai",
          "patria",
          "the ruthless",
          "lady driver",
          "under the riccione sun",
          "good sam",
          "funny boy",
          "kevin hart: irresponsible",
          "airplane mode",
          "paradise beach",
          "petta",
          "la originals",
          "romance doll",
          "a california christmas",
          "secrets of the saqqara tomb",
          "mother",
          "alien warfare",
          "the bridge curse",
          "ghost stories",
          "funan",
          "sturgill simpson presents sound & fury",
          "the knight before christmas",
          "black beach",
          "hospital",
          "ella fitzgerald: just one of those things",
          "enter the anime",
          "offering to the storm",
          "our planet: behind the scenes",
          "the binding",
          "back of the net",
          "knock down the house",
          "romeo akbar walter",
          "seven",
          "parchís: the documentary",
          "memories of a teenager",
          "notes for my son",
          "rising phoenix",
          "a love song for latasha",
          "made in china",
          "welcome to sudden death",
          "operation christmas drop",
          "eeb allay ooo!",
          "the influence",
          "brave blue world",
          "dna",
          "rising high",
          "the irishman: in conversation",
          "spelling the dream",
          "rogue warfare: death of a nation",
          "monster run",
          "youth v gov",
          "really love",
          "guilty",
          "rhys nicholson: live at the athenaeum",
          "dragons: rescue riders: secrets of the songwing",
          "wira",
          "malaal",
          "ronny chieng: asian comedian destroys america!",
          "all together now",
          "luka chuppi",
          "bheeshma",
          "calum von moger: unbroken",
          "octonauts and the caves of sac actun",
          "18 presents",
          "panipat",
          "three thieves",
          "cinderela pop",
          "isi & ossi",
          "fatal affair",
          "the millions",
          "maria",
          "residue",
          "the silence of the marsh",
          "beats",
          "eric andre: legalize everything",
          "wheels of fortune",
          "christmas crossfire",
          "the scary house",
          "picture a scientist",
          "xico's journey",
          "hello, privilege. it's me, chelsea",
          "berlin, berlin",
          "the main event",
          "kannum kannum kollaiyadithaal",
          "ariana grande: excuse me, i love you",
          "bobbleheads: the movie",
          "the christmas chronicles: part two",
          "octonauts and the great barrier reef",
          "malibu rescue",
          "it takes a lunatic",
          "the princess switch: switched again",
          "bert kreischer: hey big boy",
          "midnight at the magnolia",
          "girls with balls",
          "a kid from coney island",
          "soni",
          "malang",
          "mrs. serial killer",
          "tragic jungle",
          "dancing with the birds",
          "rubaru roshni",
          "the man without gravity",
          "shine your eyes",
          "the little switzerland",
          "mucho mucho amor: the legend of walter mercado",
          "menendez: the day of the lord",
          "single slipper size - 7",
          "happy old year",
          "37 seconds",
          "keeping the bees",
          "psycho",
          "simon amstell: set free",
          "the most dangerous man in europe",
          "dragon quest: your story",
          "jack whitehall: christmas with my father",
          "full out 2: you got this!",
          "tune in for love",
          "#annefrank. parallel stories",
          "who would you take to a deserted island?",
          "sarah cooper: everything's fine",
          "paris is us",
          "the path of the anaconda",
          "a christmas prince: the royal baby",
          "all the freckles in the world",
          "oprah winfrey presents: when they see us now",
          "out of the clear blue sky",
          "quiet",
          "fortune feimster: sweet & salty",
          "gather",
          "sitting in limbo",
          "bombay rose",
          "jo pil-ho: the dawning rage",
          "remastered: the miami showband massacre",
          "amy schumer: growing",
          "motichoor chaknachoor",
          "chris d'elia: no pain",
          "a new york christmas wedding",
          "classmates minus",
          "little big women",
          "lorena, light-footed woman",
          "adú",
          "indoo ki jawani",
          "franco escamilla: bienvenido al mundo",
          "door ke darshan",
          "sí, mi amor",
          "class of '83",
          "jungle beat: the movie",
          "villain",
          "bigflo & oli: hip hop frenzy",
          "shanghai fortress",
          "kabir singh",
          "seth meyers: lobby baby",
          "firebrand",
          "deadly switch",
          "whitney cummings: can i touch it?",
          "jeff dunham: beside himself",
          "uma maheswara ugra roopasya",
          "gunjan saxena: the kargil girl",
          "the beast",
          "kitty love: an homage to cats",
          "nate: a one man show",
          "cargo",
          "the yin-yang master: dream of eternity",
          "hazel brugger: tropical",
          "uyare",
          "choked: paisa bolta hai",
          "òlòtūré",
          "travis scott: look mom i can fly",
          "tell me when",
          "bridezilla",
          "canvas",
          "emicida: amarelo - it's all for yesterday",
          "shawn mendes: live in concert",
          "the (silent) war",
          "i am vengeance: retaliation",
          "the match",
          "afonso padilha: classless",
          "fierce",
          "the lost okoroshi",
          "lift like a girl",
          "the trap",
          "road to roma",
          "larry the cable guy: remain seated",
          "asphalt goddess",
          "the crystal calls - making the dark crystal: age of resistance",
          "the spooky tale of captain underpants hack-a-ween",
          "the road to el camino: behind the scenes of el camino: a breaking bad movie",
          "cemara's family",
          "ek ladki ko dekha toh aisa laga",
          "ben platt: live from radio city music hall",
          "the larva island movie",
          "ultras",
          "ken jeong: you complete me, ho",
          "the stand at paxton county",
          "a second chance: rivals!",
          "murder to mercy - the cyntoia brown story",
          "alex fernández: the best comedian in the world",
          "angela's christmas wish",
          "strain",
          "¡ay, mi madre!",
          "ramprasad ki tehrvi",
          "bulbbul",
          "thiago ventura: pokas",
          "red snow",
          "dolly parton's christmas on the square",
          "you've got this",
          "rob schneider: asian momma, mexican kids",
          "los tigres del norte at folsom prison",
          "despite everything",
          "tiffany haddish: black mitzvah",
          "into the beat",
          "blanche gardin - bonne nuit blanche",
          "what the f* is going on?",
          "cuddle weather",
          "the three deaths of marisela escobedo",
          "rogue warfare: the hunt",
          "99 songs",
          "uncovered",
          "john was trying to contact aliens",
          "the rope curse 2",
          "bennett's war",
          "night on earth: shot in the dark",
          "shikara",
          "a land imagined",
          "hating peter tatchell",
          "twin murders: the silence of the white city",
          "the man who feels no pain",
          "the boys in the band: something personal",
          "any crybabies around?",
          "holiday rush",
          "love",
          "making unorthodox",
          "the body",
          "thambi",
          "the blue elephant 2",
          "a choo",
          "the claus family",
          "sillu karupatti",
          "k. d.",
          "street flow",
          "carmen sandiego: to steal or not to steal",
          "torbaaz",
          "sam jay: 3 in the morning",
          "ma rainey's black bottom: a legacy brought to screen",
          "the magic school bus rides again: kids in space",
          "iliza shlesinger: unveiled",
          "michelle buteau: welcome to buteaupia",
          "vikruthi",
          "nasha natasha",
          "manmadhudu 2",
          "cops and robbers",
          "just another christmas",
          "miss india",
          "the app",
          "dance dreams: hot chocolate nutcracker",
          "earth and blood",
          "once again",
          "so much love to give",
          "dragons: rescue riders: hunt for the golden dragon",
          "intuition",
          "still laugh-in: the stars celebrate",
          "mi amigo alexis",
          "vir das: for india",
          "true: friendship day",
          "shimla mirchi",
          "oh! baby",
          "felix lobrecht: hype",
          "evelyn",
          "the unknown saint",
          "penalty",
          "all in my family",
          "albert  pinto ko gussa kyun aata hai?",
          "spirit riding free: spirit of christmas",
          "ak vs ak",
          "nneka the pretty serpent",
          "varane avashyamund",
          "chopsticks",
          "u-turn",
          "kappela",
          "the fisherman's diary",
          "back to school",
          "after the raid",
          "remastered: massacre at the stadium",
          "fearless",
          "chaman bahar",
          "reframe theater experience with you",
          "sethum aayiram pon",
          "remastered: the lion's share",
          "thomas & friends: digs & discoveries",
          "ray romano: right here, around the corner",
          "arsenio hall: smart and classy",
          "guna 369",
          "high & low: the worst",
          "whipped",
          "masameer: the movie",
          "luccas neto in: summer camp",
          "bulbul can sing",
          "maska",
          "the 3rd eye 2",
          "dead kids",
          "too handsome to handle",
          "ginny weds sunny",
          "dark city beneath the beat",
          "the car: road to revenge",
          "jezebel",
          "kenny sebastian: the most interesting person in the room",
          "father soldier son",
          "juanita",
          "a family reunion christmas",
          "nimbe: the movie",
          "scarecrow",
          "chippa",
          "isa pa with feelings",
          "fire in paradise",
          "omo ghetto: the saga",
          "spookley and the christmas kittens",
          "the knight and the princess",
          "the end",
          "ari eldjárn: pardon my icelandic",
          "boi",
          "showtime 1958",
          "one-way to tomorrow",
          "colin quinn: red state, blue state",
          "malibu rescue: the next wave",
          "money trap",
          "kaali khuhi",
          "nothing to lose 2",
          "blood will tell",
          "george lopez: we'll do it for half",
          "time out",
          "dark forces",
          "pegasus",
          "bhangra paa le",
          "milestone",
          "122",
          "saavat",
          "dorasani",
          "krishna and his leela",
          "a go! go! cory carson halloween",
          "axone",
          "dilan 1991",
          "a go! go! cory carson christmas",
          "dying to tell",
          "tootsies & the fake",
          "tee shot: ariya jutanugarn",
          "namaste wahala",
          "guillermo vilas: settling the score",
          "the beginning of life 2: outside",
          "90 ml",
          "soulmate",
          "citation",
          "adam devine: best time of our lives",
          "dogwashers",
          "small chops",
          "kaagar",
          "sol levante",
          "stunt school",
          "bypass road",
          "la vocera",
          "fan girl",
          "ahaan",
          "ricardo quevedo: los amargados somos más",
          "deon cole: cole hearted",
          "who's the boss",
          "27 steps of may",
          "mere pyare prime minister",
          "the netflix afterparty: the best shows of the worst year",
          "brother in love",
          "all because of you",
          "urzila carlson: overqualified loser",
          "from stress to happiness",
          "luccas neto em: uma babá muito esquisita",
          "you are my home",
          "jai mummy di",
          "one day we'll talk about today",
          "perfume imaginary museum “time warp”",
          "mauricio meirelles: generating chaos",
          "dolly kitty and those twinkling stars",
          "giving voice",
          "mariposa",
          "true: happy hearts day",
          "kedibone",
          "kevin hart's guide to black history",
          "london hughes: to catch a d*ck",
          "jeff garlin: our man in chicago",
          "milea",
          "guatemala: heart of the mayan world",
          "the house of flowers presents: the funeral",
          "furtive",
          "illegal woman",
          "not a game",
          "leslie jones: time machine",
          "the magic school bus rides again: the frizz connection",
          "seriously single",
          "four sisters before the wedding",
          "girl's revenge",
          "velvet colección: grand finale",
          "aaviri",
          "a home with a view",
          "the claudia kishi club",
          "a trash truck christmas",
          "rattlesnake: the ahanna story",
          "the bling lagosians",
          "sitara",
          "léa & i",
          "mundina nildana",
          "tuna girl",
          "mo gilligan: momentum",
          "this lady called life",
          "andre and his olive tree",
          "go! go! cory carson: the chrissy",
          "guddiyan patole",
          "maradona's legs",
          "kaamyaab",
          "santana",
          "hunter in the blue side of manchester",
          "tarung sarung",
          "a go! go! cory carson summer camp",
          "true: wuzzle wegg day",
          "gold statue",
          "the zoya factor",
          "hello, love, goodbye",
          "super monsters furever friends",
          "hot gimmick: girl meets boy",
          "yeh ballet",
          "andhaghaaram",
          "liss pereira: reteniendo liquidos",
          "wave of cinema: filosofi kopi",
          "hire a woman",
          "super monsters save christmas",
          "true: tricky treat day",
          "i'm leaving now",
          "ludo",
          "mallesham",
          "super monsters: the new class",
          "mike epps: only one mike",
          "kill me if you dare",
          "the 9th precinct",
          "true: winter wishes",
          "whindersson nunes: adulto",
          "ratones paranoicos: the band that rocked argentina",
          "kalel, 15",
          "kandasamys: the wedding",
          "birders",
          "a tale of two kitchens",
          "mujeres arriba",
          "2 weeks in lagos",
          "kids on the block",
          "eggnoid: love & time portal",
          "asura guru",
          "kaake da viyah",
          "horrid henry's gross day out",
          "house arrest",
          "beyond the boundary: icc women's t20 world cup australia 2020",
          "bombairiya",
          "dad wanted",
          "rooting for roona",
          "revenge of the pontianak",
          "wanted - matloubin",
          "love for sale 2",
          "uriyadi 2",
          "chhota bheem ka roosi romanch",
          "irandam ulagaporin kadaisi gundu",
          "unroyal",
          "carlos almaraz: playing with fire",
          "hamid",
          "life overtakes me",
          "david a. arnold fat ballerina",
          "upstarts",
          "mehandi circus",
          "feo pero sabroso",
          "this earth of mankind",
          "the american game",
          "francesco de carlo: cose di questo mondo",
          "#friendbutmarried 2",
          "elf pets: santa's reindeer rescue",
          "sarvam thaala mayam",
          "true: rainbow rescue",
          "spirit riding free: ride along adventure",
          "fadily camara: la plus drôle de tes copines",
          "anelka: misunderstood",
          "mohamed hussein",
          "american factory: a conversation with the obamas",
          "cultivating the seas: history and future of the full-cycle cultured kindai tuna",
          "mokalik (mechanic)",
          "amit tandon: family tandoncies",
          "the panti sisters",
          "15 august",
          "antoine griezmann: the making of a legend",
          "dear affy",
          "sur sapata",
          "luccas neto in: children's day",
          "death can wait",
          "super monsters back to school",
          "love like the falling rain",
          "marjoun and the flying headscarf",
          "kilometers and kilometers",
          "ghosts of sugar land",
          "pinkfong & baby shark's space adventure",
          "one take",
          "ali & alia",
          "love and fury",
          "maniyarayile ashokan",
          "gone",
          "motu patlu the superheroes – super villains from mars",
          "born beautiful",
          "amsterdam to anatolia",
          "quam's money",
          "to be of service",
          "what are the odds?",
          "sincerely yours, dhaka",
          "fukrey boyzzz: space mein fukrapanti",
          "si doel the movie 3",
          "zulu man in japan",
          "grego rossello: disculpe las molestias",
          "super monsters: dia de los monsters",
          "blue, painful, and brittle",
          "kalek shanab",
          "sky tour: the movie",
          "saverio raimondo: il satiro parlante",
          "lola igna",
          "generasi 90an: melankolia",
          "mutiny of the worker bees",
          "i'm glad i did",
          "rk nagar",
          "martin matte: la vie, la mort... eh la la..!",
          "3 logical exits",
          "david batra: elephant in the room",
          "evvarikee cheppoddu",
          "hoshino gen dome tour \"pop virus\" at tokyo dome",
          "ave maryam",
          "uncle naji in uae",
          "voiceless",
          "mayday life",
          "super monsters: vida's first halloween",
          "40 sticks",
          "belmonte",
          "an unremarkable christmas",
          "kambili: the whole 30 yards",
          "wave of cinema: surat dari timur",
          "gims: on the record",
          "between maybes",
          "alone/together",
          "starbeam: halloween hero",
          "yours sincerely, kanan gill",
          "finding hubby",
          "we are one",
          "alelí",
          "ainu mosir",
          "bhai - vyakti ki valli 2",
          "finding agnes",
          "free rein: valentine's day",
          "daniel sosa: maleducado",
          "the app that stole christmas",
          "sanitation day",
          "dreamy eyes",
          "park na-rae: glamour warning",
          "crazy awesome teachers",
          "the girl and the gun",
          "chico bon bon and the very berry holiday",
          "awon boyz",
          "el límite infinito",
          "in paradox",
          "rakkhosh",
          "aziza",
          "vir das: outside in - the lockdown special",
          "100% halal",
          "marked",
          "baxu and the giants",
          "motu patlu in the game of zones",
          "leyla everlasting",
          "we are legends",
          "my stupid boss 2",
          "fate of alakada",
          "sab el-burumbah",
          "si doel the movie 2",
          "after maria",
          "mama drama",
          "the wedding shaman",
          "pnl - dans la légende tour",
          "she is",
          "holy expectations",
          "nenjamundu nermaiyundu odu raja",
          "the book of sun",
          "go! the unforgettable party",
          "the day i lost my shadow",
          "miranda sings live... your welcome",
          "wave of cinema: generasi 90an",
          "story of kale: when someone's in love",
          "sakaling maging tayo",
          "thottappan",
          "ibrahim: a fate to define",
          "super monsters: santa's super monster helpers",
          "high end yaariyaan",
          "edoardo ferrario: temi caldi",
          "the gray man",
          "rrr",
          "sing 2",
          "the man from toronto",
          "persuasion",
          "hustle",
          "spiderhead",
          "the sea beast",
          "girl in the picture",
          "incantation",
          "umma",
          "operation mincemeat",
          "valley of the dead",
          "bill burr: live at red rocks",
          "the adam project",
          "don't look up",
          "the power of the dog",
          "blasted",
          "hello, goodbye, and everything in between",
          "interceptor",
          "the lost daughter",
          "tick, tick... boom!",
          "red notice",
          "dave chappelle: what's in a name?",
          "my daughter's killer",
          "love & gelato",
          "apollo 10½:  a space age childhood",
          "the alpinist",
          "the mitchells vs. the machines",
          "the harder they fall",
          "major",
          "our father",
          "windfall",
          "senior year",
          "texas chainsaw massacre",
          "the guilty",
          "the colony",
          "norm macdonald: nothing special",
          "the bubble",
          "the hand of god",
          "for jojo",
          "the unforgivable",
          "the best of netflix is a joke: the festival",
          "against the ice",
          "metal lords",
          "jennifer lopez:  halftime",
          "anek",
          "ricky gervais: supernature",
          "beauty",
          "fear street: part one - 1994",
          "who we are: a chronicle of racism in america",
          "bo burnham: inside",
          "av: the hunt",
          "gunpowder milkshake",
          "bubble",
          "passing",
          "munich: the edge of war",
          "army of thieves",
          "the weekend away",
          "jackass 4.5",
          "a perfect pairing",
          "cristela alonzo: middle classy",
          "army of the dead",
          "downfall: the case against boeing",
          "rescued by ruby",
          "black crab",
          "14 peaks: nothing is impossible",
          "bigbug",
          "image of victory",
          "choose or die",
          "kate",
          "the dig",
          "bill burr presents: friends who kill",
          "till death",
          "fear street: part two - 1978",
          "fatherhood",
          "white hot: the rise & fall of abercrombie & fitch",
          "coming home in the dark",
          "too old for fairy tales",
          "long story short",
          "the sparks brothers",
          "the shadow in my eye",
          "dave chappelle: the closer",
          "no one gets out alive",
          "the vault",
          "the tinder swindler",
          "the martha mitchell effect",
          "under the amalfi sun",
          "oxygen",
          "last man down",
          "the trip",
          "the woman in the window",
          "365 days: this day",
          "aftermath",
          "chickenhare and the hamster of darkness",
          "toscana",
          "home team",
          "live is life",
          "the white tiger",
          "captain nova",
          "outlaws",
          "hypnotic",
          "return to space",
          "along for the ride",
          "worth",
          "the starling",
          "the ice road",
          "back to the outback",
          "after we fell",
          "jewel",
          "centauro",
          "zone 414",
          "the wrath of god",
          "the mystery of marilyn monroe: the unheard tapes",
          "yes day",
          "ante... sundaraniki!",
          "bob ross: happy accidents, betrayal & greed",
          "bhool bhulaiyaa 2",
          "glamour girls",
          "gladbeck: the hostage crisis",
          "peter rabbit 2: the runaway",
          "joel kim booster: psychosexual",
          "beast",
          "the last letter from your lover",
          "final account",
          "things heard & seen",
          "vivo",
          "my little pony: a new generation",
          "fistful of vengeance",
          "restless",
          "blood red sky",
          "fear street: 1666",
          "the witcher: nightmare of the wolf",
          "gangubai kathiawadi",
          "godse",
          "malcolm & marie",
          "brazen",
          "space sweepers",
          "the lovebirds",
          "trust no one: the hunt for the crypto king",
          "borrego",
          "intrusion",
          "count me in",
          "nightbooks",
          "through my window",
          "my wonderful life",
          "taylor tomlinson: look at you",
          "the takedown",
          "the summit of the gods",
          "love hard",
          "pete davidson presents: the best friends",
          "the pirates: the last royal treasure",
          "beckett",
          "jim gaffigan: comedy monster",
          "the block island sound",
          "night teeth",
          "david a. arnold: it ain't for the weak",
          "cosmic sin",
          "cyber hell: exposing an internet horror",
          "america: the motion picture",
          "like a rolling stone: the life & times of ben fong-torres",
          "sas: red notice",
          "tyler perry's a madea homecoming",
          "the god committee",
          "thunder force",
          "dangerous liaisons",
          "awake",
          "amy schumer presents: parental advisory",
          "7 prisoners",
          "he's all that",
          "robin robin",
          "prayers for the stolen",
          "aziz ansari: nightclub comedian",
          "kuttavum shikshayum",
          "the house",
          "the royal treatment",
          "schumacher",
          "there's someone inside your house",
          "stowaway",
          "ali wong: don wong",
          "jimmy carr: his dark material",
          "paul virzi: nocturnal admissions",
          "sweet girl",
          "minnal murali",
          "seaspiracy",
          "viraata parvam",
          "collision",
          "operation romeo",
          "pray away",
          "moxie",
          "wish dragon",
          "silverton siege",
          "jaadugar",
          "good on paper",
          "finding ʻohana",
          "bruised",
          "green snake",
          "hilda and the mountain king",
          "procession",
          "diana: the musical",
          "ben & jody",
          "the wasteland",
          "david spade: nothing personal",
          "shiny_flakes: the teenage drug lord",
          "a cop movie",
          "untold: malice at the palace",
          "django & django",
          "a classic horror story",
          "photocopier",
          "afterlife of the party",
          "f3: fun and frustration",
          "a farewell to ozark",
          "stand out: an lgbtq+ celebration",
          "dirty daddy: the bob saget tribute",
          "riverdance: the animated adventure",
          "mandela",
          "my best friend anne frank",
          "thar",
          "without saying goodbye",
          "kingdom: ashin of the north",
          "my father's violin",
          "love and leashes",
          "marmaduke",
          "nate bargatze: the greatest average american",
          "the privilege",
          "more the merrier",
          "trees of peace",
          "two distant strangers",
          "badhaai do",
          "jane fonda & lily tomlin: ladies night live",
          "mixtape",
          "britney vs. spears",
          "deadly illusions",
          "ranveer vs wild with bear grylls",
          "dear friend",
          "marilyn's eyes",
          "prey",
          "misha and the wolves",
          "the kissing booth 3",
          "the loud house movie",
          "fever dream",
          "blue miracle",
          "home2home",
          "83",
          "rurouni kenshin: the beginning",
          "honeymoon with my mother",
          "death to 2021",
          "vengeance is mine, all others pay cash",
          "the getaway king",
          "yaksha: ruthless operations",
          "outside the wire",
          "civil: ben crump",
          "the minimalists: less is now",
          "the devil below",
          "the seventh day",
          "extinct",
          "the fable: the killer who doesn't kill",
          "rurouni kenshin: the final",
          "bruna louise: demolition",
          "prophetess",
          "to all the boys: always and forever",
          "100 días con la tata",
          "aileen wuornos: american boogeywoman",
          "tall girl 2",
          "nobody sleeps in the woods tonight 2",
          "chip and potato: chip's holiday",
          "a week away",
          "jana gana mana",
          "single all the way",
          "dhamaka",
          "the river runner",
          "monster",
          "never back down: revolt",
          "untold: breaking point",
          "heart parade",
          "pelé",
          "grudge",
          "brian regan: on the rocks",
          "penguin bloom",
          "rita moreno: just a girl who decided to go for it",
          "operation varsity blues: the college admissions scandal",
          "a stand worthy of men",
          "furioza",
          "four to dinner",
          "seal team",
          "most eligible bachelor",
          "katt williams: world war iii",
          "lead me home",
          "snoop dogg's f*cn around comedy special",
          "shaun the sheep: the flight before christmas",
          "the invisible thread",
          "mobile suit gundam hathaway",
          "ai love you",
          "audible",
          "the hall: honoring the greats of stand-up",
          "hurdang",
          "the turning point",
          "sentinelle",
          "stuck together",
          "f*ck love too",
          "vicky and her mystery",
          "from meir, to meir",
          "attack of the hollywood clichés!",
          "game changer",
          "murder by the coast",
          "chappelle's home team - earthquake: legendary",
          "the 8th night",
          "ferry",
          "the trip 6",
          "radhe shyam",
          "a boy called christmas",
          "jeff foxworthy: the good old days",
          "the taming of the shrewd",
          "operation hyacinth",
          "the perfect family",
          "sooryavanshi",
          "cbi 5: the brain",
          "l.o.l. surprise: the movie",
          "making the billion dollar code",
          "skater girl",
          "found",
          "rabbids invasion - mission to mars",
          "the falls",
          "yara",
          "nicole byer: bbw (big beautiful weirdo)",
          "cobalt blue",
          "this is the night",
          "don't kill me",
          "a castle for christmas",
          "i am all girls",
          "sounds like love",
          "ride or die",
          "thomas & friends: all engines go - race for the sodor cup",
          "jersey",
          "the girl on the train",
          "cousins",
          "oprah + viola: a netflix special event",
          "deep",
          "the phantom",
          "two",
          "blippi the musical",
          "fate: the winx saga - the afterparty",
          "secret magic control agency",
          "doom of love",
          "breaking boundaries: the science of our planet",
          "all hail",
          "the seven deadly sins: cursed by light",
          "don",
          "the last mercenary",
          "lulli",
          "dancing on glass",
          "my brother, my sister",
          "je suis karl",
          "blood brothers: malcolm x & muhammad ali",
          "trollhunters: rise of the titans",
          "amina",
          "mimi",
          "the princess switch 3: romancing the star",
          "looop lapeta",
          "anonymously yours",
          "the last forest",
          "rumspringa",
          "bordertown: the mural murders",
          "biking borders - eine etwas andere reise",
          "ronny chieng: speakeasy",
          "biggie: i got a story to tell",
          "super me",
          "the whole truth",
          "jonas brothers family roast",
          "the soul",
          "sing, dance, act: kabuki featuring toma ikuta",
          "40 love",
          "and tomorrow the entire world",
          "one",
          "major grom: plague doctor",
          "anne+",
          "ajeeb daastaans",
          "dynasty warriors",
          "barbie: big city, big dreams",
          "roohi",
          "crazy about her",
          "confessions of an invisible girl",
          "doctor",
          "battle: freestyle",
          "theo von: regular people",
          "octonauts: the ring of fire",
          "chris rock total blackout: the tamborine extended cut",
          "montford: the chickasaw rancher",
          "red",
          "creating the queen's gambit",
          "nayattu",
          "ghost in the shell: sac_2045 sustainable war",
          "hey! sinamika",
          "christina p: mom genes",
          "memories of a murderer: the nilsen tapes",
          "heroes: silence and rock & roll",
          "phil wang: philly philly wang wang",
          "three songs for benazir",
          "strip down, rise up",
          "this little love of mine",
          "bright: samurai soul",
          "last summer",
          "40 years young",
          "red dot",
          "black island",
          "love tactics",
          "yuri marçal: honest mistake",
          "paper lives",
          "the women and the murderer",
          "resort to love",
          "7 yards: the chris norton story",
          "ufo",
          "below zero",
          "child of kamiari month",
          "the secret diary of an exchange student",
          "making malinche: a documentary by nacho cano",
          "hate by dani rovira",
          "the yin yang master",
          "american girl",
          "etharkkum thunindhavan",
          "man in love",
          "dasvi",
          "jj+e",
          "the hand of god: through the eyes of sorrentino",
          "prime time",
          "caught by a wave",
          "honey girls",
          "mishan impossible",
          "spoiled brats",
          "uppena",
          "xtreme",
          "the four of us",
          "latte and the magic waterstone",
          "thalaivii",
          "squared love",
          "why did you kill me?",
          "security",
          "nail bomber: manhunt",
          "arlo the alligator boy",
          "the photographer: murder in pinamar",
          "the last paradiso",
          "the father who moves mountains",
          "forever out of my league",
          "hand rolled cigarette",
          "monster hunter: legends of the guild",
          "homunculus",
          "searching for sheela",
          "carnaval",
          "barbie & chelsea: the lost birthday",
          "all about gila",
          "cinema bandi",
          "behind the scenes with jane campion",
          "just say yes",
          "a family",
          "baggio: the divine ponytail",
          "asakusa kid",
          "sex: unzipped",
          "broken idol: the undoing of diomedes díaz",
          "this is not a comedy",
          "camp confidential: america's secret nazis",
          "137 shots",
          "toolsidas junior",
          "accomplice",
          "swallow",
          "jagame thandhiram",
          "mike epps: indiana mike",
          "get the grift",
          "how i fell in love with a gangster",
          "ms. pat: y'all wanna hear something crazy?",
          "chandigarh kare aashiqui",
          "whindersson nunes: my own show!",
          "emicida amarelo live in sao paulo",
          "crack: cocaine, corruption & conspiracy",
          "get the goat",
          "autumn girl",
          "heart shot",
          "hold your breath: the ice dive",
          "time",
          "new gods: nezha reborn",
          "sweet & sour",
          "donkeyhead",
          "the guide to the perfect family",
          "the wonderful: stories from the space station",
          "today we fix the world",
          "the characters of the continent",
          "irul",
          "the door into summer",
          "one night in paris",
          "chris distefano: speshy weshy",
          "haseen dillruba",
          "night drive",
          "kuthiraivaal",
          "only you",
          "godspeed",
          "mommy issues",
          "dancing queens",
          "double dad",
          "into the wind",
          "a california christmas: city lights",
          "breaded life",
          "animals on the loose: a you vs. wild interactive movie",
          "amandla",
          "wish you",
          "father christmas is back",
          "lady boss: the jackie collins story",
          "meskina",
          "madame claude",
          "in for a murder",
          "forgive us our trespasses",
          "larva pendant",
          "trese after dark",
          "kurup",
          "thimmarusu: assignment vali",
          "headspace unwind you mind",
          "just short of perfect",
          "wild dog",
          "what would sophia loren do?",
          "one second",
          "1000 miles from christmas",
          "annaatthe",
          "michael che: shame the devil",
          "pagglait",
          "in good hands",
          "in our mothers' gardens",
          "hostage house",
          "amy tan: unintended memoir",
          "tughlaq durbar",
          "untold: caitlyn jenner",
          "kadaseela biriyani",
          "meenakshi sundareshwar",
          "forever rich",
          "we couldn't become adults",
          "laabam",
          "carlos ballarta: false prophet",
          "surviving paradise: a family tale",
          "escape the undertaker",
          "ghost lab",
          "maha samudram",
          "hikaru utada - live sessions from air studios",
          "the humans & the mongoose",
          "zero to hero",
          "puff: wonders of the reef",
          "you vs. wild: out cold",
          "lethal love",
          "lords of scam",
          "love like the falling petals",
          "aelay",
          "a world without",
          "the guardian",
          "love me instead",
          "the land",
          "one lagos night",
          "cat burglar",
          "sharkdog’s fintastic halloween",
          "david and the elves",
          "ankahi kahaniya",
          "11m",
          "bartkowiak",
          "the house of flowers: the movie",
          "michela giraud: the truth, i swear!",
          "the last kids on earth: happy apocalypse to you",
          "plastic island",
          "story of dinda: second chance of happiness",
          "carolin kebekus: the last christmas special",
          "the misadventures of hedi and cokeman",
          "still out of my league",
          "cem yılmaz: diamond elite platinum plus",
          "the crime",
          "love or money",
          "sardar ka grandson",
          "sarbath",
          "dolly parton: a musicares tribute",
          "tony parker: the final shot",
          "sisters on track",
          "shyam singha roy",
          "blue dream: the road to wembley",
          "private network: who killed manuel buendía?",
          "mo gilligan: there's mo to life",
          "johnny test's ultimate meatloaf quest",
          "have you ever seen fireflies?",
          "mo amer: mohammed in texas",
          "kapil sharma: i'm not done yet",
          "grumpy christmas",
          "a storybots space adventure",
          "african america",
          "daiki tsuneta: tokyo chaotic",
          "will you marry?",
          "trapped",
          "haroun",
          "brother in love 2",
          "angèle",
          "boomika",
          "bankrolled",
          "june & kopi",
          "adam by eve: a live in animation",
          "here and there",
          "mughizh",
          "time to dance",
          "erax",
          "love is color blind",
          "shadow parties",
          "sam smith: love goes – live at abbey road studios",
          "ayinla",
          "loyiso gola: unlearning",
          "a perfect fit",
          "ali & ratu ratu queens",
          "d.o.d.: day of destiny",
          "meeting point",
          "starbeam: beaming in the new year",
          "trippin’ with the kandasamys",
          "chief daddy 2: going for broke",
          "edis starlight",
          "clash",
          "tribhanga",
          "my heroes were cowboys",
          "alan saldaña: locked up",
          "slay",
          "gatao: the last stray",
          "madam chief minister",
          "binti",
          "myriam fares: the journey",
          "convergence: courage in a crisis",
          "stuck apart",
          "let's tie the knot, honey!",
          "upcoming summer",
          "rodrigo sant'anna: i'm here, i'm queer!",
          "little big mouth",
          "30 march",
          "a naija christmas",
          "our lady of san juan, four centuries of miracles",
          "social man",
          "celeb five: behind the curtain",
          "just in time",
          "izla",
          "lokillo: nothing's the same",
          "lee su-geun: the sense coach",
          "soy rada: serendipity",
          "geez & ann",
          "dearest boy",
          "tersanjung: the movie",
          "kaaval",
          "the tambour of retribution",
          "devdas brothers",
          "what happened to mr cha?",
          "the heartbreak club",
          "angeliena",
          "layla majnun",
          "tuesdays and fridays",
          "a faraway land",
          "i missed you",
          "my amanda",
          "momshies! your soul is mine",
          "happiness ever after",
          "kongsi raya",
          "princess 'daya'reese",
          "super monsters: once upon a rhyme",
          "my bride",
          "fine wine",
          "c/o kaadhal",
          "lokillo"
         ],
         "legendgroup": "",
         "marker": {
          "color": [
           1976,
           1972,
           1975,
           1967,
           1979,
           1971,
           1967,
           1980,
           1961,
           1966,
           1979,
           1954,
           1958,
           1977,
           1972,
           1979,
           1969,
           1980,
           1963,
           1979,
           1954,
           1956,
           1979,
           1960,
           1975,
           1976,
           1973,
           1974,
           1959,
           1980,
           1976,
           1978,
           1990,
           1987,
           1984,
           1989,
           1984,
           1989,
           1984,
           1983,
           1990,
           1989,
           1989,
           1987,
           1986,
           1981,
           1983,
           1988,
           1981,
           1987,
           1985,
           1990,
           1982,
           1982,
           1982,
           1990,
           1989,
           1988,
           1988,
           1989,
           1990,
           1986,
           1988,
           1990,
           1989,
           1989,
           1988,
           1989,
           1984,
           1987,
           1986,
           1988,
           1987,
           1986,
           1984,
           1983,
           1982,
           1982,
           1990,
           1996,
           1995,
           1997,
           1994,
           2000,
           1999,
           1997,
           1997,
           2000,
           1994,
           1997,
           1994,
           1994,
           1995,
           1998,
           1999,
           1998,
           1997,
           1992,
           1999,
           1993,
           1991,
           1994,
           1996,
           1997,
           1997,
           1993,
           1994,
           1998,
           1997,
           2000,
           1997,
           1995,
           1993,
           1993,
           1995,
           1994,
           1998,
           1997,
           1997,
           1998,
           1994,
           1993,
           1997,
           1995,
           1998,
           1998,
           1994,
           1991,
           1994,
           1998,
           1998,
           1993,
           1999,
           1993,
           1998,
           1991,
           1993,
           1995,
           1999,
           1998,
           1991,
           1996,
           1993,
           1999,
           1997,
           1996,
           1995,
           1998,
           1998,
           1997,
           1998,
           1996,
           1994,
           1991,
           2000,
           1999,
           1992,
           1991,
           1991,
           1998,
           1993,
           1991,
           1993,
           1998,
           1993,
           2000,
           2000,
           1999,
           1991,
           1994,
           1999,
           1995,
           1991,
           1999,
           1991,
           2007,
           2004,
           2002,
           2003,
           2004,
           2010,
           2006,
           2010,
           2005,
           2008,
           2006,
           2007,
           2004,
           2007,
           2002,
           2003,
           2008,
           2004,
           2009,
           2003,
           2008,
           2008,
           2009,
           2001,
           2003,
           2007,
           2010,
           2004,
           2010,
           2009,
           2001,
           2001,
           2008,
           2006,
           2003,
           2008,
           2003,
           2004,
           2001,
           2009,
           2007,
           2002,
           2008,
           2006,
           2007,
           2010,
           2006,
           2005,
           2008,
           2008,
           2009,
           2010,
           2010,
           2005,
           2007,
           2006,
           2002,
           2010,
           2007,
           2005,
           2002,
           2009,
           2001,
           2003,
           2003,
           2003,
           2010,
           2006,
           2009,
           2003,
           2007,
           2009,
           2007,
           2006,
           2007,
           2008,
           2010,
           2005,
           2004,
           2004,
           2005,
           2002,
           2006,
           2001,
           2005,
           2006,
           2010,
           2010,
           2010,
           2005,
           2007,
           2007,
           2004,
           2006,
           2007,
           2010,
           2006,
           2010,
           2007,
           2009,
           2002,
           2002,
           2004,
           2010,
           2008,
           2005,
           2007,
           2009,
           2007,
           2009,
           2005,
           2006,
           2006,
           2004,
           2010,
           2006,
           2010,
           2007,
           2009,
           2001,
           2003,
           2007,
           2008,
           2004,
           2008,
           2010,
           2007,
           2008,
           2001,
           2004,
           2006,
           2010,
           2006,
           2007,
           2010,
           2007,
           2009,
           2008,
           2001,
           2003,
           2008,
           2006,
           2008,
           2007,
           2009,
           2006,
           2010,
           2002,
           2005,
           2009,
           2010,
           2008,
           2006,
           2006,
           2009,
           2008,
           2004,
           2004,
           2009,
           2001,
           2004,
           2005,
           2008,
           2007,
           2002,
           2008,
           2004,
           2010,
           2010,
           2008,
           2008,
           2009,
           2006,
           2003,
           2004,
           2006,
           2004,
           2009,
           2008,
           2002,
           2006,
           2005,
           2006,
           2010,
           2007,
           2010,
           2004,
           2009,
           2005,
           2008,
           2010,
           2007,
           2010,
           2009,
           2006,
           2005,
           2009,
           2008,
           2005,
           2007,
           2007,
           2010,
           2004,
           2009,
           2010,
           2008,
           2010,
           2009,
           2010,
           2009,
           2003,
           2005,
           2008,
           2008,
           2005,
           2007,
           2002,
           2004,
           2009,
           2005,
           2007,
           2009,
           2006,
           2009,
           2006,
           2008,
           2004,
           2001,
           2006,
           2008,
           2010,
           2004,
           2008,
           2005,
           2003,
           2008,
           2008,
           2010,
           2010,
           2004,
           2004,
           2009,
           2001,
           2010,
           2008,
           2010,
           2002,
           2009,
           2009,
           2003,
           2008,
           2007,
           2007,
           2008,
           2005,
           2003,
           2003,
           2010,
           2009,
           2008,
           2009,
           2003,
           2008,
           2008,
           2008,
           2004,
           2008,
           2008,
           2003,
           2004,
           2010,
           2004,
           2008,
           2008,
           2007,
           2001,
           2007,
           2010,
           2010,
           2009,
           2010,
           2004,
           2009,
           2009,
           2008,
           2010,
           2007,
           2009,
           2006,
           2007,
           2009,
           2005,
           2009,
           2009,
           2008,
           2010,
           2007,
           2001,
           2007,
           2010,
           2010,
           2006,
           2003,
           2012,
           2012,
           2012,
           2012,
           2011,
           2011,
           2012,
           2012,
           2012,
           2011,
           2011,
           2011,
           2012,
           2012,
           2012,
           2012,
           2011,
           2011,
           2012,
           2011,
           2012,
           2012,
           2012,
           2012,
           2011,
           2011,
           2011,
           2011,
           2011,
           2012,
           2011,
           2012,
           2011,
           2011,
           2012,
           2011,
           2012,
           2012,
           2011,
           2012,
           2012,
           2011,
           2012,
           2011,
           2012,
           2012,
           2012,
           2011,
           2012,
           2012,
           2011,
           2011,
           2012,
           2012,
           2011,
           2011,
           2012,
           2011,
           2011,
           2012,
           2011,
           2012,
           2012,
           2011,
           2011,
           2012,
           2011,
           2011,
           2011,
           2012,
           2012,
           2011,
           2012,
           2011,
           2011,
           2012,
           2012,
           2011,
           2012,
           2012,
           2012,
           2011,
           2012,
           2011,
           2012,
           2011,
           2011,
           2012,
           2012,
           2011,
           2012,
           2012,
           2012,
           2011,
           2012,
           2012,
           2011,
           2012,
           2012,
           2011,
           2012,
           2012,
           2011,
           2012,
           2011,
           2011,
           2012,
           2012,
           2012,
           2011,
           2012,
           2011,
           2012,
           2012,
           2011,
           2011,
           2012,
           2012,
           2012,
           2012,
           2012,
           2012,
           2012,
           2011,
           2012,
           2011,
           2011,
           2011,
           2012,
           2011,
           2012,
           2011,
           2011,
           2012,
           2012,
           2011,
           2014,
           2014,
           2014,
           2013,
           2014,
           2014,
           2013,
           2014,
           2013,
           2014,
           2013,
           2013,
           2013,
           2013,
           2013,
           2013,
           2014,
           2014,
           2014,
           2013,
           2013,
           2013,
           2014,
           2014,
           2013,
           2013,
           2013,
           2013,
           2014,
           2013,
           2013,
           2013,
           2013,
           2014,
           2013,
           2013,
           2013,
           2014,
           2014,
           2014,
           2014,
           2014,
           2013,
           2014,
           2014,
           2014,
           2013,
           2014,
           2014,
           2013,
           2014,
           2014,
           2013,
           2013,
           2014,
           2013,
           2013,
           2014,
           2014,
           2013,
           2014,
           2013,
           2014,
           2014,
           2013,
           2013,
           2014,
           2013,
           2014,
           2013,
           2014,
           2013,
           2013,
           2014,
           2014,
           2013,
           2013,
           2013,
           2013,
           2013,
           2013,
           2014,
           2014,
           2014,
           2014,
           2014,
           2014,
           2013,
           2014,
           2014,
           2013,
           2013,
           2014,
           2013,
           2014,
           2013,
           2013,
           2013,
           2013,
           2014,
           2014,
           2014,
           2014,
           2013,
           2013,
           2014,
           2014,
           2014,
           2013,
           2014,
           2013,
           2013,
           2014,
           2014,
           2014,
           2014,
           2014,
           2014,
           2013,
           2014,
           2013,
           2014,
           2014,
           2014,
           2014,
           2014,
           2013,
           2013,
           2014,
           2014,
           2014,
           2014,
           2014,
           2013,
           2013,
           2014,
           2014,
           2014,
           2013,
           2014,
           2014,
           2013,
           2013,
           2014,
           2013,
           2013,
           2014,
           2013,
           2014,
           2014,
           2013,
           2013,
           2013,
           2013,
           2014,
           2013,
           2014,
           2013,
           2013,
           2014,
           2013,
           2013,
           2013,
           2014,
           2014,
           2014,
           2014,
           2013,
           2013,
           2013,
           2014,
           2014,
           2014,
           2013,
           2014,
           2013,
           2013,
           2013,
           2014,
           2014,
           2013,
           2013,
           2013,
           2014,
           2014,
           2013,
           2013,
           2014,
           2014,
           2013,
           2013,
           2013,
           2013,
           2014,
           2014,
           2014,
           2014,
           2014,
           2013,
           2014,
           2013,
           2013,
           2013,
           2014,
           2014,
           2013,
           2014,
           2016,
           2016,
           2015,
           2016,
           2016,
           2015,
           2016,
           2016,
           2016,
           2015,
           2015,
           2015,
           2015,
           2016,
           2015,
           2015,
           2016,
           2015,
           2016,
           2016,
           2016,
           2016,
           2016,
           2016,
           2016,
           2015,
           2016,
           2015,
           2015,
           2016,
           2016,
           2016,
           2016,
           2016,
           2015,
           2016,
           2015,
           2015,
           2016,
           2015,
           2016,
           2015,
           2016,
           2016,
           2015,
           2016,
           2015,
           2015,
           2016,
           2016,
           2016,
           2015,
           2016,
           2016,
           2015,
           2016,
           2016,
           2015,
           2016,
           2015,
           2016,
           2015,
           2015,
           2016,
           2016,
           2016,
           2015,
           2016,
           2016,
           2015,
           2016,
           2016,
           2015,
           2016,
           2015,
           2016,
           2015,
           2016,
           2016,
           2016,
           2016,
           2016,
           2015,
           2016,
           2016,
           2015,
           2016,
           2016,
           2015,
           2016,
           2016,
           2016,
           2016,
           2015,
           2016,
           2015,
           2016,
           2016,
           2016,
           2016,
           2016,
           2016,
           2016,
           2015,
           2016,
           2016,
           2016,
           2016,
           2015,
           2016,
           2016,
           2016,
           2015,
           2016,
           2016,
           2015,
           2015,
           2015,
           2016,
           2016,
           2016,
           2015,
           2015,
           2015,
           2016,
           2016,
           2016,
           2016,
           2015,
           2016,
           2016,
           2015,
           2015,
           2016,
           2016,
           2015,
           2016,
           2016,
           2016,
           2015,
           2015,
           2015,
           2015,
           2016,
           2016,
           2016,
           2016,
           2016,
           2016,
           2015,
           2016,
           2016,
           2015,
           2016,
           2016,
           2015,
           2015,
           2015,
           2016,
           2015,
           2015,
           2016,
           2015,
           2015,
           2015,
           2015,
           2016,
           2015,
           2015,
           2016,
           2016,
           2015,
           2016,
           2015,
           2016,
           2016,
           2016,
           2015,
           2016,
           2016,
           2016,
           2015,
           2016,
           2016,
           2016,
           2015,
           2016,
           2016,
           2016,
           2016,
           2016,
           2015,
           2016,
           2016,
           2015,
           2016,
           2016,
           2015,
           2016,
           2016,
           2015,
           2016,
           2015,
           2016,
           2016,
           2016,
           2016,
           2015,
           2015,
           2016,
           2015,
           2016,
           2016,
           2016,
           2016,
           2016,
           2016,
           2015,
           2016,
           2016,
           2016,
           2016,
           2015,
           2016,
           2016,
           2016,
           2016,
           2015,
           2016,
           2016,
           2015,
           2016,
           2015,
           2015,
           2015,
           2016,
           2015,
           2015,
           2016,
           2016,
           2016,
           2016,
           2016,
           2015,
           2016,
           2016,
           2016,
           2016,
           2016,
           2015,
           2016,
           2016,
           2015,
           2016,
           2016,
           2015,
           2015,
           2015,
           2016,
           2015,
           2016,
           2015,
           2016,
           2016,
           2016,
           2016,
           2015,
           2015,
           2016,
           2016,
           2015,
           2015,
           2015,
           2016,
           2015,
           2015,
           2016,
           2016,
           2016,
           2015,
           2016,
           2015,
           2016,
           2016,
           2016,
           2015,
           2016,
           2016,
           2015,
           2016,
           2016,
           2015,
           2015,
           2016,
           2016,
           2015,
           2016,
           2016,
           2015,
           2016,
           2016,
           2016,
           2015,
           2016,
           2016,
           2015,
           2016,
           2016,
           2016,
           2016,
           2016,
           2016,
           2015,
           2015,
           2016,
           2016,
           2015,
           2016,
           2016,
           2016,
           2015,
           2016,
           2016,
           2015,
           2016,
           2015,
           2015,
           2016,
           2015,
           2015,
           2015,
           2016,
           2016,
           2016,
           2015,
           2016,
           2016,
           2015,
           2015,
           2016,
           2016,
           2016,
           2016,
           2016,
           2016,
           2016,
           2015,
           2015,
           2015,
           2015,
           2015,
           2016,
           2015,
           2016,
           2016,
           2016,
           2016,
           2016,
           2016,
           2015,
           2018,
           2017,
           2018,
           2017,
           2017,
           2018,
           2017,
           2018,
           2017,
           2017,
           2018,
           2017,
           2018,
           2017,
           2018,
           2017,
           2017,
           2018,
           2017,
           2018,
           2017,
           2018,
           2018,
           2017,
           2018,
           2017,
           2017,
           2018,
           2018,
           2017,
           2018,
           2017,
           2018,
           2018,
           2017,
           2017,
           2018,
           2018,
           2018,
           2017,
           2018,
           2018,
           2018,
           2018,
           2018,
           2017,
           2017,
           2018,
           2017,
           2018,
           2018,
           2018,
           2018,
           2018,
           2017,
           2017,
           2017,
           2018,
           2017,
           2017,
           2018,
           2018,
           2018,
           2018,
           2018,
           2017,
           2017,
           2017,
           2018,
           2017,
           2017,
           2018,
           2018,
           2018,
           2017,
           2018,
           2017,
           2018,
           2017,
           2018,
           2018,
           2018,
           2018,
           2018,
           2018,
           2018,
           2017,
           2017,
           2017,
           2018,
           2018,
           2018,
           2017,
           2018,
           2018,
           2018,
           2018,
           2018,
           2017,
           2018,
           2018,
           2017,
           2018,
           2018,
           2017,
           2017,
           2018,
           2017,
           2017,
           2018,
           2018,
           2018,
           2018,
           2017,
           2018,
           2018,
           2018,
           2017,
           2018,
           2017,
           2018,
           2017,
           2017,
           2018,
           2018,
           2017,
           2017,
           2018,
           2018,
           2018,
           2017,
           2018,
           2018,
           2018,
           2018,
           2018,
           2017,
           2017,
           2017,
           2017,
           2018,
           2018,
           2018,
           2017,
           2018,
           2018,
           2017,
           2018,
           2017,
           2018,
           2018,
           2017,
           2017,
           2018,
           2017,
           2017,
           2017,
           2018,
           2018,
           2018,
           2017,
           2018,
           2018,
           2017,
           2018,
           2017,
           2017,
           2017,
           2018,
           2017,
           2017,
           2017,
           2018,
           2017,
           2018,
           2017,
           2018,
           2018,
           2018,
           2018,
           2017,
           2017,
           2017,
           2018,
           2018,
           2017,
           2017,
           2017,
           2018,
           2017,
           2018,
           2017,
           2018,
           2017,
           2017,
           2018,
           2017,
           2018,
           2017,
           2018,
           2017,
           2017,
           2018,
           2017,
           2017,
           2017,
           2018,
           2018,
           2018,
           2018,
           2017,
           2018,
           2017,
           2018,
           2017,
           2017,
           2017,
           2018,
           2017,
           2018,
           2018,
           2017,
           2018,
           2017,
           2018,
           2018,
           2018,
           2018,
           2017,
           2017,
           2017,
           2018,
           2018,
           2018,
           2018,
           2017,
           2017,
           2018,
           2018,
           2017,
           2018,
           2017,
           2017,
           2017,
           2018,
           2018,
           2017,
           2018,
           2017,
           2018,
           2017,
           2017,
           2018,
           2017,
           2017,
           2018,
           2018,
           2018,
           2017,
           2017,
           2018,
           2017,
           2018,
           2018,
           2017,
           2018,
           2017,
           2018,
           2018,
           2018,
           2017,
           2017,
           2017,
           2018,
           2018,
           2017,
           2017,
           2018,
           2018,
           2018,
           2018,
           2018,
           2017,
           2018,
           2017,
           2018,
           2017,
           2018,
           2017,
           2018,
           2017,
           2018,
           2017,
           2017,
           2017,
           2017,
           2017,
           2017,
           2018,
           2018,
           2017,
           2018,
           2018,
           2018,
           2018,
           2017,
           2018,
           2017,
           2017,
           2017,
           2018,
           2018,
           2018,
           2017,
           2018,
           2018,
           2017,
           2018,
           2018,
           2017,
           2017,
           2018,
           2017,
           2018,
           2017,
           2018,
           2018,
           2018,
           2017,
           2018,
           2018,
           2017,
           2018,
           2018,
           2017,
           2018,
           2018,
           2018,
           2018,
           2018,
           2017,
           2017,
           2017,
           2017,
           2017,
           2017,
           2017,
           2017,
           2018,
           2018,
           2017,
           2017,
           2018,
           2018,
           2017,
           2017,
           2018,
           2018,
           2018,
           2017,
           2018,
           2017,
           2018,
           2017,
           2017,
           2018,
           2017,
           2017,
           2017,
           2018,
           2018,
           2018,
           2017,
           2018,
           2017,
           2017,
           2017,
           2018,
           2018,
           2017,
           2018,
           2017,
           2017,
           2018,
           2017,
           2017,
           2018,
           2018,
           2018,
           2017,
           2018,
           2018,
           2018,
           2017,
           2018,
           2017,
           2018,
           2018,
           2018,
           2017,
           2018,
           2018,
           2017,
           2017,
           2017,
           2018,
           2017,
           2017,
           2018,
           2017,
           2018,
           2017,
           2018,
           2017,
           2018,
           2017,
           2017,
           2018,
           2017,
           2017,
           2017,
           2018,
           2017,
           2018,
           2018,
           2018,
           2017,
           2017,
           2017,
           2018,
           2018,
           2018,
           2017,
           2018,
           2018,
           2017,
           2018,
           2018,
           2017,
           2017,
           2018,
           2018,
           2018,
           2018,
           2018,
           2017,
           2018,
           2017,
           2017,
           2017,
           2017,
           2017,
           2018,
           2017,
           2017,
           2018,
           2017,
           2018,
           2017,
           2018,
           2017,
           2018,
           2018,
           2018,
           2017,
           2018,
           2017,
           2018,
           2017,
           2017,
           2018,
           2018,
           2017,
           2018,
           2018,
           2018,
           2017,
           2018,
           2018,
           2017,
           2018,
           2017,
           2018,
           2018,
           2018,
           2018,
           2017,
           2018,
           2017,
           2018,
           2018,
           2017,
           2017,
           2017,
           2017,
           2018,
           2018,
           2018,
           2017,
           2018,
           2017,
           2017,
           2017,
           2018,
           2017,
           2018,
           2018,
           2017,
           2017,
           2017,
           2017,
           2017,
           2017,
           2017,
           2018,
           2018,
           2017,
           2017,
           2017,
           2018,
           2018,
           2017,
           2017,
           2017,
           2018,
           2018,
           2017,
           2017,
           2018,
           2018,
           2017,
           2018,
           2018,
           2018,
           2018,
           2017,
           2017,
           2018,
           2017,
           2018,
           2017,
           2018,
           2018,
           2017,
           2017,
           2017,
           2017,
           2018,
           2018,
           2018,
           2018,
           2018,
           2018,
           2018,
           2017,
           2017,
           2017,
           2018,
           2017,
           2017,
           2018,
           2017,
           2017,
           2018,
           2018,
           2017,
           2018,
           2018,
           2018,
           2018,
           2018,
           2018,
           2018,
           2017,
           2018,
           2017,
           2018,
           2017,
           2017,
           2018,
           2018,
           2017,
           2017,
           2018,
           2017,
           2017,
           2018,
           2017,
           2018,
           2018,
           2017,
           2018,
           2017,
           2017,
           2017,
           2017,
           2018,
           2017,
           2017,
           2017,
           2017,
           2017,
           2017,
           2018,
           2018,
           2018,
           2018,
           2018,
           2018,
           2018,
           2018,
           2017,
           2018,
           2017,
           2018,
           2018,
           2018,
           2018,
           2017,
           2018,
           2018,
           2018,
           2017,
           2018,
           2017,
           2018,
           2017,
           2017,
           2018,
           2018,
           2018,
           2018,
           2018,
           2018,
           2017,
           2018,
           2017,
           2018,
           2017,
           2018,
           2017,
           2017,
           2018,
           2017,
           2018,
           2018,
           2018,
           2018,
           2017,
           2018,
           2017,
           2017,
           2018,
           2017,
           2017,
           2017,
           2017,
           2017,
           2018,
           2017,
           2017,
           2017,
           2018,
           2018,
           2018,
           2018,
           2018,
           2017,
           2018,
           2018,
           2018,
           2018,
           2018,
           2018,
           2017,
           2017,
           2017,
           2017,
           2017,
           2017,
           2018,
           2018,
           2017,
           2017,
           2018,
           2017,
           2018,
           2018,
           2018,
           2017,
           2017,
           2018,
           2018,
           2018,
           2018,
           2017,
           2018,
           2017,
           2017,
           2018,
           2018,
           2018,
           2017,
           2017,
           2018,
           2018,
           2018,
           2017,
           2017,
           2018,
           2018,
           2018,
           2018,
           2018,
           2018,
           2018,
           2018,
           2018,
           2017,
           2017,
           2018,
           2017,
           2018,
           2018,
           2018,
           2017,
           2017,
           2017,
           2017,
           2018,
           2017,
           2017,
           2018,
           2018,
           2018,
           2018,
           2017,
           2018,
           2017,
           2018,
           2018,
           2018,
           2018,
           2017,
           2018,
           2018,
           2018,
           2017,
           2018,
           2018,
           2017,
           2018,
           2018,
           2017,
           2017,
           2017,
           2017,
           2017,
           2018,
           2018,
           2018,
           2018,
           2017,
           2018,
           2018,
           2018,
           2017,
           2017,
           2017,
           2018,
           2018,
           2018,
           2018,
           2017,
           2018,
           2018,
           2018,
           2017,
           2018,
           2017,
           2017,
           2018,
           2017,
           2018,
           2018,
           2017,
           2017,
           2018,
           2017,
           2018,
           2017,
           2018,
           2017,
           2017,
           2018,
           2017,
           2018,
           2018,
           2018,
           2018,
           2018,
           2017,
           2018,
           2017,
           2018,
           2017,
           2018,
           2018,
           2018,
           2018,
           2018,
           2017,
           2018,
           2017,
           2018,
           2017,
           2018,
           2018,
           2018,
           2018,
           2017,
           2017,
           2018,
           2017,
           2017,
           2018,
           2018,
           2018,
           2018,
           2018,
           2017,
           2018,
           2018,
           2018,
           2018,
           2017,
           2018,
           2017,
           2018,
           2018,
           2017,
           2018,
           2018,
           2017,
           2017,
           2018,
           2017,
           2017,
           2018,
           2018,
           2018,
           2019,
           2019,
           2020,
           2020,
           2019,
           2020,
           2020,
           2019,
           2020,
           2019,
           2020,
           2020,
           2020,
           2019,
           2019,
           2020,
           2019,
           2019,
           2019,
           2019,
           2019,
           2019,
           2019,
           2020,
           2019,
           2020,
           2019,
           2019,
           2019,
           2020,
           2020,
           2019,
           2019,
           2020,
           2019,
           2020,
           2020,
           2019,
           2020,
           2019,
           2020,
           2020,
           2019,
           2019,
           2019,
           2020,
           2019,
           2020,
           2020,
           2019,
           2019,
           2019,
           2020,
           2020,
           2019,
           2020,
           2019,
           2020,
           2019,
           2019,
           2019,
           2019,
           2020,
           2019,
           2020,
           2020,
           2019,
           2020,
           2019,
           2020,
           2020,
           2020,
           2019,
           2019,
           2019,
           2020,
           2019,
           2019,
           2020,
           2020,
           2019,
           2019,
           2020,
           2019,
           2020,
           2019,
           2019,
           2020,
           2020,
           2019,
           2020,
           2020,
           2020,
           2019,
           2020,
           2019,
           2019,
           2019,
           2019,
           2019,
           2019,
           2020,
           2019,
           2019,
           2020,
           2019,
           2019,
           2020,
           2019,
           2019,
           2020,
           2020,
           2019,
           2020,
           2020,
           2019,
           2019,
           2020,
           2020,
           2020,
           2019,
           2019,
           2019,
           2020,
           2020,
           2019,
           2019,
           2020,
           2020,
           2019,
           2019,
           2020,
           2019,
           2019,
           2020,
           2019,
           2020,
           2020,
           2020,
           2019,
           2020,
           2020,
           2020,
           2020,
           2020,
           2020,
           2020,
           2020,
           2019,
           2019,
           2020,
           2019,
           2020,
           2020,
           2019,
           2020,
           2019,
           2020,
           2020,
           2020,
           2019,
           2019,
           2020,
           2019,
           2020,
           2020,
           2020,
           2020,
           2019,
           2019,
           2020,
           2019,
           2020,
           2020,
           2019,
           2019,
           2020,
           2020,
           2020,
           2020,
           2019,
           2019,
           2019,
           2020,
           2019,
           2019,
           2020,
           2019,
           2019,
           2020,
           2019,
           2020,
           2019,
           2020,
           2020,
           2020,
           2019,
           2019,
           2019,
           2020,
           2019,
           2019,
           2019,
           2019,
           2020,
           2020,
           2020,
           2020,
           2020,
           2019,
           2019,
           2020,
           2019,
           2019,
           2019,
           2019,
           2020,
           2020,
           2020,
           2019,
           2019,
           2020,
           2019,
           2019,
           2019,
           2020,
           2020,
           2019,
           2020,
           2020,
           2020,
           2020,
           2019,
           2020,
           2020,
           2020,
           2019,
           2019,
           2020,
           2020,
           2019,
           2020,
           2020,
           2019,
           2019,
           2020,
           2020,
           2020,
           2020,
           2019,
           2020,
           2019,
           2020,
           2019,
           2020,
           2019,
           2019,
           2019,
           2020,
           2020,
           2020,
           2020,
           2020,
           2019,
           2019,
           2020,
           2020,
           2020,
           2020,
           2019,
           2019,
           2019,
           2020,
           2019,
           2020,
           2019,
           2019,
           2020,
           2020,
           2020,
           2019,
           2020,
           2019,
           2019,
           2019,
           2019,
           2019,
           2020,
           2019,
           2019,
           2020,
           2020,
           2020,
           2019,
           2019,
           2019,
           2019,
           2019,
           2019,
           2019,
           2019,
           2019,
           2019,
           2020,
           2020,
           2020,
           2019,
           2020,
           2020,
           2019,
           2020,
           2019,
           2019,
           2019,
           2020,
           2020,
           2020,
           2020,
           2019,
           2019,
           2019,
           2020,
           2019,
           2020,
           2020,
           2020,
           2020,
           2019,
           2019,
           2019,
           2019,
           2020,
           2020,
           2019,
           2019,
           2020,
           2019,
           2020,
           2019,
           2020,
           2020,
           2019,
           2019,
           2019,
           2020,
           2019,
           2019,
           2019,
           2020,
           2019,
           2019,
           2019,
           2020,
           2020,
           2019,
           2019,
           2020,
           2019,
           2020,
           2020,
           2020,
           2020,
           2020,
           2019,
           2019,
           2020,
           2020,
           2020,
           2019,
           2020,
           2020,
           2019,
           2019,
           2019,
           2019,
           2019,
           2020,
           2020,
           2019,
           2019,
           2019,
           2020,
           2020,
           2019,
           2019,
           2020,
           2020,
           2019,
           2020,
           2019,
           2020,
           2019,
           2019,
           2020,
           2019,
           2020,
           2019,
           2020,
           2020,
           2020,
           2020,
           2019,
           2020,
           2020,
           2019,
           2020,
           2020,
           2020,
           2019,
           2019,
           2019,
           2020,
           2019,
           2019,
           2020,
           2019,
           2020,
           2020,
           2020,
           2019,
           2019,
           2019,
           2019,
           2020,
           2019,
           2019,
           2020,
           2020,
           2019,
           2020,
           2019,
           2020,
           2019,
           2019,
           2020,
           2020,
           2020,
           2020,
           2020,
           2019,
           2020,
           2020,
           2019,
           2019,
           2019,
           2020,
           2020,
           2019,
           2019,
           2020,
           2019,
           2020,
           2019,
           2019,
           2019,
           2019,
           2019,
           2019,
           2020,
           2020,
           2019,
           2019,
           2020,
           2020,
           2020,
           2019,
           2019,
           2020,
           2020,
           2019,
           2020,
           2020,
           2020,
           2020,
           2020,
           2020,
           2020,
           2020,
           2019,
           2019,
           2019,
           2020,
           2019,
           2020,
           2019,
           2020,
           2020,
           2019,
           2019,
           2019,
           2020,
           2020,
           2019,
           2019,
           2020,
           2019,
           2019,
           2020,
           2020,
           2020,
           2020,
           2020,
           2020,
           2019,
           2020,
           2020,
           2020,
           2020,
           2020,
           2020,
           2020,
           2019,
           2019,
           2020,
           2020,
           2020,
           2019,
           2019,
           2019,
           2020,
           2020,
           2020,
           2019,
           2019,
           2019,
           2020,
           2019,
           2020,
           2020,
           2019,
           2019,
           2019,
           2019,
           2020,
           2019,
           2020,
           2019,
           2019,
           2020,
           2019,
           2019,
           2019,
           2020,
           2019,
           2019,
           2019,
           2019,
           2019,
           2019,
           2020,
           2020,
           2020,
           2020,
           2019,
           2019,
           2019,
           2019,
           2019,
           2020,
           2020,
           2020,
           2020,
           2019,
           2020,
           2020,
           2019,
           2020,
           2020,
           2020,
           2020,
           2020,
           2020,
           2019,
           2019,
           2019,
           2019,
           2019,
           2019,
           2019,
           2020,
           2020,
           2020,
           2020,
           2020,
           2019,
           2020,
           2020,
           2019,
           2020,
           2019,
           2019,
           2020,
           2019,
           2020,
           2020,
           2020,
           2019,
           2020,
           2020,
           2020,
           2020,
           2020,
           2020,
           2019,
           2020,
           2020,
           2020,
           2019,
           2019,
           2019,
           2019,
           2019,
           2020,
           2020,
           2020,
           2019,
           2020,
           2019,
           2020,
           2020,
           2020,
           2020,
           2019,
           2019,
           2020,
           2020,
           2019,
           2020,
           2020,
           2020,
           2019,
           2019,
           2019,
           2020,
           2019,
           2019,
           2019,
           2020,
           2019,
           2019,
           2019,
           2020,
           2020,
           2019,
           2020,
           2020,
           2019,
           2020,
           2019,
           2019,
           2020,
           2020,
           2019,
           2020,
           2020,
           2019,
           2019,
           2019,
           2020,
           2020,
           2019,
           2019,
           2019,
           2020,
           2020,
           2020,
           2020,
           2020,
           2019,
           2020,
           2019,
           2020,
           2019,
           2020,
           2020,
           2020,
           2019,
           2020,
           2020,
           2019,
           2020,
           2020,
           2020,
           2019,
           2019,
           2020,
           2020,
           2020,
           2019,
           2020,
           2019,
           2020,
           2019,
           2019,
           2019,
           2019,
           2020,
           2020,
           2020,
           2019,
           2020,
           2020,
           2020,
           2019,
           2019,
           2019,
           2020,
           2020,
           2020,
           2019,
           2019,
           2019,
           2019,
           2019,
           2019,
           2019,
           2020,
           2020,
           2019,
           2019,
           2020,
           2019,
           2019,
           2019,
           2020,
           2020,
           2019,
           2020,
           2020,
           2020,
           2019,
           2019,
           2019,
           2019,
           2019,
           2019,
           2019,
           2020,
           2019,
           2019,
           2019,
           2020,
           2019,
           2020,
           2020,
           2019,
           2020,
           2019,
           2020,
           2019,
           2019,
           2020,
           2019,
           2020,
           2019,
           2020,
           2020,
           2019,
           2019,
           2019,
           2020,
           2020,
           2019,
           2019,
           2020,
           2019,
           2019,
           2019,
           2020,
           2020,
           2020,
           2019,
           2020,
           2020,
           2019,
           2020,
           2020,
           2019,
           2020,
           2019,
           2019,
           2020,
           2020,
           2019,
           2019,
           2019,
           2020,
           2019,
           2019,
           2020,
           2019,
           2020,
           2020,
           2020,
           2019,
           2020,
           2020,
           2020,
           2020,
           2020,
           2019,
           2020,
           2020,
           2019,
           2020,
           2019,
           2020,
           2019,
           2020,
           2019,
           2019,
           2020,
           2020,
           2020,
           2020,
           2020,
           2020,
           2020,
           2020,
           2020,
           2019,
           2019,
           2020,
           2020,
           2020,
           2019,
           2019,
           2019,
           2019,
           2019,
           2019,
           2020,
           2020,
           2020,
           2019,
           2019,
           2020,
           2020,
           2020,
           2020,
           2020,
           2020,
           2019,
           2019,
           2019,
           2019,
           2019,
           2020,
           2020,
           2019,
           2020,
           2019,
           2019,
           2019,
           2019,
           2020,
           2019,
           2020,
           2019,
           2019,
           2019,
           2019,
           2019,
           2019,
           2019,
           2019,
           2019,
           2019,
           2020,
           2019,
           2019,
           2019,
           2020,
           2019,
           2020,
           2019,
           2020,
           2019,
           2020,
           2020,
           2019,
           2019,
           2019,
           2019,
           2019,
           2019,
           2020,
           2019,
           2019,
           2019,
           2020,
           2019,
           2019,
           2019,
           2019,
           2019,
           2019,
           2020,
           2020,
           2019,
           2020,
           2020,
           2019,
           2020,
           2019,
           2019,
           2019,
           2019,
           2020,
           2019,
           2019,
           2019,
           2020,
           2019,
           2019,
           2020,
           2019,
           2020,
           2019,
           2020,
           2019,
           2019,
           2020,
           2019,
           2020,
           2020,
           2020,
           2019,
           2019,
           2019,
           2020,
           2019,
           2019,
           2019,
           2020,
           2020,
           2020,
           2019,
           2020,
           2020,
           2019,
           2020,
           2019,
           2019,
           2020,
           2020,
           2020,
           2019,
           2019,
           2020,
           2020,
           2019,
           2019,
           2019,
           2019,
           2020,
           2019,
           2019,
           2020,
           2019,
           2020,
           2020,
           2020,
           2020,
           2019,
           2019,
           2020,
           2020,
           2020,
           2020,
           2019,
           2020,
           2019,
           2020,
           2019,
           2019,
           2020,
           2020,
           2019,
           2019,
           2020,
           2019,
           2020,
           2019,
           2020,
           2019,
           2019,
           2019,
           2020,
           2020,
           2019,
           2019,
           2020,
           2020,
           2019,
           2019,
           2020,
           2019,
           2019,
           2019,
           2020,
           2019,
           2020,
           2019,
           2019,
           2019,
           2020,
           2019,
           2019,
           2019,
           2020,
           2020,
           2019,
           2019,
           2019,
           2020,
           2019,
           2019,
           2022,
           2022,
           2021,
           2022,
           2022,
           2022,
           2022,
           2022,
           2022,
           2022,
           2022,
           2022,
           2022,
           2022,
           2022,
           2021,
           2021,
           2022,
           2022,
           2022,
           2021,
           2021,
           2021,
           2022,
           2022,
           2022,
           2022,
           2021,
           2021,
           2021,
           2022,
           2022,
           2022,
           2022,
           2022,
           2021,
           2021,
           2022,
           2022,
           2021,
           2022,
           2021,
           2022,
           2022,
           2022,
           2022,
           2022,
           2022,
           2022,
           2021,
           2022,
           2021,
           2021,
           2021,
           2022,
           2021,
           2022,
           2021,
           2022,
           2022,
           2022,
           2022,
           2021,
           2022,
           2022,
           2022,
           2021,
           2022,
           2021,
           2022,
           2021,
           2021,
           2022,
           2021,
           2021,
           2021,
           2022,
           2021,
           2022,
           2021,
           2021,
           2021,
           2021,
           2021,
           2021,
           2022,
           2022,
           2022,
           2021,
           2021,
           2021,
           2021,
           2022,
           2021,
           2022,
           2022,
           2022,
           2022,
           2021,
           2021,
           2021,
           2021,
           2022,
           2022,
           2021,
           2021,
           2021,
           2021,
           2021,
           2022,
           2022,
           2021,
           2022,
           2022,
           2021,
           2022,
           2021,
           2022,
           2022,
           2022,
           2021,
           2022,
           2022,
           2021,
           2021,
           2021,
           2021,
           2021,
           2022,
           2022,
           2021,
           2021,
           2021,
           2022,
           2022,
           2021,
           2022,
           2021,
           2021,
           2022,
           2022,
           2021,
           2021,
           2021,
           2022,
           2021,
           2022,
           2022,
           2021,
           2021,
           2022,
           2022,
           2021,
           2021,
           2021,
           2021,
           2022,
           2021,
           2022,
           2021,
           2021,
           2021,
           2022,
           2021,
           2021,
           2022,
           2021,
           2022,
           2021,
           2021,
           2021,
           2021,
           2022,
           2022,
           2022,
           2022,
           2021,
           2021,
           2021,
           2022,
           2021,
           2022,
           2021,
           2021,
           2021,
           2022,
           2022,
           2022,
           2021,
           2021,
           2021,
           2022,
           2022,
           2021,
           2021,
           2021,
           2021,
           2021,
           2021,
           2021,
           2022,
           2022,
           2022,
           2021,
           2021,
           2021,
           2021,
           2021,
           2021,
           2021,
           2022,
           2022,
           2022,
           2022,
           2021,
           2021,
           2021,
           2022,
           2022,
           2021,
           2022,
           2022,
           2022,
           2021,
           2022,
           2021,
           2021,
           2021,
           2022,
           2022,
           2021,
           2021,
           2021,
           2022,
           2022,
           2021,
           2021,
           2021,
           2021,
           2021,
           2021,
           2021,
           2022,
           2021,
           2021,
           2022,
           2021,
           2021,
           2021,
           2022,
           2021,
           2022,
           2021,
           2021,
           2021,
           2021,
           2021,
           2021,
           2022,
           2021,
           2021,
           2021,
           2021,
           2022,
           2021,
           2022,
           2021,
           2022,
           2021,
           2021,
           2021,
           2021,
           2021,
           2021,
           2022,
           2021,
           2021,
           2021,
           2021,
           2021,
           2021,
           2021,
           2021,
           2022,
           2021,
           2021,
           2022,
           2021,
           2022,
           2021,
           2022,
           2021,
           2022,
           2021,
           2022,
           2022,
           2021,
           2021,
           2021,
           2022,
           2021,
           2021,
           2021,
           2021,
           2021,
           2022,
           2021,
           2021,
           2021,
           2022,
           2021,
           2022,
           2022,
           2021,
           2021,
           2021,
           2022,
           2021,
           2021,
           2021,
           2021,
           2021,
           2021,
           2021,
           2021,
           2022,
           2021,
           2021,
           2021,
           2021,
           2021,
           2021,
           2021,
           2022,
           2021,
           2021,
           2022,
           2021,
           2021,
           2021,
           2022,
           2021,
           2021,
           2022,
           2021,
           2022,
           2021,
           2022,
           2021,
           2021,
           2022,
           2021,
           2021,
           2021,
           2021,
           2021,
           2021,
           2021,
           2022,
           2021,
           2021,
           2022,
           2021,
           2021,
           2022,
           2021,
           2021,
           2021,
           2021,
           2021,
           2022,
           2021,
           2021,
           2021,
           2021,
           2021,
           2021,
           2021,
           2021,
           2021,
           2021,
           2021,
           2021,
           2022,
           2021,
           2021,
           2021,
           2021,
           2021,
           2021,
           2021,
           2021,
           2022,
           2022,
           2021,
           2021,
           2021,
           2021,
           2021,
           2021,
           2021,
           2021,
           2022,
           2021,
           2021,
           2022,
           2022,
           2021,
           2021,
           2021,
           2021,
           2022,
           2021,
           2021,
           2021,
           2021,
           2021,
           2021,
           2021,
           2022,
           2021,
           2022,
           2021,
           2021,
           2021,
           2021,
           2021,
           2022,
           2021,
           2021,
           2021,
           2021,
           2022,
           2021,
           2021,
           2021,
           2021,
           2021,
           2021,
           2022,
           2021,
           2021,
           2022,
           2021,
           2021,
           2021,
           2021,
           2021,
           2021,
           2022,
           2021,
           2022,
           2021,
           2021,
           2021,
           2021,
           2021,
           2022,
           2021,
           2021,
           2021,
           2022,
           2021,
           2021,
           2021,
           2022,
           2021,
           2022,
           2022,
           2021,
           2022,
           2021,
           2021,
           2021,
           2021,
           2022,
           2022,
           2021,
           2021,
           2021,
           2022,
           2021,
           2021,
           2022,
           2021,
           2021,
           2021,
           2021,
           2022,
           2021,
           2022,
           2021,
           2021,
           2022,
           2021,
           2021,
           2021,
           2022,
           2021,
           2021,
           2021,
           2022,
           2021,
           2021,
           2021,
           2021,
           2021,
           2021,
           2022,
           2022,
           2021,
           2021,
           2021,
           2021,
           2021,
           2021,
           2021,
           2021,
           2021,
           2021,
           2021,
           2021,
           2022,
           2021,
           2021,
           2021,
           2021,
           2021,
           2021,
           2021,
           2021,
           2021,
           2021,
           2021,
           2022,
           2021,
           2021,
           2021,
           2022,
           2021,
           2021,
           2021,
           2021,
           2021,
           2021,
           2022,
           2021,
           2021,
           2021,
           2021,
           2021,
           2021,
           2022,
           2021,
           2021,
           2021,
           2022,
           2021,
           2021,
           2022,
           2021,
           2021,
           2021,
           2021,
           2021,
           2021,
           2021,
           2022,
           2021,
           2021,
           2021,
           2021,
           2021,
           2021,
           2021,
           2021,
           2021,
           2022,
           2021,
           2021,
           2021,
           2022,
           2021,
           2021,
           2021,
           2021,
           2021,
           2021,
           2021,
           2021,
           2021,
           2021,
           2021,
           2021,
           2022,
           2021,
           2021,
           2021,
           2022,
           2021,
           2021,
           2021,
           2021,
           2021,
           2021,
           2021,
           2021,
           2021,
           2021,
           2021,
           2021,
           2021,
           2021,
           2021,
           2021,
           2021,
           2021,
           2021,
           2021,
           2021,
           2021,
           2021,
           2021,
           2022,
           2021,
           2022,
           2021,
           2021,
           2021,
           2021,
           2021,
           2022,
           2021,
           2021,
           2021,
           2021,
           2021,
           2021,
           2021,
           2021,
           2021,
           2021,
           2021,
           2021,
           2021,
           2021,
           2021,
           2021,
           2021,
           2021,
           2021,
           2021,
           2021,
           2022,
           2021,
           2021,
           2021,
           2021,
           2021,
           2021
          ],
          "coloraxis": "coloraxis",
          "symbol": "circle"
         },
         "mode": "markers",
         "name": "",
         "showlegend": false,
         "type": "scattergl",
         "x": [
          8.2,
          7.5,
          8,
          7.6,
          7.9,
          7.6,
          7.6,
          6,
          7.4,
          7.2,
          7.8,
          7.4,
          7.4,
          7.4,
          6.2,
          6.6,
          8.3,
          3.5,
          7.4,
          6.5,
          7.2,
          6.3,
          5.6,
          6.4,
          6.8,
          6.2,
          4.4,
          5.9,
          6.3,
          6.4,
          5.3,
          5.2,
          8.6,
          8.2,
          8.4,
          7.6,
          7.4,
          7.2,
          6.6,
          6.8,
          7.8,
          7.4,
          7.4,
          7.4,
          6.7,
          5.3,
          6.7,
          7,
          7.2,
          7.2,
          8,
          6.2,
          7.6,
          7.6,
          5.8,
          7,
          7.5,
          6.4,
          5.8,
          6.6,
          6.6,
          7,
          6,
          5.2,
          7.5,
          5.7,
          5,
          5.9,
          6.3,
          6.6,
          5.1,
          7.6,
          4.8,
          6.1,
          5.9,
          6.6,
          7,
          5.9,
          5.7,
          7,
          8.5,
          7.8,
          8.6,
          8,
          7.3,
          7.9,
          7.2,
          6.1,
          7,
          7.7,
          8.4,
          7.2,
          6.5,
          6.6,
          6.4,
          6.2,
          7.6,
          7.2,
          7.4,
          6.4,
          7.2,
          6.8,
          6,
          8.2,
          6,
          7.1,
          7.3,
          6.5,
          4.9,
          6.6,
          7.2,
          6,
          6.5,
          7.5,
          5.6,
          5,
          6.6,
          6.2,
          5.2,
          6.9,
          4.9,
          6.4,
          4.9,
          6.8,
          6.1,
          7.6,
          6.4,
          4.8,
          7,
          7.2,
          7.8,
          6.8,
          7.8,
          6.4,
          7.8,
          6.3,
          8.3,
          7.6,
          6.4,
          6,
          6.1,
          6.3,
          7.6,
          6.1,
          6.9,
          6.8,
          7.2,
          6.4,
          7.4,
          6.6,
          5.8,
          7.7,
          6.8,
          6.2,
          6.4,
          7.4,
          7.8,
          6.5,
          7.5,
          7.4,
          5.3,
          6.6,
          6.4,
          5.8,
          6.6,
          6.2,
          7.9,
          5.9,
          4.8,
          6.2,
          4.9,
          6.2,
          5.8,
          7.6,
          5.4,
          7,
          7.2,
          8,
          6.8,
          6.9,
          8.6,
          8.4,
          6.8,
          6.5,
          6.6,
          7.8,
          9,
          7.4,
          7,
          7.6,
          7.9,
          7.4,
          7.2,
          7.4,
          7.4,
          6.4,
          6.4,
          7.6,
          9.8,
          7.2,
          7.2,
          6.1,
          6.7,
          7.4,
          6.8,
          5.8,
          7.4,
          6.4,
          8,
          7.2,
          6.8,
          6.6,
          6.8,
          5.9,
          6.8,
          6.1,
          6.4,
          5.7,
          6.9,
          6.6,
          6.8,
          7.8,
          6.8,
          7.8,
          6.8,
          5.6,
          7,
          5.4,
          5.4,
          7.3,
          5.3,
          5.3,
          5.4,
          6.4,
          6.4,
          7,
          8.2,
          6,
          6.2,
          4.6,
          6.7,
          6.4,
          7,
          7,
          5.8,
          6,
          6.1,
          6,
          6.6,
          5.8,
          5.2,
          5.6,
          5.2,
          5.9,
          5.6,
          5.6,
          6.8,
          5.9,
          7.7,
          7.7,
          5.4,
          7.5,
          6.7,
          5.8,
          6.8,
          6.1,
          6.1,
          4.9,
          5.9,
          5.6,
          8.2,
          5.2,
          6.2,
          8.2,
          5.2,
          5.6,
          4.9,
          5.8,
          5.5,
          5.8,
          6.5,
          7,
          7.7,
          6.8,
          7.5,
          6.4,
          6.2,
          6.9,
          7.5,
          7.2,
          7,
          7.7,
          6.8,
          7,
          7.6,
          7.7,
          7.6,
          5.6,
          7.9,
          7.4,
          7.6,
          7.1,
          5,
          7.4,
          7.8,
          6.4,
          6.2,
          7.6,
          7.2,
          6.1,
          6.8,
          7.4,
          7.6,
          7.6,
          8.1,
          6.6,
          7.6,
          7,
          4.3,
          6.6,
          6.8,
          6.9,
          6.5,
          6.8,
          7.4,
          7.4,
          7,
          7.1,
          6.5,
          7.2,
          6.6,
          6.6,
          7,
          6.2,
          3.5,
          5.3,
          7.3,
          6.6,
          7.3,
          7.4,
          5.5,
          7.6,
          7.4,
          6.7,
          6.5,
          7.1,
          6.6,
          7.3,
          6.4,
          6.9,
          6.8,
          6.8,
          7.4,
          7,
          5.8,
          6.2,
          6.8,
          6.7,
          6.8,
          6.9,
          5.8,
          7,
          6.4,
          6.3,
          7.3,
          6.6,
          6.8,
          5.4,
          7.1,
          6,
          6.2,
          6.8,
          7.6,
          6.5,
          5.7,
          7,
          6.7,
          7.4,
          7.4,
          6.7,
          6.4,
          5,
          5.2,
          7,
          5.9,
          7.7,
          6.2,
          5,
          7.3,
          4.5,
          6.8,
          7.9,
          7.7,
          4.8,
          5.6,
          5.6,
          3.4,
          6.2,
          4.3,
          7.4,
          7.3,
          4.6,
          7.4,
          7,
          6.8,
          6.5,
          7.6,
          5.6,
          5.7,
          5.5,
          5.3,
          6.9,
          5.8,
          7.1,
          7.2,
          8,
          3.5,
          7.6,
          7,
          6.2,
          7.4,
          7.5,
          7.1,
          3.6,
          5.9,
          5.1,
          5.1,
          7,
          6.6,
          6.8,
          7,
          7,
          6.2,
          7.7,
          6.5,
          7.8,
          5.7,
          6.8,
          7.2,
          6.6,
          5.3,
          6.4,
          5.7,
          4.2,
          5.3,
          6.6,
          5.3,
          7.2,
          3.3,
          6.7,
          5.4,
          7.7,
          5.8,
          6.2,
          5.9,
          6,
          6.5,
          6.4,
          6.4,
          5.6,
          5,
          5.2,
          5.1,
          6.1,
          4.6,
          5.4,
          6.4,
          6.1,
          5,
          6.9,
          null,
          6.1,
          8.2,
          5.8,
          7.6,
          6.3,
          6.6,
          7.3,
          6.7,
          7.2,
          6.8,
          8.1,
          7.2,
          7,
          8.3,
          7.4,
          7.5,
          7,
          6.7,
          7.2,
          6.4,
          6.4,
          6.1,
          6.1,
          5.6,
          7,
          5.2,
          6.8,
          7.3,
          6.3,
          7.4,
          7.5,
          6.2,
          8,
          6.3,
          5.1,
          6,
          6.6,
          6.9,
          8.1,
          5.6,
          5.7,
          7,
          6.1,
          5.8,
          7.6,
          7.3,
          6.6,
          7.9,
          6.8,
          7.6,
          7.8,
          7.7,
          7.4,
          7.8,
          6.7,
          6.6,
          7.1,
          7.2,
          7.7,
          7.8,
          6,
          6.2,
          7.2,
          7,
          7.9,
          6.6,
          7.3,
          5.4,
          6.8,
          7.8,
          6.1,
          6.8,
          3.8,
          7,
          7.3,
          7.2,
          7,
          6,
          6,
          6.4,
          6.4,
          7,
          6.3,
          6.6,
          6.4,
          5,
          5.9,
          7.7,
          7.3,
          5.6,
          6.6,
          5,
          5.2,
          4.9,
          6.5,
          5,
          6.8,
          4.7,
          4.7,
          6,
          4.4,
          6.7,
          6.6,
          5.4,
          5,
          5,
          6.7,
          6.6,
          6.7,
          6.9,
          7.4,
          3.9,
          5.4,
          6.4,
          6.6,
          5.6,
          6.8,
          4.6,
          8.2,
          5.8,
          7.8,
          6.5,
          null,
          4.1,
          7.7,
          5.4,
          6.9,
          6.1,
          8.1,
          6.4,
          6.3,
          7.9,
          6.6,
          5.4,
          5.2,
          null,
          6.3,
          6,
          6.1,
          5,
          5,
          5.6,
          6.2,
          7.2,
          6.7,
          8,
          7.9,
          7.8,
          7.2,
          7.5,
          7.8,
          5.8,
          7.1,
          7.4,
          7.3,
          6.4,
          6.3,
          7.2,
          6.6,
          6.4,
          6.6,
          6.4,
          7,
          5.5,
          5.3,
          6.6,
          6.4,
          6.8,
          4.2,
          7.5,
          6.2,
          5.5,
          7.3,
          5.1,
          6.4,
          7,
          6.8,
          6.4,
          7,
          7,
          6.8,
          7.6,
          7.8,
          6,
          8,
          5.6,
          5.2,
          6.2,
          7.9,
          7.5,
          8,
          6.8,
          6.2,
          7.8,
          8.1,
          6.1,
          7.8,
          6,
          7.5,
          5.5,
          5.7,
          7.6,
          7.4,
          7.4,
          6.8,
          5.5,
          7.3,
          7.7,
          8,
          6.8,
          7.3,
          7.4,
          6.5,
          7.2,
          6.4,
          5.2,
          7,
          7.3,
          6.8,
          5.8,
          5.4,
          6.2,
          7.3,
          6.6,
          7.5,
          6.6,
          7.4,
          6.7,
          6.8,
          7.6,
          5,
          7.8,
          5.4,
          5.4,
          7.1,
          7.4,
          7.4,
          5.6,
          6.2,
          6.2,
          6.1,
          6.7,
          6.6,
          7.2,
          7,
          6.2,
          5,
          6.6,
          6.2,
          4.1,
          7.7,
          6.3,
          7,
          7.5,
          6.8,
          6.4,
          7,
          7.4,
          6.3,
          5.8,
          7.3,
          7.1,
          6.8,
          7.5,
          7.6,
          6.6,
          6.1,
          5.8,
          4.9,
          7.2,
          7.1,
          7,
          null,
          8.1,
          6.2,
          6.6,
          5.8,
          6.6,
          6.3,
          3.8,
          7.3,
          5.8,
          5.6,
          7.4,
          8.6,
          7.6,
          6.8,
          6.2,
          6.6,
          6.1,
          6.9,
          5.7,
          6.6,
          6.5,
          6.8,
          5.6,
          7.3,
          6,
          6.2,
          5.8,
          4.5,
          7.5,
          7.8,
          7.2,
          5.5,
          5.4,
          6.2,
          5.6,
          6.8,
          4.2,
          5.1,
          7.6,
          6,
          4.2,
          5.7,
          6.3,
          6.8,
          6.9,
          6.4,
          6.2,
          null,
          7.1,
          5.4,
          2.5,
          9.1,
          5.4,
          4.8,
          5.1,
          8.7,
          7.2,
          6.7,
          4.7,
          7,
          6,
          5.6,
          5.4,
          5.1,
          5.8,
          7.8,
          6.4,
          null,
          6.8,
          6.8,
          4.8,
          null,
          2.9,
          7.1,
          6.2,
          null,
          6,
          7.8,
          7.4,
          7,
          5.1,
          7,
          5.4,
          6.3,
          7.5,
          7,
          7.8,
          5.8,
          6.8,
          5.6,
          6.1,
          6.6,
          7.8,
          5.7,
          5.6,
          7.2,
          6,
          8.2,
          7,
          6.6,
          6.4,
          6,
          7,
          7.3,
          6.7,
          6.8,
          7.2,
          6,
          7.3,
          6.8,
          6.8,
          7.4,
          6.6,
          6.6,
          5.5,
          7,
          6.4,
          7.3,
          6.5,
          6.4,
          6.6,
          6,
          6.5,
          6.2,
          6.1,
          8.1,
          6.3,
          7.1,
          6.1,
          7.1,
          7,
          7.6,
          6.2,
          5,
          7.6,
          4.8,
          7,
          6.8,
          5.3,
          8.2,
          5.6,
          7.2,
          8.2,
          5.4,
          7,
          7.2,
          5,
          8.3,
          5.7,
          7.1,
          6.4,
          4.8,
          5.6,
          6,
          7.4,
          6.1,
          6.2,
          4.5,
          6.2,
          7.2,
          5.7,
          5.8,
          6,
          5.8,
          6.2,
          7.4,
          6.4,
          5.6,
          5.6,
          4.6,
          7.6,
          6.3,
          6.3,
          5.6,
          5.8,
          5.8,
          6.8,
          7.6,
          6.8,
          6.6,
          5.2,
          7.6,
          5.9,
          5.7,
          7.6,
          7.8,
          5.3,
          6.3,
          6.8,
          7.4,
          5.7,
          6.1,
          7.3,
          8,
          5.6,
          6.2,
          5.5,
          7.4,
          6.6,
          6.8,
          5.4,
          7.6,
          7.2,
          7,
          7,
          6.9,
          6.3,
          6.6,
          5.8,
          5.4,
          6.2,
          6.2,
          7,
          6,
          7.2,
          6.4,
          5.5,
          6.7,
          6.1,
          7.1,
          5.8,
          6.2,
          6,
          6.8,
          6.2,
          6.6,
          7.6,
          5.8,
          6,
          6.9,
          6,
          6.8,
          7.2,
          7.2,
          7.2,
          6.5,
          7.8,
          6.5,
          7.3,
          7.2,
          6.1,
          4.9,
          7.8,
          4.8,
          4.4,
          5.8,
          5.8,
          7,
          6.6,
          6,
          6.2,
          6.4,
          7.6,
          6.6,
          7,
          7.5,
          6.2,
          6.6,
          6.6,
          6.3,
          7.4,
          7.4,
          7,
          4.6,
          6.3,
          5.1,
          6.2,
          6.5,
          5.2,
          6.4,
          5.6,
          4.2,
          5.9,
          7.4,
          7.4,
          7.8,
          7,
          4.7,
          7.3,
          7.7,
          5.7,
          5.1,
          6.6,
          6.5,
          5.5,
          5.4,
          7.1,
          5.2,
          5.6,
          6.8,
          4.2,
          7.5,
          5.6,
          6.6,
          5.9,
          5.7,
          7.4,
          5.9,
          5.4,
          4.2,
          5.9,
          5.8,
          4.9,
          7.4,
          4.3,
          6.8,
          6.1,
          6.7,
          5.1,
          5.8,
          6.6,
          5.5,
          6.6,
          5.6,
          6.4,
          6.6,
          6.4,
          5.4,
          7.1,
          6.5,
          6.2,
          6.2,
          7,
          6.4,
          6,
          7.5,
          6.9,
          7,
          2.5,
          7.2,
          7.6,
          5.2,
          6.7,
          5.8,
          4,
          6.6,
          6.4,
          6.3,
          null,
          7.3,
          5.2,
          7.2,
          4.6,
          6.8,
          5.7,
          6.4,
          5.4,
          6.8,
          5.1,
          4.8,
          4.7,
          5.4,
          2.8,
          7.4,
          6,
          5.7,
          6,
          4.4,
          6.6,
          10,
          5.4,
          7,
          7.3,
          2.8,
          7.3,
          6.4,
          6.9,
          7.8,
          6,
          7.4,
          6.1,
          5.6,
          6.8,
          6,
          1.5,
          6.5,
          5.5,
          null,
          6.3,
          6.3,
          6.8,
          5.2,
          6.6,
          6.6,
          5.5,
          6.8,
          6.2,
          7.4,
          5.2,
          4.3,
          7.1,
          7.1,
          6.1,
          6.2,
          6.8,
          5.6,
          7.2,
          6.8,
          3.2,
          4.7,
          5.4,
          5.4,
          5.9,
          4.4,
          6.7,
          6.5,
          null,
          6,
          5.7,
          7,
          5.6,
          5.1,
          6.6,
          4.9,
          5.1,
          5.2,
          7.6,
          6.5,
          6.5,
          6.3,
          6,
          5.4,
          4.8,
          5,
          4.4,
          7,
          5.6,
          7,
          4.1,
          7,
          5.6,
          6.2,
          7,
          5.8,
          6,
          6.3,
          6.6,
          7,
          7.8,
          6.4,
          7.2,
          7.6,
          6.8,
          7.6,
          7.2,
          7.4,
          7.2,
          6.8,
          6,
          7.2,
          7.4,
          8.2,
          6.2,
          7.4,
          5.9,
          8,
          7.2,
          7.7,
          4.6,
          6.7,
          6.4,
          5.6,
          7,
          6.4,
          7.7,
          6.8,
          6.4,
          6.9,
          5.2,
          6.9,
          7.4,
          6.9,
          5.8,
          6.8,
          5.8,
          6.8,
          6.2,
          5.8,
          5.8,
          5.8,
          6.4,
          6.6,
          6.7,
          6.7,
          6,
          6.8,
          6.6,
          6.2,
          6.4,
          7.4,
          7.1,
          7.8,
          6.1,
          7.8,
          6.6,
          6.1,
          6.2,
          6.2,
          5.4,
          5.5,
          6.3,
          6.6,
          6.2,
          6.8,
          6.2,
          5.9,
          7,
          6.4,
          4.9,
          7,
          6.8,
          6.4,
          6.5,
          7.4,
          6,
          7.6,
          5.8,
          5.6,
          4.9,
          7.4,
          6.7,
          7,
          6.6,
          6.4,
          6.2,
          7.4,
          6.6,
          7.1,
          7.4,
          5.8,
          7.6,
          5.8,
          6.1,
          6.6,
          6,
          6.4,
          5.4,
          5.5,
          7.2,
          5.4,
          6.8,
          6.9,
          6,
          8.1,
          5.8,
          7.8,
          6.6,
          6,
          5.4,
          5.1,
          6,
          6.5,
          6.6,
          5.2,
          4.4,
          6,
          6.5,
          6.7,
          7,
          5.8,
          6.7,
          7.5,
          5.2,
          6.3,
          6.4,
          6.2,
          7.4,
          5.9,
          5.2,
          5.6,
          6.2,
          7.2,
          8,
          5.8,
          7.2,
          6.2,
          6.2,
          5.6,
          7.8,
          5.3,
          6,
          6.1,
          5.6,
          7.2,
          5.8,
          7.4,
          5.4,
          5.8,
          7,
          6,
          6.3,
          6.4,
          7.2,
          6.4,
          4.6,
          6.8,
          8,
          5.1,
          5.8,
          6,
          7.2,
          5.4,
          6.1,
          7.6,
          5.2,
          6.8,
          6.2,
          6.3,
          6.8,
          6.5,
          5.2,
          4.7,
          6,
          7.8,
          6.1,
          7.4,
          7.2,
          5.7,
          6.5,
          7.3,
          6.9,
          4.9,
          5,
          6.2,
          7,
          8.2,
          6.2,
          6.2,
          6,
          5.8,
          5,
          5.7,
          6.4,
          6.9,
          6.7,
          5.4,
          6.4,
          7.2,
          7.2,
          6,
          6,
          6.2,
          6.8,
          7.8,
          6.6,
          7,
          6.8,
          6.4,
          7.6,
          8,
          6.6,
          7,
          5.8,
          6.8,
          4.9,
          5.6,
          5.8,
          7,
          6.8,
          5.8,
          5.6,
          6.9,
          5.4,
          8.2,
          5.2,
          5.2,
          5.6,
          7.4,
          7.8,
          4.8,
          6.5,
          5.6,
          6.3,
          5.6,
          3.5,
          7.2,
          5.6,
          5.2,
          7.1,
          8,
          4,
          7.5,
          7.4,
          5.8,
          7.1,
          6.4,
          6.4,
          7,
          7.3,
          7.6,
          5.8,
          5.9,
          6.6,
          6.6,
          5.3,
          6.8,
          6.5,
          7,
          7.2,
          5.8,
          5.9,
          5.6,
          5.3,
          5.2,
          6.2,
          7.2,
          6.9,
          8,
          6.8,
          7.6,
          7.4,
          7.2,
          5.4,
          6.4,
          6.7,
          6.5,
          6.6,
          7.2,
          7.4,
          7.2,
          7.6,
          5.9,
          6.4,
          6.4,
          6.5,
          5.9,
          7.4,
          6.4,
          5.9,
          6.1,
          6.7,
          null,
          5.9,
          5.8,
          6.1,
          6.3,
          6.5,
          6.4,
          6.8,
          5,
          6.4,
          6.6,
          5.8,
          5.8,
          5.8,
          6.5,
          6.6,
          7.3,
          5.2,
          6.2,
          5.2,
          5.8,
          7.2,
          6.2,
          7.5,
          6,
          5.6,
          5.2,
          6,
          8,
          6.8,
          5.5,
          6.5,
          6.8,
          6.3,
          4.9,
          5.1,
          6,
          4.9,
          5.5,
          5.6,
          7.6,
          7,
          6,
          6.1,
          6.2,
          5.4,
          6.7,
          4.8,
          7.4,
          6,
          3.8,
          6.4,
          4.5,
          6.6,
          5.5,
          6.2,
          5.8,
          5.7,
          6.4,
          6.9,
          5.6,
          6.4,
          7,
          6.4,
          5.2,
          5.7,
          5.9,
          5.2,
          5.3,
          5.6,
          6.2,
          7,
          4.1,
          6.2,
          6.6,
          7.8,
          6.6,
          6.2,
          7,
          6.4,
          6.7,
          6.6,
          7.2,
          5.4,
          6.8,
          5.7,
          7.2,
          7,
          7.1,
          5.6,
          5.4,
          7,
          5.8,
          6.1,
          4.6,
          7.2,
          7.2,
          7.6,
          7.2,
          4.8,
          5.6,
          7.4,
          7.4,
          7.7,
          7.7,
          6.5,
          6.6,
          7.4,
          6.1,
          6,
          5.5,
          6.4,
          7.1,
          6.6,
          6.6,
          5.9,
          7.4,
          7.2,
          6.2,
          7,
          5.5,
          6.8,
          5.1,
          6.4,
          6.4,
          6.2,
          5.6,
          6.2,
          5.8,
          5.8,
          7.2,
          7.8,
          7.2,
          6.7,
          7.2,
          5.3,
          7.4,
          6,
          6.2,
          5.7,
          5.4,
          3.8,
          6.2,
          7,
          7.2,
          7.1,
          6,
          6.1,
          7.6,
          6.8,
          6,
          7.6,
          5.2,
          7.8,
          6.8,
          7.4,
          7,
          6.8,
          6.3,
          7.2,
          6.4,
          6.2,
          5.4,
          8.2,
          7,
          6.2,
          7.2,
          6.4,
          3.9,
          5.6,
          5.4,
          5.4,
          6,
          7.4,
          7,
          5.6,
          6.9,
          6.3,
          6.8,
          6.4,
          8.1,
          7.6,
          7.2,
          7,
          5.9,
          5.8,
          5.8,
          5.9,
          7.7,
          6,
          7.2,
          7.2,
          null,
          7.2,
          7.4,
          5.6,
          7.4,
          6.8,
          6.6,
          6.4,
          5,
          4.4,
          7.2,
          5.4,
          6.2,
          7.4,
          6.9,
          7.2,
          6.2,
          6.3,
          5,
          5.4,
          5.6,
          5.5,
          6,
          6.2,
          5.8,
          6.1,
          6.4,
          8,
          4.1,
          6.2,
          3.6,
          6.5,
          6.2,
          6.2,
          7,
          5.2,
          5.3,
          7.4,
          5.2,
          4.7,
          6.4,
          4.6,
          6.4,
          7,
          6.8,
          5.2,
          6.4,
          6.6,
          6.8,
          4.7,
          6.2,
          6.2,
          6.6,
          4.8,
          6.2,
          8.1,
          3.8,
          6.1,
          6.7,
          5.9,
          7,
          6.9,
          6.8,
          4.4,
          8.4,
          5.6,
          7.2,
          7,
          5.9,
          7.6,
          5,
          4.6,
          6.3,
          7,
          8,
          6.2,
          7.8,
          5.8,
          6.8,
          5.8,
          5.4,
          8.4,
          5.5,
          6.6,
          5.2,
          7,
          5.2,
          6.2,
          5.8,
          7.2,
          7.3,
          6.8,
          6.7,
          5,
          6.1,
          7.6,
          3.2,
          6.4,
          5.2,
          6.3,
          5.9,
          7,
          7.2,
          4,
          5.7,
          7,
          5.5,
          5.7,
          7.4,
          6.6,
          7.6,
          6.6,
          6.4,
          6.1,
          6.8,
          7.5,
          7.1,
          7.4,
          6.1,
          6.9,
          8,
          3.4,
          5,
          5.9,
          4.9,
          5.6,
          6.5,
          5.6,
          7,
          5.8,
          6.6,
          5.3,
          6.6,
          5.2,
          7.6,
          6.4,
          6,
          6.2,
          7.3,
          5.6,
          7,
          6.3,
          6.9,
          7.5,
          7.3,
          7.3,
          7.3,
          5.9,
          6.2,
          5.6,
          5.6,
          9,
          6.7,
          5,
          5.4,
          6,
          6.2,
          5.4,
          6.8,
          7.8,
          3.9,
          6.7,
          6.8,
          7,
          4.8,
          5.7,
          6,
          6.7,
          7.3,
          7.2,
          7,
          5.4,
          7.2,
          5.9,
          6.9,
          6,
          6.2,
          5.2,
          5.6,
          5.2,
          6.4,
          5.4,
          6,
          6.5,
          6.7,
          6.5,
          5.8,
          6.6,
          6.2,
          5.8,
          6,
          6.4,
          7.4,
          6,
          6.9,
          6.6,
          5.8,
          4,
          5,
          6.4,
          5.3,
          8,
          4.8,
          6.4,
          6.7,
          7.3,
          5.4,
          4.5,
          6.3,
          6.1,
          4,
          6.4,
          5.8,
          7.1,
          6.8,
          6.4,
          7,
          5.9,
          6.5,
          4.6,
          5.8,
          6.1,
          5.7,
          8,
          6.6,
          6.2,
          5.8,
          6.7,
          6.4,
          6,
          6.6,
          5,
          8.1,
          6.4,
          6.1,
          7.8,
          6.4,
          7.4,
          6.8,
          7.8,
          5.9,
          6.8,
          6.2,
          6.8,
          4.2,
          6.3,
          6.3,
          6.5,
          4.3,
          5.8,
          7.2,
          6,
          4.4,
          6.3,
          7.7,
          4,
          5,
          6.2,
          4.5,
          1,
          5.9,
          5.1,
          4.2,
          4.8,
          3.2,
          4.4,
          6.5,
          null,
          7.4,
          5.7,
          5.5,
          5.9,
          8.4,
          5.1,
          5.9,
          6.4,
          7.8,
          5,
          null,
          6.1,
          5.8,
          4.6,
          5,
          4.9,
          7.8,
          6.4,
          6.3,
          6.4,
          6.1,
          6.2,
          7.2,
          7.8,
          6.4,
          3.4,
          4.6,
          5.9,
          6.7,
          5.8,
          7.2,
          4.8,
          5.5,
          6.4,
          6.4,
          7.6,
          5.2,
          6.6,
          6.4,
          5.6,
          4.9,
          7.6,
          6.9,
          6.1,
          4.4,
          4,
          5.4,
          7.8,
          6.2,
          7.1,
          7.2,
          5.6,
          4.2,
          6.2,
          5.4,
          6.4,
          5.8,
          6.6,
          3.6,
          3.4,
          5,
          6.8,
          4.2,
          5.4,
          7,
          5.6,
          6.8,
          4.6,
          5,
          4.8,
          5.6,
          6.7,
          6.4,
          6.6,
          5.8,
          6,
          4.4,
          6,
          4,
          6.3,
          5.6,
          6.2,
          5.2,
          7.1,
          5.9,
          5.8,
          4.1,
          6.7,
          5.8,
          5.6,
          6.2,
          5.3,
          5.4,
          6.8,
          5.7,
          null,
          7.1,
          7.8,
          6.7,
          5.6,
          6.6,
          7.7,
          7,
          8,
          6.2,
          6.2,
          7,
          7,
          6.9,
          6.5,
          7.8,
          6.4,
          7.2,
          7.4,
          7.4,
          7.2,
          6.3,
          5.9,
          5,
          6.2,
          7.3,
          7.2,
          7,
          6.8,
          6.6,
          6.2,
          6.8,
          6.4,
          7.1,
          6.7,
          7.6,
          6.8,
          6.8,
          5.4,
          6.4,
          6.4,
          6.2,
          7.2,
          6.2,
          6.2,
          6.2,
          6.6,
          5.2,
          6.7,
          5.6,
          7.8,
          7.2,
          5.9,
          6.1,
          6.6,
          5.7,
          5.4,
          6,
          7.8,
          5.4,
          6.2,
          6.2,
          7.7,
          7.6,
          6.2,
          5.6,
          6.3,
          7,
          7.1,
          6.1,
          7,
          6.8,
          7.4,
          6.8,
          5.6,
          6.8,
          6,
          5.8,
          6.4,
          6.8,
          5.4,
          6.6,
          6,
          7.6,
          7.4,
          5.5,
          6.3,
          8.6,
          6.2,
          6.7,
          6.2,
          5.4,
          6.8,
          6.3,
          6.9,
          7,
          6.1,
          7,
          7.2,
          6.2,
          6.8,
          5.3,
          5.9,
          7.5,
          6.3,
          5.6,
          6.4,
          7.4,
          7.1,
          8.7,
          4.3,
          7.5,
          6.3,
          5.7,
          6,
          5.8,
          6.6,
          4.8,
          7,
          5.6,
          6.8,
          8.1,
          7,
          5.9,
          7.8,
          4,
          7.2,
          6.7,
          5.6,
          5.8,
          7,
          6.6,
          6.8,
          6.7,
          7.4,
          7.3,
          6,
          8.2,
          5.4,
          7.1,
          6.6,
          7,
          6.8,
          7,
          6.8,
          7.6,
          7,
          7.1,
          6.6,
          5.2,
          5,
          6.3,
          7.2,
          6.2,
          5.6,
          8.2,
          6.4,
          6.1,
          6.7,
          4.8,
          6,
          4.3,
          7.4,
          7.7,
          6.4,
          7,
          7,
          5.6,
          7.4,
          6.8,
          8,
          7.6,
          6.2,
          7.4,
          7,
          6.2,
          6,
          6.3,
          6.4,
          5,
          7.4,
          8.4,
          7.2,
          5.7,
          5.4,
          6.7,
          5.8,
          8.1,
          4.4,
          5.6,
          7.6,
          6.1,
          5.8,
          5.4,
          5.9,
          6.6,
          6.2,
          4.6,
          7.5,
          8.1,
          7.8,
          6.6,
          5.8,
          5.7,
          7.5,
          6.8,
          7,
          7.1,
          6.4,
          5.6,
          5.8,
          6.2,
          7.1,
          5.2,
          5.9,
          6,
          5.8,
          7.4,
          6.5,
          6.5,
          6.8,
          6.2,
          7.5,
          6.7,
          6.5,
          4.8,
          7.8,
          7.2,
          7,
          6.4,
          6.7,
          6.4,
          4.7,
          6.5,
          6.6,
          6.8,
          6.4,
          5.8,
          5.6,
          5.8,
          4.5,
          6.4,
          7,
          6.7,
          6.3,
          6.1,
          8,
          6.8,
          6.9,
          5.6,
          7.4,
          8,
          7.2,
          6.7,
          5.5,
          8.2,
          6.4,
          7,
          6.4,
          7.6,
          7.4,
          7.4,
          5.6,
          7.5,
          6.8,
          6.1,
          6.1,
          5.5,
          5.2,
          7.4,
          7.6,
          7.4,
          4.3,
          6.3,
          6.5,
          7,
          5.8,
          7.1,
          7.4,
          7.7,
          7.4,
          4.9,
          6.1,
          7,
          5,
          6.8,
          5.9,
          6.6,
          7.6,
          5.3,
          6.8,
          6.6,
          7.5,
          4,
          5.9,
          7.1,
          7.6,
          6.8,
          7.6,
          7.6,
          6.6,
          6.4,
          7,
          5.1,
          7.6,
          6.6,
          6,
          6.8,
          3.6,
          5.8,
          5.6,
          6.4,
          3.8,
          6.8,
          7.8,
          6.4,
          4.2,
          5.5,
          4.6,
          6.7,
          7.2,
          4.8,
          7.4,
          5.9,
          7.5,
          5.2,
          7.6,
          5.8,
          7,
          7.5,
          5.4,
          5.3,
          5.1,
          7.2,
          6.9,
          5.6,
          7.6,
          5.8,
          6.2,
          5.8,
          5.5,
          7.2,
          7.6,
          5.6,
          6.2,
          6.7,
          3,
          4.8,
          6.7,
          6,
          6.4,
          7,
          7,
          7,
          6.4,
          5.9,
          5.2,
          3.4,
          8.8,
          4.9,
          6.6,
          6,
          6.1,
          6.4,
          7,
          5.9,
          4.2,
          5,
          6.9,
          7.6,
          6.2,
          7.8,
          2.6,
          8.2,
          5.4,
          7,
          6.8,
          6.6,
          7.8,
          7,
          5.2,
          5.7,
          4.9,
          6.9,
          6.6,
          6.4,
          7.4,
          6.6,
          5.6,
          7.1,
          5.9,
          6.2,
          7,
          6.4,
          5.8,
          6.5,
          6.4,
          6,
          6.4,
          6.9,
          5.9,
          7.4,
          4.8,
          6.4,
          5.3,
          3.2,
          7,
          6.4,
          6.1,
          6.2,
          7.1,
          5.8,
          5.5,
          6.1,
          3.4,
          6.8,
          7,
          7.2,
          6.4,
          5.1,
          7.3,
          6.8,
          6.8,
          7.3,
          8.1,
          7.2,
          6.9,
          6.2,
          6,
          5.8,
          5.8,
          6.2,
          6.6,
          5.7,
          4.9,
          7.2,
          7.2,
          5.4,
          6.1,
          7.3,
          6.9,
          3.4,
          6.5,
          5.2,
          6.9,
          6.3,
          6,
          5.8,
          4.6,
          7,
          4.2,
          6.4,
          8,
          5.1,
          5.9,
          7.3,
          6.6,
          7.3,
          6.8,
          7.2,
          7,
          8.1,
          7.2,
          6.4,
          5.3,
          6.2,
          7.6,
          4.7,
          6.6,
          6.1,
          6.3,
          7.6,
          7.3,
          4,
          5,
          8.4,
          6.2,
          6.7,
          7.6,
          6.5,
          5.8,
          5.6,
          7.2,
          6.6,
          6.2,
          6.6,
          6.8,
          6.4,
          7.2,
          6.2,
          8.2,
          5.5,
          6.6,
          5.8,
          5.4,
          5.6,
          5.9,
          5.3,
          6.6,
          6.2,
          5.2,
          4.6,
          5.5,
          7.5,
          5.8,
          5,
          4.6,
          5.8,
          7.2,
          7.4,
          3.8,
          6.3,
          8.2,
          5.6,
          6.1,
          6.9,
          7.1,
          6,
          4.1,
          6.9,
          7,
          7,
          5.3,
          5.9,
          7.9,
          8.2,
          6.5,
          6.8,
          4.7,
          7.4,
          5.4,
          8.4,
          7,
          7.4,
          5.9,
          5.4,
          6.3,
          6.8,
          6.6,
          6.2,
          5.6,
          7.5,
          6.8,
          5.2,
          5.4,
          4.4,
          6.4,
          5.9,
          5.6,
          7.9,
          7.4,
          6.6,
          6.5,
          7.6,
          7.8,
          6.4,
          6.2,
          7,
          5.8,
          6.2,
          6.2,
          5.6,
          7.3,
          7.5,
          6.4,
          6.9,
          3.7,
          7.8,
          4.8,
          6.8,
          5.8,
          6.2,
          5.9,
          6.9,
          4.9,
          7,
          7.2,
          6.2,
          5,
          6.6,
          7.2,
          7.2,
          6.5,
          5.8,
          4.8,
          6.4,
          5.6,
          7,
          6.1,
          7.8,
          6.2,
          5.8,
          6.6,
          6.1,
          5.9,
          6.4,
          8.6,
          7.5,
          5.7,
          4.8,
          5.7,
          7.6,
          5.9,
          6.2,
          7.4,
          4.7,
          7.9,
          6.7,
          5.8,
          7.5,
          6.1,
          7,
          8,
          5.7,
          8.1,
          6.2,
          6.2,
          5.8,
          6.2,
          5.9,
          6.7,
          6.8,
          6.7,
          5.6,
          4.1,
          6.8,
          6.6,
          6.8,
          4.8,
          5.6,
          6.8,
          6,
          6.7,
          5.6,
          6.3,
          5.8,
          7.6,
          7.3,
          5.3,
          8.6,
          4.4,
          6.8,
          4.6,
          6.5,
          4.7,
          6.6,
          7.4,
          3.8,
          6.1,
          7,
          5.4,
          7,
          7.8,
          5.5,
          5.2,
          6.4,
          8,
          5.6,
          6.4,
          8.2,
          5.2,
          5.6,
          7.7,
          8,
          6.8,
          6.4,
          7.2,
          6.4,
          6.5,
          6.8,
          6.5,
          7,
          7.1,
          6.5,
          5.4,
          7,
          7,
          5.2,
          2.8,
          7.4,
          6.2,
          6.6,
          6.3,
          5.9,
          5.9,
          5.4,
          5.7,
          8,
          8.4,
          4.6,
          6.8,
          6.2,
          7,
          6.4,
          5.2,
          6.3,
          4.8,
          6.1,
          7.1,
          3.8,
          7,
          6.2,
          5.1,
          7.5,
          6.8,
          5.4,
          5.4,
          7.4,
          5.6,
          6.1,
          7,
          6.6,
          7,
          7.5,
          7,
          6,
          5.8,
          6.9,
          5.2,
          6.1,
          5.6,
          7.4,
          6,
          5.6,
          5.6,
          6.4,
          6,
          6.8,
          5.3,
          6.6,
          6.4,
          6.8,
          5.6,
          5.9,
          5.9,
          5.6,
          5.8,
          7.6,
          6.7,
          6.5,
          null,
          5.5,
          null,
          7.9,
          5,
          6,
          5.7,
          7.6,
          5.6,
          5.8,
          4.2,
          3,
          6,
          5.6,
          5.9,
          3.5,
          6.3,
          6,
          6.4,
          6,
          6.8,
          4.9,
          5.6,
          6.8,
          6.2,
          6.6,
          6.5,
          7,
          5.2,
          6.2,
          6.4,
          7.6,
          8.2,
          4.2,
          5.8,
          6.8,
          6.2,
          6,
          3,
          6.2,
          5.4,
          4.2,
          5.4,
          6.8,
          7.1,
          7,
          7.5,
          6.7,
          4.8,
          8.3,
          7,
          6,
          7,
          5.2,
          5.6,
          6.2,
          5,
          7.3,
          5.2,
          7.6,
          6.8,
          7.7,
          5.7,
          6.3,
          6.9,
          7,
          7.2,
          5.4,
          5.6,
          6.1,
          5.9,
          6.2,
          6.9,
          5.8,
          6.4,
          3.6,
          5.9,
          7.7,
          5.7,
          6.2,
          5.4,
          5.6,
          3.8,
          6,
          4.7,
          6,
          4.7,
          6.2,
          7.6,
          6.2,
          6.1,
          6.3,
          5.8,
          6.7,
          5.8,
          6,
          8.2,
          8.5,
          6.8,
          4.7,
          5.7,
          6.6,
          2.7,
          null,
          5.1,
          5,
          6.7,
          6,
          5.2,
          7.6,
          7.6,
          6.8,
          null,
          7.1,
          5.4,
          7,
          6.3,
          7.6,
          8,
          6.5,
          5.6,
          4.3,
          5.8,
          6.4,
          7.5,
          null,
          8.2,
          7.2,
          6.8,
          6.6,
          5.6,
          6.5,
          5.3,
          6.1,
          3.2,
          5.6,
          3.4,
          6,
          6,
          6,
          6.6,
          7.4,
          5.2,
          4.5,
          7,
          7,
          null,
          6.7,
          null,
          7.2,
          7.4,
          5.7,
          6,
          6.9,
          6.7,
          5.6,
          7,
          5,
          6.6,
          7.2,
          5,
          7.4,
          10,
          7.4,
          6,
          6.4,
          7.2,
          5.5,
          6,
          5.8,
          6.9,
          5,
          6.4,
          6.8,
          5.2,
          7.9,
          5.5,
          5.4,
          6.2,
          5.4,
          6.8,
          5.9,
          5.8,
          4.6,
          5.9,
          5,
          6.6,
          4.2,
          7.4,
          10,
          5.6,
          6,
          4,
          6.5,
          5.6,
          7.4,
          7.8,
          6.5,
          null,
          4.5,
          7.6,
          6,
          null,
          5.5,
          5.8,
          7.6,
          7,
          5.6,
          8.8,
          4.6,
          7,
          null,
          7,
          7.1,
          7,
          6.5,
          7.5,
          6.7,
          7.4,
          5.4,
          5.8,
          5.8,
          4.8,
          6.8,
          null,
          7,
          5.1,
          6.7,
          8,
          6.6,
          3,
          5.2,
          6.3,
          6.8,
          7.8,
          5.2,
          7.5,
          6.3,
          4.1,
          3.3,
          6.9,
          5.8,
          5.7,
          6.1,
          5.8,
          null,
          1,
          4.5,
          5.4,
          5.5,
          6.6,
          null,
          null,
          null,
          10,
          3.8,
          5.1,
          6.2,
          8.4,
          5.6,
          7,
          5.5,
          6.3,
          6.8,
          6.2,
          5.8,
          5.8,
          5.8,
          8.1,
          6.4,
          6,
          5.6,
          null,
          6.7,
          7.5,
          6.4,
          7.4,
          6.1,
          6.4,
          6.7,
          6.8,
          7.9,
          7.8,
          6.1,
          6,
          7.6,
          5.6,
          7.4,
          7.2,
          6.8,
          5.2,
          6.6,
          6.4,
          7.4,
          6.9,
          7.2,
          6.8,
          5,
          5.4,
          5.3,
          6.6,
          7.6,
          6.6,
          6,
          6.8,
          5.2,
          7.2,
          7.8,
          7.8,
          6.6,
          8.6,
          6.5,
          5.5,
          5.7,
          5,
          6.4,
          5.4,
          6.9,
          4.8,
          7.5,
          4,
          7.3,
          null,
          6.7,
          6.8,
          6.7,
          6.2,
          7.6,
          4.9,
          6.5,
          5.4,
          8.4,
          5.8,
          6.2,
          6.9,
          6.6,
          6.8,
          6.6,
          5.8,
          6.5,
          6.4,
          6.4,
          6,
          7.3,
          7.1,
          5.9,
          7.6,
          5.4,
          7.2,
          5,
          6.4,
          7,
          4.8,
          6.2,
          7,
          7.1,
          5.8,
          5.7,
          6.2,
          6.8,
          7.6,
          7.5,
          7.6,
          5.6,
          6.2,
          7.2,
          6.8,
          5.8,
          6.6,
          5.6,
          6.8,
          5.9,
          4.2,
          5.8,
          6.8,
          5.8,
          6.4,
          6.9,
          7,
          5.8,
          7,
          5.7,
          6.8,
          6.4,
          6.8,
          6.7,
          6.3,
          7.2,
          5.9,
          3.3,
          6.3,
          5.2,
          6.1,
          6.2,
          6.3,
          7.4,
          6.8,
          6.4,
          4.3,
          7.4,
          6.7,
          6.8,
          5.8,
          7,
          7.1,
          5.6,
          7.1,
          7.4,
          4.9,
          5.9,
          6.6,
          7.3,
          7.4,
          7.4,
          7.6,
          6.8,
          4.5,
          6.8,
          5.9,
          6.2,
          5.9,
          5.6,
          7,
          6,
          6.4,
          5.2,
          7.4,
          5.8,
          7.7,
          6.7,
          5.8,
          6.3,
          5.9,
          6.8,
          5.3,
          6,
          null,
          3.4,
          6.8,
          5.7,
          8.6,
          5.6,
          6.2,
          6.4,
          5.1,
          4.6,
          5.4,
          4.3,
          7.1,
          5.6,
          7.2,
          7.6,
          6.8,
          7.4,
          7,
          6,
          7.4,
          5.2,
          5.8,
          6.7,
          6.8,
          6.4,
          6.1,
          7.6,
          8,
          6.5,
          4.9,
          5.8,
          6.8,
          7,
          7.6,
          6.4,
          6.8,
          5.6,
          6.3,
          6.6,
          7.6,
          7.6,
          6.5,
          5.2,
          5.6,
          4.8,
          5.8,
          7.6,
          7.2,
          7.2,
          6.9,
          5.9,
          6.8,
          6.4,
          5.8,
          6.2,
          5.7,
          6.2,
          5.6,
          7.5,
          6.4,
          6.4,
          6.4,
          7.4,
          7.2,
          6.5,
          5.4,
          7.2,
          4.8,
          6.1,
          6.8,
          7.4,
          7,
          5.6,
          6.8,
          6.8,
          5,
          6.6,
          5.7,
          6.7,
          4.4,
          7,
          5.9,
          6.8,
          5.6,
          7.1,
          7.4,
          7.2,
          7.6,
          6,
          6.2,
          7.4,
          6.6,
          6.2,
          5.9,
          7.7,
          6.2,
          4.6,
          5,
          5.9,
          6.8,
          7.6,
          5.4,
          7.4,
          7,
          7.4,
          4.6,
          5.2,
          4,
          5.8,
          6.4,
          8.1,
          6.3,
          7.2,
          6.8,
          6.5,
          5.3,
          7.8,
          5.3,
          7.2,
          6,
          6.8,
          7,
          7.4,
          7,
          7.2,
          6.2,
          6.3,
          6.3,
          5.9,
          4.9,
          7,
          5.2,
          7.2,
          6.8,
          7.1,
          5.1,
          6.2,
          7.2,
          6.4,
          6.4,
          5.3,
          6.2,
          4.9,
          6.8,
          null,
          6.1,
          5.4,
          6.4,
          6.5,
          5.7,
          6.9,
          5.2,
          5.4,
          7.1,
          6.4,
          4.8,
          6.8,
          5.3,
          6,
          6,
          5.4,
          8.5,
          7,
          7.5,
          6.9,
          6.9,
          6.2,
          6.4,
          6.6,
          6.3,
          4.2,
          5.6,
          6.2,
          6,
          6,
          6.8,
          7.2,
          5.2,
          7.1,
          7.4,
          5.6,
          6.3,
          5.5,
          null,
          7.6,
          6.7,
          6.4,
          7.7,
          5.9,
          7.2,
          7,
          5.9,
          5.4,
          5.9,
          6.2,
          5.4,
          7.2,
          7.2,
          5.1,
          7.2,
          6.2,
          5.8,
          6.8,
          7.2,
          5.5,
          6.4,
          7.5,
          6.2,
          7,
          6.8,
          5.7,
          6.2,
          6.9,
          7,
          3,
          5.8,
          6.5,
          6.5,
          6,
          6.8,
          5.6,
          6.4,
          4.6,
          6.9,
          6.1,
          7.1,
          4.8,
          6,
          6.6,
          7.1,
          6.3,
          7.8,
          7.4,
          7.9,
          6.9,
          6.4,
          6.3,
          6.2,
          8,
          6.4,
          7,
          6.1,
          5.8,
          5.6,
          6.1,
          5.2,
          5.7,
          5.6,
          6.1,
          6.8,
          7.4,
          6.3,
          6.5,
          7.6,
          5.3,
          6.3,
          6,
          5.9,
          5.1,
          7,
          6.8,
          6.8,
          6.6,
          7.1,
          6.6,
          5.4,
          6.8,
          5.2,
          6.2,
          4.9,
          7,
          6.2,
          6.3,
          6.2,
          5.4,
          6,
          5.4,
          5.6,
          5.9,
          5.3,
          6.4,
          6.6,
          7,
          5.8,
          5.8,
          5.5,
          5.3,
          5.7,
          5.7,
          5.1,
          4.6,
          7.1,
          4.9,
          7.6,
          7,
          5.5,
          7.1,
          6.3,
          7,
          3.2,
          6.8,
          5.6,
          6.7,
          6.6,
          7.2,
          7.5,
          4.2,
          6.1,
          3.1,
          5.9,
          6.4,
          6.4,
          6.8,
          7.2,
          8.7,
          6.6,
          6.4,
          5.7,
          5.4,
          6.7,
          7,
          7.5,
          7.2,
          5.6,
          6.5,
          7,
          6.5,
          6.6,
          5.8,
          6.3,
          5.2,
          6.6,
          6.6,
          7.8,
          5.6,
          6.2,
          6.8,
          3.2,
          5.8,
          6.2,
          5.2,
          6,
          8.8,
          5.8,
          6.2,
          7.2,
          4.6,
          6.8,
          5.9,
          5.6,
          5.5,
          6.4,
          7,
          7.5,
          6.6,
          7.4,
          7.2,
          5.8,
          6,
          6.7,
          6.4,
          6,
          5.6,
          6.8,
          7,
          6.2,
          8.6,
          5.4,
          8,
          6.2,
          6.5,
          7.6,
          6.2,
          5.8,
          6.4,
          4.2,
          6,
          7,
          4.6,
          5.8,
          6.3,
          null,
          5.2,
          7,
          7.4,
          5.8,
          4.4,
          6.5,
          7.2,
          6.3,
          4.2,
          5.3,
          6.8,
          5.8,
          6.6,
          6.4,
          5,
          5.6,
          6,
          6.6,
          5.6,
          6.8,
          5.3,
          8.7,
          8,
          5.6,
          5.1,
          4.4,
          6.1,
          6.2,
          5.8,
          null,
          5.8,
          5.6,
          6.8,
          7,
          6.4,
          7.5,
          7.5,
          7,
          6,
          4.8,
          6.5,
          5.4,
          7.4,
          6,
          null,
          5.2,
          7.2,
          5,
          6.4,
          6.6,
          6.5,
          7,
          6.4,
          5,
          6.6,
          6.2,
          5.7,
          4,
          3.1,
          5,
          7,
          6.2,
          8.7,
          8.1,
          6.7,
          6.3,
          7,
          5,
          3.1,
          7.8,
          5.8,
          4.4,
          8.5,
          6.1,
          6.6,
          7.7,
          6,
          4.6,
          5.4,
          5.8,
          7.3,
          2.3,
          5.3,
          6.1,
          3.2,
          6.4,
          5,
          4.6,
          4,
          5.8,
          7,
          null,
          4.8,
          8.4,
          4.5,
          6.2,
          3.8,
          5.4,
          6.1,
          6,
          7,
          5.2,
          7.2,
          3.3,
          5.6,
          7.2,
          6.6,
          6.8,
          4.8,
          5.8,
          6,
          5.7,
          5.8,
          5.8,
          7,
          7.1,
          5.9,
          5.2,
          6.8,
          7.7,
          5
         ],
         "xaxis": "x",
         "y": [
          114,
          109,
          91,
          150,
          94,
          102,
          110,
          104,
          158,
          117,
          78,
          115,
          77,
          150,
          97,
          133,
          129,
          161,
          186,
          146,
          100,
          120,
          74,
          158,
          110,
          124,
          131,
          162,
          142,
          93,
          135,
          141,
          145,
          117,
          139,
          96,
          91,
          119,
          97,
          110,
          120,
          97,
          105,
          90,
          84,
          116,
          123,
          119,
          133,
          50,
          87,
          30,
          144,
          81,
          106,
          174,
          72,
          100,
          120,
          102,
          172,
          100,
          100,
          94,
          80,
          162,
          148,
          105,
          170,
          100,
          159,
          100,
          172,
          125,
          160,
          151,
          129,
          108,
          100,
          110,
          127,
          156,
          142,
          103,
          139,
          194,
          129,
          123,
          107,
          106,
          111,
          118,
          107,
          119,
          93,
          104,
          127,
          123,
          127,
          131,
          103,
          191,
          115,
          87,
          94,
          128,
          115,
          131,
          89,
          118,
          136,
          114,
          112,
          97,
          97,
          93,
          104,
          107,
          96,
          94,
          107,
          115,
          93,
          105,
          104,
          185,
          63,
          91,
          206,
          163,
          75,
          124,
          123,
          124,
          87,
          72,
          74,
          141,
          174,
          156,
          49,
          56,
          175,
          177,
          136,
          88,
          165,
          175,
          58,
          145,
          165,
          160,
          137,
          100,
          160,
          50,
          61,
          30,
          30,
          105,
          145,
          97,
          149,
          56,
          60,
          170,
          55,
          106,
          142,
          129,
          131,
          156,
          100,
          118,
          162,
          126,
          97,
          141,
          88,
          95,
          148,
          151,
          103,
          117,
          110,
          144,
          117,
          128,
          114,
          117,
          125,
          131,
          163,
          129,
          135,
          110,
          106,
          129,
          196,
          90,
          101,
          102,
          110,
          115,
          140,
          89,
          124,
          92,
          117,
          110,
          92,
          128,
          83,
          91,
          90,
          109,
          88,
          94,
          99,
          91,
          118,
          143,
          95,
          106,
          123,
          97,
          116,
          95,
          115,
          97,
          83,
          84,
          121,
          90,
          128,
          116,
          170,
          87,
          98,
          82,
          121,
          95,
          131,
          93,
          97,
          113,
          94,
          88,
          91,
          101,
          109,
          107,
          97,
          101,
          87,
          97,
          82,
          111,
          224,
          208,
          88,
          108,
          114,
          92,
          106,
          61,
          96,
          86,
          91,
          98,
          84,
          93,
          107,
          165,
          103,
          78,
          98,
          99,
          88,
          76,
          107,
          94,
          86,
          80,
          114,
          106,
          97,
          95,
          120,
          104,
          46,
          138,
          162,
          102,
          210,
          186,
          144,
          89,
          161,
          214,
          100,
          61,
          96,
          99,
          189,
          116,
          97,
          157,
          166,
          48,
          160,
          72,
          60,
          184,
          160,
          97,
          225,
          94,
          90,
          110,
          155,
          85,
          92,
          90,
          73,
          94,
          90,
          167,
          165,
          95,
          167,
          114,
          99,
          150,
          85,
          95,
          85,
          161,
          189,
          100,
          44,
          127,
          126,
          167,
          55,
          146,
          89,
          76,
          167,
          90,
          116,
          161,
          138,
          95,
          169,
          184,
          90,
          95,
          115,
          124,
          129,
          179,
          137,
          141,
          144,
          108,
          89,
          120,
          135,
          110,
          105,
          155,
          60,
          96,
          118,
          137,
          102,
          88,
          141,
          135,
          142,
          95,
          161,
          132,
          141,
          99,
          137,
          135,
          42,
          127,
          145,
          137,
          141,
          192,
          172,
          89,
          29,
          96,
          122,
          72,
          119,
          47,
          42,
          95,
          97,
          119,
          57,
          130,
          112,
          84,
          85,
          127,
          115,
          104,
          186,
          67,
          98,
          110,
          146,
          134,
          104,
          155,
          182,
          115,
          145,
          153,
          102,
          73,
          109,
          173,
          157,
          60,
          106,
          96,
          57,
          94,
          80,
          110,
          96,
          69,
          113,
          110,
          128,
          142,
          122,
          110,
          124,
          85,
          125,
          98,
          149,
          97,
          76,
          144,
          100,
          95,
          148,
          121,
          95,
          160,
          121,
          167,
          117,
          80,
          110,
          117,
          142,
          120,
          135,
          105,
          65,
          105,
          56,
          117,
          69,
          104,
          91,
          90,
          88,
          157,
          136,
          165,
          132,
          107,
          165,
          158,
          120,
          90,
          106,
          129,
          109,
          131,
          113,
          118,
          103,
          106,
          92,
          113,
          97,
          105,
          76,
          134,
          97,
          125,
          85,
          87,
          114,
          98,
          97,
          58,
          101,
          100,
          86,
          108,
          89,
          108,
          92,
          76,
          75,
          135,
          98,
          166,
          128,
          80,
          120,
          89,
          101,
          65,
          102,
          113,
          151,
          115,
          148,
          108,
          50,
          90,
          115,
          77,
          90,
          68,
          135,
          91,
          107,
          81,
          139,
          149,
          130,
          139,
          96,
          128,
          96,
          97,
          136,
          140,
          88,
          144,
          80,
          143,
          125,
          146,
          110,
          124,
          156,
          135,
          134,
          94,
          137,
          90,
          165,
          146,
          126,
          93,
          130,
          135,
          97,
          118,
          140,
          90,
          80,
          149,
          66,
          70,
          24,
          117,
          140,
          104,
          110,
          121,
          141,
          96,
          167,
          65,
          102,
          67,
          150,
          63,
          101,
          60,
          125,
          68,
          150,
          134,
          93,
          57,
          109,
          115,
          93,
          100,
          100,
          75,
          104,
          110,
          111,
          78,
          95,
          101,
          113,
          123,
          118,
          102,
          112,
          102,
          104,
          106,
          104,
          128,
          120,
          97,
          99,
          106,
          82,
          90,
          97,
          141,
          100,
          94,
          92,
          113,
          94,
          89,
          97,
          100,
          102,
          132,
          87,
          95,
          93,
          92,
          105,
          130,
          116,
          139,
          105,
          80,
          95,
          90,
          105,
          92,
          108,
          153,
          240,
          80,
          98,
          112,
          146,
          90,
          86,
          75,
          104,
          82,
          101,
          85,
          150,
          96,
          74,
          127,
          93,
          90,
          110,
          88,
          149,
          100,
          133,
          70,
          26,
          120,
          69,
          122,
          85,
          137,
          91,
          150,
          20,
          91,
          120,
          96,
          87,
          138,
          22,
          141,
          98,
          160,
          76,
          107,
          143,
          130,
          104,
          126,
          170,
          136,
          130,
          152,
          94,
          130,
          143,
          115,
          123,
          120,
          127,
          133,
          120,
          94,
          141,
          3,
          60,
          142,
          141,
          84,
          70,
          41,
          98,
          124,
          79,
          100,
          138,
          70,
          93,
          81,
          114,
          109,
          90,
          34,
          134,
          90,
          69,
          108,
          82,
          94,
          69,
          149,
          105,
          75,
          133,
          132,
          132,
          63,
          117,
          148,
          110,
          106,
          71,
          100,
          112,
          88,
          85,
          44,
          137,
          179,
          85,
          105,
          124,
          99,
          64,
          75,
          120,
          150,
          98,
          112,
          96,
          88,
          139,
          105,
          64,
          110,
          112,
          121,
          95,
          67,
          110,
          12,
          105,
          75,
          105,
          75,
          150,
          64,
          125,
          66,
          107,
          63,
          126,
          59,
          76,
          105,
          94,
          87,
          95,
          62,
          147,
          130,
          161,
          75,
          62,
          107,
          136,
          15,
          71,
          116,
          67,
          46,
          120,
          101,
          102,
          131,
          89,
          114,
          133,
          92,
          117,
          99,
          188,
          111,
          108,
          92,
          106,
          119,
          158,
          99,
          97,
          105,
          99,
          130,
          95,
          82,
          90,
          97,
          125,
          134,
          94,
          120,
          95,
          104,
          108,
          123,
          123,
          119,
          84,
          101,
          82,
          90,
          118,
          97,
          95,
          109,
          97,
          87,
          76,
          99,
          96,
          100,
          97,
          81,
          92,
          107,
          97,
          137,
          88,
          95,
          101,
          96,
          105,
          121,
          83,
          98,
          89,
          108,
          118,
          122,
          87,
          91,
          119,
          60,
          108,
          106,
          117,
          118,
          89,
          84,
          118,
          103,
          89,
          89,
          90,
          116,
          88,
          88,
          130,
          104,
          96,
          106,
          87,
          105,
          94,
          92,
          28,
          82,
          22,
          107,
          100,
          133,
          111,
          70,
          92,
          100,
          105,
          63,
          120,
          93,
          105,
          62,
          19,
          102,
          23,
          59,
          24,
          108,
          95,
          163,
          100,
          96,
          92,
          60,
          120,
          110,
          56,
          105,
          95,
          112,
          136,
          82,
          87,
          62,
          157,
          88,
          96,
          68,
          119,
          90,
          134,
          108,
          84,
          30,
          115,
          139,
          98,
          129,
          95,
          110,
          100,
          71,
          118,
          86,
          155,
          170,
          105,
          132,
          130,
          61,
          181,
          77,
          132,
          156,
          87,
          159,
          108,
          83,
          130,
          101,
          83,
          85,
          110,
          62,
          58,
          100,
          92,
          64,
          90,
          73,
          55,
          86,
          83,
          115,
          141,
          127,
          140,
          148,
          139,
          106,
          90,
          86,
          72,
          67,
          63,
          123,
          131,
          100,
          99,
          41,
          136,
          112,
          88,
          119,
          73,
          106,
          97,
          89,
          82,
          110,
          154,
          114,
          136,
          100,
          103,
          112,
          82,
          74,
          92,
          98,
          84,
          79,
          62,
          100,
          95,
          144,
          91,
          100,
          95,
          119,
          90,
          126,
          94,
          12,
          94,
          102,
          129,
          82,
          105,
          101,
          66,
          65,
          116,
          92,
          120,
          77,
          98,
          98,
          60,
          118,
          95,
          108,
          67,
          63,
          124,
          90,
          98,
          88,
          34,
          136,
          97,
          74,
          60,
          132,
          65,
          80,
          106,
          121,
          98,
          107,
          71,
          88,
          82,
          71,
          138,
          60,
          50,
          135,
          90,
          86,
          65,
          31,
          74,
          56,
          117,
          93,
          90,
          110,
          39,
          110,
          140,
          103,
          103,
          109,
          125,
          122,
          74,
          105,
          78,
          61,
          90,
          62,
          75,
          103,
          103,
          83,
          107,
          103,
          100,
          116,
          44,
          67,
          107,
          90,
          93,
          120,
          98,
          24,
          60,
          107,
          69,
          94,
          91,
          28,
          112,
          16,
          80,
          68,
          15,
          106,
          101,
          107,
          75,
          108,
          108,
          93,
          115,
          106,
          29,
          90,
          102,
          97,
          126,
          51,
          30,
          95,
          100,
          95,
          94,
          96,
          88,
          115,
          82,
          92,
          96,
          107,
          100,
          130,
          106,
          118,
          112,
          113,
          98,
          109,
          164,
          131,
          135,
          107,
          111,
          107,
          132,
          130,
          140,
          140,
          100,
          132,
          125,
          95,
          94,
          122,
          104,
          103,
          136,
          109,
          92,
          105,
          115,
          102,
          123,
          104,
          135,
          96,
          93,
          91,
          119,
          96,
          124,
          113,
          80,
          121,
          90,
          124,
          85,
          94,
          94,
          95,
          102,
          91,
          112,
          93,
          104,
          132,
          101,
          130,
          110,
          100,
          94,
          168,
          116,
          121,
          96,
          101,
          105,
          102,
          126,
          126,
          90,
          101,
          117,
          105,
          102,
          96,
          106,
          80,
          102,
          90,
          121,
          105,
          97,
          135,
          100,
          94,
          98,
          88,
          89,
          125,
          132,
          143,
          100,
          113,
          96,
          116,
          103,
          123,
          129,
          103,
          98,
          108,
          120,
          110,
          97,
          78,
          94,
          129,
          126,
          100,
          74,
          111,
          102,
          69,
          122,
          130,
          105,
          115,
          108,
          97,
          87,
          105,
          101,
          113,
          101,
          89,
          72,
          122,
          107,
          101,
          94,
          99,
          105,
          102,
          98,
          139,
          96,
          104,
          97,
          82,
          120,
          96,
          139,
          92,
          119,
          112,
          72,
          85,
          94,
          116,
          90,
          110,
          82,
          97,
          90,
          40,
          90,
          95,
          95,
          88,
          107,
          26,
          92,
          83,
          104,
          124,
          64,
          92,
          100,
          105,
          86,
          94,
          83,
          81,
          135,
          125,
          82,
          66,
          88,
          108,
          89,
          105,
          95,
          87,
          101,
          73,
          105,
          95,
          106,
          136,
          95,
          92,
          70,
          91,
          95,
          125,
          89,
          103,
          90,
          91,
          105,
          103,
          109,
          117,
          96,
          130,
          99,
          100,
          100,
          118,
          105,
          90,
          123,
          79,
          109,
          104,
          110,
          95,
          124,
          113,
          94,
          90,
          87,
          98,
          89,
          81,
          98,
          94,
          101,
          127,
          69,
          82,
          101,
          153,
          100,
          94,
          95,
          97,
          107,
          89,
          101,
          119,
          111,
          90,
          94,
          63,
          94,
          90,
          60,
          102,
          90,
          95,
          89,
          95,
          87,
          87,
          75,
          63,
          102,
          104,
          95,
          85,
          100,
          114,
          94,
          76,
          23,
          56,
          105,
          78,
          95,
          89,
          83,
          104,
          105,
          100,
          93,
          72,
          103,
          150,
          117,
          99,
          106,
          17,
          68,
          107,
          18,
          72,
          99,
          132,
          159,
          86,
          63,
          66,
          164,
          81,
          98,
          107,
          106,
          91,
          102,
          24,
          94,
          145,
          99,
          120,
          92,
          104,
          79,
          101,
          58,
          87,
          83,
          96,
          85,
          109,
          83,
          129,
          180,
          17,
          85,
          92,
          99,
          99,
          69,
          93,
          103,
          89,
          75,
          93,
          105,
          31,
          94,
          113,
          98,
          99,
          70,
          90,
          86,
          102,
          94,
          132,
          58,
          65,
          99,
          95,
          95,
          73,
          110,
          147,
          105,
          71,
          22,
          80,
          106,
          110,
          94,
          92,
          86,
          87,
          102,
          96,
          129,
          70,
          106,
          89,
          93,
          100,
          81,
          84,
          100,
          98,
          125,
          86,
          101,
          104,
          155,
          93,
          94,
          77,
          87,
          63,
          116,
          139,
          90,
          66,
          96,
          110,
          110,
          155,
          94,
          98,
          76,
          91,
          88,
          91,
          56,
          40,
          100,
          111,
          100,
          129,
          71,
          120,
          140,
          100,
          93,
          73,
          113,
          84,
          93,
          89,
          140,
          107,
          114,
          64,
          83,
          120,
          66,
          22,
          66,
          102,
          10,
          97,
          99,
          92,
          180,
          105,
          139,
          200,
          60,
          49,
          104,
          80,
          140,
          125,
          107,
          86,
          82,
          92,
          92,
          157,
          75,
          67,
          96,
          27,
          39,
          90,
          93,
          123,
          96,
          92,
          65,
          95,
          90,
          105,
          169,
          62,
          83,
          93,
          123,
          95,
          113,
          136,
          152,
          67,
          104,
          68,
          130,
          130,
          91,
          95,
          89,
          90,
          98,
          73,
          135,
          81,
          90,
          121,
          126,
          76,
          98,
          100,
          133,
          103,
          102,
          89,
          156,
          140,
          115,
          64,
          74,
          59,
          114,
          82,
          100,
          131,
          30,
          97,
          106,
          90,
          92,
          91,
          108,
          69,
          105,
          71,
          125,
          95,
          132,
          90,
          80,
          89,
          105,
          147,
          61,
          99,
          66,
          81,
          85,
          92,
          96,
          57,
          126,
          83,
          111,
          162,
          90,
          107,
          108,
          96,
          98,
          67,
          84,
          104,
          72,
          63,
          90,
          100,
          62,
          98,
          150,
          59,
          104,
          130,
          89,
          86,
          96,
          73,
          95,
          110,
          87,
          65,
          33,
          155,
          92,
          159,
          125,
          128,
          90,
          105,
          84,
          80,
          110,
          102,
          61,
          122,
          100,
          88,
          88,
          90,
          92,
          105,
          126,
          50,
          104,
          134,
          129,
          98,
          134,
          101,
          124,
          57,
          57,
          91,
          122,
          129,
          69,
          99,
          68,
          80,
          84,
          103,
          109,
          125,
          93,
          64,
          57,
          52,
          111,
          105,
          118,
          91,
          54,
          95,
          115,
          90,
          13,
          100,
          115,
          23,
          57,
          26,
          104,
          150,
          100,
          83,
          115,
          107,
          106,
          87,
          95,
          63,
          90,
          70,
          102,
          88,
          69,
          116,
          62,
          91,
          95,
          150,
          92,
          88,
          22,
          182,
          104,
          155,
          86,
          66,
          104,
          100,
          120,
          112,
          90,
          49,
          25,
          91,
          116,
          58,
          88,
          100,
          23,
          105,
          80,
          66,
          69,
          102,
          33,
          109,
          119,
          70,
          84,
          63,
          51,
          65,
          77,
          84,
          100,
          104,
          27,
          65,
          128,
          76,
          10,
          117,
          116,
          35,
          102,
          85,
          103,
          118,
          65,
          100,
          74,
          106,
          62,
          122,
          132,
          93,
          100,
          105,
          66,
          114,
          111,
          52,
          67,
          161,
          89,
          120,
          63,
          105,
          60,
          107,
          74,
          102,
          127,
          60,
          115,
          56,
          90,
          108,
          105,
          39,
          93,
          90,
          169,
          18,
          97,
          28,
          109,
          100,
          79,
          128,
          150,
          100,
          138,
          110,
          66,
          56,
          140,
          90,
          118,
          90,
          115,
          85,
          88,
          109,
          96,
          76,
          60,
          78,
          110,
          62,
          74,
          85,
          102,
          60,
          120,
          100,
          15,
          105,
          115,
          128,
          87,
          94,
          92,
          58,
          78,
          124,
          134,
          50,
          102,
          106,
          105,
          122,
          24,
          111,
          90,
          71,
          101,
          77,
          136,
          45,
          90,
          124,
          80,
          97,
          53,
          104,
          76,
          109,
          117,
          57,
          28,
          54,
          111,
          94,
          137,
          62,
          73,
          90,
          54,
          83,
          75,
          81,
          58,
          126,
          15,
          122,
          102,
          78,
          50,
          60,
          62,
          77,
          118,
          59,
          128,
          116,
          25,
          157,
          111,
          62,
          63,
          63,
          130,
          26,
          104,
          61,
          89,
          87,
          87,
          85,
          65,
          140,
          71,
          100,
          94,
          95,
          130,
          49,
          93,
          105,
          91,
          92,
          45,
          115,
          102,
          134,
          125,
          53,
          120,
          91,
          29,
          7,
          95,
          58,
          79,
          66,
          106,
          59,
          69,
          72,
          91,
          85,
          113,
          123,
          88,
          134,
          209,
          116,
          84,
          102,
          78,
          95,
          123,
          125,
          93,
          136,
          108,
          138,
          109,
          81,
          140,
          101,
          90,
          87,
          82,
          102,
          112,
          127,
          105,
          99,
          128,
          131,
          118,
          123,
          102,
          94,
          95,
          123,
          100,
          125,
          123,
          126,
          124,
          105,
          115,
          99,
          99,
          114,
          114,
          96,
          130,
          108,
          94,
          90,
          156,
          118,
          103,
          90,
          116,
          86,
          102,
          92,
          85,
          125,
          123,
          86,
          87,
          104,
          118,
          130,
          114,
          94,
          112,
          117,
          95,
          133,
          102,
          128,
          90,
          110,
          91,
          110,
          82,
          88,
          89,
          113,
          90,
          90,
          96,
          99,
          113,
          102,
          98,
          103,
          88,
          89,
          95,
          98,
          115,
          98,
          129,
          139,
          104,
          107,
          118,
          90,
          111,
          15,
          107,
          83,
          96,
          81,
          95,
          123,
          90,
          92,
          109,
          96,
          93,
          104,
          95,
          84,
          97,
          98,
          113,
          102,
          83,
          106,
          99,
          115,
          100,
          90,
          87,
          99,
          142,
          110,
          128,
          96,
          97,
          108,
          86,
          114,
          131,
          128,
          121,
          85,
          123,
          100,
          100,
          113,
          93,
          110,
          37,
          93,
          100,
          107,
          109,
          83,
          88,
          87,
          103,
          102,
          157,
          67,
          118,
          107,
          96,
          101,
          104,
          113,
          65,
          85,
          111,
          101,
          24,
          104,
          109,
          91,
          71,
          102,
          82,
          140,
          60,
          120,
          86,
          92,
          95,
          95,
          96,
          92,
          60,
          101,
          101,
          86,
          93,
          104,
          89,
          116,
          91,
          176,
          118,
          80,
          66,
          100,
          112,
          110,
          96,
          89,
          102,
          103,
          86,
          104,
          64,
          97,
          107,
          98,
          96,
          116,
          98,
          75,
          85,
          30,
          71,
          134,
          123,
          89,
          90,
          105,
          86,
          114,
          116,
          97,
          95,
          92,
          105,
          91,
          120,
          94,
          87,
          93,
          95,
          60,
          59,
          71,
          95,
          120,
          130,
          94,
          135,
          105,
          86,
          110,
          89,
          65,
          46,
          132,
          103,
          90,
          63,
          143,
          57,
          87,
          93,
          72,
          135,
          94,
          93,
          55,
          149,
          61,
          41,
          107,
          90,
          85,
          122,
          92,
          96,
          148,
          76,
          118,
          99,
          64,
          106,
          70,
          97,
          108,
          90,
          86,
          99,
          88,
          100,
          96,
          136,
          59,
          97,
          105,
          120,
          99,
          81,
          85,
          102,
          151,
          118,
          94,
          121,
          99,
          90,
          134,
          85,
          98,
          103,
          21,
          90,
          29,
          137,
          106,
          98,
          156,
          93,
          91,
          70,
          89,
          65,
          85,
          89,
          100,
          83,
          95,
          117,
          106,
          92,
          85,
          89,
          66,
          93,
          77,
          155,
          94,
          94,
          90,
          93,
          37,
          104,
          171,
          88,
          45,
          93,
          94,
          86,
          103,
          102,
          74,
          97,
          98,
          110,
          116,
          140,
          109,
          44,
          87,
          60,
          97,
          96,
          91,
          165,
          32,
          147,
          115,
          71,
          96,
          100,
          79,
          90,
          75,
          97,
          48,
          105,
          107,
          12,
          107,
          109,
          98,
          85,
          104,
          92,
          97,
          84,
          90,
          76,
          58,
          94,
          109,
          92,
          110,
          105,
          69,
          122,
          94,
          121,
          115,
          121,
          62,
          10,
          122,
          101,
          91,
          66,
          141,
          121,
          93,
          118,
          91,
          98,
          49,
          101,
          65,
          24,
          99,
          58,
          97,
          83,
          90,
          111,
          74,
          141,
          149,
          89,
          111,
          104,
          101,
          90,
          109,
          60,
          96,
          93,
          172,
          92,
          123,
          106,
          113,
          127,
          88,
          87,
          144,
          82,
          40,
          92,
          115,
          89,
          89,
          58,
          139,
          63,
          93,
          86,
          86,
          139,
          113,
          105,
          93,
          83,
          105,
          18,
          128,
          80,
          95,
          97,
          99,
          50,
          90,
          94,
          23,
          82,
          103,
          104,
          110,
          95,
          119,
          65,
          45,
          108,
          136,
          63,
          92,
          126,
          151,
          93,
          72,
          110,
          171,
          108,
          94,
          113,
          89,
          94,
          89,
          90,
          92,
          109,
          51,
          107,
          106,
          100,
          92,
          85,
          64,
          80,
          102,
          162,
          97,
          82,
          112,
          47,
          69,
          120,
          97,
          62,
          87,
          77,
          89,
          97,
          135,
          106,
          96,
          51,
          110,
          107,
          102,
          86,
          96,
          93,
          120,
          113,
          115,
          93,
          134,
          51,
          68,
          102,
          64,
          90,
          122,
          92,
          90,
          49,
          84,
          73,
          84,
          90,
          61,
          112,
          102,
          61,
          74,
          89,
          97,
          127,
          70,
          61,
          150,
          55,
          88,
          122,
          123,
          28,
          119,
          115,
          54,
          114,
          107,
          98,
          84,
          97,
          100,
          107,
          172,
          61,
          116,
          86,
          59,
          58,
          136,
          112,
          90,
          60,
          59,
          113,
          132,
          59,
          125,
          114,
          106,
          85,
          95,
          93,
          9,
          89,
          87,
          123,
          90,
          96,
          63,
          118,
          94,
          93,
          90,
          73,
          67,
          126,
          83,
          45,
          13,
          110,
          121,
          85,
          89,
          109,
          62,
          102,
          89,
          96,
          51,
          47,
          106,
          81,
          106,
          94,
          82,
          100,
          98,
          111,
          44,
          64,
          75,
          55,
          102,
          95,
          86,
          95,
          109,
          103,
          128,
          95,
          16,
          104,
          94,
          59,
          118,
          95,
          91,
          110,
          136,
          28,
          106,
          94,
          91,
          21,
          104,
          150,
          130,
          101,
          96,
          138,
          119,
          96,
          31,
          132,
          64,
          31,
          45,
          78,
          58,
          123,
          83,
          155,
          8,
          101,
          136,
          79,
          80,
          80,
          101,
          108,
          46,
          116,
          60,
          100,
          75,
          23,
          129,
          161,
          59,
          95,
          100,
          128,
          39,
          94,
          45,
          108,
          140,
          145,
          100,
          120,
          113,
          142,
          83,
          25,
          64,
          89,
          111,
          84,
          102,
          84,
          64,
          58,
          63,
          146,
          125,
          97,
          112,
          87,
          95,
          111,
          115,
          94,
          106,
          125,
          65,
          89,
          88,
          67,
          99,
          90,
          29,
          110,
          126,
          90,
          102,
          39,
          110,
          44,
          97,
          97,
          54,
          111,
          110,
          90,
          65,
          70,
          121,
          90,
          96,
          113,
          51,
          93,
          81,
          98,
          131,
          98,
          95,
          117,
          130,
          125,
          21,
          96,
          118,
          21,
          87,
          108,
          103,
          106,
          94,
          92,
          125,
          106,
          151,
          58,
          107,
          98,
          129,
          4,
          95,
          137,
          82,
          100,
          81,
          58,
          69,
          105,
          112,
          104,
          59,
          115,
          101,
          62,
          60,
          75,
          92,
          103,
          121,
          53,
          63,
          120,
          90,
          117,
          23,
          94,
          60,
          60,
          58,
          99,
          66,
          35,
          84,
          119,
          32,
          66,
          44,
          107,
          116,
          81,
          82,
          113,
          92,
          17,
          28,
          135,
          97,
          128,
          84,
          106,
          89,
          64,
          120,
          104,
          42,
          127,
          24,
          109,
          106,
          89,
          115,
          20,
          23,
          145,
          134,
          118,
          58,
          119,
          117,
          171,
          59,
          90,
          109,
          24,
          23,
          74,
          150,
          131,
          24,
          63,
          104,
          94,
          45,
          68,
          76,
          104,
          98,
          37,
          29,
          100,
          107,
          103,
          102,
          120,
          133,
          61,
          104,
          59,
          108,
          102,
          40,
          92,
          90,
          92,
          119,
          62,
          141,
          97,
          82,
          108,
          39,
          60,
          112,
          135,
          90,
          181,
          92,
          61,
          104,
          26,
          133,
          23,
          22,
          54,
          94,
          96,
          10,
          45,
          100,
          72,
          108,
          124,
          60,
          126,
          128,
          81,
          91,
          23,
          86,
          84,
          129,
          21,
          66,
          85,
          105,
          93,
          110,
          15,
          79,
          96,
          6,
          114,
          88,
          92,
          134,
          74,
          93,
          44,
          65,
          25,
          118,
          80,
          94,
          53,
          114,
          94,
          100,
          123,
          110,
          61,
          15,
          77,
          133,
          120,
          74,
          95,
          120,
          112,
          24,
          93,
          75,
          83,
          119,
          57,
          96,
          107,
          103,
          33,
          72,
          104,
          86,
          88,
          84,
          130,
          105,
          50,
          54,
          63,
          104,
          117,
          62,
          101,
          80,
          25,
          39,
          47,
          95,
          113,
          13,
          50,
          100,
          45,
          29,
          87,
          112,
          108,
          94,
          114,
          95,
          95,
          35,
          85,
          111,
          18,
          106,
          89,
          128,
          130,
          60,
          94,
          61,
          51,
          77,
          90,
          140,
          75,
          24,
          140,
          65,
          128,
          187,
          110,
          110,
          107,
          117,
          106,
          115,
          102,
          111,
          83,
          128,
          101,
          82,
          106,
          138,
          126,
          114,
          83,
          98,
          122,
          121,
          117,
          40,
          83,
          111,
          98,
          92,
          109,
          139,
          149,
          97,
          92,
          112,
          83,
          91,
          104,
          87,
          126,
          130,
          97,
          112,
          55,
          102,
          97,
          95,
          146,
          64,
          95,
          107,
          117,
          87,
          86,
          114,
          101,
          98,
          129,
          127,
          90,
          90,
          101,
          60,
          148,
          89,
          93,
          114,
          101,
          111,
          128,
          85,
          106,
          112,
          73,
          89,
          109,
          109,
          88,
          93,
          106,
          90,
          140,
          107,
          72,
          85,
          118,
          114,
          40,
          90,
          100,
          87,
          114,
          100,
          111,
          114,
          91,
          90,
          95,
          110,
          125,
          86,
          125,
          88,
          128,
          106,
          118,
          102,
          109,
          95,
          99,
          80,
          89,
          98,
          97,
          101,
          86,
          173,
          92,
          142,
          125,
          91,
          93,
          67,
          162,
          109,
          94,
          121,
          103,
          91,
          94,
          95,
          121,
          114,
          83,
          157,
          142,
          106,
          94,
          136,
          87,
          90,
          102,
          92,
          81,
          103,
          116,
          99,
          60,
          119,
          95,
          104,
          58,
          126,
          109,
          70,
          98,
          107,
          78,
          88,
          105,
          98,
          102,
          124,
          105,
          98,
          107,
          109,
          96,
          57,
          93,
          91,
          30,
          110,
          29,
          136,
          31,
          96,
          112,
          96,
          117,
          59,
          59,
          65,
          110,
          158,
          89,
          150,
          99,
          135,
          101,
          111,
          99,
          100,
          167,
          92,
          123,
          129,
          131,
          85,
          118,
          117,
          114,
          91,
          66,
          96,
          107,
          69,
          80,
          95,
          130,
          109,
          148,
          31,
          96,
          83,
          86,
          144,
          103,
          108,
          96,
          92,
          112,
          118,
          88,
          60,
          107,
          112,
          97,
          32,
          147,
          60,
          94,
          93,
          114,
          70,
          118,
          110,
          87,
          90,
          112,
          83,
          93,
          95,
          110,
          163,
          138,
          110,
          60,
          114,
          100,
          125,
          116,
          101,
          53,
          89,
          87,
          85,
          132,
          139,
          65,
          144,
          115,
          82,
          85,
          97,
          97,
          24,
          94,
          161,
          99,
          104,
          86,
          98,
          89,
          79,
          108,
          108,
          104,
          58,
          95,
          90,
          100,
          120,
          139,
          104,
          101,
          170,
          59,
          40,
          67,
          30,
          90,
          96,
          95,
          39,
          70,
          122,
          90,
          80,
          126,
          92,
          84,
          62,
          59,
          102,
          88,
          36,
          115,
          106,
          97,
          138,
          106,
          60,
          112,
          112,
          110,
          145,
          163,
          47,
          28,
          107,
          97,
          70,
          129,
          96,
          65,
          112,
          100,
          90,
          98,
          107,
          110,
          142,
          60,
          175,
          128,
          98,
          48,
          101,
          81,
          71,
          60,
          50,
          103,
          100,
          73,
          118,
          79,
          164,
          110,
          90,
          137,
          110,
          126,
          95,
          104,
          120,
          132,
          106,
          131,
          101,
          74,
          102,
          107,
          89,
          60,
          97,
          102,
          125,
          68,
          130,
          87,
          98,
          111,
          150,
          136,
          94,
          142,
          118,
          62,
          134,
          102,
          91,
          150,
          88,
          61,
          72,
          97,
          96,
          146,
          14,
          124,
          118,
          150,
          62,
          84,
          94,
          63,
          22,
          112,
          91,
          80,
          101,
          81,
          86,
          105,
          97,
          59,
          96,
          92,
          101,
          93,
          109,
          106,
          99,
          96,
          89,
          82,
          113,
          101,
          151,
          115,
          125,
          90,
          8,
          93,
          99,
          90,
          129,
          95,
          147,
          111,
          88,
          82,
          153,
          102,
          83,
          118,
          72,
          90,
          105,
          107,
          108,
          104,
          100,
          58,
          119,
          58,
          94,
          60,
          76,
          98,
          17,
          97,
          136,
          91,
          123,
          59,
          102,
          105,
          34,
          104,
          130,
          52,
          128,
          158,
          58,
          94,
          179,
          54,
          117,
          63,
          99,
          89,
          105,
          105,
          18,
          40,
          98,
          116,
          102,
          106,
          102,
          129,
          113,
          9,
          91,
          118,
          64,
          36,
          135,
          118,
          125,
          110,
          119,
          89,
          110,
          103,
          108,
          105,
          120,
          45,
          106,
          101,
          104,
          96,
          98,
          112,
          105,
          13,
          33,
          36,
          155,
          127,
          15,
          94,
          145,
          33,
          88,
          102,
          163,
          58,
          114,
          104,
          84,
          90,
          101,
          145,
          69,
          115,
          141,
          90,
          124,
          144,
          63,
          78,
          31,
          117,
          152,
          60,
          120,
          103,
          59,
          25,
          87,
          105,
          128,
          153,
          106,
          127,
          124,
          103,
          103,
          12,
          24,
          106,
          110,
          92,
          91,
          86,
          60,
          91,
          102,
          59,
          66,
          99,
          113,
          94,
          126,
          116,
          140,
          112,
          55,
          98,
          96,
          155,
          61,
          100,
          65,
          20,
          113,
          64,
          54,
          87,
          12,
          96,
          89,
          86,
          77,
          76,
          118,
          84,
          122,
          97,
          90,
          58,
          98,
          62,
          2,
          13,
          115,
          116,
          61,
          119,
          60,
          112,
          100,
          110,
          90,
          47,
          93,
          112,
          74,
          88,
          95,
          23,
          49,
          93,
          120,
          123,
          99,
          72,
          113,
          96,
          99,
          115,
          63,
          94,
          99,
          121,
          122,
          96,
          55,
          91,
          85,
          64,
          45,
          70,
          105,
          91,
          114,
          148,
          92,
          99,
          102,
          101,
          95,
          119,
          106,
          101,
          96,
          89,
          108,
          99,
          102,
          115,
          25,
          93,
          100,
          134,
          90
         ],
         "yaxis": "y"
        }
       ],
       "layout": {
        "coloraxis": {
         "colorbar": {
          "title": {
           "text": "release_year"
          }
         },
         "colorscale": [
          [
           0,
           "#0d0887"
          ],
          [
           0.1111111111111111,
           "#46039f"
          ],
          [
           0.2222222222222222,
           "#7201a8"
          ],
          [
           0.3333333333333333,
           "#9c179e"
          ],
          [
           0.4444444444444444,
           "#bd3786"
          ],
          [
           0.5555555555555556,
           "#d8576b"
          ],
          [
           0.6666666666666666,
           "#ed7953"
          ],
          [
           0.7777777777777778,
           "#fb9f3a"
          ],
          [
           0.8888888888888888,
           "#fdca26"
          ],
          [
           1,
           "#f0f921"
          ]
         ]
        },
        "height": 800,
        "legend": {
         "tracegroupgap": 0
        },
        "margin": {
         "t": 60
        },
        "template": {
         "data": {
          "bar": [
           {
            "error_x": {
             "color": "#2a3f5f"
            },
            "error_y": {
             "color": "#2a3f5f"
            },
            "marker": {
             "line": {
              "color": "#E5ECF6",
              "width": 0.5
             },
             "pattern": {
              "fillmode": "overlay",
              "size": 10,
              "solidity": 0.2
             }
            },
            "type": "bar"
           }
          ],
          "barpolar": [
           {
            "marker": {
             "line": {
              "color": "#E5ECF6",
              "width": 0.5
             },
             "pattern": {
              "fillmode": "overlay",
              "size": 10,
              "solidity": 0.2
             }
            },
            "type": "barpolar"
           }
          ],
          "carpet": [
           {
            "aaxis": {
             "endlinecolor": "#2a3f5f",
             "gridcolor": "white",
             "linecolor": "white",
             "minorgridcolor": "white",
             "startlinecolor": "#2a3f5f"
            },
            "baxis": {
             "endlinecolor": "#2a3f5f",
             "gridcolor": "white",
             "linecolor": "white",
             "minorgridcolor": "white",
             "startlinecolor": "#2a3f5f"
            },
            "type": "carpet"
           }
          ],
          "choropleth": [
           {
            "colorbar": {
             "outlinewidth": 0,
             "ticks": ""
            },
            "type": "choropleth"
           }
          ],
          "contour": [
           {
            "colorbar": {
             "outlinewidth": 0,
             "ticks": ""
            },
            "colorscale": [
             [
              0,
              "#0d0887"
             ],
             [
              0.1111111111111111,
              "#46039f"
             ],
             [
              0.2222222222222222,
              "#7201a8"
             ],
             [
              0.3333333333333333,
              "#9c179e"
             ],
             [
              0.4444444444444444,
              "#bd3786"
             ],
             [
              0.5555555555555556,
              "#d8576b"
             ],
             [
              0.6666666666666666,
              "#ed7953"
             ],
             [
              0.7777777777777778,
              "#fb9f3a"
             ],
             [
              0.8888888888888888,
              "#fdca26"
             ],
             [
              1,
              "#f0f921"
             ]
            ],
            "type": "contour"
           }
          ],
          "contourcarpet": [
           {
            "colorbar": {
             "outlinewidth": 0,
             "ticks": ""
            },
            "type": "contourcarpet"
           }
          ],
          "heatmap": [
           {
            "colorbar": {
             "outlinewidth": 0,
             "ticks": ""
            },
            "colorscale": [
             [
              0,
              "#0d0887"
             ],
             [
              0.1111111111111111,
              "#46039f"
             ],
             [
              0.2222222222222222,
              "#7201a8"
             ],
             [
              0.3333333333333333,
              "#9c179e"
             ],
             [
              0.4444444444444444,
              "#bd3786"
             ],
             [
              0.5555555555555556,
              "#d8576b"
             ],
             [
              0.6666666666666666,
              "#ed7953"
             ],
             [
              0.7777777777777778,
              "#fb9f3a"
             ],
             [
              0.8888888888888888,
              "#fdca26"
             ],
             [
              1,
              "#f0f921"
             ]
            ],
            "type": "heatmap"
           }
          ],
          "heatmapgl": [
           {
            "colorbar": {
             "outlinewidth": 0,
             "ticks": ""
            },
            "colorscale": [
             [
              0,
              "#0d0887"
             ],
             [
              0.1111111111111111,
              "#46039f"
             ],
             [
              0.2222222222222222,
              "#7201a8"
             ],
             [
              0.3333333333333333,
              "#9c179e"
             ],
             [
              0.4444444444444444,
              "#bd3786"
             ],
             [
              0.5555555555555556,
              "#d8576b"
             ],
             [
              0.6666666666666666,
              "#ed7953"
             ],
             [
              0.7777777777777778,
              "#fb9f3a"
             ],
             [
              0.8888888888888888,
              "#fdca26"
             ],
             [
              1,
              "#f0f921"
             ]
            ],
            "type": "heatmapgl"
           }
          ],
          "histogram": [
           {
            "marker": {
             "pattern": {
              "fillmode": "overlay",
              "size": 10,
              "solidity": 0.2
             }
            },
            "type": "histogram"
           }
          ],
          "histogram2d": [
           {
            "colorbar": {
             "outlinewidth": 0,
             "ticks": ""
            },
            "colorscale": [
             [
              0,
              "#0d0887"
             ],
             [
              0.1111111111111111,
              "#46039f"
             ],
             [
              0.2222222222222222,
              "#7201a8"
             ],
             [
              0.3333333333333333,
              "#9c179e"
             ],
             [
              0.4444444444444444,
              "#bd3786"
             ],
             [
              0.5555555555555556,
              "#d8576b"
             ],
             [
              0.6666666666666666,
              "#ed7953"
             ],
             [
              0.7777777777777778,
              "#fb9f3a"
             ],
             [
              0.8888888888888888,
              "#fdca26"
             ],
             [
              1,
              "#f0f921"
             ]
            ],
            "type": "histogram2d"
           }
          ],
          "histogram2dcontour": [
           {
            "colorbar": {
             "outlinewidth": 0,
             "ticks": ""
            },
            "colorscale": [
             [
              0,
              "#0d0887"
             ],
             [
              0.1111111111111111,
              "#46039f"
             ],
             [
              0.2222222222222222,
              "#7201a8"
             ],
             [
              0.3333333333333333,
              "#9c179e"
             ],
             [
              0.4444444444444444,
              "#bd3786"
             ],
             [
              0.5555555555555556,
              "#d8576b"
             ],
             [
              0.6666666666666666,
              "#ed7953"
             ],
             [
              0.7777777777777778,
              "#fb9f3a"
             ],
             [
              0.8888888888888888,
              "#fdca26"
             ],
             [
              1,
              "#f0f921"
             ]
            ],
            "type": "histogram2dcontour"
           }
          ],
          "mesh3d": [
           {
            "colorbar": {
             "outlinewidth": 0,
             "ticks": ""
            },
            "type": "mesh3d"
           }
          ],
          "parcoords": [
           {
            "line": {
             "colorbar": {
              "outlinewidth": 0,
              "ticks": ""
             }
            },
            "type": "parcoords"
           }
          ],
          "pie": [
           {
            "automargin": true,
            "type": "pie"
           }
          ],
          "scatter": [
           {
            "fillpattern": {
             "fillmode": "overlay",
             "size": 10,
             "solidity": 0.2
            },
            "type": "scatter"
           }
          ],
          "scatter3d": [
           {
            "line": {
             "colorbar": {
              "outlinewidth": 0,
              "ticks": ""
             }
            },
            "marker": {
             "colorbar": {
              "outlinewidth": 0,
              "ticks": ""
             }
            },
            "type": "scatter3d"
           }
          ],
          "scattercarpet": [
           {
            "marker": {
             "colorbar": {
              "outlinewidth": 0,
              "ticks": ""
             }
            },
            "type": "scattercarpet"
           }
          ],
          "scattergeo": [
           {
            "marker": {
             "colorbar": {
              "outlinewidth": 0,
              "ticks": ""
             }
            },
            "type": "scattergeo"
           }
          ],
          "scattergl": [
           {
            "marker": {
             "colorbar": {
              "outlinewidth": 0,
              "ticks": ""
             }
            },
            "type": "scattergl"
           }
          ],
          "scattermapbox": [
           {
            "marker": {
             "colorbar": {
              "outlinewidth": 0,
              "ticks": ""
             }
            },
            "type": "scattermapbox"
           }
          ],
          "scatterpolar": [
           {
            "marker": {
             "colorbar": {
              "outlinewidth": 0,
              "ticks": ""
             }
            },
            "type": "scatterpolar"
           }
          ],
          "scatterpolargl": [
           {
            "marker": {
             "colorbar": {
              "outlinewidth": 0,
              "ticks": ""
             }
            },
            "type": "scatterpolargl"
           }
          ],
          "scatterternary": [
           {
            "marker": {
             "colorbar": {
              "outlinewidth": 0,
              "ticks": ""
             }
            },
            "type": "scatterternary"
           }
          ],
          "surface": [
           {
            "colorbar": {
             "outlinewidth": 0,
             "ticks": ""
            },
            "colorscale": [
             [
              0,
              "#0d0887"
             ],
             [
              0.1111111111111111,
              "#46039f"
             ],
             [
              0.2222222222222222,
              "#7201a8"
             ],
             [
              0.3333333333333333,
              "#9c179e"
             ],
             [
              0.4444444444444444,
              "#bd3786"
             ],
             [
              0.5555555555555556,
              "#d8576b"
             ],
             [
              0.6666666666666666,
              "#ed7953"
             ],
             [
              0.7777777777777778,
              "#fb9f3a"
             ],
             [
              0.8888888888888888,
              "#fdca26"
             ],
             [
              1,
              "#f0f921"
             ]
            ],
            "type": "surface"
           }
          ],
          "table": [
           {
            "cells": {
             "fill": {
              "color": "#EBF0F8"
             },
             "line": {
              "color": "white"
             }
            },
            "header": {
             "fill": {
              "color": "#C8D4E3"
             },
             "line": {
              "color": "white"
             }
            },
            "type": "table"
           }
          ]
         },
         "layout": {
          "annotationdefaults": {
           "arrowcolor": "#2a3f5f",
           "arrowhead": 0,
           "arrowwidth": 1
          },
          "autotypenumbers": "strict",
          "coloraxis": {
           "colorbar": {
            "outlinewidth": 0,
            "ticks": ""
           }
          },
          "colorscale": {
           "diverging": [
            [
             0,
             "#8e0152"
            ],
            [
             0.1,
             "#c51b7d"
            ],
            [
             0.2,
             "#de77ae"
            ],
            [
             0.3,
             "#f1b6da"
            ],
            [
             0.4,
             "#fde0ef"
            ],
            [
             0.5,
             "#f7f7f7"
            ],
            [
             0.6,
             "#e6f5d0"
            ],
            [
             0.7,
             "#b8e186"
            ],
            [
             0.8,
             "#7fbc41"
            ],
            [
             0.9,
             "#4d9221"
            ],
            [
             1,
             "#276419"
            ]
           ],
           "sequential": [
            [
             0,
             "#0d0887"
            ],
            [
             0.1111111111111111,
             "#46039f"
            ],
            [
             0.2222222222222222,
             "#7201a8"
            ],
            [
             0.3333333333333333,
             "#9c179e"
            ],
            [
             0.4444444444444444,
             "#bd3786"
            ],
            [
             0.5555555555555556,
             "#d8576b"
            ],
            [
             0.6666666666666666,
             "#ed7953"
            ],
            [
             0.7777777777777778,
             "#fb9f3a"
            ],
            [
             0.8888888888888888,
             "#fdca26"
            ],
            [
             1,
             "#f0f921"
            ]
           ],
           "sequentialminus": [
            [
             0,
             "#0d0887"
            ],
            [
             0.1111111111111111,
             "#46039f"
            ],
            [
             0.2222222222222222,
             "#7201a8"
            ],
            [
             0.3333333333333333,
             "#9c179e"
            ],
            [
             0.4444444444444444,
             "#bd3786"
            ],
            [
             0.5555555555555556,
             "#d8576b"
            ],
            [
             0.6666666666666666,
             "#ed7953"
            ],
            [
             0.7777777777777778,
             "#fb9f3a"
            ],
            [
             0.8888888888888888,
             "#fdca26"
            ],
            [
             1,
             "#f0f921"
            ]
           ]
          },
          "colorway": [
           "#636efa",
           "#EF553B",
           "#00cc96",
           "#ab63fa",
           "#FFA15A",
           "#19d3f3",
           "#FF6692",
           "#B6E880",
           "#FF97FF",
           "#FECB52"
          ],
          "font": {
           "color": "#2a3f5f"
          },
          "geo": {
           "bgcolor": "white",
           "lakecolor": "white",
           "landcolor": "#E5ECF6",
           "showlakes": true,
           "showland": true,
           "subunitcolor": "white"
          },
          "hoverlabel": {
           "align": "left"
          },
          "hovermode": "closest",
          "mapbox": {
           "style": "light"
          },
          "paper_bgcolor": "white",
          "plot_bgcolor": "#E5ECF6",
          "polar": {
           "angularaxis": {
            "gridcolor": "white",
            "linecolor": "white",
            "ticks": ""
           },
           "bgcolor": "#E5ECF6",
           "radialaxis": {
            "gridcolor": "white",
            "linecolor": "white",
            "ticks": ""
           }
          },
          "scene": {
           "xaxis": {
            "backgroundcolor": "#E5ECF6",
            "gridcolor": "white",
            "gridwidth": 2,
            "linecolor": "white",
            "showbackground": true,
            "ticks": "",
            "zerolinecolor": "white"
           },
           "yaxis": {
            "backgroundcolor": "#E5ECF6",
            "gridcolor": "white",
            "gridwidth": 2,
            "linecolor": "white",
            "showbackground": true,
            "ticks": "",
            "zerolinecolor": "white"
           },
           "zaxis": {
            "backgroundcolor": "#E5ECF6",
            "gridcolor": "white",
            "gridwidth": 2,
            "linecolor": "white",
            "showbackground": true,
            "ticks": "",
            "zerolinecolor": "white"
           }
          },
          "shapedefaults": {
           "line": {
            "color": "#2a3f5f"
           }
          },
          "ternary": {
           "aaxis": {
            "gridcolor": "white",
            "linecolor": "white",
            "ticks": ""
           },
           "baxis": {
            "gridcolor": "white",
            "linecolor": "white",
            "ticks": ""
           },
           "bgcolor": "#E5ECF6",
           "caxis": {
            "gridcolor": "white",
            "linecolor": "white",
            "ticks": ""
           }
          },
          "title": {
           "x": 0.05
          },
          "xaxis": {
           "automargin": true,
           "gridcolor": "white",
           "linecolor": "white",
           "ticks": "",
           "title": {
            "standoff": 15
           },
           "zerolinecolor": "white",
           "zerolinewidth": 2
          },
          "yaxis": {
           "automargin": true,
           "gridcolor": "white",
           "linecolor": "white",
           "ticks": "",
           "title": {
            "standoff": 15
           },
           "zerolinecolor": "white",
           "zerolinewidth": 2
          }
         }
        },
        "width": 1800,
        "xaxis": {
         "anchor": "y",
         "domain": [
          0,
          1
         ],
         "title": {
          "text": "score"
         },
         "type": "log"
        },
        "yaxis": {
         "anchor": "x",
         "domain": [
          0,
          1
         ],
         "title": {
          "text": "runtime"
         }
        }
       }
      }
     },
     "metadata": {},
     "output_type": "display_data"
    }
   ],
   "source": [
    "graf_duracion(df)"
   ]
  },
  {
   "cell_type": "code",
   "execution_count": 9,
   "metadata": {},
   "outputs": [
    {
     "data": {
      "application/vnd.plotly.v1+json": {
       "config": {
        "plotlyServerURL": "https://plot.ly"
       },
       "data": [
        {
         "alignmentgroup": "True",
         "bingroup": "x",
         "histfunc": "sum",
         "hovertemplate": "prom_relative=0.014747680357147916<br>index=%{x}<br>sum of prom_relative=%{y}<extra></extra>",
         "legendgroup": "0.014747680357147916",
         "marker": {
          "color": "#636efa",
          "pattern": {
           "shape": ""
          }
         },
         "name": "0.014747680357147916",
         "offsetgroup": "0.014747680357147916",
         "orientation": "v",
         "showlegend": true,
         "type": "histogram",
         "x": [
          "leonardo dicaprio"
         ],
         "xaxis": "x",
         "y": [
          0.014747680357147916
         ],
         "yaxis": "y"
        },
        {
         "alignmentgroup": "True",
         "boxpoints": "all",
         "fillcolor": "rgba(255,255,255,0)",
         "hoveron": "points",
         "hovertemplate": "prom_relative=0.014747680357147916<br>index=%{x}<extra></extra>",
         "jitter": 0,
         "legendgroup": "0.014747680357147916",
         "line": {
          "color": "rgba(255,255,255,0)"
         },
         "marker": {
          "color": "#636efa",
          "symbol": "line-ns-open"
         },
         "name": "0.014747680357147916",
         "offsetgroup": "0.014747680357147916",
         "showlegend": false,
         "type": "box",
         "x": [
          "leonardo dicaprio"
         ],
         "xaxis": "x2",
         "yaxis": "y2"
        },
        {
         "alignmentgroup": "True",
         "bingroup": "x",
         "histfunc": "sum",
         "hovertemplate": "prom_relative=0.008629471231017512<br>index=%{x}<br>sum of prom_relative=%{y}<extra></extra>",
         "legendgroup": "0.008629471231017512",
         "marker": {
          "color": "#EF553B",
          "pattern": {
           "shape": ""
          }
         },
         "name": "0.008629471231017512",
         "offsetgroup": "0.008629471231017512",
         "orientation": "v",
         "showlegend": true,
         "type": "histogram",
         "x": [
          "marion cotillard"
         ],
         "xaxis": "x",
         "y": [
          0.008629471231017512
         ],
         "yaxis": "y"
        },
        {
         "alignmentgroup": "True",
         "boxpoints": "all",
         "fillcolor": "rgba(255,255,255,0)",
         "hoveron": "points",
         "hovertemplate": "prom_relative=0.008629471231017512<br>index=%{x}<extra></extra>",
         "jitter": 0,
         "legendgroup": "0.008629471231017512",
         "line": {
          "color": "rgba(255,255,255,0)"
         },
         "marker": {
          "color": "#EF553B",
          "symbol": "line-ns-open"
         },
         "name": "0.008629471231017512",
         "offsetgroup": "0.008629471231017512",
         "showlegend": false,
         "type": "box",
         "x": [
          "marion cotillard"
         ],
         "xaxis": "x2",
         "yaxis": "y2"
        },
        {
         "alignmentgroup": "True",
         "bingroup": "x",
         "histfunc": "sum",
         "hovertemplate": "prom_relative=0.008433522041653298<br>index=%{x}<br>sum of prom_relative=%{y}<extra></extra>",
         "legendgroup": "0.008433522041653298",
         "marker": {
          "color": "#00cc96",
          "pattern": {
           "shape": ""
          }
         },
         "name": "0.008433522041653298",
         "offsetgroup": "0.008433522041653298",
         "orientation": "v",
         "showlegend": true,
         "type": "histogram",
         "x": [
          "tom hardy"
         ],
         "xaxis": "x",
         "y": [
          0.008433522041653298
         ],
         "yaxis": "y"
        },
        {
         "alignmentgroup": "True",
         "boxpoints": "all",
         "fillcolor": "rgba(255,255,255,0)",
         "hoveron": "points",
         "hovertemplate": "prom_relative=0.008433522041653298<br>index=%{x}<extra></extra>",
         "jitter": 0,
         "legendgroup": "0.008433522041653298",
         "line": {
          "color": "rgba(255,255,255,0)"
         },
         "marker": {
          "color": "#00cc96",
          "symbol": "line-ns-open"
         },
         "name": "0.008433522041653298",
         "offsetgroup": "0.008433522041653298",
         "showlegend": false,
         "type": "box",
         "x": [
          "tom hardy"
         ],
         "xaxis": "x2",
         "yaxis": "y2"
        },
        {
         "alignmentgroup": "True",
         "bingroup": "x",
         "histfunc": "sum",
         "hovertemplate": "prom_relative=0.008402457237412104<br>index=%{x}<br>sum of prom_relative=%{y}<extra></extra>",
         "legendgroup": "0.008402457237412104",
         "marker": {
          "color": "#ab63fa",
          "pattern": {
           "shape": ""
          }
         },
         "name": "0.008402457237412104",
         "offsetgroup": "0.008402457237412104",
         "orientation": "v",
         "showlegend": true,
         "type": "histogram",
         "x": [
          "cillian murphy",
          "miranda nolan"
         ],
         "xaxis": "x",
         "y": [
          0.008402457237412104,
          0.008402457237412104
         ],
         "yaxis": "y"
        },
        {
         "alignmentgroup": "True",
         "boxpoints": "all",
         "fillcolor": "rgba(255,255,255,0)",
         "hoveron": "points",
         "hovertemplate": "prom_relative=0.008402457237412104<br>index=%{x}<extra></extra>",
         "jitter": 0,
         "legendgroup": "0.008402457237412104",
         "line": {
          "color": "rgba(255,255,255,0)"
         },
         "marker": {
          "color": "#ab63fa",
          "symbol": "line-ns-open"
         },
         "name": "0.008402457237412104",
         "offsetgroup": "0.008402457237412104",
         "showlegend": false,
         "type": "box",
         "x": [
          "cillian murphy",
          "miranda nolan"
         ],
         "xaxis": "x2",
         "yaxis": "y2"
        },
        {
         "alignmentgroup": "True",
         "bingroup": "x",
         "histfunc": "sum",
         "hovertemplate": "prom_relative=0.007785414464095083<br>index=%{x}<br>sum of prom_relative=%{y}<extra></extra>",
         "legendgroup": "0.007785414464095083",
         "marker": {
          "color": "#FFA15A",
          "pattern": {
           "shape": ""
          }
         },
         "name": "0.007785414464095083",
         "offsetgroup": "0.007785414464095083",
         "orientation": "v",
         "showlegend": true,
         "type": "histogram",
         "x": [
          "morgan freeman"
         ],
         "xaxis": "x",
         "y": [
          0.007785414464095083
         ],
         "yaxis": "y"
        },
        {
         "alignmentgroup": "True",
         "boxpoints": "all",
         "fillcolor": "rgba(255,255,255,0)",
         "hoveron": "points",
         "hovertemplate": "prom_relative=0.007785414464095083<br>index=%{x}<extra></extra>",
         "jitter": 0,
         "legendgroup": "0.007785414464095083",
         "line": {
          "color": "rgba(255,255,255,0)"
         },
         "marker": {
          "color": "#FFA15A",
          "symbol": "line-ns-open"
         },
         "name": "0.007785414464095083",
         "offsetgroup": "0.007785414464095083",
         "showlegend": false,
         "type": "box",
         "x": [
          "morgan freeman"
         ],
         "xaxis": "x2",
         "yaxis": "y2"
        },
        {
         "alignmentgroup": "True",
         "bingroup": "x",
         "histfunc": "sum",
         "hovertemplate": "prom_relative=0.007770589614789867<br>index=%{x}<br>sum of prom_relative=%{y}<extra></extra>",
         "legendgroup": "0.007770589614789867",
         "marker": {
          "color": "#19d3f3",
          "pattern": {
           "shape": ""
          }
         },
         "name": "0.007770589614789867",
         "offsetgroup": "0.007770589614789867",
         "orientation": "v",
         "showlegend": true,
         "type": "histogram",
         "x": [
          "michael caine"
         ],
         "xaxis": "x",
         "y": [
          0.007770589614789867
         ],
         "yaxis": "y"
        },
        {
         "alignmentgroup": "True",
         "boxpoints": "all",
         "fillcolor": "rgba(255,255,255,0)",
         "hoveron": "points",
         "hovertemplate": "prom_relative=0.007770589614789867<br>index=%{x}<extra></extra>",
         "jitter": 0,
         "legendgroup": "0.007770589614789867",
         "line": {
          "color": "rgba(255,255,255,0)"
         },
         "marker": {
          "color": "#19d3f3",
          "symbol": "line-ns-open"
         },
         "name": "0.007770589614789867",
         "offsetgroup": "0.007770589614789867",
         "showlegend": false,
         "type": "box",
         "x": [
          "michael caine"
         ],
         "xaxis": "x2",
         "yaxis": "y2"
        },
        {
         "alignmentgroup": "True",
         "bingroup": "x",
         "histfunc": "sum",
         "hovertemplate": "prom_relative=0.007490659222024834<br>index=%{x}<br>sum of prom_relative=%{y}<extra></extra>",
         "legendgroup": "0.007490659222024834",
         "marker": {
          "color": "#FF6692",
          "pattern": {
           "shape": ""
          }
         },
         "name": "0.007490659222024834",
         "offsetgroup": "0.007490659222024834",
         "orientation": "v",
         "showlegend": true,
         "type": "histogram",
         "x": [
          "russ fega"
         ],
         "xaxis": "x",
         "y": [
          0.007490659222024834
         ],
         "yaxis": "y"
        },
        {
         "alignmentgroup": "True",
         "boxpoints": "all",
         "fillcolor": "rgba(255,255,255,0)",
         "hoveron": "points",
         "hovertemplate": "prom_relative=0.007490659222024834<br>index=%{x}<extra></extra>",
         "jitter": 0,
         "legendgroup": "0.007490659222024834",
         "line": {
          "color": "rgba(255,255,255,0)"
         },
         "marker": {
          "color": "#FF6692",
          "symbol": "line-ns-open"
         },
         "name": "0.007490659222024834",
         "offsetgroup": "0.007490659222024834",
         "showlegend": false,
         "type": "box",
         "x": [
          "russ fega"
         ],
         "xaxis": "x2",
         "yaxis": "y2"
        },
        {
         "alignmentgroup": "True",
         "bingroup": "x",
         "histfunc": "sum",
         "hovertemplate": "prom_relative=0.007347842553504596<br>index=%{x}<br>sum of prom_relative=%{y}<extra></extra>",
         "legendgroup": "0.007347842553504596",
         "marker": {
          "color": "#B6E880",
          "pattern": {
           "shape": ""
          }
         },
         "name": "0.007347842553504596",
         "offsetgroup": "0.007347842553504596",
         "orientation": "v",
         "showlegend": true,
         "type": "histogram",
         "x": [
          "joseph gordon-levitt"
         ],
         "xaxis": "x",
         "y": [
          0.007347842553504596
         ],
         "yaxis": "y"
        },
        {
         "alignmentgroup": "True",
         "boxpoints": "all",
         "fillcolor": "rgba(255,255,255,0)",
         "hoveron": "points",
         "hovertemplate": "prom_relative=0.007347842553504596<br>index=%{x}<extra></extra>",
         "jitter": 0,
         "legendgroup": "0.007347842553504596",
         "line": {
          "color": "rgba(255,255,255,0)"
         },
         "marker": {
          "color": "#B6E880",
          "symbol": "line-ns-open"
         },
         "name": "0.007347842553504596",
         "offsetgroup": "0.007347842553504596",
         "showlegend": false,
         "type": "box",
         "x": [
          "joseph gordon-levitt"
         ],
         "xaxis": "x2",
         "yaxis": "y2"
        },
        {
         "alignmentgroup": "True",
         "bingroup": "x",
         "histfunc": "sum",
         "hovertemplate": "prom_relative=0.0067149704569045504<br>index=%{x}<br>sum of prom_relative=%{y}<extra></extra>",
         "legendgroup": "0.0067149704569045504",
         "marker": {
          "color": "#FF97FF",
          "pattern": {
           "shape": ""
          }
         },
         "name": "0.0067149704569045504",
         "offsetgroup": "0.0067149704569045504",
         "orientation": "v",
         "showlegend": true,
         "type": "histogram",
         "x": [
          "tom hanks"
         ],
         "xaxis": "x",
         "y": [
          0.0067149704569045504
         ],
         "yaxis": "y"
        },
        {
         "alignmentgroup": "True",
         "boxpoints": "all",
         "fillcolor": "rgba(255,255,255,0)",
         "hoveron": "points",
         "hovertemplate": "prom_relative=0.0067149704569045504<br>index=%{x}<extra></extra>",
         "jitter": 0,
         "legendgroup": "0.0067149704569045504",
         "line": {
          "color": "rgba(255,255,255,0)"
         },
         "marker": {
          "color": "#FF97FF",
          "symbol": "line-ns-open"
         },
         "name": "0.0067149704569045504",
         "offsetgroup": "0.0067149704569045504",
         "showlegend": false,
         "type": "box",
         "x": [
          "tom hanks"
         ],
         "xaxis": "x2",
         "yaxis": "y2"
        },
        {
         "alignmentgroup": "True",
         "bingroup": "x",
         "histfunc": "sum",
         "hovertemplate": "prom_relative=0.006079313848722573<br>index=%{x}<br>sum of prom_relative=%{y}<extra></extra>",
         "legendgroup": "0.006079313848722573",
         "marker": {
          "color": "#FECB52",
          "pattern": {
           "shape": ""
          }
         },
         "name": "0.006079313848722573",
         "offsetgroup": "0.006079313848722573",
         "orientation": "v",
         "showlegend": true,
         "type": "histogram",
         "x": [
          "gary oldman"
         ],
         "xaxis": "x",
         "y": [
          0.006079313848722573
         ],
         "yaxis": "y"
        },
        {
         "alignmentgroup": "True",
         "boxpoints": "all",
         "fillcolor": "rgba(255,255,255,0)",
         "hoveron": "points",
         "hovertemplate": "prom_relative=0.006079313848722573<br>index=%{x}<extra></extra>",
         "jitter": 0,
         "legendgroup": "0.006079313848722573",
         "line": {
          "color": "rgba(255,255,255,0)"
         },
         "marker": {
          "color": "#FECB52",
          "symbol": "line-ns-open"
         },
         "name": "0.006079313848722573",
         "offsetgroup": "0.006079313848722573",
         "showlegend": false,
         "type": "box",
         "x": [
          "gary oldman"
         ],
         "xaxis": "x2",
         "yaxis": "y2"
        },
        {
         "alignmentgroup": "True",
         "bingroup": "x",
         "histfunc": "sum",
         "hovertemplate": "prom_relative=0.00555585286251573<br>index=%{x}<br>sum of prom_relative=%{y}<extra></extra>",
         "legendgroup": "0.00555585286251573",
         "marker": {
          "color": "#636efa",
          "pattern": {
           "shape": ""
          }
         },
         "name": "0.00555585286251573",
         "offsetgroup": "0.00555585286251573",
         "orientation": "v",
         "showlegend": true,
         "type": "histogram",
         "x": [
          "samuel l. jackson"
         ],
         "xaxis": "x",
         "y": [
          0.00555585286251573
         ],
         "yaxis": "y"
        },
        {
         "alignmentgroup": "True",
         "boxpoints": "all",
         "fillcolor": "rgba(255,255,255,0)",
         "hoveron": "points",
         "hovertemplate": "prom_relative=0.00555585286251573<br>index=%{x}<extra></extra>",
         "jitter": 0,
         "legendgroup": "0.00555585286251573",
         "line": {
          "color": "rgba(255,255,255,0)"
         },
         "marker": {
          "color": "#636efa",
          "symbol": "line-ns-open"
         },
         "name": "0.00555585286251573",
         "offsetgroup": "0.00555585286251573",
         "showlegend": false,
         "type": "box",
         "x": [
          "samuel l. jackson"
         ],
         "xaxis": "x2",
         "yaxis": "y2"
        },
        {
         "alignmentgroup": "True",
         "bingroup": "x",
         "histfunc": "sum",
         "hovertemplate": "prom_relative=0.005537337996090128<br>index=%{x}<br>sum of prom_relative=%{y}<extra></extra>",
         "legendgroup": "0.005537337996090128",
         "marker": {
          "color": "#EF553B",
          "pattern": {
           "shape": ""
          }
         },
         "name": "0.005537337996090128",
         "offsetgroup": "0.005537337996090128",
         "orientation": "v",
         "showlegend": true,
         "type": "histogram",
         "x": [
          "john farrer"
         ],
         "xaxis": "x",
         "y": [
          0.005537337996090128
         ],
         "yaxis": "y"
        },
        {
         "alignmentgroup": "True",
         "boxpoints": "all",
         "fillcolor": "rgba(255,255,255,0)",
         "hoveron": "points",
         "hovertemplate": "prom_relative=0.005537337996090128<br>index=%{x}<extra></extra>",
         "jitter": 0,
         "legendgroup": "0.005537337996090128",
         "line": {
          "color": "rgba(255,255,255,0)"
         },
         "marker": {
          "color": "#EF553B",
          "symbol": "line-ns-open"
         },
         "name": "0.005537337996090128",
         "offsetgroup": "0.005537337996090128",
         "showlegend": false,
         "type": "box",
         "x": [
          "john farrer"
         ],
         "xaxis": "x2",
         "yaxis": "y2"
        },
        {
         "alignmentgroup": "True",
         "bingroup": "x",
         "histfunc": "sum",
         "hovertemplate": "prom_relative=0.00510363958767611<br>index=%{x}<br>sum of prom_relative=%{y}<extra></extra>",
         "legendgroup": "0.00510363958767611",
         "marker": {
          "color": "#00cc96",
          "pattern": {
           "shape": ""
          }
         },
         "name": "0.00510363958767611",
         "offsetgroup": "0.00510363958767611",
         "orientation": "v",
         "showlegend": true,
         "type": "histogram",
         "x": [
          "brad pitt"
         ],
         "xaxis": "x",
         "y": [
          0.00510363958767611
         ],
         "yaxis": "y"
        },
        {
         "alignmentgroup": "True",
         "boxpoints": "all",
         "fillcolor": "rgba(255,255,255,0)",
         "hoveron": "points",
         "hovertemplate": "prom_relative=0.00510363958767611<br>index=%{x}<extra></extra>",
         "jitter": 0,
         "legendgroup": "0.00510363958767611",
         "line": {
          "color": "rgba(255,255,255,0)"
         },
         "marker": {
          "color": "#00cc96",
          "symbol": "line-ns-open"
         },
         "name": "0.00510363958767611",
         "offsetgroup": "0.00510363958767611",
         "showlegend": false,
         "type": "box",
         "x": [
          "brad pitt"
         ],
         "xaxis": "x2",
         "yaxis": "y2"
        },
        {
         "alignmentgroup": "True",
         "bingroup": "x",
         "histfunc": "sum",
         "hovertemplate": "prom_relative=0.00501204832554742<br>index=%{x}<br>sum of prom_relative=%{y}<extra></extra>",
         "legendgroup": "0.00501204832554742",
         "marker": {
          "color": "#ab63fa",
          "pattern": {
           "shape": ""
          }
         },
         "name": "0.00501204832554742",
         "offsetgroup": "0.00501204832554742",
         "orientation": "v",
         "showlegend": true,
         "type": "histogram",
         "x": [
          "robert de niro"
         ],
         "xaxis": "x",
         "y": [
          0.00501204832554742
         ],
         "yaxis": "y"
        },
        {
         "alignmentgroup": "True",
         "boxpoints": "all",
         "fillcolor": "rgba(255,255,255,0)",
         "hoveron": "points",
         "hovertemplate": "prom_relative=0.00501204832554742<br>index=%{x}<extra></extra>",
         "jitter": 0,
         "legendgroup": "0.00501204832554742",
         "line": {
          "color": "rgba(255,255,255,0)"
         },
         "marker": {
          "color": "#ab63fa",
          "symbol": "line-ns-open"
         },
         "name": "0.00501204832554742",
         "offsetgroup": "0.00501204832554742",
         "showlegend": false,
         "type": "box",
         "x": [
          "robert de niro"
         ],
         "xaxis": "x2",
         "yaxis": "y2"
        },
        {
         "alignmentgroup": "True",
         "bingroup": "x",
         "histfunc": "sum",
         "hovertemplate": "prom_relative=0.004933505990631116<br>index=%{x}<br>sum of prom_relative=%{y}<extra></extra>",
         "legendgroup": "0.004933505990631116",
         "marker": {
          "color": "#FFA15A",
          "pattern": {
           "shape": ""
          }
         },
         "name": "0.004933505990631116",
         "offsetgroup": "0.004933505990631116",
         "orientation": "v",
         "showlegend": true,
         "type": "histogram",
         "x": [
          "martin sheen"
         ],
         "xaxis": "x",
         "y": [
          0.004933505990631116
         ],
         "yaxis": "y"
        },
        {
         "alignmentgroup": "True",
         "boxpoints": "all",
         "fillcolor": "rgba(255,255,255,0)",
         "hoveron": "points",
         "hovertemplate": "prom_relative=0.004933505990631116<br>index=%{x}<extra></extra>",
         "jitter": 0,
         "legendgroup": "0.004933505990631116",
         "line": {
          "color": "rgba(255,255,255,0)"
         },
         "marker": {
          "color": "#FFA15A",
          "symbol": "line-ns-open"
         },
         "name": "0.004933505990631116",
         "offsetgroup": "0.004933505990631116",
         "showlegend": false,
         "type": "box",
         "x": [
          "martin sheen"
         ],
         "xaxis": "x2",
         "yaxis": "y2"
        },
        {
         "alignmentgroup": "True",
         "bingroup": "x",
         "histfunc": "sum",
         "hovertemplate": "prom_relative=0.00477694867789856<br>index=%{x}<br>sum of prom_relative=%{y}<extra></extra>",
         "legendgroup": "0.00477694867789856",
         "marker": {
          "color": "#19d3f3",
          "pattern": {
           "shape": ""
          }
         },
         "name": "0.00477694867789856",
         "offsetgroup": "0.00477694867789856",
         "orientation": "v",
         "showlegend": true,
         "type": "histogram",
         "x": [
          "chris ellis"
         ],
         "xaxis": "x",
         "y": [
          0.00477694867789856
         ],
         "yaxis": "y"
        },
        {
         "alignmentgroup": "True",
         "boxpoints": "all",
         "fillcolor": "rgba(255,255,255,0)",
         "hoveron": "points",
         "hovertemplate": "prom_relative=0.00477694867789856<br>index=%{x}<extra></extra>",
         "jitter": 0,
         "legendgroup": "0.00477694867789856",
         "line": {
          "color": "rgba(255,255,255,0)"
         },
         "marker": {
          "color": "#19d3f3",
          "symbol": "line-ns-open"
         },
         "name": "0.00477694867789856",
         "offsetgroup": "0.00477694867789856",
         "showlegend": false,
         "type": "box",
         "x": [
          "chris ellis"
         ],
         "xaxis": "x2",
         "yaxis": "y2"
        },
        {
         "alignmentgroup": "True",
         "bingroup": "x",
         "histfunc": "sum",
         "hovertemplate": "prom_relative=0.004768255621016112<br>index=%{x}<br>sum of prom_relative=%{y}<extra></extra>",
         "legendgroup": "0.004768255621016112",
         "marker": {
          "color": "#FF6692",
          "pattern": {
           "shape": ""
          }
         },
         "name": "0.004768255621016112",
         "offsetgroup": "0.004768255621016112",
         "orientation": "v",
         "showlegend": true,
         "type": "histogram",
         "x": [
          "michael papajohn"
         ],
         "xaxis": "x",
         "y": [
          0.004768255621016112
         ],
         "yaxis": "y"
        },
        {
         "alignmentgroup": "True",
         "boxpoints": "all",
         "fillcolor": "rgba(255,255,255,0)",
         "hoveron": "points",
         "hovertemplate": "prom_relative=0.004768255621016112<br>index=%{x}<extra></extra>",
         "jitter": 0,
         "legendgroup": "0.004768255621016112",
         "line": {
          "color": "rgba(255,255,255,0)"
         },
         "marker": {
          "color": "#FF6692",
          "symbol": "line-ns-open"
         },
         "name": "0.004768255621016112",
         "offsetgroup": "0.004768255621016112",
         "showlegend": false,
         "type": "box",
         "x": [
          "michael papajohn"
         ],
         "xaxis": "x2",
         "yaxis": "y2"
        },
        {
         "alignmentgroup": "True",
         "bingroup": "x",
         "histfunc": "sum",
         "hovertemplate": "prom_relative=0.004591854065566698<br>index=%{x}<br>sum of prom_relative=%{y}<extra></extra>",
         "legendgroup": "0.004591854065566698",
         "marker": {
          "color": "#B6E880",
          "pattern": {
           "shape": ""
          }
         },
         "name": "0.004591854065566698",
         "offsetgroup": "0.004591854065566698",
         "orientation": "v",
         "showlegend": true,
         "type": "histogram",
         "x": [
          "zach hanner"
         ],
         "xaxis": "x",
         "y": [
          0.004591854065566698
         ],
         "yaxis": "y"
        },
        {
         "alignmentgroup": "True",
         "boxpoints": "all",
         "fillcolor": "rgba(255,255,255,0)",
         "hoveron": "points",
         "hovertemplate": "prom_relative=0.004591854065566698<br>index=%{x}<extra></extra>",
         "jitter": 0,
         "legendgroup": "0.004591854065566698",
         "line": {
          "color": "rgba(255,255,255,0)"
         },
         "marker": {
          "color": "#B6E880",
          "symbol": "line-ns-open"
         },
         "name": "0.004591854065566698",
         "offsetgroup": "0.004591854065566698",
         "showlegend": false,
         "type": "box",
         "x": [
          "zach hanner"
         ],
         "xaxis": "x2",
         "yaxis": "y2"
        },
        {
         "alignmentgroup": "True",
         "bingroup": "x",
         "histfunc": "sum",
         "hovertemplate": "prom_relative=0.0045431963848668365<br>index=%{x}<br>sum of prom_relative=%{y}<extra></extra>",
         "legendgroup": "0.0045431963848668365",
         "marker": {
          "color": "#FF97FF",
          "pattern": {
           "shape": ""
          }
         },
         "name": "0.0045431963848668365",
         "offsetgroup": "0.0045431963848668365",
         "orientation": "v",
         "showlegend": true,
         "type": "histogram",
         "x": [
          "ritchie montgomery"
         ],
         "xaxis": "x",
         "y": [
          0.0045431963848668365
         ],
         "yaxis": "y"
        },
        {
         "alignmentgroup": "True",
         "boxpoints": "all",
         "fillcolor": "rgba(255,255,255,0)",
         "hoveron": "points",
         "hovertemplate": "prom_relative=0.0045431963848668365<br>index=%{x}<extra></extra>",
         "jitter": 0,
         "legendgroup": "0.0045431963848668365",
         "line": {
          "color": "rgba(255,255,255,0)"
         },
         "marker": {
          "color": "#FF97FF",
          "symbol": "line-ns-open"
         },
         "name": "0.0045431963848668365",
         "offsetgroup": "0.0045431963848668365",
         "showlegend": false,
         "type": "box",
         "x": [
          "ritchie montgomery"
         ],
         "xaxis": "x2",
         "yaxis": "y2"
        },
        {
         "alignmentgroup": "True",
         "bingroup": "x",
         "histfunc": "sum",
         "hovertemplate": "prom_relative=0.004528972928607295<br>index=%{x}<br>sum of prom_relative=%{y}<extra></extra>",
         "legendgroup": "0.004528972928607295",
         "marker": {
          "color": "#FECB52",
          "pattern": {
           "shape": ""
          }
         },
         "name": "0.004528972928607295",
         "offsetgroup": "0.004528972928607295",
         "orientation": "v",
         "showlegend": true,
         "type": "histogram",
         "x": [
          "kurt russell"
         ],
         "xaxis": "x",
         "y": [
          0.004528972928607295
         ],
         "yaxis": "y"
        },
        {
         "alignmentgroup": "True",
         "boxpoints": "all",
         "fillcolor": "rgba(255,255,255,0)",
         "hoveron": "points",
         "hovertemplate": "prom_relative=0.004528972928607295<br>index=%{x}<extra></extra>",
         "jitter": 0,
         "legendgroup": "0.004528972928607295",
         "line": {
          "color": "rgba(255,255,255,0)"
         },
         "marker": {
          "color": "#FECB52",
          "symbol": "line-ns-open"
         },
         "name": "0.004528972928607295",
         "offsetgroup": "0.004528972928607295",
         "showlegend": false,
         "type": "box",
         "x": [
          "kurt russell"
         ],
         "xaxis": "x2",
         "yaxis": "y2"
        },
        {
         "alignmentgroup": "True",
         "bingroup": "x",
         "histfunc": "sum",
         "hovertemplate": "prom_relative=0.004506819637336207<br>index=%{x}<br>sum of prom_relative=%{y}<extra></extra>",
         "legendgroup": "0.004506819637336207",
         "marker": {
          "color": "#636efa",
          "pattern": {
           "shape": ""
          }
         },
         "name": "0.004506819637336207",
         "offsetgroup": "0.004506819637336207",
         "orientation": "v",
         "showlegend": true,
         "type": "histogram",
         "x": [
          "shay duffin"
         ],
         "xaxis": "x",
         "y": [
          0.004506819637336207
         ],
         "yaxis": "y"
        },
        {
         "alignmentgroup": "True",
         "boxpoints": "all",
         "fillcolor": "rgba(255,255,255,0)",
         "hoveron": "points",
         "hovertemplate": "prom_relative=0.004506819637336207<br>index=%{x}<extra></extra>",
         "jitter": 0,
         "legendgroup": "0.004506819637336207",
         "line": {
          "color": "rgba(255,255,255,0)"
         },
         "marker": {
          "color": "#636efa",
          "symbol": "line-ns-open"
         },
         "name": "0.004506819637336207",
         "offsetgroup": "0.004506819637336207",
         "showlegend": false,
         "type": "box",
         "x": [
          "shay duffin"
         ],
         "xaxis": "x2",
         "yaxis": "y2"
        },
        {
         "alignmentgroup": "True",
         "bingroup": "x",
         "histfunc": "sum",
         "hovertemplate": "prom_relative=0.0044659353436197905<br>index=%{x}<br>sum of prom_relative=%{y}<extra></extra>",
         "legendgroup": "0.0044659353436197905",
         "marker": {
          "color": "#EF553B",
          "pattern": {
           "shape": ""
          }
         },
         "name": "0.0044659353436197905",
         "offsetgroup": "0.0044659353436197905",
         "orientation": "v",
         "showlegend": true,
         "type": "histogram",
         "x": [
          "ryan hayward",
          "shannon welles",
          "felix scott",
          "magnus nolan",
          "dileep rao",
          "tom berenger",
          "claire geare",
          "johnathan geare"
         ],
         "xaxis": "x",
         "y": [
          0.0044659353436197905,
          0.0044659353436197905,
          0.0044659353436197905,
          0.0044659353436197905,
          0.0044659353436197905,
          0.0044659353436197905,
          0.0044659353436197905,
          0.0044659353436197905
         ],
         "yaxis": "y"
        },
        {
         "alignmentgroup": "True",
         "boxpoints": "all",
         "fillcolor": "rgba(255,255,255,0)",
         "hoveron": "points",
         "hovertemplate": "prom_relative=0.0044659353436197905<br>index=%{x}<extra></extra>",
         "jitter": 0,
         "legendgroup": "0.0044659353436197905",
         "line": {
          "color": "rgba(255,255,255,0)"
         },
         "marker": {
          "color": "#EF553B",
          "symbol": "line-ns-open"
         },
         "name": "0.0044659353436197905",
         "offsetgroup": "0.0044659353436197905",
         "showlegend": false,
         "type": "box",
         "x": [
          "ryan hayward",
          "shannon welles",
          "felix scott",
          "magnus nolan",
          "dileep rao",
          "tom berenger",
          "claire geare",
          "johnathan geare"
         ],
         "xaxis": "x2",
         "yaxis": "y2"
        }
       ],
       "layout": {
        "barmode": "relative",
        "legend": {
         "title": {
          "text": "prom_relative"
         },
         "tracegroupgap": 0
        },
        "margin": {
         "t": 60
        },
        "template": {
         "data": {
          "bar": [
           {
            "error_x": {
             "color": "#2a3f5f"
            },
            "error_y": {
             "color": "#2a3f5f"
            },
            "marker": {
             "line": {
              "color": "#E5ECF6",
              "width": 0.5
             },
             "pattern": {
              "fillmode": "overlay",
              "size": 10,
              "solidity": 0.2
             }
            },
            "type": "bar"
           }
          ],
          "barpolar": [
           {
            "marker": {
             "line": {
              "color": "#E5ECF6",
              "width": 0.5
             },
             "pattern": {
              "fillmode": "overlay",
              "size": 10,
              "solidity": 0.2
             }
            },
            "type": "barpolar"
           }
          ],
          "carpet": [
           {
            "aaxis": {
             "endlinecolor": "#2a3f5f",
             "gridcolor": "white",
             "linecolor": "white",
             "minorgridcolor": "white",
             "startlinecolor": "#2a3f5f"
            },
            "baxis": {
             "endlinecolor": "#2a3f5f",
             "gridcolor": "white",
             "linecolor": "white",
             "minorgridcolor": "white",
             "startlinecolor": "#2a3f5f"
            },
            "type": "carpet"
           }
          ],
          "choropleth": [
           {
            "colorbar": {
             "outlinewidth": 0,
             "ticks": ""
            },
            "type": "choropleth"
           }
          ],
          "contour": [
           {
            "colorbar": {
             "outlinewidth": 0,
             "ticks": ""
            },
            "colorscale": [
             [
              0,
              "#0d0887"
             ],
             [
              0.1111111111111111,
              "#46039f"
             ],
             [
              0.2222222222222222,
              "#7201a8"
             ],
             [
              0.3333333333333333,
              "#9c179e"
             ],
             [
              0.4444444444444444,
              "#bd3786"
             ],
             [
              0.5555555555555556,
              "#d8576b"
             ],
             [
              0.6666666666666666,
              "#ed7953"
             ],
             [
              0.7777777777777778,
              "#fb9f3a"
             ],
             [
              0.8888888888888888,
              "#fdca26"
             ],
             [
              1,
              "#f0f921"
             ]
            ],
            "type": "contour"
           }
          ],
          "contourcarpet": [
           {
            "colorbar": {
             "outlinewidth": 0,
             "ticks": ""
            },
            "type": "contourcarpet"
           }
          ],
          "heatmap": [
           {
            "colorbar": {
             "outlinewidth": 0,
             "ticks": ""
            },
            "colorscale": [
             [
              0,
              "#0d0887"
             ],
             [
              0.1111111111111111,
              "#46039f"
             ],
             [
              0.2222222222222222,
              "#7201a8"
             ],
             [
              0.3333333333333333,
              "#9c179e"
             ],
             [
              0.4444444444444444,
              "#bd3786"
             ],
             [
              0.5555555555555556,
              "#d8576b"
             ],
             [
              0.6666666666666666,
              "#ed7953"
             ],
             [
              0.7777777777777778,
              "#fb9f3a"
             ],
             [
              0.8888888888888888,
              "#fdca26"
             ],
             [
              1,
              "#f0f921"
             ]
            ],
            "type": "heatmap"
           }
          ],
          "heatmapgl": [
           {
            "colorbar": {
             "outlinewidth": 0,
             "ticks": ""
            },
            "colorscale": [
             [
              0,
              "#0d0887"
             ],
             [
              0.1111111111111111,
              "#46039f"
             ],
             [
              0.2222222222222222,
              "#7201a8"
             ],
             [
              0.3333333333333333,
              "#9c179e"
             ],
             [
              0.4444444444444444,
              "#bd3786"
             ],
             [
              0.5555555555555556,
              "#d8576b"
             ],
             [
              0.6666666666666666,
              "#ed7953"
             ],
             [
              0.7777777777777778,
              "#fb9f3a"
             ],
             [
              0.8888888888888888,
              "#fdca26"
             ],
             [
              1,
              "#f0f921"
             ]
            ],
            "type": "heatmapgl"
           }
          ],
          "histogram": [
           {
            "marker": {
             "pattern": {
              "fillmode": "overlay",
              "size": 10,
              "solidity": 0.2
             }
            },
            "type": "histogram"
           }
          ],
          "histogram2d": [
           {
            "colorbar": {
             "outlinewidth": 0,
             "ticks": ""
            },
            "colorscale": [
             [
              0,
              "#0d0887"
             ],
             [
              0.1111111111111111,
              "#46039f"
             ],
             [
              0.2222222222222222,
              "#7201a8"
             ],
             [
              0.3333333333333333,
              "#9c179e"
             ],
             [
              0.4444444444444444,
              "#bd3786"
             ],
             [
              0.5555555555555556,
              "#d8576b"
             ],
             [
              0.6666666666666666,
              "#ed7953"
             ],
             [
              0.7777777777777778,
              "#fb9f3a"
             ],
             [
              0.8888888888888888,
              "#fdca26"
             ],
             [
              1,
              "#f0f921"
             ]
            ],
            "type": "histogram2d"
           }
          ],
          "histogram2dcontour": [
           {
            "colorbar": {
             "outlinewidth": 0,
             "ticks": ""
            },
            "colorscale": [
             [
              0,
              "#0d0887"
             ],
             [
              0.1111111111111111,
              "#46039f"
             ],
             [
              0.2222222222222222,
              "#7201a8"
             ],
             [
              0.3333333333333333,
              "#9c179e"
             ],
             [
              0.4444444444444444,
              "#bd3786"
             ],
             [
              0.5555555555555556,
              "#d8576b"
             ],
             [
              0.6666666666666666,
              "#ed7953"
             ],
             [
              0.7777777777777778,
              "#fb9f3a"
             ],
             [
              0.8888888888888888,
              "#fdca26"
             ],
             [
              1,
              "#f0f921"
             ]
            ],
            "type": "histogram2dcontour"
           }
          ],
          "mesh3d": [
           {
            "colorbar": {
             "outlinewidth": 0,
             "ticks": ""
            },
            "type": "mesh3d"
           }
          ],
          "parcoords": [
           {
            "line": {
             "colorbar": {
              "outlinewidth": 0,
              "ticks": ""
             }
            },
            "type": "parcoords"
           }
          ],
          "pie": [
           {
            "automargin": true,
            "type": "pie"
           }
          ],
          "scatter": [
           {
            "fillpattern": {
             "fillmode": "overlay",
             "size": 10,
             "solidity": 0.2
            },
            "type": "scatter"
           }
          ],
          "scatter3d": [
           {
            "line": {
             "colorbar": {
              "outlinewidth": 0,
              "ticks": ""
             }
            },
            "marker": {
             "colorbar": {
              "outlinewidth": 0,
              "ticks": ""
             }
            },
            "type": "scatter3d"
           }
          ],
          "scattercarpet": [
           {
            "marker": {
             "colorbar": {
              "outlinewidth": 0,
              "ticks": ""
             }
            },
            "type": "scattercarpet"
           }
          ],
          "scattergeo": [
           {
            "marker": {
             "colorbar": {
              "outlinewidth": 0,
              "ticks": ""
             }
            },
            "type": "scattergeo"
           }
          ],
          "scattergl": [
           {
            "marker": {
             "colorbar": {
              "outlinewidth": 0,
              "ticks": ""
             }
            },
            "type": "scattergl"
           }
          ],
          "scattermapbox": [
           {
            "marker": {
             "colorbar": {
              "outlinewidth": 0,
              "ticks": ""
             }
            },
            "type": "scattermapbox"
           }
          ],
          "scatterpolar": [
           {
            "marker": {
             "colorbar": {
              "outlinewidth": 0,
              "ticks": ""
             }
            },
            "type": "scatterpolar"
           }
          ],
          "scatterpolargl": [
           {
            "marker": {
             "colorbar": {
              "outlinewidth": 0,
              "ticks": ""
             }
            },
            "type": "scatterpolargl"
           }
          ],
          "scatterternary": [
           {
            "marker": {
             "colorbar": {
              "outlinewidth": 0,
              "ticks": ""
             }
            },
            "type": "scatterternary"
           }
          ],
          "surface": [
           {
            "colorbar": {
             "outlinewidth": 0,
             "ticks": ""
            },
            "colorscale": [
             [
              0,
              "#0d0887"
             ],
             [
              0.1111111111111111,
              "#46039f"
             ],
             [
              0.2222222222222222,
              "#7201a8"
             ],
             [
              0.3333333333333333,
              "#9c179e"
             ],
             [
              0.4444444444444444,
              "#bd3786"
             ],
             [
              0.5555555555555556,
              "#d8576b"
             ],
             [
              0.6666666666666666,
              "#ed7953"
             ],
             [
              0.7777777777777778,
              "#fb9f3a"
             ],
             [
              0.8888888888888888,
              "#fdca26"
             ],
             [
              1,
              "#f0f921"
             ]
            ],
            "type": "surface"
           }
          ],
          "table": [
           {
            "cells": {
             "fill": {
              "color": "#EBF0F8"
             },
             "line": {
              "color": "white"
             }
            },
            "header": {
             "fill": {
              "color": "#C8D4E3"
             },
             "line": {
              "color": "white"
             }
            },
            "type": "table"
           }
          ]
         },
         "layout": {
          "annotationdefaults": {
           "arrowcolor": "#2a3f5f",
           "arrowhead": 0,
           "arrowwidth": 1
          },
          "autotypenumbers": "strict",
          "coloraxis": {
           "colorbar": {
            "outlinewidth": 0,
            "ticks": ""
           }
          },
          "colorscale": {
           "diverging": [
            [
             0,
             "#8e0152"
            ],
            [
             0.1,
             "#c51b7d"
            ],
            [
             0.2,
             "#de77ae"
            ],
            [
             0.3,
             "#f1b6da"
            ],
            [
             0.4,
             "#fde0ef"
            ],
            [
             0.5,
             "#f7f7f7"
            ],
            [
             0.6,
             "#e6f5d0"
            ],
            [
             0.7,
             "#b8e186"
            ],
            [
             0.8,
             "#7fbc41"
            ],
            [
             0.9,
             "#4d9221"
            ],
            [
             1,
             "#276419"
            ]
           ],
           "sequential": [
            [
             0,
             "#0d0887"
            ],
            [
             0.1111111111111111,
             "#46039f"
            ],
            [
             0.2222222222222222,
             "#7201a8"
            ],
            [
             0.3333333333333333,
             "#9c179e"
            ],
            [
             0.4444444444444444,
             "#bd3786"
            ],
            [
             0.5555555555555556,
             "#d8576b"
            ],
            [
             0.6666666666666666,
             "#ed7953"
            ],
            [
             0.7777777777777778,
             "#fb9f3a"
            ],
            [
             0.8888888888888888,
             "#fdca26"
            ],
            [
             1,
             "#f0f921"
            ]
           ],
           "sequentialminus": [
            [
             0,
             "#0d0887"
            ],
            [
             0.1111111111111111,
             "#46039f"
            ],
            [
             0.2222222222222222,
             "#7201a8"
            ],
            [
             0.3333333333333333,
             "#9c179e"
            ],
            [
             0.4444444444444444,
             "#bd3786"
            ],
            [
             0.5555555555555556,
             "#d8576b"
            ],
            [
             0.6666666666666666,
             "#ed7953"
            ],
            [
             0.7777777777777778,
             "#fb9f3a"
            ],
            [
             0.8888888888888888,
             "#fdca26"
            ],
            [
             1,
             "#f0f921"
            ]
           ]
          },
          "colorway": [
           "#636efa",
           "#EF553B",
           "#00cc96",
           "#ab63fa",
           "#FFA15A",
           "#19d3f3",
           "#FF6692",
           "#B6E880",
           "#FF97FF",
           "#FECB52"
          ],
          "font": {
           "color": "#2a3f5f"
          },
          "geo": {
           "bgcolor": "white",
           "lakecolor": "white",
           "landcolor": "#E5ECF6",
           "showlakes": true,
           "showland": true,
           "subunitcolor": "white"
          },
          "hoverlabel": {
           "align": "left"
          },
          "hovermode": "closest",
          "mapbox": {
           "style": "light"
          },
          "paper_bgcolor": "white",
          "plot_bgcolor": "#E5ECF6",
          "polar": {
           "angularaxis": {
            "gridcolor": "white",
            "linecolor": "white",
            "ticks": ""
           },
           "bgcolor": "#E5ECF6",
           "radialaxis": {
            "gridcolor": "white",
            "linecolor": "white",
            "ticks": ""
           }
          },
          "scene": {
           "xaxis": {
            "backgroundcolor": "#E5ECF6",
            "gridcolor": "white",
            "gridwidth": 2,
            "linecolor": "white",
            "showbackground": true,
            "ticks": "",
            "zerolinecolor": "white"
           },
           "yaxis": {
            "backgroundcolor": "#E5ECF6",
            "gridcolor": "white",
            "gridwidth": 2,
            "linecolor": "white",
            "showbackground": true,
            "ticks": "",
            "zerolinecolor": "white"
           },
           "zaxis": {
            "backgroundcolor": "#E5ECF6",
            "gridcolor": "white",
            "gridwidth": 2,
            "linecolor": "white",
            "showbackground": true,
            "ticks": "",
            "zerolinecolor": "white"
           }
          },
          "shapedefaults": {
           "line": {
            "color": "#2a3f5f"
           }
          },
          "ternary": {
           "aaxis": {
            "gridcolor": "white",
            "linecolor": "white",
            "ticks": ""
           },
           "baxis": {
            "gridcolor": "white",
            "linecolor": "white",
            "ticks": ""
           },
           "bgcolor": "#E5ECF6",
           "caxis": {
            "gridcolor": "white",
            "linecolor": "white",
            "ticks": ""
           }
          },
          "title": {
           "x": 0.05
          },
          "xaxis": {
           "automargin": true,
           "gridcolor": "white",
           "linecolor": "white",
           "ticks": "",
           "title": {
            "standoff": 15
           },
           "zerolinecolor": "white",
           "zerolinewidth": 2
          },
          "yaxis": {
           "automargin": true,
           "gridcolor": "white",
           "linecolor": "white",
           "ticks": "",
           "title": {
            "standoff": 15
           },
           "zerolinecolor": "white",
           "zerolinewidth": 2
          }
         }
        },
        "xaxis": {
         "anchor": "y",
         "domain": [
          0,
          1
         ],
         "title": {
          "text": "index"
         }
        },
        "xaxis2": {
         "anchor": "y2",
         "domain": [
          0,
          1
         ],
         "matches": "x",
         "showgrid": true,
         "showticklabels": false
        },
        "yaxis": {
         "anchor": "x",
         "categoryarray": [
          0.0044659353436197905,
          0.004506819637336207,
          0.004528972928607295,
          0.0045431963848668365,
          0.004591854065566698,
          0.004768255621016112,
          0.00477694867789856,
          0.004933505990631116,
          0.00501204832554742,
          0.00510363958767611,
          0.005537337996090128,
          0.00555585286251573,
          0.006079313848722573,
          0.0067149704569045504,
          0.007347842553504596,
          0.007490659222024834,
          0.007770589614789867,
          0.007785414464095083,
          0.008402457237412104,
          0.008433522041653298,
          0.008629471231017512,
          0.014747680357147916
         ],
         "categoryorder": "array",
         "domain": [
          0,
          0.7326
         ],
         "title": {
          "text": "sum of prom_relative"
         }
        },
        "yaxis2": {
         "anchor": "x2",
         "categoryarray": [
          0.0044659353436197905,
          0.004506819637336207,
          0.004528972928607295,
          0.0045431963848668365,
          0.004591854065566698,
          0.004768255621016112,
          0.00477694867789856,
          0.004933505990631116,
          0.00501204832554742,
          0.00510363958767611,
          0.005537337996090128,
          0.00555585286251573,
          0.006079313848722573,
          0.0067149704569045504,
          0.007347842553504596,
          0.007490659222024834,
          0.007770589614789867,
          0.007785414464095083,
          0.008402457237412104,
          0.008433522041653298,
          0.008629471231017512,
          0.014747680357147916
         ],
         "categoryorder": "array",
         "domain": [
          0.7426,
          1
         ],
         "matches": "y2",
         "showgrid": false,
         "showline": false,
         "showticklabels": false,
         "ticks": ""
        }
       }
      }
     },
     "metadata": {},
     "output_type": "display_data"
    }
   ],
   "source": [
    "graf_actores(df)"
   ]
  },
  {
   "cell_type": "code",
   "execution_count": 10,
   "metadata": {},
   "outputs": [
    {
     "data": {
      "application/vnd.plotly.v1+json": {
       "config": {
        "plotlyServerURL": "https://plot.ly"
       },
       "data": [
        {
         "alignmentgroup": "True",
         "bingroup": "x",
         "histfunc": "sum",
         "hovertemplate": "prom_relative=0.39076666517820574<br>index=%{x}<br>sum of prom_relative=%{y}<extra></extra>",
         "legendgroup": "0.39076666517820574",
         "marker": {
          "color": "#636efa",
          "pattern": {
           "shape": ""
          }
         },
         "name": "0.39076666517820574",
         "offsetgroup": "0.39076666517820574",
         "orientation": "v",
         "showlegend": true,
         "type": "histogram",
         "x": [
          "christopher nolan"
         ],
         "xaxis": "x",
         "y": [
          0.39076666517820574
         ],
         "yaxis": "y"
        },
        {
         "alignmentgroup": "True",
         "boxpoints": "all",
         "customdata": [
          [
           8.1
          ]
         ],
         "fillcolor": "rgba(255,255,255,0)",
         "hoveron": "points",
         "hovertemplate": "prom_relative=0.39076666517820574<br>index=%{x}<br>score=%{customdata[0]}<extra></extra>",
         "jitter": 0,
         "legendgroup": "0.39076666517820574",
         "line": {
          "color": "rgba(255,255,255,0)"
         },
         "marker": {
          "color": "#636efa",
          "symbol": "line-ns-open"
         },
         "name": "0.39076666517820574",
         "offsetgroup": "0.39076666517820574",
         "showlegend": false,
         "type": "box",
         "x": [
          "christopher nolan"
         ],
         "xaxis": "x2",
         "yaxis": "y2"
        },
        {
         "alignmentgroup": "True",
         "bingroup": "x",
         "histfunc": "sum",
         "hovertemplate": "prom_relative=0.30481793754177877<br>index=%{x}<br>sum of prom_relative=%{y}<extra></extra>",
         "legendgroup": "0.30481793754177877",
         "marker": {
          "color": "#EF553B",
          "pattern": {
           "shape": ""
          }
         },
         "name": "0.30481793754177877",
         "offsetgroup": "0.30481793754177877",
         "orientation": "v",
         "showlegend": true,
         "type": "histogram",
         "x": [
          "martin scorsese"
         ],
         "xaxis": "x",
         "y": [
          0.30481793754177877
         ],
         "yaxis": "y"
        },
        {
         "alignmentgroup": "True",
         "boxpoints": "all",
         "customdata": [
          [
           8
          ]
         ],
         "fillcolor": "rgba(255,255,255,0)",
         "hoveron": "points",
         "hovertemplate": "prom_relative=0.30481793754177877<br>index=%{x}<br>score=%{customdata[0]}<extra></extra>",
         "jitter": 0,
         "legendgroup": "0.30481793754177877",
         "line": {
          "color": "rgba(255,255,255,0)"
         },
         "marker": {
          "color": "#EF553B",
          "symbol": "line-ns-open"
         },
         "name": "0.30481793754177877",
         "offsetgroup": "0.30481793754177877",
         "showlegend": false,
         "type": "box",
         "x": [
          "martin scorsese"
         ],
         "xaxis": "x2",
         "yaxis": "y2"
        },
        {
         "alignmentgroup": "True",
         "bingroup": "x",
         "histfunc": "sum",
         "hovertemplate": "prom_relative=0.18298963885916353<br>index=%{x}<br>sum of prom_relative=%{y}<extra></extra>",
         "legendgroup": "0.18298963885916353",
         "marker": {
          "color": "#00cc96",
          "pattern": {
           "shape": ""
          }
         },
         "name": "0.18298963885916353",
         "offsetgroup": "0.18298963885916353",
         "orientation": "v",
         "showlegend": true,
         "type": "histogram",
         "x": [
          "robert zemeckis"
         ],
         "xaxis": "x",
         "y": [
          0.18298963885916353
         ],
         "yaxis": "y"
        },
        {
         "alignmentgroup": "True",
         "boxpoints": "all",
         "customdata": [
          [
           8.6
          ]
         ],
         "fillcolor": "rgba(255,255,255,0)",
         "hoveron": "points",
         "hovertemplate": "prom_relative=0.18298963885916353<br>index=%{x}<br>score=%{customdata[0]}<extra></extra>",
         "jitter": 0,
         "legendgroup": "0.18298963885916353",
         "line": {
          "color": "rgba(255,255,255,0)"
         },
         "marker": {
          "color": "#00cc96",
          "symbol": "line-ns-open"
         },
         "name": "0.18298963885916353",
         "offsetgroup": "0.18298963885916353",
         "showlegend": false,
         "type": "box",
         "x": [
          "robert zemeckis"
         ],
         "xaxis": "x2",
         "yaxis": "y2"
        },
        {
         "alignmentgroup": "True",
         "bingroup": "x",
         "histfunc": "sum",
         "hovertemplate": "prom_relative=0.17940424803384733<br>index=%{x}<br>sum of prom_relative=%{y}<extra></extra>",
         "legendgroup": "0.17940424803384733",
         "marker": {
          "color": "#ab63fa",
          "pattern": {
           "shape": ""
          }
         },
         "name": "0.17940424803384733",
         "offsetgroup": "0.17940424803384733",
         "orientation": "v",
         "showlegend": true,
         "type": "histogram",
         "x": [
          "guy ritchie"
         ],
         "xaxis": "x",
         "y": [
          0.17940424803384733
         ],
         "yaxis": "y"
        },
        {
         "alignmentgroup": "True",
         "boxpoints": "all",
         "customdata": [
          [
           7.6000000000000005
          ]
         ],
         "fillcolor": "rgba(255,255,255,0)",
         "hoveron": "points",
         "hovertemplate": "prom_relative=0.17940424803384733<br>index=%{x}<br>score=%{customdata[0]}<extra></extra>",
         "jitter": 0,
         "legendgroup": "0.17940424803384733",
         "line": {
          "color": "rgba(255,255,255,0)"
         },
         "marker": {
          "color": "#ab63fa",
          "symbol": "line-ns-open"
         },
         "name": "0.17940424803384733",
         "offsetgroup": "0.17940424803384733",
         "showlegend": false,
         "type": "box",
         "x": [
          "guy ritchie"
         ],
         "xaxis": "x2",
         "yaxis": "y2"
        },
        {
         "alignmentgroup": "True",
         "bingroup": "x",
         "histfunc": "sum",
         "hovertemplate": "prom_relative=0.17310556870292546<br>index=%{x}<br>sum of prom_relative=%{y}<extra></extra>",
         "legendgroup": "0.17310556870292546",
         "marker": {
          "color": "#FFA15A",
          "pattern": {
           "shape": ""
          }
         },
         "name": "0.17310556870292546",
         "offsetgroup": "0.17310556870292546",
         "orientation": "v",
         "showlegend": true,
         "type": "histogram",
         "x": [
          "quentin tarantino"
         ],
         "xaxis": "x",
         "y": [
          0.17310556870292546
         ],
         "yaxis": "y"
        },
        {
         "alignmentgroup": "True",
         "boxpoints": "all",
         "customdata": [
          [
           8.05
          ]
         ],
         "fillcolor": "rgba(255,255,255,0)",
         "hoveron": "points",
         "hovertemplate": "prom_relative=0.17310556870292546<br>index=%{x}<br>score=%{customdata[0]}<extra></extra>",
         "jitter": 0,
         "legendgroup": "0.17310556870292546",
         "line": {
          "color": "rgba(255,255,255,0)"
         },
         "marker": {
          "color": "#FFA15A",
          "symbol": "line-ns-open"
         },
         "name": "0.17310556870292546",
         "offsetgroup": "0.17310556870292546",
         "showlegend": false,
         "type": "box",
         "x": [
          "quentin tarantino"
         ],
         "xaxis": "x2",
         "yaxis": "y2"
        },
        {
         "alignmentgroup": "True",
         "bingroup": "x",
         "histfunc": "sum",
         "hovertemplate": "prom_relative=0.1412843748422984<br>index=%{x}<br>sum of prom_relative=%{y}<extra></extra>",
         "legendgroup": "0.1412843748422984",
         "marker": {
          "color": "#19d3f3",
          "pattern": {
           "shape": ""
          }
         },
         "name": "0.1412843748422984",
         "offsetgroup": "0.1412843748422984",
         "orientation": "v",
         "showlegend": true,
         "type": "histogram",
         "x": [
          "steven spielberg"
         ],
         "xaxis": "x",
         "y": [
          0.1412843748422984
         ],
         "yaxis": "y"
        },
        {
         "alignmentgroup": "True",
         "boxpoints": "all",
         "customdata": [
          [
           7.3
          ]
         ],
         "fillcolor": "rgba(255,255,255,0)",
         "hoveron": "points",
         "hovertemplate": "prom_relative=0.1412843748422984<br>index=%{x}<br>score=%{customdata[0]}<extra></extra>",
         "jitter": 0,
         "legendgroup": "0.1412843748422984",
         "line": {
          "color": "rgba(255,255,255,0)"
         },
         "marker": {
          "color": "#19d3f3",
          "symbol": "line-ns-open"
         },
         "name": "0.1412843748422984",
         "offsetgroup": "0.1412843748422984",
         "showlegend": false,
         "type": "box",
         "x": [
          "steven spielberg"
         ],
         "xaxis": "x2",
         "yaxis": "y2"
        },
        {
         "alignmentgroup": "True",
         "bingroup": "x",
         "histfunc": "sum",
         "hovertemplate": "prom_relative=0.13517227788020508<br>index=%{x}<br>sum of prom_relative=%{y}<extra></extra>",
         "legendgroup": "0.13517227788020508",
         "marker": {
          "color": "#FF6692",
          "pattern": {
           "shape": ""
          }
         },
         "name": "0.13517227788020508",
         "offsetgroup": "0.13517227788020508",
         "orientation": "v",
         "showlegend": true,
         "type": "histogram",
         "x": [
          "david fincher"
         ],
         "xaxis": "x",
         "y": [
          0.13517227788020508
         ],
         "yaxis": "y"
        },
        {
         "alignmentgroup": "True",
         "boxpoints": "all",
         "customdata": [
          [
           7.65
          ]
         ],
         "fillcolor": "rgba(255,255,255,0)",
         "hoveron": "points",
         "hovertemplate": "prom_relative=0.13517227788020508<br>index=%{x}<br>score=%{customdata[0]}<extra></extra>",
         "jitter": 0,
         "legendgroup": "0.13517227788020508",
         "line": {
          "color": "rgba(255,255,255,0)"
         },
         "marker": {
          "color": "#FF6692",
          "symbol": "line-ns-open"
         },
         "name": "0.13517227788020508",
         "offsetgroup": "0.13517227788020508",
         "showlegend": false,
         "type": "box",
         "x": [
          "david fincher"
         ],
         "xaxis": "x2",
         "yaxis": "y2"
        },
        {
         "alignmentgroup": "True",
         "bingroup": "x",
         "histfunc": "sum",
         "hovertemplate": "prom_relative=0.10056899840705205<br>index=%{x}<br>sum of prom_relative=%{y}<extra></extra>",
         "legendgroup": "0.10056899840705205",
         "marker": {
          "color": "#B6E880",
          "pattern": {
           "shape": ""
          }
         },
         "name": "0.10056899840705205",
         "offsetgroup": "0.10056899840705205",
         "orientation": "v",
         "showlegend": true,
         "type": "histogram",
         "x": [
          "luc besson"
         ],
         "xaxis": "x",
         "y": [
          0.10056899840705205
         ],
         "yaxis": "y"
        },
        {
         "alignmentgroup": "True",
         "boxpoints": "all",
         "customdata": [
          [
           8.4
          ]
         ],
         "fillcolor": "rgba(255,255,255,0)",
         "hoveron": "points",
         "hovertemplate": "prom_relative=0.10056899840705205<br>index=%{x}<br>score=%{customdata[0]}<extra></extra>",
         "jitter": 0,
         "legendgroup": "0.10056899840705205",
         "line": {
          "color": "rgba(255,255,255,0)"
         },
         "marker": {
          "color": "#B6E880",
          "symbol": "line-ns-open"
         },
         "name": "0.10056899840705205",
         "offsetgroup": "0.10056899840705205",
         "showlegend": false,
         "type": "box",
         "x": [
          "luc besson"
         ],
         "xaxis": "x2",
         "yaxis": "y2"
        },
        {
         "alignmentgroup": "True",
         "bingroup": "x",
         "histfunc": "sum",
         "hovertemplate": "prom_relative=0.09537010855048811<br>index=%{x}<br>sum of prom_relative=%{y}<extra></extra>",
         "legendgroup": "0.09537010855048811",
         "marker": {
          "color": "#FF97FF",
          "pattern": {
           "shape": ""
          }
         },
         "name": "0.09537010855048811",
         "offsetgroup": "0.09537010855048811",
         "orientation": "v",
         "showlegend": true,
         "type": "histogram",
         "x": [
          "james cameron"
         ],
         "xaxis": "x",
         "y": [
          0.09537010855048811
         ],
         "yaxis": "y"
        },
        {
         "alignmentgroup": "True",
         "boxpoints": "all",
         "customdata": [
          [
           7.9
          ]
         ],
         "fillcolor": "rgba(255,255,255,0)",
         "hoveron": "points",
         "hovertemplate": "prom_relative=0.09537010855048811<br>index=%{x}<br>score=%{customdata[0]}<extra></extra>",
         "jitter": 0,
         "legendgroup": "0.09537010855048811",
         "line": {
          "color": "rgba(255,255,255,0)"
         },
         "marker": {
          "color": "#FF97FF",
          "symbol": "line-ns-open"
         },
         "name": "0.09537010855048811",
         "offsetgroup": "0.09537010855048811",
         "showlegend": false,
         "type": "box",
         "x": [
          "james cameron"
         ],
         "xaxis": "x2",
         "yaxis": "y2"
        },
        {
         "alignmentgroup": "True",
         "bingroup": "x",
         "histfunc": "sum",
         "hovertemplate": "prom_relative=0.0915439575885897<br>index=%{x}<br>sum of prom_relative=%{y}<extra></extra>",
         "legendgroup": "0.0915439575885897",
         "marker": {
          "color": "#FECB52",
          "pattern": {
           "shape": ""
          }
         },
         "name": "0.0915439575885897",
         "offsetgroup": "0.0915439575885897",
         "orientation": "v",
         "showlegend": true,
         "type": "histogram",
         "x": [
          "james wan"
         ],
         "xaxis": "x",
         "y": [
          0.0915439575885897
         ],
         "yaxis": "y"
        },
        {
         "alignmentgroup": "True",
         "boxpoints": "all",
         "customdata": [
          [
           7.05
          ]
         ],
         "fillcolor": "rgba(255,255,255,0)",
         "hoveron": "points",
         "hovertemplate": "prom_relative=0.0915439575885897<br>index=%{x}<br>score=%{customdata[0]}<extra></extra>",
         "jitter": 0,
         "legendgroup": "0.0915439575885897",
         "line": {
          "color": "rgba(255,255,255,0)"
         },
         "marker": {
          "color": "#FECB52",
          "symbol": "line-ns-open"
         },
         "name": "0.0915439575885897",
         "offsetgroup": "0.0915439575885897",
         "showlegend": false,
         "type": "box",
         "x": [
          "james wan"
         ],
         "xaxis": "x2",
         "yaxis": "y2"
        },
        {
         "alignmentgroup": "True",
         "bingroup": "x",
         "histfunc": "sum",
         "hovertemplate": "prom_relative=0.07778739522850792<br>index=%{x}<br>sum of prom_relative=%{y}<extra></extra>",
         "legendgroup": "0.07778739522850792",
         "marker": {
          "color": "#636efa",
          "pattern": {
           "shape": ""
          }
         },
         "name": "0.07778739522850792",
         "offsetgroup": "0.07778739522850792",
         "orientation": "v",
         "showlegend": true,
         "type": "histogram",
         "x": [
          "terry jones"
         ],
         "xaxis": "x",
         "y": [
          0.07778739522850792
         ],
         "yaxis": "y"
        },
        {
         "alignmentgroup": "True",
         "boxpoints": "all",
         "customdata": [
          [
           7.95
          ]
         ],
         "fillcolor": "rgba(255,255,255,0)",
         "hoveron": "points",
         "hovertemplate": "prom_relative=0.07778739522850792<br>index=%{x}<br>score=%{customdata[0]}<extra></extra>",
         "jitter": 0,
         "legendgroup": "0.07778739522850792",
         "line": {
          "color": "rgba(255,255,255,0)"
         },
         "marker": {
          "color": "#636efa",
          "symbol": "line-ns-open"
         },
         "name": "0.07778739522850792",
         "offsetgroup": "0.07778739522850792",
         "showlegend": false,
         "type": "box",
         "x": [
          "terry jones"
         ],
         "xaxis": "x2",
         "yaxis": "y2"
        },
        {
         "alignmentgroup": "True",
         "bingroup": "x",
         "histfunc": "sum",
         "hovertemplate": "prom_relative=0.07532883354958124<br>index=%{x}<br>sum of prom_relative=%{y}<extra></extra>",
         "legendgroup": "0.07532883354958124",
         "marker": {
          "color": "#EF553B",
          "pattern": {
           "shape": ""
          }
         },
         "name": "0.07532883354958124",
         "offsetgroup": "0.07532883354958124",
         "orientation": "v",
         "showlegend": true,
         "type": "histogram",
         "x": [
          "adam mckay"
         ],
         "xaxis": "x",
         "y": [
          0.07532883354958124
         ],
         "yaxis": "y"
        },
        {
         "alignmentgroup": "True",
         "boxpoints": "all",
         "customdata": [
          [
           7.1000000000000005
          ]
         ],
         "fillcolor": "rgba(255,255,255,0)",
         "hoveron": "points",
         "hovertemplate": "prom_relative=0.07532883354958124<br>index=%{x}<br>score=%{customdata[0]}<extra></extra>",
         "jitter": 0,
         "legendgroup": "0.07532883354958124",
         "line": {
          "color": "rgba(255,255,255,0)"
         },
         "marker": {
          "color": "#EF553B",
          "symbol": "line-ns-open"
         },
         "name": "0.07532883354958124",
         "offsetgroup": "0.07532883354958124",
         "showlegend": false,
         "type": "box",
         "x": [
          "adam mckay"
         ],
         "xaxis": "x2",
         "yaxis": "y2"
        },
        {
         "alignmentgroup": "True",
         "bingroup": "x",
         "histfunc": "sum",
         "hovertemplate": "prom_relative=0.06384183017157491<br>index=%{x}<br>sum of prom_relative=%{y}<extra></extra>",
         "legendgroup": "0.06384183017157491",
         "marker": {
          "color": "#00cc96",
          "pattern": {
           "shape": ""
          }
         },
         "name": "0.06384183017157491",
         "offsetgroup": "0.06384183017157491",
         "orientation": "v",
         "showlegend": true,
         "type": "histogram",
         "x": [
          "todd phillips"
         ],
         "xaxis": "x",
         "y": [
          0.06384183017157491
         ],
         "yaxis": "y"
        },
        {
         "alignmentgroup": "True",
         "boxpoints": "all",
         "customdata": [
          [
           6.525
          ]
         ],
         "fillcolor": "rgba(255,255,255,0)",
         "hoveron": "points",
         "hovertemplate": "prom_relative=0.06384183017157491<br>index=%{x}<br>score=%{customdata[0]}<extra></extra>",
         "jitter": 0,
         "legendgroup": "0.06384183017157491",
         "line": {
          "color": "rgba(255,255,255,0)"
         },
         "marker": {
          "color": "#00cc96",
          "symbol": "line-ns-open"
         },
         "name": "0.06384183017157491",
         "offsetgroup": "0.06384183017157491",
         "showlegend": false,
         "type": "box",
         "x": [
          "todd phillips"
         ],
         "xaxis": "x2",
         "yaxis": "y2"
        },
        {
         "alignmentgroup": "True",
         "bingroup": "x",
         "histfunc": "sum",
         "hovertemplate": "prom_relative=0.06368625416003254<br>index=%{x}<br>sum of prom_relative=%{y}<extra></extra>",
         "legendgroup": "0.06368625416003254",
         "marker": {
          "color": "#ab63fa",
          "pattern": {
           "shape": ""
          }
         },
         "name": "0.06368625416003254",
         "offsetgroup": "0.06368625416003254",
         "orientation": "v",
         "showlegend": true,
         "type": "histogram",
         "x": [
          "morten tyldum"
         ],
         "xaxis": "x",
         "y": [
          0.06368625416003254
         ],
         "yaxis": "y"
        },
        {
         "alignmentgroup": "True",
         "boxpoints": "all",
         "customdata": [
          [
           8
          ]
         ],
         "fillcolor": "rgba(255,255,255,0)",
         "hoveron": "points",
         "hovertemplate": "prom_relative=0.06368625416003254<br>index=%{x}<br>score=%{customdata[0]}<extra></extra>",
         "jitter": 0,
         "legendgroup": "0.06368625416003254",
         "line": {
          "color": "rgba(255,255,255,0)"
         },
         "marker": {
          "color": "#ab63fa",
          "symbol": "line-ns-open"
         },
         "name": "0.06368625416003254",
         "offsetgroup": "0.06368625416003254",
         "showlegend": false,
         "type": "box",
         "x": [
          "morten tyldum"
         ],
         "xaxis": "x2",
         "yaxis": "y2"
        },
        {
         "alignmentgroup": "True",
         "bingroup": "x",
         "histfunc": "sum",
         "hovertemplate": "prom_relative=0.06294954810052067<br>index=%{x}<br>sum of prom_relative=%{y}<extra></extra>",
         "legendgroup": "0.06294954810052067",
         "marker": {
          "color": "#FFA15A",
          "pattern": {
           "shape": ""
          }
         },
         "name": "0.06294954810052067",
         "offsetgroup": "0.06294954810052067",
         "orientation": "v",
         "showlegend": true,
         "type": "histogram",
         "x": [
          "stanley kubrick"
         ],
         "xaxis": "x",
         "y": [
          0.06294954810052067
         ],
         "yaxis": "y"
        },
        {
         "alignmentgroup": "True",
         "boxpoints": "all",
         "customdata": [
          [
           8.2
          ]
         ],
         "fillcolor": "rgba(255,255,255,0)",
         "hoveron": "points",
         "hovertemplate": "prom_relative=0.06294954810052067<br>index=%{x}<br>score=%{customdata[0]}<extra></extra>",
         "jitter": 0,
         "legendgroup": "0.06294954810052067",
         "line": {
          "color": "rgba(255,255,255,0)"
         },
         "marker": {
          "color": "#FFA15A",
          "symbol": "line-ns-open"
         },
         "name": "0.06294954810052067",
         "offsetgroup": "0.06294954810052067",
         "showlegend": false,
         "type": "box",
         "x": [
          "stanley kubrick"
         ],
         "xaxis": "x2",
         "yaxis": "y2"
        },
        {
         "alignmentgroup": "True",
         "bingroup": "x",
         "histfunc": "sum",
         "hovertemplate": "prom_relative=0.05903477055290344<br>index=%{x}<br>sum of prom_relative=%{y}<extra></extra>",
         "legendgroup": "0.05903477055290344",
         "marker": {
          "color": "#19d3f3",
          "pattern": {
           "shape": ""
          }
         },
         "name": "0.05903477055290344",
         "offsetgroup": "0.05903477055290344",
         "orientation": "v",
         "showlegend": true,
         "type": "histogram",
         "x": [
          "martin campbell"
         ],
         "xaxis": "x",
         "y": [
          0.05903477055290344
         ],
         "yaxis": "y"
        },
        {
         "alignmentgroup": "True",
         "boxpoints": "all",
         "customdata": [
          [
           7.35
          ]
         ],
         "fillcolor": "rgba(255,255,255,0)",
         "hoveron": "points",
         "hovertemplate": "prom_relative=0.05903477055290344<br>index=%{x}<br>score=%{customdata[0]}<extra></extra>",
         "jitter": 0,
         "legendgroup": "0.05903477055290344",
         "line": {
          "color": "rgba(255,255,255,0)"
         },
         "marker": {
          "color": "#19d3f3",
          "symbol": "line-ns-open"
         },
         "name": "0.05903477055290344",
         "offsetgroup": "0.05903477055290344",
         "showlegend": false,
         "type": "box",
         "x": [
          "martin campbell"
         ],
         "xaxis": "x2",
         "yaxis": "y2"
        },
        {
         "alignmentgroup": "True",
         "bingroup": "x",
         "histfunc": "sum",
         "hovertemplate": "prom_relative=0.057119804494971005<br>index=%{x}<br>sum of prom_relative=%{y}<extra></extra>",
         "legendgroup": "0.057119804494971005",
         "marker": {
          "color": "#FF6692",
          "pattern": {
           "shape": ""
          }
         },
         "name": "0.057119804494971005",
         "offsetgroup": "0.057119804494971005",
         "orientation": "v",
         "showlegend": true,
         "type": "histogram",
         "x": [
          "kathryn bigelow"
         ],
         "xaxis": "x",
         "y": [
          0.057119804494971005
         ],
         "yaxis": "y"
        },
        {
         "alignmentgroup": "True",
         "boxpoints": "all",
         "customdata": [
          [
           7.300000000000001
          ]
         ],
         "fillcolor": "rgba(255,255,255,0)",
         "hoveron": "points",
         "hovertemplate": "prom_relative=0.057119804494971005<br>index=%{x}<br>score=%{customdata[0]}<extra></extra>",
         "jitter": 0,
         "legendgroup": "0.057119804494971005",
         "line": {
          "color": "rgba(255,255,255,0)"
         },
         "marker": {
          "color": "#FF6692",
          "symbol": "line-ns-open"
         },
         "name": "0.057119804494971005",
         "offsetgroup": "0.057119804494971005",
         "showlegend": false,
         "type": "box",
         "x": [
          "kathryn bigelow"
         ],
         "xaxis": "x2",
         "yaxis": "y2"
        },
        {
         "alignmentgroup": "True",
         "bingroup": "x",
         "histfunc": "sum",
         "hovertemplate": "prom_relative=0.056471719757878985<br>index=%{x}<br>sum of prom_relative=%{y}<extra></extra>",
         "legendgroup": "0.056471719757878985",
         "marker": {
          "color": "#B6E880",
          "pattern": {
           "shape": ""
          }
         },
         "name": "0.056471719757878985",
         "offsetgroup": "0.056471719757878985",
         "orientation": "v",
         "showlegend": true,
         "type": "histogram",
         "x": [
          "francis lawrence"
         ],
         "xaxis": "x",
         "y": [
          0.056471719757878985
         ],
         "yaxis": "y"
        },
        {
         "alignmentgroup": "True",
         "boxpoints": "all",
         "customdata": [
          [
           7.2
          ]
         ],
         "fillcolor": "rgba(255,255,255,0)",
         "hoveron": "points",
         "hovertemplate": "prom_relative=0.056471719757878985<br>index=%{x}<br>score=%{customdata[0]}<extra></extra>",
         "jitter": 0,
         "legendgroup": "0.056471719757878985",
         "line": {
          "color": "rgba(255,255,255,0)"
         },
         "marker": {
          "color": "#B6E880",
          "symbol": "line-ns-open"
         },
         "name": "0.056471719757878985",
         "offsetgroup": "0.056471719757878985",
         "showlegend": false,
         "type": "box",
         "x": [
          "francis lawrence"
         ],
         "xaxis": "x2",
         "yaxis": "y2"
        },
        {
         "alignmentgroup": "True",
         "bingroup": "x",
         "histfunc": "sum",
         "hovertemplate": "prom_relative=0.052072271677231836<br>index=%{x}<br>sum of prom_relative=%{y}<extra></extra>",
         "legendgroup": "0.052072271677231836",
         "marker": {
          "color": "#FF97FF",
          "pattern": {
           "shape": ""
          }
         },
         "name": "0.052072271677231836",
         "offsetgroup": "0.052072271677231836",
         "orientation": "v",
         "showlegend": true,
         "type": "histogram",
         "x": [
          "tim burton"
         ],
         "xaxis": "x",
         "y": [
          0.052072271677231836
         ],
         "yaxis": "y"
        },
        {
         "alignmentgroup": "True",
         "boxpoints": "all",
         "customdata": [
          [
           7.033333333333334
          ]
         ],
         "fillcolor": "rgba(255,255,255,0)",
         "hoveron": "points",
         "hovertemplate": "prom_relative=0.052072271677231836<br>index=%{x}<br>score=%{customdata[0]}<extra></extra>",
         "jitter": 0,
         "legendgroup": "0.052072271677231836",
         "line": {
          "color": "rgba(255,255,255,0)"
         },
         "marker": {
          "color": "#FF97FF",
          "symbol": "line-ns-open"
         },
         "name": "0.052072271677231836",
         "offsetgroup": "0.052072271677231836",
         "showlegend": false,
         "type": "box",
         "x": [
          "tim burton"
         ],
         "xaxis": "x2",
         "yaxis": "y2"
        },
        {
         "alignmentgroup": "True",
         "bingroup": "x",
         "histfunc": "sum",
         "hovertemplate": "prom_relative=0.05192285258508087<br>index=%{x}<br>sum of prom_relative=%{y}<extra></extra>",
         "legendgroup": "0.05192285258508087",
         "marker": {
          "color": "#FECB52",
          "pattern": {
           "shape": ""
          }
         },
         "name": "0.05192285258508087",
         "offsetgroup": "0.05192285258508087",
         "orientation": "v",
         "showlegend": true,
         "type": "histogram",
         "x": [
          "rajkumar hirani"
         ],
         "xaxis": "x",
         "y": [
          0.05192285258508087
         ],
         "yaxis": "y"
        },
        {
         "alignmentgroup": "True",
         "boxpoints": "all",
         "customdata": [
          [
           7.900000000000001
          ]
         ],
         "fillcolor": "rgba(255,255,255,0)",
         "hoveron": "points",
         "hovertemplate": "prom_relative=0.05192285258508087<br>index=%{x}<br>score=%{customdata[0]}<extra></extra>",
         "jitter": 0,
         "legendgroup": "0.05192285258508087",
         "line": {
          "color": "rgba(255,255,255,0)"
         },
         "marker": {
          "color": "#FECB52",
          "symbol": "line-ns-open"
         },
         "name": "0.05192285258508087",
         "offsetgroup": "0.05192285258508087",
         "showlegend": false,
         "type": "box",
         "x": [
          "rajkumar hirani"
         ],
         "xaxis": "x2",
         "yaxis": "y2"
        },
        {
         "alignmentgroup": "True",
         "bingroup": "x",
         "histfunc": "sum",
         "hovertemplate": "prom_relative=0.047444381509424455<br>index=%{x}<br>sum of prom_relative=%{y}<extra></extra>",
         "legendgroup": "0.047444381509424455",
         "marker": {
          "color": "#636efa",
          "pattern": {
           "shape": ""
          }
         },
         "name": "0.047444381509424455",
         "offsetgroup": "0.047444381509424455",
         "orientation": "v",
         "showlegend": true,
         "type": "histogram",
         "x": [
          "wolfgang petersen"
         ],
         "xaxis": "x",
         "y": [
          0.047444381509424455
         ],
         "yaxis": "y"
        },
        {
         "alignmentgroup": "True",
         "boxpoints": "all",
         "customdata": [
          [
           7.15
          ]
         ],
         "fillcolor": "rgba(255,255,255,0)",
         "hoveron": "points",
         "hovertemplate": "prom_relative=0.047444381509424455<br>index=%{x}<br>score=%{customdata[0]}<extra></extra>",
         "jitter": 0,
         "legendgroup": "0.047444381509424455",
         "line": {
          "color": "rgba(255,255,255,0)"
         },
         "marker": {
          "color": "#636efa",
          "symbol": "line-ns-open"
         },
         "name": "0.047444381509424455",
         "offsetgroup": "0.047444381509424455",
         "showlegend": false,
         "type": "box",
         "x": [
          "wolfgang petersen"
         ],
         "xaxis": "x2",
         "yaxis": "y2"
        },
        {
         "alignmentgroup": "True",
         "bingroup": "x",
         "histfunc": "sum",
         "hovertemplate": "prom_relative=0.047400638758171354<br>index=%{x}<br>sum of prom_relative=%{y}<extra></extra>",
         "legendgroup": "0.047400638758171354",
         "marker": {
          "color": "#EF553B",
          "pattern": {
           "shape": ""
          }
         },
         "name": "0.047400638758171354",
         "offsetgroup": "0.047400638758171354",
         "orientation": "v",
         "showlegend": true,
         "type": "histogram",
         "x": [
          "ben affleck"
         ],
         "xaxis": "x",
         "y": [
          0.047400638758171354
         ],
         "yaxis": "y"
        },
        {
         "alignmentgroup": "True",
         "boxpoints": "all",
         "customdata": [
          [
           7.5
          ]
         ],
         "fillcolor": "rgba(255,255,255,0)",
         "hoveron": "points",
         "hovertemplate": "prom_relative=0.047400638758171354<br>index=%{x}<br>score=%{customdata[0]}<extra></extra>",
         "jitter": 0,
         "legendgroup": "0.047400638758171354",
         "line": {
          "color": "rgba(255,255,255,0)"
         },
         "marker": {
          "color": "#EF553B",
          "symbol": "line-ns-open"
         },
         "name": "0.047400638758171354",
         "offsetgroup": "0.047400638758171354",
         "showlegend": false,
         "type": "box",
         "x": [
          "ben affleck"
         ],
         "xaxis": "x2",
         "yaxis": "y2"
        },
        {
         "alignmentgroup": "True",
         "bingroup": "x",
         "histfunc": "sum",
         "hovertemplate": "prom_relative=0.04624975738823484<br>index=%{x}<br>sum of prom_relative=%{y}<extra></extra>",
         "legendgroup": "0.04624975738823484",
         "marker": {
          "color": "#00cc96",
          "pattern": {
           "shape": ""
          }
         },
         "name": "0.04624975738823484",
         "offsetgroup": "0.04624975738823484",
         "orientation": "v",
         "showlegend": true,
         "type": "histogram",
         "x": [
          "marc webb"
         ],
         "xaxis": "x",
         "y": [
          0.04624975738823484
         ],
         "yaxis": "y"
        },
        {
         "alignmentgroup": "True",
         "boxpoints": "all",
         "customdata": [
          [
           6.8
          ]
         ],
         "fillcolor": "rgba(255,255,255,0)",
         "hoveron": "points",
         "hovertemplate": "prom_relative=0.04624975738823484<br>index=%{x}<br>score=%{customdata[0]}<extra></extra>",
         "jitter": 0,
         "legendgroup": "0.04624975738823484",
         "line": {
          "color": "rgba(255,255,255,0)"
         },
         "marker": {
          "color": "#00cc96",
          "symbol": "line-ns-open"
         },
         "name": "0.04624975738823484",
         "offsetgroup": "0.04624975738823484",
         "showlegend": false,
         "type": "box",
         "x": [
          "marc webb"
         ],
         "xaxis": "x2",
         "yaxis": "y2"
        },
        {
         "alignmentgroup": "True",
         "bingroup": "x",
         "histfunc": "sum",
         "hovertemplate": "prom_relative=0.04513545805132841<br>index=%{x}<br>sum of prom_relative=%{y}<extra></extra>",
         "legendgroup": "0.04513545805132841",
         "marker": {
          "color": "#ab63fa",
          "pattern": {
           "shape": ""
          }
         },
         "name": "0.04513545805132841",
         "offsetgroup": "0.04513545805132841",
         "orientation": "v",
         "showlegend": true,
         "type": "histogram",
         "x": [
          "denis villeneuve"
         ],
         "xaxis": "x",
         "y": [
          0.04513545805132841
         ],
         "yaxis": "y"
        },
        {
         "alignmentgroup": "True",
         "boxpoints": "all",
         "customdata": [
          [
           7.8
          ]
         ],
         "fillcolor": "rgba(255,255,255,0)",
         "hoveron": "points",
         "hovertemplate": "prom_relative=0.04513545805132841<br>index=%{x}<br>score=%{customdata[0]}<extra></extra>",
         "jitter": 0,
         "legendgroup": "0.04513545805132841",
         "line": {
          "color": "rgba(255,255,255,0)"
         },
         "marker": {
          "color": "#ab63fa",
          "symbol": "line-ns-open"
         },
         "name": "0.04513545805132841",
         "offsetgroup": "0.04513545805132841",
         "showlegend": false,
         "type": "box",
         "x": [
          "denis villeneuve"
         ],
         "xaxis": "x2",
         "yaxis": "y2"
        },
        {
         "alignmentgroup": "True",
         "bingroup": "x",
         "histfunc": "sum",
         "hovertemplate": "prom_relative=0.04501055365125891<br>index=%{x}<br>sum of prom_relative=%{y}<extra></extra>",
         "legendgroup": "0.04501055365125891",
         "marker": {
          "color": "#FFA15A",
          "pattern": {
           "shape": ""
          }
         },
         "name": "0.04501055365125891",
         "offsetgroup": "0.04501055365125891",
         "orientation": "v",
         "showlegend": true,
         "type": "histogram",
         "x": [
          "terry gilliam"
         ],
         "xaxis": "x",
         "y": [
          0.04501055365125891
         ],
         "yaxis": "y"
        },
        {
         "alignmentgroup": "True",
         "boxpoints": "all",
         "customdata": [
          [
           8
          ]
         ],
         "fillcolor": "rgba(255,255,255,0)",
         "hoveron": "points",
         "hovertemplate": "prom_relative=0.04501055365125891<br>index=%{x}<br>score=%{customdata[0]}<extra></extra>",
         "jitter": 0,
         "legendgroup": "0.04501055365125891",
         "line": {
          "color": "rgba(255,255,255,0)"
         },
         "marker": {
          "color": "#FFA15A",
          "symbol": "line-ns-open"
         },
         "name": "0.04501055365125891",
         "offsetgroup": "0.04501055365125891",
         "showlegend": false,
         "type": "box",
         "x": [
          "terry gilliam"
         ],
         "xaxis": "x2",
         "yaxis": "y2"
        },
        {
         "alignmentgroup": "True",
         "bingroup": "x",
         "histfunc": "sum",
         "hovertemplate": "prom_relative=0.04446505061072478<br>index=%{x}<br>sum of prom_relative=%{y}<extra></extra>",
         "legendgroup": "0.04446505061072478",
         "marker": {
          "color": "#19d3f3",
          "pattern": {
           "shape": ""
          }
         },
         "name": "0.04446505061072478",
         "offsetgroup": "0.04446505061072478",
         "orientation": "v",
         "showlegend": true,
         "type": "histogram",
         "x": [
          "edward zwick"
         ],
         "xaxis": "x",
         "y": [
          0.04446505061072478
         ],
         "yaxis": "y"
        },
        {
         "alignmentgroup": "True",
         "boxpoints": "all",
         "customdata": [
          [
           7.8
          ]
         ],
         "fillcolor": "rgba(255,255,255,0)",
         "hoveron": "points",
         "hovertemplate": "prom_relative=0.04446505061072478<br>index=%{x}<br>score=%{customdata[0]}<extra></extra>",
         "jitter": 0,
         "legendgroup": "0.04446505061072478",
         "line": {
          "color": "rgba(255,255,255,0)"
         },
         "marker": {
          "color": "#19d3f3",
          "symbol": "line-ns-open"
         },
         "name": "0.04446505061072478",
         "offsetgroup": "0.04446505061072478",
         "showlegend": false,
         "type": "box",
         "x": [
          "edward zwick"
         ],
         "xaxis": "x2",
         "yaxis": "y2"
        },
        {
         "alignmentgroup": "True",
         "bingroup": "x",
         "histfunc": "sum",
         "hovertemplate": "prom_relative=0.042229089634339044<br>index=%{x}<br>sum of prom_relative=%{y}<extra></extra>",
         "legendgroup": "0.042229089634339044",
         "marker": {
          "color": "#FF6692",
          "pattern": {
           "shape": ""
          }
         },
         "name": "0.042229089634339044",
         "offsetgroup": "0.042229089634339044",
         "orientation": "v",
         "showlegend": true,
         "type": "histogram",
         "x": [
          "gabriele muccino"
         ],
         "xaxis": "x",
         "y": [
          0.042229089634339044
         ],
         "yaxis": "y"
        },
        {
         "alignmentgroup": "True",
         "boxpoints": "all",
         "customdata": [
          [
           8
          ]
         ],
         "fillcolor": "rgba(255,255,255,0)",
         "hoveron": "points",
         "hovertemplate": "prom_relative=0.042229089634339044<br>index=%{x}<br>score=%{customdata[0]}<extra></extra>",
         "jitter": 0,
         "legendgroup": "0.042229089634339044",
         "line": {
          "color": "rgba(255,255,255,0)"
         },
         "marker": {
          "color": "#FF6692",
          "symbol": "line-ns-open"
         },
         "name": "0.042229089634339044",
         "offsetgroup": "0.042229089634339044",
         "showlegend": false,
         "type": "box",
         "x": [
          "gabriele muccino"
         ],
         "xaxis": "x2",
         "yaxis": "y2"
        },
        {
         "alignmentgroup": "True",
         "bingroup": "x",
         "histfunc": "sum",
         "hovertemplate": "prom_relative=0.04146967138719318<br>index=%{x}<br>sum of prom_relative=%{y}<extra></extra>",
         "legendgroup": "0.04146967138719318",
         "marker": {
          "color": "#B6E880",
          "pattern": {
           "shape": ""
          }
         },
         "name": "0.04146967138719318",
         "offsetgroup": "0.04146967138719318",
         "orientation": "v",
         "showlegend": true,
         "type": "histogram",
         "x": [
          "dan gilroy"
         ],
         "xaxis": "x",
         "y": [
          0.04146967138719318
         ],
         "yaxis": "y"
        },
        {
         "alignmentgroup": "True",
         "boxpoints": "all",
         "customdata": [
          [
           6.65
          ]
         ],
         "fillcolor": "rgba(255,255,255,0)",
         "hoveron": "points",
         "hovertemplate": "prom_relative=0.04146967138719318<br>index=%{x}<br>score=%{customdata[0]}<extra></extra>",
         "jitter": 0,
         "legendgroup": "0.04146967138719318",
         "line": {
          "color": "rgba(255,255,255,0)"
         },
         "marker": {
          "color": "#B6E880",
          "symbol": "line-ns-open"
         },
         "name": "0.04146967138719318",
         "offsetgroup": "0.04146967138719318",
         "showlegend": false,
         "type": "box",
         "x": [
          "dan gilroy"
         ],
         "xaxis": "x2",
         "yaxis": "y2"
        },
        {
         "alignmentgroup": "True",
         "bingroup": "x",
         "histfunc": "sum",
         "hovertemplate": "prom_relative=0.03998956856254274<br>index=%{x}<br>sum of prom_relative=%{y}<extra></extra>",
         "legendgroup": "0.03998956856254274",
         "marker": {
          "color": "#FF97FF",
          "pattern": {
           "shape": ""
          }
         },
         "name": "0.03998956856254274",
         "offsetgroup": "0.03998956856254274",
         "orientation": "v",
         "showlegend": true,
         "type": "histogram",
         "x": [
          "andy muschietti"
         ],
         "xaxis": "x",
         "y": [
          0.03998956856254274
         ],
         "yaxis": "y"
        },
        {
         "alignmentgroup": "True",
         "boxpoints": "all",
         "customdata": [
          [
           7.2
          ]
         ],
         "fillcolor": "rgba(255,255,255,0)",
         "hoveron": "points",
         "hovertemplate": "prom_relative=0.03998956856254274<br>index=%{x}<br>score=%{customdata[0]}<extra></extra>",
         "jitter": 0,
         "legendgroup": "0.03998956856254274",
         "line": {
          "color": "rgba(255,255,255,0)"
         },
         "marker": {
          "color": "#FF97FF",
          "symbol": "line-ns-open"
         },
         "name": "0.03998956856254274",
         "offsetgroup": "0.03998956856254274",
         "showlegend": false,
         "type": "box",
         "x": [
          "andy muschietti"
         ],
         "xaxis": "x2",
         "yaxis": "y2"
        },
        {
         "alignmentgroup": "True",
         "bingroup": "x",
         "histfunc": "sum",
         "hovertemplate": "prom_relative=0.03977380699065893<br>index=%{x}<br>sum of prom_relative=%{y}<extra></extra>",
         "legendgroup": "0.03977380699065893",
         "marker": {
          "color": "#FECB52",
          "pattern": {
           "shape": ""
          }
         },
         "name": "0.03977380699065893",
         "offsetgroup": "0.03977380699065893",
         "orientation": "v",
         "showlegend": true,
         "type": "histogram",
         "x": [
          "tom hooper"
         ],
         "xaxis": "x",
         "y": [
          0.03977380699065893
         ],
         "yaxis": "y"
        },
        {
         "alignmentgroup": "True",
         "boxpoints": "all",
         "customdata": [
          [
           7.4
          ]
         ],
         "fillcolor": "rgba(255,255,255,0)",
         "hoveron": "points",
         "hovertemplate": "prom_relative=0.03977380699065893<br>index=%{x}<br>score=%{customdata[0]}<extra></extra>",
         "jitter": 0,
         "legendgroup": "0.03977380699065893",
         "line": {
          "color": "rgba(255,255,255,0)"
         },
         "marker": {
          "color": "#FECB52",
          "symbol": "line-ns-open"
         },
         "name": "0.03977380699065893",
         "offsetgroup": "0.03977380699065893",
         "showlegend": false,
         "type": "box",
         "x": [
          "tom hooper"
         ],
         "xaxis": "x2",
         "yaxis": "y2"
        }
       ],
       "layout": {
        "barmode": "relative",
        "legend": {
         "title": {
          "text": "prom_relative"
         },
         "tracegroupgap": 0
        },
        "margin": {
         "t": 60
        },
        "template": {
         "data": {
          "bar": [
           {
            "error_x": {
             "color": "#2a3f5f"
            },
            "error_y": {
             "color": "#2a3f5f"
            },
            "marker": {
             "line": {
              "color": "#E5ECF6",
              "width": 0.5
             },
             "pattern": {
              "fillmode": "overlay",
              "size": 10,
              "solidity": 0.2
             }
            },
            "type": "bar"
           }
          ],
          "barpolar": [
           {
            "marker": {
             "line": {
              "color": "#E5ECF6",
              "width": 0.5
             },
             "pattern": {
              "fillmode": "overlay",
              "size": 10,
              "solidity": 0.2
             }
            },
            "type": "barpolar"
           }
          ],
          "carpet": [
           {
            "aaxis": {
             "endlinecolor": "#2a3f5f",
             "gridcolor": "white",
             "linecolor": "white",
             "minorgridcolor": "white",
             "startlinecolor": "#2a3f5f"
            },
            "baxis": {
             "endlinecolor": "#2a3f5f",
             "gridcolor": "white",
             "linecolor": "white",
             "minorgridcolor": "white",
             "startlinecolor": "#2a3f5f"
            },
            "type": "carpet"
           }
          ],
          "choropleth": [
           {
            "colorbar": {
             "outlinewidth": 0,
             "ticks": ""
            },
            "type": "choropleth"
           }
          ],
          "contour": [
           {
            "colorbar": {
             "outlinewidth": 0,
             "ticks": ""
            },
            "colorscale": [
             [
              0,
              "#0d0887"
             ],
             [
              0.1111111111111111,
              "#46039f"
             ],
             [
              0.2222222222222222,
              "#7201a8"
             ],
             [
              0.3333333333333333,
              "#9c179e"
             ],
             [
              0.4444444444444444,
              "#bd3786"
             ],
             [
              0.5555555555555556,
              "#d8576b"
             ],
             [
              0.6666666666666666,
              "#ed7953"
             ],
             [
              0.7777777777777778,
              "#fb9f3a"
             ],
             [
              0.8888888888888888,
              "#fdca26"
             ],
             [
              1,
              "#f0f921"
             ]
            ],
            "type": "contour"
           }
          ],
          "contourcarpet": [
           {
            "colorbar": {
             "outlinewidth": 0,
             "ticks": ""
            },
            "type": "contourcarpet"
           }
          ],
          "heatmap": [
           {
            "colorbar": {
             "outlinewidth": 0,
             "ticks": ""
            },
            "colorscale": [
             [
              0,
              "#0d0887"
             ],
             [
              0.1111111111111111,
              "#46039f"
             ],
             [
              0.2222222222222222,
              "#7201a8"
             ],
             [
              0.3333333333333333,
              "#9c179e"
             ],
             [
              0.4444444444444444,
              "#bd3786"
             ],
             [
              0.5555555555555556,
              "#d8576b"
             ],
             [
              0.6666666666666666,
              "#ed7953"
             ],
             [
              0.7777777777777778,
              "#fb9f3a"
             ],
             [
              0.8888888888888888,
              "#fdca26"
             ],
             [
              1,
              "#f0f921"
             ]
            ],
            "type": "heatmap"
           }
          ],
          "heatmapgl": [
           {
            "colorbar": {
             "outlinewidth": 0,
             "ticks": ""
            },
            "colorscale": [
             [
              0,
              "#0d0887"
             ],
             [
              0.1111111111111111,
              "#46039f"
             ],
             [
              0.2222222222222222,
              "#7201a8"
             ],
             [
              0.3333333333333333,
              "#9c179e"
             ],
             [
              0.4444444444444444,
              "#bd3786"
             ],
             [
              0.5555555555555556,
              "#d8576b"
             ],
             [
              0.6666666666666666,
              "#ed7953"
             ],
             [
              0.7777777777777778,
              "#fb9f3a"
             ],
             [
              0.8888888888888888,
              "#fdca26"
             ],
             [
              1,
              "#f0f921"
             ]
            ],
            "type": "heatmapgl"
           }
          ],
          "histogram": [
           {
            "marker": {
             "pattern": {
              "fillmode": "overlay",
              "size": 10,
              "solidity": 0.2
             }
            },
            "type": "histogram"
           }
          ],
          "histogram2d": [
           {
            "colorbar": {
             "outlinewidth": 0,
             "ticks": ""
            },
            "colorscale": [
             [
              0,
              "#0d0887"
             ],
             [
              0.1111111111111111,
              "#46039f"
             ],
             [
              0.2222222222222222,
              "#7201a8"
             ],
             [
              0.3333333333333333,
              "#9c179e"
             ],
             [
              0.4444444444444444,
              "#bd3786"
             ],
             [
              0.5555555555555556,
              "#d8576b"
             ],
             [
              0.6666666666666666,
              "#ed7953"
             ],
             [
              0.7777777777777778,
              "#fb9f3a"
             ],
             [
              0.8888888888888888,
              "#fdca26"
             ],
             [
              1,
              "#f0f921"
             ]
            ],
            "type": "histogram2d"
           }
          ],
          "histogram2dcontour": [
           {
            "colorbar": {
             "outlinewidth": 0,
             "ticks": ""
            },
            "colorscale": [
             [
              0,
              "#0d0887"
             ],
             [
              0.1111111111111111,
              "#46039f"
             ],
             [
              0.2222222222222222,
              "#7201a8"
             ],
             [
              0.3333333333333333,
              "#9c179e"
             ],
             [
              0.4444444444444444,
              "#bd3786"
             ],
             [
              0.5555555555555556,
              "#d8576b"
             ],
             [
              0.6666666666666666,
              "#ed7953"
             ],
             [
              0.7777777777777778,
              "#fb9f3a"
             ],
             [
              0.8888888888888888,
              "#fdca26"
             ],
             [
              1,
              "#f0f921"
             ]
            ],
            "type": "histogram2dcontour"
           }
          ],
          "mesh3d": [
           {
            "colorbar": {
             "outlinewidth": 0,
             "ticks": ""
            },
            "type": "mesh3d"
           }
          ],
          "parcoords": [
           {
            "line": {
             "colorbar": {
              "outlinewidth": 0,
              "ticks": ""
             }
            },
            "type": "parcoords"
           }
          ],
          "pie": [
           {
            "automargin": true,
            "type": "pie"
           }
          ],
          "scatter": [
           {
            "fillpattern": {
             "fillmode": "overlay",
             "size": 10,
             "solidity": 0.2
            },
            "type": "scatter"
           }
          ],
          "scatter3d": [
           {
            "line": {
             "colorbar": {
              "outlinewidth": 0,
              "ticks": ""
             }
            },
            "marker": {
             "colorbar": {
              "outlinewidth": 0,
              "ticks": ""
             }
            },
            "type": "scatter3d"
           }
          ],
          "scattercarpet": [
           {
            "marker": {
             "colorbar": {
              "outlinewidth": 0,
              "ticks": ""
             }
            },
            "type": "scattercarpet"
           }
          ],
          "scattergeo": [
           {
            "marker": {
             "colorbar": {
              "outlinewidth": 0,
              "ticks": ""
             }
            },
            "type": "scattergeo"
           }
          ],
          "scattergl": [
           {
            "marker": {
             "colorbar": {
              "outlinewidth": 0,
              "ticks": ""
             }
            },
            "type": "scattergl"
           }
          ],
          "scattermapbox": [
           {
            "marker": {
             "colorbar": {
              "outlinewidth": 0,
              "ticks": ""
             }
            },
            "type": "scattermapbox"
           }
          ],
          "scatterpolar": [
           {
            "marker": {
             "colorbar": {
              "outlinewidth": 0,
              "ticks": ""
             }
            },
            "type": "scatterpolar"
           }
          ],
          "scatterpolargl": [
           {
            "marker": {
             "colorbar": {
              "outlinewidth": 0,
              "ticks": ""
             }
            },
            "type": "scatterpolargl"
           }
          ],
          "scatterternary": [
           {
            "marker": {
             "colorbar": {
              "outlinewidth": 0,
              "ticks": ""
             }
            },
            "type": "scatterternary"
           }
          ],
          "surface": [
           {
            "colorbar": {
             "outlinewidth": 0,
             "ticks": ""
            },
            "colorscale": [
             [
              0,
              "#0d0887"
             ],
             [
              0.1111111111111111,
              "#46039f"
             ],
             [
              0.2222222222222222,
              "#7201a8"
             ],
             [
              0.3333333333333333,
              "#9c179e"
             ],
             [
              0.4444444444444444,
              "#bd3786"
             ],
             [
              0.5555555555555556,
              "#d8576b"
             ],
             [
              0.6666666666666666,
              "#ed7953"
             ],
             [
              0.7777777777777778,
              "#fb9f3a"
             ],
             [
              0.8888888888888888,
              "#fdca26"
             ],
             [
              1,
              "#f0f921"
             ]
            ],
            "type": "surface"
           }
          ],
          "table": [
           {
            "cells": {
             "fill": {
              "color": "#EBF0F8"
             },
             "line": {
              "color": "white"
             }
            },
            "header": {
             "fill": {
              "color": "#C8D4E3"
             },
             "line": {
              "color": "white"
             }
            },
            "type": "table"
           }
          ]
         },
         "layout": {
          "annotationdefaults": {
           "arrowcolor": "#2a3f5f",
           "arrowhead": 0,
           "arrowwidth": 1
          },
          "autotypenumbers": "strict",
          "coloraxis": {
           "colorbar": {
            "outlinewidth": 0,
            "ticks": ""
           }
          },
          "colorscale": {
           "diverging": [
            [
             0,
             "#8e0152"
            ],
            [
             0.1,
             "#c51b7d"
            ],
            [
             0.2,
             "#de77ae"
            ],
            [
             0.3,
             "#f1b6da"
            ],
            [
             0.4,
             "#fde0ef"
            ],
            [
             0.5,
             "#f7f7f7"
            ],
            [
             0.6,
             "#e6f5d0"
            ],
            [
             0.7,
             "#b8e186"
            ],
            [
             0.8,
             "#7fbc41"
            ],
            [
             0.9,
             "#4d9221"
            ],
            [
             1,
             "#276419"
            ]
           ],
           "sequential": [
            [
             0,
             "#0d0887"
            ],
            [
             0.1111111111111111,
             "#46039f"
            ],
            [
             0.2222222222222222,
             "#7201a8"
            ],
            [
             0.3333333333333333,
             "#9c179e"
            ],
            [
             0.4444444444444444,
             "#bd3786"
            ],
            [
             0.5555555555555556,
             "#d8576b"
            ],
            [
             0.6666666666666666,
             "#ed7953"
            ],
            [
             0.7777777777777778,
             "#fb9f3a"
            ],
            [
             0.8888888888888888,
             "#fdca26"
            ],
            [
             1,
             "#f0f921"
            ]
           ],
           "sequentialminus": [
            [
             0,
             "#0d0887"
            ],
            [
             0.1111111111111111,
             "#46039f"
            ],
            [
             0.2222222222222222,
             "#7201a8"
            ],
            [
             0.3333333333333333,
             "#9c179e"
            ],
            [
             0.4444444444444444,
             "#bd3786"
            ],
            [
             0.5555555555555556,
             "#d8576b"
            ],
            [
             0.6666666666666666,
             "#ed7953"
            ],
            [
             0.7777777777777778,
             "#fb9f3a"
            ],
            [
             0.8888888888888888,
             "#fdca26"
            ],
            [
             1,
             "#f0f921"
            ]
           ]
          },
          "colorway": [
           "#636efa",
           "#EF553B",
           "#00cc96",
           "#ab63fa",
           "#FFA15A",
           "#19d3f3",
           "#FF6692",
           "#B6E880",
           "#FF97FF",
           "#FECB52"
          ],
          "font": {
           "color": "#2a3f5f"
          },
          "geo": {
           "bgcolor": "white",
           "lakecolor": "white",
           "landcolor": "#E5ECF6",
           "showlakes": true,
           "showland": true,
           "subunitcolor": "white"
          },
          "hoverlabel": {
           "align": "left"
          },
          "hovermode": "closest",
          "mapbox": {
           "style": "light"
          },
          "paper_bgcolor": "white",
          "plot_bgcolor": "#E5ECF6",
          "polar": {
           "angularaxis": {
            "gridcolor": "white",
            "linecolor": "white",
            "ticks": ""
           },
           "bgcolor": "#E5ECF6",
           "radialaxis": {
            "gridcolor": "white",
            "linecolor": "white",
            "ticks": ""
           }
          },
          "scene": {
           "xaxis": {
            "backgroundcolor": "#E5ECF6",
            "gridcolor": "white",
            "gridwidth": 2,
            "linecolor": "white",
            "showbackground": true,
            "ticks": "",
            "zerolinecolor": "white"
           },
           "yaxis": {
            "backgroundcolor": "#E5ECF6",
            "gridcolor": "white",
            "gridwidth": 2,
            "linecolor": "white",
            "showbackground": true,
            "ticks": "",
            "zerolinecolor": "white"
           },
           "zaxis": {
            "backgroundcolor": "#E5ECF6",
            "gridcolor": "white",
            "gridwidth": 2,
            "linecolor": "white",
            "showbackground": true,
            "ticks": "",
            "zerolinecolor": "white"
           }
          },
          "shapedefaults": {
           "line": {
            "color": "#2a3f5f"
           }
          },
          "ternary": {
           "aaxis": {
            "gridcolor": "white",
            "linecolor": "white",
            "ticks": ""
           },
           "baxis": {
            "gridcolor": "white",
            "linecolor": "white",
            "ticks": ""
           },
           "bgcolor": "#E5ECF6",
           "caxis": {
            "gridcolor": "white",
            "linecolor": "white",
            "ticks": ""
           }
          },
          "title": {
           "x": 0.05
          },
          "xaxis": {
           "automargin": true,
           "gridcolor": "white",
           "linecolor": "white",
           "ticks": "",
           "title": {
            "standoff": 15
           },
           "zerolinecolor": "white",
           "zerolinewidth": 2
          },
          "yaxis": {
           "automargin": true,
           "gridcolor": "white",
           "linecolor": "white",
           "ticks": "",
           "title": {
            "standoff": 15
           },
           "zerolinecolor": "white",
           "zerolinewidth": 2
          }
         }
        },
        "xaxis": {
         "anchor": "y",
         "domain": [
          0,
          1
         ],
         "title": {
          "text": "index"
         }
        },
        "xaxis2": {
         "anchor": "y2",
         "domain": [
          0,
          1
         ],
         "matches": "x",
         "showgrid": true,
         "showticklabels": false
        },
        "yaxis": {
         "anchor": "x",
         "categoryarray": [
          0.03977380699065893,
          0.03998956856254274,
          0.04146967138719318,
          0.042229089634339044,
          0.04446505061072478,
          0.04501055365125891,
          0.04513545805132841,
          0.04624975738823484,
          0.047400638758171354,
          0.047444381509424455,
          0.05192285258508087,
          0.052072271677231836,
          0.056471719757878985,
          0.057119804494971005,
          0.05903477055290344,
          0.06294954810052067,
          0.06368625416003254,
          0.06384183017157491,
          0.07532883354958124,
          0.07778739522850792,
          0.0915439575885897,
          0.09537010855048811,
          0.10056899840705205,
          0.13517227788020508,
          0.1412843748422984,
          0.17310556870292546,
          0.17940424803384733,
          0.18298963885916353,
          0.30481793754177877,
          0.39076666517820574
         ],
         "categoryorder": "array",
         "domain": [
          0,
          0.7326
         ],
         "title": {
          "text": "sum of prom_relative"
         }
        },
        "yaxis2": {
         "anchor": "x2",
         "categoryarray": [
          0.03977380699065893,
          0.03998956856254274,
          0.04146967138719318,
          0.042229089634339044,
          0.04446505061072478,
          0.04501055365125891,
          0.04513545805132841,
          0.04624975738823484,
          0.047400638758171354,
          0.047444381509424455,
          0.05192285258508087,
          0.052072271677231836,
          0.056471719757878985,
          0.057119804494971005,
          0.05903477055290344,
          0.06294954810052067,
          0.06368625416003254,
          0.06384183017157491,
          0.07532883354958124,
          0.07778739522850792,
          0.0915439575885897,
          0.09537010855048811,
          0.10056899840705205,
          0.13517227788020508,
          0.1412843748422984,
          0.17310556870292546,
          0.17940424803384733,
          0.18298963885916353,
          0.30481793754177877,
          0.39076666517820574
         ],
         "categoryorder": "array",
         "domain": [
          0.7426,
          1
         ],
         "matches": "y2",
         "showgrid": false,
         "showline": false,
         "showticklabels": false,
         "ticks": ""
        }
       }
      }
     },
     "metadata": {},
     "output_type": "display_data"
    }
   ],
   "source": [
    "graf_directores(df)"
   ]
  }
 ],
 "metadata": {
  "kernelspec": {
   "display_name": "proyecto_4",
   "language": "python",
   "name": "python3"
  },
  "language_info": {
   "codemirror_mode": {
    "name": "ipython",
    "version": 3
   },
   "file_extension": ".py",
   "mimetype": "text/x-python",
   "name": "python",
   "nbconvert_exporter": "python",
   "pygments_lexer": "ipython3",
   "version": "3.12.3"
  }
 },
 "nbformat": 4,
 "nbformat_minor": 2
}
