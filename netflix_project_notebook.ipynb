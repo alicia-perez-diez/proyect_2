{
 "cells": [
  {
   "cell_type": "code",
   "execution_count": 173,
   "metadata": {},
   "outputs": [],
   "source": [
    "import pandas as pd\n",
    "import numpy as np"
   ]
  },
  {
   "cell_type": "code",
   "execution_count": 174,
   "metadata": {},
   "outputs": [],
   "source": [
    "credits_df = pd.read_csv(\"credits_df.csv\")\n",
    "titles_df = pd.read_csv(\"titles_df.csv\")"
   ]
  },
  {
   "cell_type": "code",
   "execution_count": 102,
   "metadata": {},
   "outputs": [
    {
     "data": {
      "text/html": [
       "<div>\n",
       "<style scoped>\n",
       "    .dataframe tbody tr th:only-of-type {\n",
       "        vertical-align: middle;\n",
       "    }\n",
       "\n",
       "    .dataframe tbody tr th {\n",
       "        vertical-align: top;\n",
       "    }\n",
       "\n",
       "    .dataframe thead th {\n",
       "        text-align: right;\n",
       "    }\n",
       "</style>\n",
       "<table border=\"1\" class=\"dataframe\">\n",
       "  <thead>\n",
       "    <tr style=\"text-align: right;\">\n",
       "      <th></th>\n",
       "      <th>person_id</th>\n",
       "      <th>id</th>\n",
       "      <th>name</th>\n",
       "      <th>character</th>\n",
       "      <th>role</th>\n",
       "    </tr>\n",
       "  </thead>\n",
       "  <tbody>\n",
       "    <tr>\n",
       "      <th>0</th>\n",
       "      <td>3748</td>\n",
       "      <td>tm84618</td>\n",
       "      <td>Robert De Niro</td>\n",
       "      <td>Travis Bickle</td>\n",
       "      <td>ACTOR</td>\n",
       "    </tr>\n",
       "    <tr>\n",
       "      <th>1</th>\n",
       "      <td>14658</td>\n",
       "      <td>tm84618</td>\n",
       "      <td>Jodie Foster</td>\n",
       "      <td>Iris Steensma</td>\n",
       "      <td>ACTOR</td>\n",
       "    </tr>\n",
       "    <tr>\n",
       "      <th>2</th>\n",
       "      <td>7064</td>\n",
       "      <td>tm84618</td>\n",
       "      <td>Albert Brooks</td>\n",
       "      <td>Tom</td>\n",
       "      <td>ACTOR</td>\n",
       "    </tr>\n",
       "    <tr>\n",
       "      <th>3</th>\n",
       "      <td>3739</td>\n",
       "      <td>tm84618</td>\n",
       "      <td>Harvey Keitel</td>\n",
       "      <td>Matthew 'Sport' Higgins</td>\n",
       "      <td>ACTOR</td>\n",
       "    </tr>\n",
       "    <tr>\n",
       "      <th>4</th>\n",
       "      <td>48933</td>\n",
       "      <td>tm84618</td>\n",
       "      <td>Cybill Shepherd</td>\n",
       "      <td>Betsy</td>\n",
       "      <td>ACTOR</td>\n",
       "    </tr>\n",
       "  </tbody>\n",
       "</table>\n",
       "</div>"
      ],
      "text/plain": [
       "   person_id       id             name                character   role\n",
       "0       3748  tm84618   Robert De Niro            Travis Bickle  ACTOR\n",
       "1      14658  tm84618     Jodie Foster            Iris Steensma  ACTOR\n",
       "2       7064  tm84618    Albert Brooks                      Tom  ACTOR\n",
       "3       3739  tm84618    Harvey Keitel  Matthew 'Sport' Higgins  ACTOR\n",
       "4      48933  tm84618  Cybill Shepherd                    Betsy  ACTOR"
      ]
     },
     "execution_count": 102,
     "metadata": {},
     "output_type": "execute_result"
    }
   ],
   "source": [
    "credits_df.head()"
   ]
  },
  {
   "cell_type": "code",
   "execution_count": 103,
   "metadata": {},
   "outputs": [
    {
     "name": "stdout",
     "output_type": "stream",
     "text": [
      "<class 'pandas.core.frame.DataFrame'>\n",
      "RangeIndex: 77801 entries, 0 to 77800\n",
      "Data columns (total 5 columns):\n",
      " #   Column     Non-Null Count  Dtype \n",
      "---  ------     --------------  ----- \n",
      " 0   person_id  77801 non-null  int64 \n",
      " 1   id         77801 non-null  object\n",
      " 2   name       77801 non-null  object\n",
      " 3   character  68029 non-null  object\n",
      " 4   role       77801 non-null  object\n",
      "dtypes: int64(1), object(4)\n",
      "memory usage: 3.0+ MB\n"
     ]
    }
   ],
   "source": [
    "credits_df.info()"
   ]
  },
  {
   "cell_type": "code",
   "execution_count": 175,
   "metadata": {},
   "outputs": [],
   "source": [
    "#Eliminamos los espacios en blanco al inicio y al final y lo dejamos todo en minuscula\n",
    "credits_df[\"name\"] = credits_df[\"name\"].str.lower().str.strip()\n",
    "credits_df[\"role\"] = credits_df[\"role\"].str.lower().str.strip()"
   ]
  },
  {
   "cell_type": "code",
   "execution_count": 176,
   "metadata": {},
   "outputs": [],
   "source": [
    "#Nos quedamos con todos los id que empiezan por 'tm' ya que son los id de peliculas\n",
    "credits_df = credits_df[credits_df[\"id\"].str.startswith(\"tm\") == True]\n",
    "credits_df = credits_df.reset_index(drop= True)"
   ]
  },
  {
   "cell_type": "code",
   "execution_count": 177,
   "metadata": {},
   "outputs": [],
   "source": [
    "#eliminamos la columna character\n",
    "\n",
    "columns_to_drop_credits = [\"character\"]\n",
    "credits_df = credits_df.drop(columns = columns_to_drop_credits, axis = 1)"
   ]
  },
  {
   "cell_type": "code",
   "execution_count": 107,
   "metadata": {},
   "outputs": [
    {
     "data": {
      "text/html": [
       "<div>\n",
       "<style scoped>\n",
       "    .dataframe tbody tr th:only-of-type {\n",
       "        vertical-align: middle;\n",
       "    }\n",
       "\n",
       "    .dataframe tbody tr th {\n",
       "        vertical-align: top;\n",
       "    }\n",
       "\n",
       "    .dataframe thead th {\n",
       "        text-align: right;\n",
       "    }\n",
       "</style>\n",
       "<table border=\"1\" class=\"dataframe\">\n",
       "  <thead>\n",
       "    <tr style=\"text-align: right;\">\n",
       "      <th></th>\n",
       "      <th>person_id</th>\n",
       "      <th>id</th>\n",
       "      <th>name</th>\n",
       "      <th>role</th>\n",
       "    </tr>\n",
       "  </thead>\n",
       "  <tbody>\n",
       "    <tr>\n",
       "      <th>0</th>\n",
       "      <td>3748</td>\n",
       "      <td>tm84618</td>\n",
       "      <td>robert de niro</td>\n",
       "      <td>actor</td>\n",
       "    </tr>\n",
       "    <tr>\n",
       "      <th>1</th>\n",
       "      <td>14658</td>\n",
       "      <td>tm84618</td>\n",
       "      <td>jodie foster</td>\n",
       "      <td>actor</td>\n",
       "    </tr>\n",
       "    <tr>\n",
       "      <th>2</th>\n",
       "      <td>7064</td>\n",
       "      <td>tm84618</td>\n",
       "      <td>albert brooks</td>\n",
       "      <td>actor</td>\n",
       "    </tr>\n",
       "    <tr>\n",
       "      <th>3</th>\n",
       "      <td>3739</td>\n",
       "      <td>tm84618</td>\n",
       "      <td>harvey keitel</td>\n",
       "      <td>actor</td>\n",
       "    </tr>\n",
       "    <tr>\n",
       "      <th>4</th>\n",
       "      <td>48933</td>\n",
       "      <td>tm84618</td>\n",
       "      <td>cybill shepherd</td>\n",
       "      <td>actor</td>\n",
       "    </tr>\n",
       "    <tr>\n",
       "      <th>...</th>\n",
       "      <td>...</td>\n",
       "      <td>...</td>\n",
       "      <td>...</td>\n",
       "      <td>...</td>\n",
       "    </tr>\n",
       "    <tr>\n",
       "      <th>63086</th>\n",
       "      <td>736339</td>\n",
       "      <td>tm1059008</td>\n",
       "      <td>adelaida buscato</td>\n",
       "      <td>actor</td>\n",
       "    </tr>\n",
       "    <tr>\n",
       "      <th>63087</th>\n",
       "      <td>399499</td>\n",
       "      <td>tm1059008</td>\n",
       "      <td>luz stella luengas</td>\n",
       "      <td>actor</td>\n",
       "    </tr>\n",
       "    <tr>\n",
       "      <th>63088</th>\n",
       "      <td>373198</td>\n",
       "      <td>tm1059008</td>\n",
       "      <td>inés prieto</td>\n",
       "      <td>actor</td>\n",
       "    </tr>\n",
       "    <tr>\n",
       "      <th>63089</th>\n",
       "      <td>378132</td>\n",
       "      <td>tm1059008</td>\n",
       "      <td>isabel gaona</td>\n",
       "      <td>actor</td>\n",
       "    </tr>\n",
       "    <tr>\n",
       "      <th>63090</th>\n",
       "      <td>1950416</td>\n",
       "      <td>tm1059008</td>\n",
       "      <td>julian gaviria</td>\n",
       "      <td>director</td>\n",
       "    </tr>\n",
       "  </tbody>\n",
       "</table>\n",
       "<p>63091 rows × 4 columns</p>\n",
       "</div>"
      ],
      "text/plain": [
       "       person_id         id                name      role\n",
       "0           3748    tm84618      robert de niro     actor\n",
       "1          14658    tm84618        jodie foster     actor\n",
       "2           7064    tm84618       albert brooks     actor\n",
       "3           3739    tm84618       harvey keitel     actor\n",
       "4          48933    tm84618     cybill shepherd     actor\n",
       "...          ...        ...                 ...       ...\n",
       "63086     736339  tm1059008    adelaida buscato     actor\n",
       "63087     399499  tm1059008  luz stella luengas     actor\n",
       "63088     373198  tm1059008         inés prieto     actor\n",
       "63089     378132  tm1059008        isabel gaona     actor\n",
       "63090    1950416  tm1059008      julian gaviria  director\n",
       "\n",
       "[63091 rows x 4 columns]"
      ]
     },
     "execution_count": 107,
     "metadata": {},
     "output_type": "execute_result"
    }
   ],
   "source": [
    "credits_df"
   ]
  },
  {
   "cell_type": "code",
   "execution_count": 108,
   "metadata": {},
   "outputs": [
    {
     "data": {
      "text/html": [
       "<div>\n",
       "<style scoped>\n",
       "    .dataframe tbody tr th:only-of-type {\n",
       "        vertical-align: middle;\n",
       "    }\n",
       "\n",
       "    .dataframe tbody tr th {\n",
       "        vertical-align: top;\n",
       "    }\n",
       "\n",
       "    .dataframe thead th {\n",
       "        text-align: right;\n",
       "    }\n",
       "</style>\n",
       "<table border=\"1\" class=\"dataframe\">\n",
       "  <thead>\n",
       "    <tr style=\"text-align: right;\">\n",
       "      <th></th>\n",
       "      <th>id</th>\n",
       "      <th>title</th>\n",
       "      <th>type</th>\n",
       "      <th>description</th>\n",
       "      <th>release_year</th>\n",
       "      <th>age_certification</th>\n",
       "      <th>runtime</th>\n",
       "      <th>genres</th>\n",
       "      <th>production_countries</th>\n",
       "      <th>seasons</th>\n",
       "      <th>imdb_id</th>\n",
       "      <th>imdb_score</th>\n",
       "      <th>imdb_votes</th>\n",
       "      <th>tmdb_popularity</th>\n",
       "      <th>tmdb_score</th>\n",
       "    </tr>\n",
       "  </thead>\n",
       "  <tbody>\n",
       "    <tr>\n",
       "      <th>0</th>\n",
       "      <td>ts300399</td>\n",
       "      <td>Five Came Back: The Reference Films</td>\n",
       "      <td>SHOW</td>\n",
       "      <td>This collection includes 12 World War II-era p...</td>\n",
       "      <td>1945</td>\n",
       "      <td>TV-MA</td>\n",
       "      <td>51</td>\n",
       "      <td>['documentation']</td>\n",
       "      <td>['US']</td>\n",
       "      <td>1.0</td>\n",
       "      <td>NaN</td>\n",
       "      <td>NaN</td>\n",
       "      <td>NaN</td>\n",
       "      <td>0.600</td>\n",
       "      <td>NaN</td>\n",
       "    </tr>\n",
       "    <tr>\n",
       "      <th>1</th>\n",
       "      <td>tm84618</td>\n",
       "      <td>Taxi Driver</td>\n",
       "      <td>MOVIE</td>\n",
       "      <td>A mentally unstable Vietnam War veteran works ...</td>\n",
       "      <td>1976</td>\n",
       "      <td>R</td>\n",
       "      <td>114</td>\n",
       "      <td>['drama', 'crime']</td>\n",
       "      <td>['US']</td>\n",
       "      <td>NaN</td>\n",
       "      <td>tt0075314</td>\n",
       "      <td>8.2</td>\n",
       "      <td>808582.0</td>\n",
       "      <td>40.965</td>\n",
       "      <td>8.179</td>\n",
       "    </tr>\n",
       "  </tbody>\n",
       "</table>\n",
       "</div>"
      ],
      "text/plain": [
       "         id                                title   type  \\\n",
       "0  ts300399  Five Came Back: The Reference Films   SHOW   \n",
       "1   tm84618                          Taxi Driver  MOVIE   \n",
       "\n",
       "                                         description  release_year  \\\n",
       "0  This collection includes 12 World War II-era p...          1945   \n",
       "1  A mentally unstable Vietnam War veteran works ...          1976   \n",
       "\n",
       "  age_certification  runtime              genres production_countries  \\\n",
       "0             TV-MA       51   ['documentation']               ['US']   \n",
       "1                 R      114  ['drama', 'crime']               ['US']   \n",
       "\n",
       "   seasons    imdb_id  imdb_score  imdb_votes  tmdb_popularity  tmdb_score  \n",
       "0      1.0        NaN         NaN         NaN            0.600         NaN  \n",
       "1      NaN  tt0075314         8.2    808582.0           40.965       8.179  "
      ]
     },
     "execution_count": 108,
     "metadata": {},
     "output_type": "execute_result"
    }
   ],
   "source": [
    "titles_df.head(2)"
   ]
  },
  {
   "cell_type": "code",
   "execution_count": 109,
   "metadata": {},
   "outputs": [
    {
     "data": {
      "text/plain": [
       "(5850, 15)"
      ]
     },
     "execution_count": 109,
     "metadata": {},
     "output_type": "execute_result"
    }
   ],
   "source": [
    "titles_df.shape"
   ]
  },
  {
   "cell_type": "code",
   "execution_count": 110,
   "metadata": {},
   "outputs": [
    {
     "name": "stdout",
     "output_type": "stream",
     "text": [
      "<class 'pandas.core.frame.DataFrame'>\n",
      "RangeIndex: 5850 entries, 0 to 5849\n",
      "Data columns (total 15 columns):\n",
      " #   Column                Non-Null Count  Dtype  \n",
      "---  ------                --------------  -----  \n",
      " 0   id                    5850 non-null   object \n",
      " 1   title                 5849 non-null   object \n",
      " 2   type                  5850 non-null   object \n",
      " 3   description           5832 non-null   object \n",
      " 4   release_year          5850 non-null   int64  \n",
      " 5   age_certification     3231 non-null   object \n",
      " 6   runtime               5850 non-null   int64  \n",
      " 7   genres                5850 non-null   object \n",
      " 8   production_countries  5850 non-null   object \n",
      " 9   seasons               2106 non-null   float64\n",
      " 10  imdb_id               5447 non-null   object \n",
      " 11  imdb_score            5368 non-null   float64\n",
      " 12  imdb_votes            5352 non-null   float64\n",
      " 13  tmdb_popularity       5759 non-null   float64\n",
      " 14  tmdb_score            5539 non-null   float64\n",
      "dtypes: float64(5), int64(2), object(8)\n",
      "memory usage: 685.7+ KB\n"
     ]
    }
   ],
   "source": [
    "titles_df.info()"
   ]
  },
  {
   "cell_type": "code",
   "execution_count": 111,
   "metadata": {},
   "outputs": [
    {
     "data": {
      "text/plain": [
       "id                      5850\n",
       "title                   5798\n",
       "type                       2\n",
       "description             5829\n",
       "release_year              63\n",
       "age_certification         11\n",
       "runtime                  202\n",
       "genres                  1726\n",
       "production_countries     452\n",
       "seasons                   26\n",
       "imdb_id                 5447\n",
       "imdb_score                80\n",
       "imdb_votes              3880\n",
       "tmdb_popularity         4889\n",
       "tmdb_score               394\n",
       "dtype: int64"
      ]
     },
     "execution_count": 111,
     "metadata": {},
     "output_type": "execute_result"
    }
   ],
   "source": [
    "titles_df.nunique()"
   ]
  },
  {
   "cell_type": "code",
   "execution_count": 112,
   "metadata": {},
   "outputs": [
    {
     "data": {
      "text/plain": [
       "array(['TV-MA', 'R', 'PG', nan, 'TV-14', 'PG-13', 'TV-PG', 'TV-Y', 'TV-G',\n",
       "       'TV-Y7', 'G', 'NC-17'], dtype=object)"
      ]
     },
     "execution_count": 112,
     "metadata": {},
     "output_type": "execute_result"
    }
   ],
   "source": [
    "titles_df[\"age_certification\"].unique()"
   ]
  },
  {
   "cell_type": "code",
   "execution_count": 113,
   "metadata": {},
   "outputs": [
    {
     "data": {
      "text/plain": [
       "0       False\n",
       "1       False\n",
       "2       False\n",
       "3       False\n",
       "4       False\n",
       "        ...  \n",
       "5845    False\n",
       "5846    False\n",
       "5847    False\n",
       "5848    False\n",
       "5849    False\n",
       "Name: title, Length: 5850, dtype: bool"
      ]
     },
     "execution_count": 113,
     "metadata": {},
     "output_type": "execute_result"
    }
   ],
   "source": [
    "titles_df[\"title\"].isnull()"
   ]
  },
  {
   "cell_type": "code",
   "execution_count": 114,
   "metadata": {},
   "outputs": [
    {
     "data": {
      "text/plain": [
       "0       False\n",
       "1       False\n",
       "2       False\n",
       "3       False\n",
       "4       False\n",
       "        ...  \n",
       "5845    False\n",
       "5846    False\n",
       "5847    False\n",
       "5848    False\n",
       "5849    False\n",
       "Length: 5850, dtype: bool"
      ]
     },
     "execution_count": 114,
     "metadata": {},
     "output_type": "execute_result"
    }
   ],
   "source": [
    "titles_df.duplicated()"
   ]
  },
  {
   "cell_type": "code",
   "execution_count": 178,
   "metadata": {},
   "outputs": [],
   "source": [
    "#eliminamos SHOW de columna type\n",
    "\n",
    "new_type = [\"MOVIE\"]\n",
    "titles_df = titles_df[titles_df[\"type\"].isin(new_type) == True]"
   ]
  },
  {
   "cell_type": "code",
   "execution_count": 179,
   "metadata": {},
   "outputs": [],
   "source": [
    "#eliminamos la columna type, seasons, age_certification y imdb_id\n",
    "\n",
    "columns_to_drop = [\"type\", \"age_certification\", \"seasons\", \"imdb_id\"]\n",
    "titles_df = titles_df.drop(columns = columns_to_drop, axis = 1)"
   ]
  },
  {
   "cell_type": "code",
   "execution_count": 117,
   "metadata": {},
   "outputs": [
    {
     "data": {
      "text/plain": [
       "id                      3744\n",
       "title                   3724\n",
       "description             3734\n",
       "release_year              62\n",
       "runtime                  197\n",
       "genres                  1105\n",
       "production_countries     418\n",
       "imdb_id                 3482\n",
       "imdb_score                74\n",
       "imdb_votes              2747\n",
       "tmdb_popularity         3248\n",
       "tmdb_score               266\n",
       "dtype: int64"
      ]
     },
     "execution_count": 117,
     "metadata": {},
     "output_type": "execute_result"
    }
   ],
   "source": [
    "titles_df.nunique()"
   ]
  },
  {
   "cell_type": "code",
   "execution_count": 180,
   "metadata": {},
   "outputs": [
    {
     "data": {
      "text/plain": [
       "0"
      ]
     },
     "execution_count": 180,
     "metadata": {},
     "output_type": "execute_result"
    }
   ],
   "source": [
    "#eliminamos el único título nulo\n",
    "\n",
    "titles_df = titles_df.dropna(subset=[\"title\"])\n",
    "\n",
    "titles_df[\"title\"].isnull().sum()"
   ]
  },
  {
   "cell_type": "code",
   "execution_count": 181,
   "metadata": {},
   "outputs": [
    {
     "data": {
      "text/plain": [
       "0"
      ]
     },
     "execution_count": 181,
     "metadata": {},
     "output_type": "execute_result"
    }
   ],
   "source": [
    "#descartamos que haya títulos duplicados que tengan el mismo año de lanzamiento\n",
    "\n",
    "grouped = titles_df[[\"title\", \"release_year\"]]\n",
    "grouped.duplicated().sum()"
   ]
  },
  {
   "cell_type": "code",
   "execution_count": 182,
   "metadata": {},
   "outputs": [],
   "source": [
    "\"\"\" Eliminamos las filas que no tienen género:\n",
    "- Creamos un nuevo dataframe solo con las columnas 'title' y 'genres'.\n",
    "- Creamos una lista vacía para añadir el id de los registros sin género.\n",
    "- Quitamos corchetes y comillas de los géneros y creamos una lista nueva que tome cada palabra por separado.\n",
    "- Si la lista está vacía, la añadimos a la nueva lista.\n",
    "- Reseteamos el índice.\n",
    "- Eliminamos las filas sin género del dataframe principal.\n",
    "\n",
    "\"\"\"\n",
    "grouped_2 = titles_df[[\"title\", \"genres\"]].reset_index(drop=True)\n",
    "grouped_2\n",
    "\n",
    "id_to_erase = []\n",
    "\n",
    "for name in range(0, len(grouped_2)):\n",
    "    l = grouped_2.iloc[name][\"genres\"].replace('[', \"\").replace(\"]\", \"\").replace(\"'\", \"\").split(\", \")\n",
    "    if l[0] == \"\":\n",
    "        id_to_erase.append(name)\n",
    "\n",
    "titles_df.reset_index(drop=True, inplace=True)\n",
    "\n",
    "titles_df = titles_df.drop(id_to_erase, axis=0).dropna(subset=\"genres\")\n",
    "\n",
    "titles_df = titles_df.reset_index(drop=True)\n"
   ]
  },
  {
   "cell_type": "code",
   "execution_count": 183,
   "metadata": {},
   "outputs": [],
   "source": [
    "#Aqui transformamos los datos de genres a una lista\n",
    "\n",
    "list_genre = []\n",
    "\n",
    "for name in range(0, len(titles_df)):\n",
    "    list_genre.append(titles_df.iloc[name][\"genres\"].replace('[', \"\").replace(\"]\", \"\").replace(\"'\", \"\").split(\", \"))\n",
    "\n",
    "titles_df[\"genres\"] = list_genre"
   ]
  },
  {
   "cell_type": "code",
   "execution_count": 184,
   "metadata": {},
   "outputs": [],
   "source": [
    "#Aqui transformamos los datos de production_countries a una lista\n",
    "\n",
    "list_country = []\n",
    "for name in range(0, len(titles_df)):\n",
    "    list_country.append(titles_df.iloc[name][\"production_countries\"].replace('[', \"\").replace(\"]\", \"\").replace(\"'\", \"\").split(\", \"))\n",
    "\n",
    "titles_df[\"production_countries\"] = list_country"
   ]
  },
  {
   "cell_type": "code",
   "execution_count": 185,
   "metadata": {},
   "outputs": [],
   "source": [
    "#Eliminamos los espacios en blanco al inicio y al final y lo dejamos todo en minuscula\n",
    "titles_df[\"title\"] = titles_df[\"title\"].str.lower().str.strip()\n",
    "titles_df[\"description\"] = titles_df[\"description\"].str.lower().str.strip()"
   ]
  },
  {
   "cell_type": "code",
   "execution_count": 137,
   "metadata": {},
   "outputs": [
    {
     "data": {
      "text/plain": [
       "[]"
      ]
     },
     "execution_count": 137,
     "metadata": {},
     "output_type": "execute_result"
    }
   ],
   "source": [
    "#Aqui comprobamos que los anyos tienen 4 digitos\n",
    "\n",
    "id_to_erase = []\n",
    "\n",
    "for name in range(0, len(titles_df)):\n",
    "    year = str(titles_df.iloc[name][\"release_year\"])\n",
    "    \n",
    "    if len(year) != 4:\n",
    "        id_to_erase.append(name)\n",
    "\n",
    "\n",
    "id_to_erase"
   ]
  },
  {
   "cell_type": "code",
   "execution_count": 186,
   "metadata": {},
   "outputs": [
    {
     "data": {
      "text/html": [
       "<div>\n",
       "<style scoped>\n",
       "    .dataframe tbody tr th:only-of-type {\n",
       "        vertical-align: middle;\n",
       "    }\n",
       "\n",
       "    .dataframe tbody tr th {\n",
       "        vertical-align: top;\n",
       "    }\n",
       "\n",
       "    .dataframe thead th {\n",
       "        text-align: right;\n",
       "    }\n",
       "</style>\n",
       "<table border=\"1\" class=\"dataframe\">\n",
       "  <thead>\n",
       "    <tr style=\"text-align: right;\">\n",
       "      <th></th>\n",
       "      <th>id</th>\n",
       "      <th>title</th>\n",
       "      <th>description</th>\n",
       "      <th>release_year</th>\n",
       "      <th>runtime</th>\n",
       "      <th>genres</th>\n",
       "      <th>production_countries</th>\n",
       "      <th>imdb_score</th>\n",
       "      <th>imdb_votes</th>\n",
       "      <th>tmdb_popularity</th>\n",
       "      <th>tmdb_score</th>\n",
       "    </tr>\n",
       "  </thead>\n",
       "  <tbody>\n",
       "    <tr>\n",
       "      <th>0</th>\n",
       "      <td>tm84618</td>\n",
       "      <td>taxi driver</td>\n",
       "      <td>a mentally unstable vietnam war veteran works ...</td>\n",
       "      <td>1976</td>\n",
       "      <td>114</td>\n",
       "      <td>[drama, crime]</td>\n",
       "      <td>[US]</td>\n",
       "      <td>8.2</td>\n",
       "      <td>808582.0</td>\n",
       "      <td>40.965</td>\n",
       "      <td>8.179</td>\n",
       "    </tr>\n",
       "    <tr>\n",
       "      <th>1</th>\n",
       "      <td>tm154986</td>\n",
       "      <td>deliverance</td>\n",
       "      <td>intent on seeing the cahulawassee river before...</td>\n",
       "      <td>1972</td>\n",
       "      <td>109</td>\n",
       "      <td>[drama, action, thriller, european]</td>\n",
       "      <td>[US]</td>\n",
       "      <td>7.7</td>\n",
       "      <td>107673.0</td>\n",
       "      <td>10.010</td>\n",
       "      <td>7.300</td>\n",
       "    </tr>\n",
       "    <tr>\n",
       "      <th>2</th>\n",
       "      <td>tm127384</td>\n",
       "      <td>monty python and the holy grail</td>\n",
       "      <td>king arthur, accompanied by his squire, recrui...</td>\n",
       "      <td>1975</td>\n",
       "      <td>91</td>\n",
       "      <td>[fantasy, action, comedy]</td>\n",
       "      <td>[GB]</td>\n",
       "      <td>8.2</td>\n",
       "      <td>534486.0</td>\n",
       "      <td>15.461</td>\n",
       "      <td>7.811</td>\n",
       "    </tr>\n",
       "    <tr>\n",
       "      <th>3</th>\n",
       "      <td>tm120801</td>\n",
       "      <td>the dirty dozen</td>\n",
       "      <td>12 american military prisoners in world war ii...</td>\n",
       "      <td>1967</td>\n",
       "      <td>150</td>\n",
       "      <td>[war, action]</td>\n",
       "      <td>[GB, US]</td>\n",
       "      <td>7.7</td>\n",
       "      <td>72662.0</td>\n",
       "      <td>20.398</td>\n",
       "      <td>7.600</td>\n",
       "    </tr>\n",
       "    <tr>\n",
       "      <th>4</th>\n",
       "      <td>tm70993</td>\n",
       "      <td>life of brian</td>\n",
       "      <td>brian cohen is an average young jewish man, bu...</td>\n",
       "      <td>1979</td>\n",
       "      <td>94</td>\n",
       "      <td>[comedy]</td>\n",
       "      <td>[GB]</td>\n",
       "      <td>8.0</td>\n",
       "      <td>395024.0</td>\n",
       "      <td>17.770</td>\n",
       "      <td>7.800</td>\n",
       "    </tr>\n",
       "    <tr>\n",
       "      <th>...</th>\n",
       "      <td>...</td>\n",
       "      <td>...</td>\n",
       "      <td>...</td>\n",
       "      <td>...</td>\n",
       "      <td>...</td>\n",
       "      <td>...</td>\n",
       "      <td>...</td>\n",
       "      <td>...</td>\n",
       "      <td>...</td>\n",
       "      <td>...</td>\n",
       "      <td>...</td>\n",
       "    </tr>\n",
       "    <tr>\n",
       "      <th>3705</th>\n",
       "      <td>tm1066324</td>\n",
       "      <td>super monsters: once upon a rhyme</td>\n",
       "      <td>the super monsters rethink exemplary fantasies...</td>\n",
       "      <td>2021</td>\n",
       "      <td>25</td>\n",
       "      <td>[animation, family]</td>\n",
       "      <td>[]</td>\n",
       "      <td>5.6</td>\n",
       "      <td>38.0</td>\n",
       "      <td>53.762</td>\n",
       "      <td>6.300</td>\n",
       "    </tr>\n",
       "    <tr>\n",
       "      <th>3706</th>\n",
       "      <td>tm1097142</td>\n",
       "      <td>my bride</td>\n",
       "      <td>the story follows a young man and woman who go...</td>\n",
       "      <td>2021</td>\n",
       "      <td>93</td>\n",
       "      <td>[romance, comedy, drama]</td>\n",
       "      <td>[EG]</td>\n",
       "      <td>5.0</td>\n",
       "      <td>327.0</td>\n",
       "      <td>2.545</td>\n",
       "      <td>5.300</td>\n",
       "    </tr>\n",
       "    <tr>\n",
       "      <th>3707</th>\n",
       "      <td>tm1014599</td>\n",
       "      <td>fine wine</td>\n",
       "      <td>a beautiful love story that can happen between...</td>\n",
       "      <td>2021</td>\n",
       "      <td>100</td>\n",
       "      <td>[romance, drama]</td>\n",
       "      <td>[NG]</td>\n",
       "      <td>6.8</td>\n",
       "      <td>45.0</td>\n",
       "      <td>1.466</td>\n",
       "      <td>NaN</td>\n",
       "    </tr>\n",
       "    <tr>\n",
       "      <th>3708</th>\n",
       "      <td>tm898842</td>\n",
       "      <td>c/o kaadhal</td>\n",
       "      <td>a heart warming film that explores the concept...</td>\n",
       "      <td>2021</td>\n",
       "      <td>134</td>\n",
       "      <td>[drama]</td>\n",
       "      <td>[]</td>\n",
       "      <td>7.7</td>\n",
       "      <td>348.0</td>\n",
       "      <td>NaN</td>\n",
       "      <td>NaN</td>\n",
       "    </tr>\n",
       "    <tr>\n",
       "      <th>3709</th>\n",
       "      <td>tm1059008</td>\n",
       "      <td>lokillo</td>\n",
       "      <td>a controversial tv host and comedian who has b...</td>\n",
       "      <td>2021</td>\n",
       "      <td>90</td>\n",
       "      <td>[comedy]</td>\n",
       "      <td>[CO]</td>\n",
       "      <td>3.8</td>\n",
       "      <td>68.0</td>\n",
       "      <td>26.005</td>\n",
       "      <td>6.300</td>\n",
       "    </tr>\n",
       "  </tbody>\n",
       "</table>\n",
       "<p>3710 rows × 11 columns</p>\n",
       "</div>"
      ],
      "text/plain": [
       "             id                              title  \\\n",
       "0       tm84618                        taxi driver   \n",
       "1      tm154986                        deliverance   \n",
       "2      tm127384    monty python and the holy grail   \n",
       "3      tm120801                    the dirty dozen   \n",
       "4       tm70993                      life of brian   \n",
       "...         ...                                ...   \n",
       "3705  tm1066324  super monsters: once upon a rhyme   \n",
       "3706  tm1097142                           my bride   \n",
       "3707  tm1014599                          fine wine   \n",
       "3708   tm898842                        c/o kaadhal   \n",
       "3709  tm1059008                            lokillo   \n",
       "\n",
       "                                            description  release_year  \\\n",
       "0     a mentally unstable vietnam war veteran works ...          1976   \n",
       "1     intent on seeing the cahulawassee river before...          1972   \n",
       "2     king arthur, accompanied by his squire, recrui...          1975   \n",
       "3     12 american military prisoners in world war ii...          1967   \n",
       "4     brian cohen is an average young jewish man, bu...          1979   \n",
       "...                                                 ...           ...   \n",
       "3705  the super monsters rethink exemplary fantasies...          2021   \n",
       "3706  the story follows a young man and woman who go...          2021   \n",
       "3707  a beautiful love story that can happen between...          2021   \n",
       "3708  a heart warming film that explores the concept...          2021   \n",
       "3709  a controversial tv host and comedian who has b...          2021   \n",
       "\n",
       "      runtime                               genres production_countries  \\\n",
       "0         114                       [drama, crime]                 [US]   \n",
       "1         109  [drama, action, thriller, european]                 [US]   \n",
       "2          91            [fantasy, action, comedy]                 [GB]   \n",
       "3         150                        [war, action]             [GB, US]   \n",
       "4          94                             [comedy]                 [GB]   \n",
       "...       ...                                  ...                  ...   \n",
       "3705       25                  [animation, family]                   []   \n",
       "3706       93             [romance, comedy, drama]                 [EG]   \n",
       "3707      100                     [romance, drama]                 [NG]   \n",
       "3708      134                              [drama]                   []   \n",
       "3709       90                             [comedy]                 [CO]   \n",
       "\n",
       "      imdb_score  imdb_votes  tmdb_popularity  tmdb_score  \n",
       "0            8.2    808582.0           40.965       8.179  \n",
       "1            7.7    107673.0           10.010       7.300  \n",
       "2            8.2    534486.0           15.461       7.811  \n",
       "3            7.7     72662.0           20.398       7.600  \n",
       "4            8.0    395024.0           17.770       7.800  \n",
       "...          ...         ...              ...         ...  \n",
       "3705         5.6        38.0           53.762       6.300  \n",
       "3706         5.0       327.0            2.545       5.300  \n",
       "3707         6.8        45.0            1.466         NaN  \n",
       "3708         7.7       348.0              NaN         NaN  \n",
       "3709         3.8        68.0           26.005       6.300  \n",
       "\n",
       "[3710 rows x 11 columns]"
      ]
     },
     "execution_count": 186,
     "metadata": {},
     "output_type": "execute_result"
    }
   ],
   "source": [
    "titles_df"
   ]
  }
 ],
 "metadata": {
  "kernelspec": {
   "display_name": "netflix_proyect",
   "language": "python",
   "name": "python3"
  },
  "language_info": {
   "codemirror_mode": {
    "name": "ipython",
    "version": 3
   },
   "file_extension": ".py",
   "mimetype": "text/x-python",
   "name": "python",
   "nbconvert_exporter": "python",
   "pygments_lexer": "ipython3",
   "version": "3.12.3"
  }
 },
 "nbformat": 4,
 "nbformat_minor": 2
}
