{
 "cells": [
  {
   "cell_type": "code",
   "execution_count": 1,
   "metadata": {},
   "outputs": [],
   "source": [
    "import pandas as pd\n",
    "import numpy as np"
   ]
  },
  {
   "cell_type": "code",
   "execution_count": 2,
   "metadata": {},
   "outputs": [],
   "source": [
    "credits_df = pd.read_csv(\"credits_df.csv\")\n",
    "titles_df = pd.read_csv(\"titles_df.csv\")"
   ]
  },
  {
   "cell_type": "code",
   "execution_count": 3,
   "metadata": {},
   "outputs": [
    {
     "data": {
      "text/html": [
       "<div>\n",
       "<style scoped>\n",
       "    .dataframe tbody tr th:only-of-type {\n",
       "        vertical-align: middle;\n",
       "    }\n",
       "\n",
       "    .dataframe tbody tr th {\n",
       "        vertical-align: top;\n",
       "    }\n",
       "\n",
       "    .dataframe thead th {\n",
       "        text-align: right;\n",
       "    }\n",
       "</style>\n",
       "<table border=\"1\" class=\"dataframe\">\n",
       "  <thead>\n",
       "    <tr style=\"text-align: right;\">\n",
       "      <th></th>\n",
       "      <th>person_id</th>\n",
       "      <th>id</th>\n",
       "      <th>name</th>\n",
       "      <th>character</th>\n",
       "      <th>role</th>\n",
       "    </tr>\n",
       "  </thead>\n",
       "  <tbody>\n",
       "    <tr>\n",
       "      <th>0</th>\n",
       "      <td>3748</td>\n",
       "      <td>tm84618</td>\n",
       "      <td>Robert De Niro</td>\n",
       "      <td>Travis Bickle</td>\n",
       "      <td>ACTOR</td>\n",
       "    </tr>\n",
       "    <tr>\n",
       "      <th>1</th>\n",
       "      <td>14658</td>\n",
       "      <td>tm84618</td>\n",
       "      <td>Jodie Foster</td>\n",
       "      <td>Iris Steensma</td>\n",
       "      <td>ACTOR</td>\n",
       "    </tr>\n",
       "    <tr>\n",
       "      <th>2</th>\n",
       "      <td>7064</td>\n",
       "      <td>tm84618</td>\n",
       "      <td>Albert Brooks</td>\n",
       "      <td>Tom</td>\n",
       "      <td>ACTOR</td>\n",
       "    </tr>\n",
       "    <tr>\n",
       "      <th>3</th>\n",
       "      <td>3739</td>\n",
       "      <td>tm84618</td>\n",
       "      <td>Harvey Keitel</td>\n",
       "      <td>Matthew 'Sport' Higgins</td>\n",
       "      <td>ACTOR</td>\n",
       "    </tr>\n",
       "    <tr>\n",
       "      <th>4</th>\n",
       "      <td>48933</td>\n",
       "      <td>tm84618</td>\n",
       "      <td>Cybill Shepherd</td>\n",
       "      <td>Betsy</td>\n",
       "      <td>ACTOR</td>\n",
       "    </tr>\n",
       "  </tbody>\n",
       "</table>\n",
       "</div>"
      ],
      "text/plain": [
       "   person_id       id             name                character   role\n",
       "0       3748  tm84618   Robert De Niro            Travis Bickle  ACTOR\n",
       "1      14658  tm84618     Jodie Foster            Iris Steensma  ACTOR\n",
       "2       7064  tm84618    Albert Brooks                      Tom  ACTOR\n",
       "3       3739  tm84618    Harvey Keitel  Matthew 'Sport' Higgins  ACTOR\n",
       "4      48933  tm84618  Cybill Shepherd                    Betsy  ACTOR"
      ]
     },
     "execution_count": 3,
     "metadata": {},
     "output_type": "execute_result"
    }
   ],
   "source": [
    "credits_df.head()"
   ]
  },
  {
   "cell_type": "code",
   "execution_count": 4,
   "metadata": {},
   "outputs": [
    {
     "name": "stdout",
     "output_type": "stream",
     "text": [
      "<class 'pandas.core.frame.DataFrame'>\n",
      "RangeIndex: 77801 entries, 0 to 77800\n",
      "Data columns (total 5 columns):\n",
      " #   Column     Non-Null Count  Dtype \n",
      "---  ------     --------------  ----- \n",
      " 0   person_id  77801 non-null  int64 \n",
      " 1   id         77801 non-null  object\n",
      " 2   name       77801 non-null  object\n",
      " 3   character  68029 non-null  object\n",
      " 4   role       77801 non-null  object\n",
      "dtypes: int64(1), object(4)\n",
      "memory usage: 3.0+ MB\n"
     ]
    }
   ],
   "source": [
    "credits_df.info()"
   ]
  },
  {
   "cell_type": "code",
   "execution_count": 5,
   "metadata": {},
   "outputs": [],
   "source": [
    "#Eliminamos los espacios en blanco al inicio y al final y lo dejamos todo en minuscula\n",
    "credits_df[\"name\"] = credits_df[\"name\"].str.lower().str.strip()\n",
    "credits_df[\"role\"] = credits_df[\"role\"].str.lower().str.strip()"
   ]
  },
  {
   "cell_type": "code",
   "execution_count": 6,
   "metadata": {},
   "outputs": [],
   "source": [
    "#Nos quedamos con todos los id que empiezan por 'tm' ya que son los id de peliculas\n",
    "credits_df = credits_df[credits_df[\"id\"].str.startswith(\"tm\") == True]\n",
    "credits_df = credits_df.reset_index(drop= True)"
   ]
  },
  {
   "cell_type": "code",
   "execution_count": 7,
   "metadata": {},
   "outputs": [],
   "source": [
    "#eliminamos la columna character\n",
    "\n",
    "columns_to_drop_credits = [\"character\"]\n",
    "credits_df = credits_df.drop(columns = columns_to_drop_credits, axis = 1)"
   ]
  },
  {
   "cell_type": "code",
   "execution_count": 8,
   "metadata": {},
   "outputs": [
    {
     "data": {
      "text/html": [
       "<div>\n",
       "<style scoped>\n",
       "    .dataframe tbody tr th:only-of-type {\n",
       "        vertical-align: middle;\n",
       "    }\n",
       "\n",
       "    .dataframe tbody tr th {\n",
       "        vertical-align: top;\n",
       "    }\n",
       "\n",
       "    .dataframe thead th {\n",
       "        text-align: right;\n",
       "    }\n",
       "</style>\n",
       "<table border=\"1\" class=\"dataframe\">\n",
       "  <thead>\n",
       "    <tr style=\"text-align: right;\">\n",
       "      <th></th>\n",
       "      <th>person_id</th>\n",
       "      <th>id</th>\n",
       "      <th>name</th>\n",
       "      <th>role</th>\n",
       "    </tr>\n",
       "  </thead>\n",
       "  <tbody>\n",
       "    <tr>\n",
       "      <th>0</th>\n",
       "      <td>3748</td>\n",
       "      <td>tm84618</td>\n",
       "      <td>robert de niro</td>\n",
       "      <td>actor</td>\n",
       "    </tr>\n",
       "    <tr>\n",
       "      <th>1</th>\n",
       "      <td>14658</td>\n",
       "      <td>tm84618</td>\n",
       "      <td>jodie foster</td>\n",
       "      <td>actor</td>\n",
       "    </tr>\n",
       "    <tr>\n",
       "      <th>2</th>\n",
       "      <td>7064</td>\n",
       "      <td>tm84618</td>\n",
       "      <td>albert brooks</td>\n",
       "      <td>actor</td>\n",
       "    </tr>\n",
       "    <tr>\n",
       "      <th>3</th>\n",
       "      <td>3739</td>\n",
       "      <td>tm84618</td>\n",
       "      <td>harvey keitel</td>\n",
       "      <td>actor</td>\n",
       "    </tr>\n",
       "    <tr>\n",
       "      <th>4</th>\n",
       "      <td>48933</td>\n",
       "      <td>tm84618</td>\n",
       "      <td>cybill shepherd</td>\n",
       "      <td>actor</td>\n",
       "    </tr>\n",
       "    <tr>\n",
       "      <th>...</th>\n",
       "      <td>...</td>\n",
       "      <td>...</td>\n",
       "      <td>...</td>\n",
       "      <td>...</td>\n",
       "    </tr>\n",
       "    <tr>\n",
       "      <th>63086</th>\n",
       "      <td>736339</td>\n",
       "      <td>tm1059008</td>\n",
       "      <td>adelaida buscato</td>\n",
       "      <td>actor</td>\n",
       "    </tr>\n",
       "    <tr>\n",
       "      <th>63087</th>\n",
       "      <td>399499</td>\n",
       "      <td>tm1059008</td>\n",
       "      <td>luz stella luengas</td>\n",
       "      <td>actor</td>\n",
       "    </tr>\n",
       "    <tr>\n",
       "      <th>63088</th>\n",
       "      <td>373198</td>\n",
       "      <td>tm1059008</td>\n",
       "      <td>inés prieto</td>\n",
       "      <td>actor</td>\n",
       "    </tr>\n",
       "    <tr>\n",
       "      <th>63089</th>\n",
       "      <td>378132</td>\n",
       "      <td>tm1059008</td>\n",
       "      <td>isabel gaona</td>\n",
       "      <td>actor</td>\n",
       "    </tr>\n",
       "    <tr>\n",
       "      <th>63090</th>\n",
       "      <td>1950416</td>\n",
       "      <td>tm1059008</td>\n",
       "      <td>julian gaviria</td>\n",
       "      <td>director</td>\n",
       "    </tr>\n",
       "  </tbody>\n",
       "</table>\n",
       "<p>63091 rows × 4 columns</p>\n",
       "</div>"
      ],
      "text/plain": [
       "       person_id         id                name      role\n",
       "0           3748    tm84618      robert de niro     actor\n",
       "1          14658    tm84618        jodie foster     actor\n",
       "2           7064    tm84618       albert brooks     actor\n",
       "3           3739    tm84618       harvey keitel     actor\n",
       "4          48933    tm84618     cybill shepherd     actor\n",
       "...          ...        ...                 ...       ...\n",
       "63086     736339  tm1059008    adelaida buscato     actor\n",
       "63087     399499  tm1059008  luz stella luengas     actor\n",
       "63088     373198  tm1059008         inés prieto     actor\n",
       "63089     378132  tm1059008        isabel gaona     actor\n",
       "63090    1950416  tm1059008      julian gaviria  director\n",
       "\n",
       "[63091 rows x 4 columns]"
      ]
     },
     "execution_count": 8,
     "metadata": {},
     "output_type": "execute_result"
    }
   ],
   "source": [
    "credits_df"
   ]
  },
  {
   "cell_type": "code",
   "execution_count": 9,
   "metadata": {},
   "outputs": [
    {
     "data": {
      "text/html": [
       "<div>\n",
       "<style scoped>\n",
       "    .dataframe tbody tr th:only-of-type {\n",
       "        vertical-align: middle;\n",
       "    }\n",
       "\n",
       "    .dataframe tbody tr th {\n",
       "        vertical-align: top;\n",
       "    }\n",
       "\n",
       "    .dataframe thead th {\n",
       "        text-align: right;\n",
       "    }\n",
       "</style>\n",
       "<table border=\"1\" class=\"dataframe\">\n",
       "  <thead>\n",
       "    <tr style=\"text-align: right;\">\n",
       "      <th></th>\n",
       "      <th>id</th>\n",
       "      <th>title</th>\n",
       "      <th>type</th>\n",
       "      <th>description</th>\n",
       "      <th>release_year</th>\n",
       "      <th>age_certification</th>\n",
       "      <th>runtime</th>\n",
       "      <th>genres</th>\n",
       "      <th>production_countries</th>\n",
       "      <th>seasons</th>\n",
       "      <th>imdb_id</th>\n",
       "      <th>imdb_score</th>\n",
       "      <th>imdb_votes</th>\n",
       "      <th>tmdb_popularity</th>\n",
       "      <th>tmdb_score</th>\n",
       "    </tr>\n",
       "  </thead>\n",
       "  <tbody>\n",
       "    <tr>\n",
       "      <th>0</th>\n",
       "      <td>ts300399</td>\n",
       "      <td>Five Came Back: The Reference Films</td>\n",
       "      <td>SHOW</td>\n",
       "      <td>This collection includes 12 World War II-era p...</td>\n",
       "      <td>1945</td>\n",
       "      <td>TV-MA</td>\n",
       "      <td>51</td>\n",
       "      <td>['documentation']</td>\n",
       "      <td>['US']</td>\n",
       "      <td>1.0</td>\n",
       "      <td>NaN</td>\n",
       "      <td>NaN</td>\n",
       "      <td>NaN</td>\n",
       "      <td>0.600</td>\n",
       "      <td>NaN</td>\n",
       "    </tr>\n",
       "    <tr>\n",
       "      <th>1</th>\n",
       "      <td>tm84618</td>\n",
       "      <td>Taxi Driver</td>\n",
       "      <td>MOVIE</td>\n",
       "      <td>A mentally unstable Vietnam War veteran works ...</td>\n",
       "      <td>1976</td>\n",
       "      <td>R</td>\n",
       "      <td>114</td>\n",
       "      <td>['drama', 'crime']</td>\n",
       "      <td>['US']</td>\n",
       "      <td>NaN</td>\n",
       "      <td>tt0075314</td>\n",
       "      <td>8.2</td>\n",
       "      <td>808582.0</td>\n",
       "      <td>40.965</td>\n",
       "      <td>8.179</td>\n",
       "    </tr>\n",
       "  </tbody>\n",
       "</table>\n",
       "</div>"
      ],
      "text/plain": [
       "         id                                title   type  \\\n",
       "0  ts300399  Five Came Back: The Reference Films   SHOW   \n",
       "1   tm84618                          Taxi Driver  MOVIE   \n",
       "\n",
       "                                         description  release_year  \\\n",
       "0  This collection includes 12 World War II-era p...          1945   \n",
       "1  A mentally unstable Vietnam War veteran works ...          1976   \n",
       "\n",
       "  age_certification  runtime              genres production_countries  \\\n",
       "0             TV-MA       51   ['documentation']               ['US']   \n",
       "1                 R      114  ['drama', 'crime']               ['US']   \n",
       "\n",
       "   seasons    imdb_id  imdb_score  imdb_votes  tmdb_popularity  tmdb_score  \n",
       "0      1.0        NaN         NaN         NaN            0.600         NaN  \n",
       "1      NaN  tt0075314         8.2    808582.0           40.965       8.179  "
      ]
     },
     "execution_count": 9,
     "metadata": {},
     "output_type": "execute_result"
    }
   ],
   "source": [
    "titles_df.head(2)"
   ]
  },
  {
   "cell_type": "code",
   "execution_count": 10,
   "metadata": {},
   "outputs": [
    {
     "data": {
      "text/plain": [
       "(5850, 15)"
      ]
     },
     "execution_count": 10,
     "metadata": {},
     "output_type": "execute_result"
    }
   ],
   "source": [
    "titles_df.shape"
   ]
  },
  {
   "cell_type": "code",
   "execution_count": 11,
   "metadata": {},
   "outputs": [
    {
     "name": "stdout",
     "output_type": "stream",
     "text": [
      "<class 'pandas.core.frame.DataFrame'>\n",
      "RangeIndex: 5850 entries, 0 to 5849\n",
      "Data columns (total 15 columns):\n",
      " #   Column                Non-Null Count  Dtype  \n",
      "---  ------                --------------  -----  \n",
      " 0   id                    5850 non-null   object \n",
      " 1   title                 5849 non-null   object \n",
      " 2   type                  5850 non-null   object \n",
      " 3   description           5832 non-null   object \n",
      " 4   release_year          5850 non-null   int64  \n",
      " 5   age_certification     3231 non-null   object \n",
      " 6   runtime               5850 non-null   int64  \n",
      " 7   genres                5850 non-null   object \n",
      " 8   production_countries  5850 non-null   object \n",
      " 9   seasons               2106 non-null   float64\n",
      " 10  imdb_id               5447 non-null   object \n",
      " 11  imdb_score            5368 non-null   float64\n",
      " 12  imdb_votes            5352 non-null   float64\n",
      " 13  tmdb_popularity       5759 non-null   float64\n",
      " 14  tmdb_score            5539 non-null   float64\n",
      "dtypes: float64(5), int64(2), object(8)\n",
      "memory usage: 685.7+ KB\n"
     ]
    }
   ],
   "source": [
    "titles_df.info()"
   ]
  },
  {
   "cell_type": "code",
   "execution_count": 12,
   "metadata": {},
   "outputs": [
    {
     "data": {
      "text/plain": [
       "id                      5850\n",
       "title                   5798\n",
       "type                       2\n",
       "description             5829\n",
       "release_year              63\n",
       "age_certification         11\n",
       "runtime                  202\n",
       "genres                  1726\n",
       "production_countries     452\n",
       "seasons                   26\n",
       "imdb_id                 5447\n",
       "imdb_score                80\n",
       "imdb_votes              3880\n",
       "tmdb_popularity         4889\n",
       "tmdb_score               394\n",
       "dtype: int64"
      ]
     },
     "execution_count": 12,
     "metadata": {},
     "output_type": "execute_result"
    }
   ],
   "source": [
    "titles_df.nunique()"
   ]
  },
  {
   "cell_type": "code",
   "execution_count": 13,
   "metadata": {},
   "outputs": [
    {
     "data": {
      "text/plain": [
       "array(['TV-MA', 'R', 'PG', nan, 'TV-14', 'PG-13', 'TV-PG', 'TV-Y', 'TV-G',\n",
       "       'TV-Y7', 'G', 'NC-17'], dtype=object)"
      ]
     },
     "execution_count": 13,
     "metadata": {},
     "output_type": "execute_result"
    }
   ],
   "source": [
    "titles_df[\"age_certification\"].unique()"
   ]
  },
  {
   "cell_type": "code",
   "execution_count": 14,
   "metadata": {},
   "outputs": [
    {
     "data": {
      "text/plain": [
       "0       False\n",
       "1       False\n",
       "2       False\n",
       "3       False\n",
       "4       False\n",
       "        ...  \n",
       "5845    False\n",
       "5846    False\n",
       "5847    False\n",
       "5848    False\n",
       "5849    False\n",
       "Name: title, Length: 5850, dtype: bool"
      ]
     },
     "execution_count": 14,
     "metadata": {},
     "output_type": "execute_result"
    }
   ],
   "source": [
    "titles_df[\"title\"].isnull()"
   ]
  },
  {
   "cell_type": "code",
   "execution_count": 15,
   "metadata": {},
   "outputs": [
    {
     "data": {
      "text/plain": [
       "0       False\n",
       "1       False\n",
       "2       False\n",
       "3       False\n",
       "4       False\n",
       "        ...  \n",
       "5845    False\n",
       "5846    False\n",
       "5847    False\n",
       "5848    False\n",
       "5849    False\n",
       "Length: 5850, dtype: bool"
      ]
     },
     "execution_count": 15,
     "metadata": {},
     "output_type": "execute_result"
    }
   ],
   "source": [
    "titles_df.duplicated()"
   ]
  },
  {
   "cell_type": "code",
   "execution_count": 16,
   "metadata": {},
   "outputs": [],
   "source": [
    "#eliminamos SHOW de columna type\n",
    "\n",
    "new_type = [\"MOVIE\"]\n",
    "titles_df = titles_df[titles_df[\"type\"].isin(new_type) == True]"
   ]
  },
  {
   "cell_type": "code",
   "execution_count": 17,
   "metadata": {},
   "outputs": [],
   "source": [
    "#eliminamos la columna type, seasons, age_certification y imdb_id\n",
    "\n",
    "columns_to_drop = [\"type\", \"age_certification\", \"seasons\", \"imdb_id\"]\n",
    "titles_df = titles_df.drop(columns = columns_to_drop, axis = 1)"
   ]
  },
  {
   "cell_type": "code",
   "execution_count": 18,
   "metadata": {},
   "outputs": [
    {
     "data": {
      "text/plain": [
       "id                      3744\n",
       "title                   3724\n",
       "description             3734\n",
       "release_year              62\n",
       "runtime                  197\n",
       "genres                  1105\n",
       "production_countries     418\n",
       "imdb_score                74\n",
       "imdb_votes              2747\n",
       "tmdb_popularity         3248\n",
       "tmdb_score               266\n",
       "dtype: int64"
      ]
     },
     "execution_count": 18,
     "metadata": {},
     "output_type": "execute_result"
    }
   ],
   "source": [
    "titles_df.nunique()"
   ]
  },
  {
   "cell_type": "code",
   "execution_count": 19,
   "metadata": {},
   "outputs": [
    {
     "data": {
      "text/plain": [
       "0"
      ]
     },
     "execution_count": 19,
     "metadata": {},
     "output_type": "execute_result"
    }
   ],
   "source": [
    "#eliminamos el único título nulo\n",
    "\n",
    "titles_df = titles_df.dropna(subset=[\"title\"])\n",
    "\n",
    "titles_df[\"title\"].isnull().sum()"
   ]
  },
  {
   "cell_type": "code",
   "execution_count": 20,
   "metadata": {},
   "outputs": [
    {
     "data": {
      "text/plain": [
       "0"
      ]
     },
     "execution_count": 20,
     "metadata": {},
     "output_type": "execute_result"
    }
   ],
   "source": [
    "#descartamos que haya títulos duplicados que tengan el mismo año de lanzamiento\n",
    "\n",
    "grouped = titles_df[[\"title\", \"release_year\"]]\n",
    "grouped.duplicated().sum()"
   ]
  },
  {
   "cell_type": "code",
   "execution_count": 21,
   "metadata": {},
   "outputs": [],
   "source": [
    "\"\"\" Eliminamos las filas que no tienen género:\n",
    "- Creamos un nuevo dataframe solo con las columnas 'title' y 'genres'.\n",
    "- Creamos una lista vacía para añadir el id de los registros sin género.\n",
    "- Quitamos corchetes y comillas de los géneros y creamos una lista nueva que tome cada palabra por separado.\n",
    "- Si la lista está vacía, la añadimos a la nueva lista.\n",
    "- Reseteamos el índice.\n",
    "- Eliminamos las filas sin género del dataframe principal.\n",
    "\n",
    "\"\"\"\n",
    "grouped_2 = titles_df[[\"title\", \"genres\"]].reset_index(drop=True)\n",
    "grouped_2\n",
    "\n",
    "id_to_erase = []\n",
    "\n",
    "for name in range(0, len(grouped_2)):\n",
    "    l = grouped_2.iloc[name][\"genres\"].replace('[', \"\").replace(\"]\", \"\").replace(\"'\", \"\").split(\", \")\n",
    "    if l[0] == \"\":\n",
    "        id_to_erase.append(name)\n",
    "\n",
    "titles_df.reset_index(drop=True, inplace=True)\n",
    "\n",
    "titles_df = titles_df.drop(id_to_erase, axis=0).dropna(subset=\"genres\")\n",
    "\n",
    "titles_df = titles_df.reset_index(drop=True)\n"
   ]
  },
  {
   "cell_type": "code",
   "execution_count": 22,
   "metadata": {},
   "outputs": [],
   "source": [
    "#Aqui transformamos los datos de genres a una lista\n",
    "\n",
    "list_genre = []\n",
    "\n",
    "for name in range(0, len(titles_df)):\n",
    "    list_genre.append(titles_df.iloc[name][\"genres\"].replace('[', \"\").replace(\"]\", \"\").replace(\"'\", \"\").split(\", \"))\n",
    "\n",
    "titles_df[\"genres\"] = list_genre"
   ]
  },
  {
   "cell_type": "code",
   "execution_count": 23,
   "metadata": {},
   "outputs": [],
   "source": [
    "#Aqui transformamos los datos de production_countries a una lista\n",
    "\n",
    "list_country = []\n",
    "for name in range(0, len(titles_df)):\n",
    "    list_country.append(titles_df.iloc[name][\"production_countries\"].replace('[', \"\").replace(\"]\", \"\").replace(\"'\", \"\").split(\", \"))\n",
    "\n",
    "titles_df[\"production_countries\"] = list_country"
   ]
  },
  {
   "cell_type": "code",
   "execution_count": 24,
   "metadata": {},
   "outputs": [],
   "source": [
    "#Eliminamos los espacios en blanco al inicio y al final y lo dejamos todo en minuscula\n",
    "titles_df[\"title\"] = titles_df[\"title\"].str.lower().str.strip()\n",
    "titles_df[\"description\"] = titles_df[\"description\"].str.lower().str.strip()"
   ]
  },
  {
   "cell_type": "code",
   "execution_count": 25,
   "metadata": {},
   "outputs": [
    {
     "data": {
      "text/plain": [
       "[]"
      ]
     },
     "execution_count": 25,
     "metadata": {},
     "output_type": "execute_result"
    }
   ],
   "source": [
    "#Aqui comprobamos que los anyos tienen 4 digitos\n",
    "\n",
    "id_to_erase = []\n",
    "\n",
    "for name in range(0, len(titles_df)):\n",
    "    year = str(titles_df.iloc[name][\"release_year\"])\n",
    "    \n",
    "    if len(year) != 4:\n",
    "        id_to_erase.append(name)\n",
    "\n",
    "\n",
    "id_to_erase"
   ]
  },
  {
   "cell_type": "code",
   "execution_count": 31,
   "metadata": {},
   "outputs": [
    {
     "data": {
      "text/html": [
       "<div>\n",
       "<style scoped>\n",
       "    .dataframe tbody tr th:only-of-type {\n",
       "        vertical-align: middle;\n",
       "    }\n",
       "\n",
       "    .dataframe tbody tr th {\n",
       "        vertical-align: top;\n",
       "    }\n",
       "\n",
       "    .dataframe thead th {\n",
       "        text-align: right;\n",
       "    }\n",
       "</style>\n",
       "<table border=\"1\" class=\"dataframe\">\n",
       "  <thead>\n",
       "    <tr style=\"text-align: right;\">\n",
       "      <th></th>\n",
       "      <th>person_id</th>\n",
       "      <th>id</th>\n",
       "      <th>name</th>\n",
       "      <th>role</th>\n",
       "    </tr>\n",
       "  </thead>\n",
       "  <tbody>\n",
       "    <tr>\n",
       "      <th>0</th>\n",
       "      <td>3748</td>\n",
       "      <td>tm84618</td>\n",
       "      <td>robert de niro</td>\n",
       "      <td>actor</td>\n",
       "    </tr>\n",
       "    <tr>\n",
       "      <th>1</th>\n",
       "      <td>14658</td>\n",
       "      <td>tm84618</td>\n",
       "      <td>jodie foster</td>\n",
       "      <td>actor</td>\n",
       "    </tr>\n",
       "    <tr>\n",
       "      <th>2</th>\n",
       "      <td>7064</td>\n",
       "      <td>tm84618</td>\n",
       "      <td>albert brooks</td>\n",
       "      <td>actor</td>\n",
       "    </tr>\n",
       "    <tr>\n",
       "      <th>3</th>\n",
       "      <td>3739</td>\n",
       "      <td>tm84618</td>\n",
       "      <td>harvey keitel</td>\n",
       "      <td>actor</td>\n",
       "    </tr>\n",
       "    <tr>\n",
       "      <th>4</th>\n",
       "      <td>48933</td>\n",
       "      <td>tm84618</td>\n",
       "      <td>cybill shepherd</td>\n",
       "      <td>actor</td>\n",
       "    </tr>\n",
       "    <tr>\n",
       "      <th>...</th>\n",
       "      <td>...</td>\n",
       "      <td>...</td>\n",
       "      <td>...</td>\n",
       "      <td>...</td>\n",
       "    </tr>\n",
       "    <tr>\n",
       "      <th>63086</th>\n",
       "      <td>736339</td>\n",
       "      <td>tm1059008</td>\n",
       "      <td>adelaida buscato</td>\n",
       "      <td>actor</td>\n",
       "    </tr>\n",
       "    <tr>\n",
       "      <th>63087</th>\n",
       "      <td>399499</td>\n",
       "      <td>tm1059008</td>\n",
       "      <td>luz stella luengas</td>\n",
       "      <td>actor</td>\n",
       "    </tr>\n",
       "    <tr>\n",
       "      <th>63088</th>\n",
       "      <td>373198</td>\n",
       "      <td>tm1059008</td>\n",
       "      <td>inés prieto</td>\n",
       "      <td>actor</td>\n",
       "    </tr>\n",
       "    <tr>\n",
       "      <th>63089</th>\n",
       "      <td>378132</td>\n",
       "      <td>tm1059008</td>\n",
       "      <td>isabel gaona</td>\n",
       "      <td>actor</td>\n",
       "    </tr>\n",
       "    <tr>\n",
       "      <th>63090</th>\n",
       "      <td>1950416</td>\n",
       "      <td>tm1059008</td>\n",
       "      <td>julian gaviria</td>\n",
       "      <td>director</td>\n",
       "    </tr>\n",
       "  </tbody>\n",
       "</table>\n",
       "<p>63091 rows × 4 columns</p>\n",
       "</div>"
      ],
      "text/plain": [
       "       person_id         id                name      role\n",
       "0           3748    tm84618      robert de niro     actor\n",
       "1          14658    tm84618        jodie foster     actor\n",
       "2           7064    tm84618       albert brooks     actor\n",
       "3           3739    tm84618       harvey keitel     actor\n",
       "4          48933    tm84618     cybill shepherd     actor\n",
       "...          ...        ...                 ...       ...\n",
       "63086     736339  tm1059008    adelaida buscato     actor\n",
       "63087     399499  tm1059008  luz stella luengas     actor\n",
       "63088     373198  tm1059008         inés prieto     actor\n",
       "63089     378132  tm1059008        isabel gaona     actor\n",
       "63090    1950416  tm1059008      julian gaviria  director\n",
       "\n",
       "[63091 rows x 4 columns]"
      ]
     },
     "execution_count": 31,
     "metadata": {},
     "output_type": "execute_result"
    }
   ],
   "source": [
    "credits_df"
   ]
  },
  {
   "cell_type": "code",
   "execution_count": 58,
   "metadata": {},
   "outputs": [],
   "source": [
    "id_unique=credits_df.id.unique()"
   ]
  },
  {
   "cell_type": "code",
   "execution_count": 68,
   "metadata": {},
   "outputs": [],
   "source": [
    "df_unique_film=pd.DataFrame(index=id_unique, columns=[\"names\",\"directors\"])"
   ]
  },
  {
   "cell_type": "code",
   "execution_count": 69,
   "metadata": {},
   "outputs": [
    {
     "data": {
      "text/html": [
       "<div>\n",
       "<style scoped>\n",
       "    .dataframe tbody tr th:only-of-type {\n",
       "        vertical-align: middle;\n",
       "    }\n",
       "\n",
       "    .dataframe tbody tr th {\n",
       "        vertical-align: top;\n",
       "    }\n",
       "\n",
       "    .dataframe thead th {\n",
       "        text-align: right;\n",
       "    }\n",
       "</style>\n",
       "<table border=\"1\" class=\"dataframe\">\n",
       "  <thead>\n",
       "    <tr style=\"text-align: right;\">\n",
       "      <th></th>\n",
       "      <th>names</th>\n",
       "      <th>directors</th>\n",
       "    </tr>\n",
       "  </thead>\n",
       "  <tbody>\n",
       "    <tr>\n",
       "      <th>tm84618</th>\n",
       "      <td>NaN</td>\n",
       "      <td>NaN</td>\n",
       "    </tr>\n",
       "    <tr>\n",
       "      <th>tm154986</th>\n",
       "      <td>NaN</td>\n",
       "      <td>NaN</td>\n",
       "    </tr>\n",
       "    <tr>\n",
       "      <th>tm127384</th>\n",
       "      <td>NaN</td>\n",
       "      <td>NaN</td>\n",
       "    </tr>\n",
       "    <tr>\n",
       "      <th>tm120801</th>\n",
       "      <td>NaN</td>\n",
       "      <td>NaN</td>\n",
       "    </tr>\n",
       "    <tr>\n",
       "      <th>tm70993</th>\n",
       "      <td>NaN</td>\n",
       "      <td>NaN</td>\n",
       "    </tr>\n",
       "    <tr>\n",
       "      <th>...</th>\n",
       "      <td>...</td>\n",
       "      <td>...</td>\n",
       "    </tr>\n",
       "    <tr>\n",
       "      <th>tm1216735</th>\n",
       "      <td>NaN</td>\n",
       "      <td>NaN</td>\n",
       "    </tr>\n",
       "    <tr>\n",
       "      <th>tm985215</th>\n",
       "      <td>NaN</td>\n",
       "      <td>NaN</td>\n",
       "    </tr>\n",
       "    <tr>\n",
       "      <th>tm1097142</th>\n",
       "      <td>NaN</td>\n",
       "      <td>NaN</td>\n",
       "    </tr>\n",
       "    <tr>\n",
       "      <th>tm1014599</th>\n",
       "      <td>NaN</td>\n",
       "      <td>NaN</td>\n",
       "    </tr>\n",
       "    <tr>\n",
       "      <th>tm1059008</th>\n",
       "      <td>NaN</td>\n",
       "      <td>NaN</td>\n",
       "    </tr>\n",
       "  </tbody>\n",
       "</table>\n",
       "<p>3649 rows × 2 columns</p>\n",
       "</div>"
      ],
      "text/plain": [
       "          names directors\n",
       "tm84618     NaN       NaN\n",
       "tm154986    NaN       NaN\n",
       "tm127384    NaN       NaN\n",
       "tm120801    NaN       NaN\n",
       "tm70993     NaN       NaN\n",
       "...         ...       ...\n",
       "tm1216735   NaN       NaN\n",
       "tm985215    NaN       NaN\n",
       "tm1097142   NaN       NaN\n",
       "tm1014599   NaN       NaN\n",
       "tm1059008   NaN       NaN\n",
       "\n",
       "[3649 rows x 2 columns]"
      ]
     },
     "execution_count": 69,
     "metadata": {},
     "output_type": "execute_result"
    }
   ],
   "source": [
    "df_unique_film"
   ]
  },
  {
   "cell_type": "code",
   "execution_count": 61,
   "metadata": {},
   "outputs": [
    {
     "data": {
      "text/plain": [
       "Index(['tm84618', 'tm154986', 'tm127384', 'tm120801', 'tm70993', 'tm14873',\n",
       "       'tm119281', 'tm98978', 'tm44204', 'tm67378',\n",
       "       ...\n",
       "       'tm985747', 'tm959213', 'tm1040816', 'tm1053409', 'tm1165179',\n",
       "       'tm1216735', 'tm985215', 'tm1097142', 'tm1014599', 'tm1059008'],\n",
       "      dtype='object', length=3649)"
      ]
     },
     "execution_count": 61,
     "metadata": {},
     "output_type": "execute_result"
    }
   ],
   "source": [
    "df_unique_film.index"
   ]
  },
  {
   "cell_type": "code",
   "execution_count": 67,
   "metadata": {},
   "outputs": [
    {
     "data": {
      "text/html": [
       "<div>\n",
       "<style scoped>\n",
       "    .dataframe tbody tr th:only-of-type {\n",
       "        vertical-align: middle;\n",
       "    }\n",
       "\n",
       "    .dataframe tbody tr th {\n",
       "        vertical-align: top;\n",
       "    }\n",
       "\n",
       "    .dataframe thead th {\n",
       "        text-align: right;\n",
       "    }\n",
       "</style>\n",
       "<table border=\"1\" class=\"dataframe\">\n",
       "  <thead>\n",
       "    <tr style=\"text-align: right;\">\n",
       "      <th></th>\n",
       "      <th>names</th>\n",
       "      <th>director</th>\n",
       "      <th>directors</th>\n",
       "    </tr>\n",
       "  </thead>\n",
       "  <tbody>\n",
       "    <tr>\n",
       "      <th>tm84618</th>\n",
       "      <td>[robert de niro, jodie foster, albert brooks, ...</td>\n",
       "      <td>NaN</td>\n",
       "      <td>[martin scorsese]</td>\n",
       "    </tr>\n",
       "    <tr>\n",
       "      <th>tm154986</th>\n",
       "      <td>NaN</td>\n",
       "      <td>NaN</td>\n",
       "      <td>nan</td>\n",
       "    </tr>\n",
       "    <tr>\n",
       "      <th>tm127384</th>\n",
       "      <td>NaN</td>\n",
       "      <td>NaN</td>\n",
       "      <td>nan</td>\n",
       "    </tr>\n",
       "    <tr>\n",
       "      <th>tm120801</th>\n",
       "      <td>NaN</td>\n",
       "      <td>NaN</td>\n",
       "      <td>nan</td>\n",
       "    </tr>\n",
       "    <tr>\n",
       "      <th>tm70993</th>\n",
       "      <td>NaN</td>\n",
       "      <td>NaN</td>\n",
       "      <td>nan</td>\n",
       "    </tr>\n",
       "    <tr>\n",
       "      <th>...</th>\n",
       "      <td>...</td>\n",
       "      <td>...</td>\n",
       "      <td>...</td>\n",
       "    </tr>\n",
       "    <tr>\n",
       "      <th>tm1216735</th>\n",
       "      <td>NaN</td>\n",
       "      <td>NaN</td>\n",
       "      <td>nan</td>\n",
       "    </tr>\n",
       "    <tr>\n",
       "      <th>tm985215</th>\n",
       "      <td>NaN</td>\n",
       "      <td>NaN</td>\n",
       "      <td>nan</td>\n",
       "    </tr>\n",
       "    <tr>\n",
       "      <th>tm1097142</th>\n",
       "      <td>NaN</td>\n",
       "      <td>NaN</td>\n",
       "      <td>nan</td>\n",
       "    </tr>\n",
       "    <tr>\n",
       "      <th>tm1014599</th>\n",
       "      <td>NaN</td>\n",
       "      <td>NaN</td>\n",
       "      <td>nan</td>\n",
       "    </tr>\n",
       "    <tr>\n",
       "      <th>tm1059008</th>\n",
       "      <td>NaN</td>\n",
       "      <td>NaN</td>\n",
       "      <td>nan</td>\n",
       "    </tr>\n",
       "  </tbody>\n",
       "</table>\n",
       "<p>3649 rows × 3 columns</p>\n",
       "</div>"
      ],
      "text/plain": [
       "                                                       names director  \\\n",
       "tm84618    [robert de niro, jodie foster, albert brooks, ...      NaN   \n",
       "tm154986                                                 NaN      NaN   \n",
       "tm127384                                                 NaN      NaN   \n",
       "tm120801                                                 NaN      NaN   \n",
       "tm70993                                                  NaN      NaN   \n",
       "...                                                      ...      ...   \n",
       "tm1216735                                                NaN      NaN   \n",
       "tm985215                                                 NaN      NaN   \n",
       "tm1097142                                                NaN      NaN   \n",
       "tm1014599                                                NaN      NaN   \n",
       "tm1059008                                                NaN      NaN   \n",
       "\n",
       "                   directors  \n",
       "tm84618    [martin scorsese]  \n",
       "tm154986                 nan  \n",
       "tm127384                 nan  \n",
       "tm120801                 nan  \n",
       "tm70993                  nan  \n",
       "...                      ...  \n",
       "tm1216735                nan  \n",
       "tm985215                 nan  \n",
       "tm1097142                nan  \n",
       "tm1014599                nan  \n",
       "tm1059008                nan  \n",
       "\n",
       "[3649 rows x 3 columns]"
      ]
     },
     "execution_count": 67,
     "metadata": {},
     "output_type": "execute_result"
    }
   ],
   "source": [
    "df_unique_film"
   ]
  },
  {
   "cell_type": "code",
   "execution_count": 72,
   "metadata": {},
   "outputs": [],
   "source": [
    "for i in df_unique_film.index:\n",
    "    df_unique_film.loc[i,\"names\"]=list(credits_df[(credits_df[\"id\"]==i)&(credits_df[\"role\"]==\"actor\")][\"name\"])\n",
    "    df_unique_film.loc[i,\"directors\"]=list(credits_df[(credits_df[\"id\"]==i)&(credits_df[\"role\"]==\"director\")][\"name\"])"
   ]
  },
  {
   "cell_type": "code",
   "execution_count": 74,
   "metadata": {},
   "outputs": [
    {
     "data": {
      "text/html": [
       "<div>\n",
       "<style scoped>\n",
       "    .dataframe tbody tr th:only-of-type {\n",
       "        vertical-align: middle;\n",
       "    }\n",
       "\n",
       "    .dataframe tbody tr th {\n",
       "        vertical-align: top;\n",
       "    }\n",
       "\n",
       "    .dataframe thead th {\n",
       "        text-align: right;\n",
       "    }\n",
       "</style>\n",
       "<table border=\"1\" class=\"dataframe\">\n",
       "  <thead>\n",
       "    <tr style=\"text-align: right;\">\n",
       "      <th></th>\n",
       "      <th>names</th>\n",
       "      <th>directors</th>\n",
       "    </tr>\n",
       "  </thead>\n",
       "  <tbody>\n",
       "    <tr>\n",
       "      <th>tm84618</th>\n",
       "      <td>[robert de niro, jodie foster, albert brooks, ...</td>\n",
       "      <td>[martin scorsese]</td>\n",
       "    </tr>\n",
       "    <tr>\n",
       "      <th>tm154986</th>\n",
       "      <td>[jon voight, burt reynolds, ned beatty, ronny ...</td>\n",
       "      <td>[john boorman]</td>\n",
       "    </tr>\n",
       "    <tr>\n",
       "      <th>tm127384</th>\n",
       "      <td>[graham chapman, john cleese, eric idle, terry...</td>\n",
       "      <td>[terry jones, terry gilliam]</td>\n",
       "    </tr>\n",
       "    <tr>\n",
       "      <th>tm120801</th>\n",
       "      <td>[lee marvin, ernest borgnine, charles bronson,...</td>\n",
       "      <td>[robert aldrich]</td>\n",
       "    </tr>\n",
       "    <tr>\n",
       "      <th>tm70993</th>\n",
       "      <td>[graham chapman, john cleese, terry gilliam, e...</td>\n",
       "      <td>[terry jones]</td>\n",
       "    </tr>\n",
       "    <tr>\n",
       "      <th>...</th>\n",
       "      <td>...</td>\n",
       "      <td>...</td>\n",
       "    </tr>\n",
       "    <tr>\n",
       "      <th>tm1216735</th>\n",
       "      <td>[]</td>\n",
       "      <td>[joe penney]</td>\n",
       "    </tr>\n",
       "    <tr>\n",
       "      <th>tm985215</th>\n",
       "      <td>[maymay entrata, edward barber, snooky serna, ...</td>\n",
       "      <td>[barry gonzalez]</td>\n",
       "    </tr>\n",
       "    <tr>\n",
       "      <th>tm1097142</th>\n",
       "      <td>[ahmed hatem, jamila awad, mahmoud al-bezzawy,...</td>\n",
       "      <td>[mohamed bakir]</td>\n",
       "    </tr>\n",
       "    <tr>\n",
       "      <th>tm1014599</th>\n",
       "      <td>[richard mofe-damijo, ego nwosu, keppy ekpenyo...</td>\n",
       "      <td>[seyi babatope]</td>\n",
       "    </tr>\n",
       "    <tr>\n",
       "      <th>tm1059008</th>\n",
       "      <td>[yedinson flórez, jessica cediel, javier garde...</td>\n",
       "      <td>[julian gaviria]</td>\n",
       "    </tr>\n",
       "  </tbody>\n",
       "</table>\n",
       "<p>3649 rows × 2 columns</p>\n",
       "</div>"
      ],
      "text/plain": [
       "                                                       names  \\\n",
       "tm84618    [robert de niro, jodie foster, albert brooks, ...   \n",
       "tm154986   [jon voight, burt reynolds, ned beatty, ronny ...   \n",
       "tm127384   [graham chapman, john cleese, eric idle, terry...   \n",
       "tm120801   [lee marvin, ernest borgnine, charles bronson,...   \n",
       "tm70993    [graham chapman, john cleese, terry gilliam, e...   \n",
       "...                                                      ...   \n",
       "tm1216735                                                 []   \n",
       "tm985215   [maymay entrata, edward barber, snooky serna, ...   \n",
       "tm1097142  [ahmed hatem, jamila awad, mahmoud al-bezzawy,...   \n",
       "tm1014599  [richard mofe-damijo, ego nwosu, keppy ekpenyo...   \n",
       "tm1059008  [yedinson flórez, jessica cediel, javier garde...   \n",
       "\n",
       "                              directors  \n",
       "tm84618               [martin scorsese]  \n",
       "tm154986                 [john boorman]  \n",
       "tm127384   [terry jones, terry gilliam]  \n",
       "tm120801               [robert aldrich]  \n",
       "tm70993                   [terry jones]  \n",
       "...                                 ...  \n",
       "tm1216735                  [joe penney]  \n",
       "tm985215               [barry gonzalez]  \n",
       "tm1097142               [mohamed bakir]  \n",
       "tm1014599               [seyi babatope]  \n",
       "tm1059008              [julian gaviria]  \n",
       "\n",
       "[3649 rows x 2 columns]"
      ]
     },
     "execution_count": 74,
     "metadata": {},
     "output_type": "execute_result"
    }
   ],
   "source": [
    "df_unique_film"
   ]
  },
  {
   "cell_type": "code",
   "execution_count": 41,
   "metadata": {},
   "outputs": [
    {
     "data": {
      "text/plain": [
       "'tm84618'"
      ]
     },
     "execution_count": 41,
     "metadata": {},
     "output_type": "execute_result"
    }
   ],
   "source": [
    "pd.DataFrame(index=id_unique).index[0]"
   ]
  },
  {
   "cell_type": "code",
   "execution_count": 39,
   "metadata": {},
   "outputs": [
    {
     "data": {
      "text/plain": [
       "['robert de niro',\n",
       " 'jodie foster',\n",
       " 'albert brooks',\n",
       " 'harvey keitel',\n",
       " 'cybill shepherd',\n",
       " 'peter boyle',\n",
       " 'leonard harris',\n",
       " 'diahnne abbott',\n",
       " 'gino ardito',\n",
       " 'martin scorsese',\n",
       " 'murray moston',\n",
       " 'richard higgs',\n",
       " 'bill minkin',\n",
       " 'bob maroff',\n",
       " 'victor argo',\n",
       " 'joe spinell',\n",
       " 'robinson frank adu',\n",
       " 'brenda dickson',\n",
       " 'norman matlock',\n",
       " 'harry northup',\n",
       " 'harlan cary poe',\n",
       " 'steven prince',\n",
       " 'peter savage',\n",
       " 'nicholas shields',\n",
       " 'ralph s. singleton',\n",
       " 'annie gagen',\n",
       " 'carson grant',\n",
       " 'mary-pat green',\n",
       " 'debbi morgan',\n",
       " 'don stroud',\n",
       " 'copper cunningham',\n",
       " 'garth avery',\n",
       " 'nat grant',\n",
       " 'billie perkins',\n",
       " 'catherine scorsese',\n",
       " 'charles scorsese',\n",
       " 'martin scorsese']"
      ]
     },
     "execution_count": 39,
     "metadata": {},
     "output_type": "execute_result"
    }
   ],
   "source": [
    "list(credits_df[credits_df[\"id\"]==pd.DataFrame(index=id_unique).index[0]][\"name\"])"
   ]
  },
  {
   "cell_type": "code",
   "execution_count": 35,
   "metadata": {},
   "outputs": [
    {
     "data": {
      "text/plain": [
       "'tm84618'"
      ]
     },
     "execution_count": 35,
     "metadata": {},
     "output_type": "execute_result"
    }
   ],
   "source": [
    "pd.DataFrame(index=id_unique).index[0]"
   ]
  },
  {
   "cell_type": "code",
   "execution_count": 27,
   "metadata": {},
   "outputs": [],
   "source": [
    "df = credits_df.head(1000)\n"
   ]
  },
  {
   "cell_type": "code",
   "execution_count": 28,
   "metadata": {},
   "outputs": [],
   "source": [
    "diccionario_actores = {}\n",
    "diccionario_directores = {}\n",
    "for id in df[\"id\"]:\n",
    "    list_actors = []\n",
    "    list_director = []\n",
    "    for i in range(0, len(df)):\n",
    "        if df.iloc[i][\"id\"] == id:\n",
    "            if df.iloc[i][\"role\"] == \"actor\":\n",
    "                list_actors.append(df.iloc[i][\"name\"])\n",
    "            elif df.iloc[i][\"role\"] == \"director\":\n",
    "                list_director.append(df.iloc[i][\"name\"])\n",
    "    diccionario_actores[id] = list_actors\n",
    "    diccionario_directores[id] = list_director"
   ]
  },
  {
   "cell_type": "code",
   "execution_count": null,
   "metadata": {},
   "outputs": [],
   "source": []
  }
 ],
 "metadata": {
  "kernelspec": {
   "display_name": "netflix_proyect",
   "language": "python",
   "name": "python3"
  },
  "language_info": {
   "codemirror_mode": {
    "name": "ipython",
    "version": 3
   },
   "file_extension": ".py",
   "mimetype": "text/x-python",
   "name": "python",
   "nbconvert_exporter": "python",
   "pygments_lexer": "ipython3",
   "version": "3.12.3"
  }
 },
 "nbformat": 4,
 "nbformat_minor": 2
}
